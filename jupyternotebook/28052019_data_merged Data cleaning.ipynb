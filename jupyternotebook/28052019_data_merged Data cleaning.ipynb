{
 "cells": [
  {
   "cell_type": "markdown",
   "metadata": {},
   "source": [
    "# Data set from Kaggle \n",
    "https://www.kaggle.com/lava18/google-play-store-apps/downloads/google-play-store-apps.zip/6"
   ]
  },
  {
   "cell_type": "markdown",
   "metadata": {},
   "source": [
    "# Context\n",
    "While many public datasets (on Kaggle and the like) provide Apple App Store data, there are not many counterpart datasets available for Google Play Store apps anywhere on the web. On digging deeper, I found out that iTunes App Store page deploys a nicely indexed appendix-like structure to allow for simple and easy web scraping. On the other hand, Google Play Store uses sophisticated modern-day techniques (like dynamic page load) using JQuery making scraping more challenging.\n",
    "Content\n",
    "Each app (row) has values for catergory, rating, size, and more."
   ]
  },
  {
   "cell_type": "markdown",
   "metadata": {},
   "source": [
    "1. App: Application name\n",
    "2. Category: Category the app belongs to\n",
    "3. Rating: Overall user rating of the app (as when scraped)\n",
    "4. Reviews: Number of user reviews for the app (as when scraped)\n",
    "5. Size: Size of the app (as when scraped)\n",
    "6. Installs: Number of user downloads/installs for the app (as when scraped)\n",
    "7. Type: Paid or Free\n",
    "8. Price: Price of the app (as when scraped)\n",
    "9. Content Rating: Age group the app is targeted at - Children / Mature 21+ / Adult\n",
    "10.Genres: An app can belong to multiple genres (apart from its main category). For eg, a musical family game will belong to Music, Game, Family genres.\n",
    "11. Last Updated: Date when the app was last updated on Play Store (as when scraped)\n",
    "12. Current Ver: Current version of the app available on Play Store (as when scraped)\n",
    "13. Android Ver: Min required Android version (as when scraped)"
   ]
  },
  {
   "cell_type": "code",
   "execution_count": 1,
   "metadata": {},
   "outputs": [],
   "source": [
    "import math\n",
    "import pdb\n",
    "import ast\n",
    "import pandas as pd\n",
    "import numpy as np\n",
    "import datetime\n",
    "import re\n",
    "import seaborn as sns\n",
    "from scipy import stats\n",
    "from scipy.stats import t, sem\n",
    "from scipy.stats import chi2_contingency\n",
    "import matplotlib.pyplot as plt"
   ]
  },
  {
   "cell_type": "code",
   "execution_count": 2,
   "metadata": {},
   "outputs": [],
   "source": [
    "# Hide deprecated warnings\n",
    "import warnings\n",
    "warnings.filterwarnings('ignore')"
   ]
  },
  {
   "cell_type": "code",
   "execution_count": 3,
   "metadata": {},
   "outputs": [],
   "source": [
    "# data 1 and data 2 were merged (inner join) \n",
    "#so that only the apps that had reviews lie in the dataset"
   ]
  },
  {
   "cell_type": "code",
   "execution_count": 4,
   "metadata": {},
   "outputs": [
    {
     "ename": "FileNotFoundError",
     "evalue": "[Errno 2] File b'/Users/AirMorena/Desktop/final_proj/csv/data_merged.csv' does not exist: b'/Users/AirMorena/Desktop/final_proj/csv/data_merged.csv'",
     "output_type": "error",
     "traceback": [
      "\u001b[0;31m---------------------------------------------------------------------------\u001b[0m",
      "\u001b[0;31mFileNotFoundError\u001b[0m                         Traceback (most recent call last)",
      "\u001b[0;32m<ipython-input-4-991ffd8eedb8>\u001b[0m in \u001b[0;36m<module>\u001b[0;34m\u001b[0m\n\u001b[1;32m      1\u001b[0m \u001b[0;31m# Load data from the folder where I uploaded the csv file\u001b[0m\u001b[0;34m\u001b[0m\u001b[0;34m\u001b[0m\u001b[0;34m\u001b[0m\u001b[0m\n\u001b[0;32m----> 2\u001b[0;31m \u001b[0mdata_merged\u001b[0m\u001b[0;34m=\u001b[0m\u001b[0mpd\u001b[0m\u001b[0;34m.\u001b[0m\u001b[0mread_csv\u001b[0m\u001b[0;34m(\u001b[0m\u001b[0;34m\"/Users/AirMorena/Desktop/final_proj/csv/data_merged.csv\"\u001b[0m\u001b[0;34m)\u001b[0m\u001b[0;34m\u001b[0m\u001b[0;34m\u001b[0m\u001b[0m\n\u001b[0m",
      "\u001b[0;32m/Applications/anaconda3/lib/python3.7/site-packages/pandas/io/parsers.py\u001b[0m in \u001b[0;36mparser_f\u001b[0;34m(filepath_or_buffer, sep, delimiter, header, names, index_col, usecols, squeeze, prefix, mangle_dupe_cols, dtype, engine, converters, true_values, false_values, skipinitialspace, skiprows, skipfooter, nrows, na_values, keep_default_na, na_filter, verbose, skip_blank_lines, parse_dates, infer_datetime_format, keep_date_col, date_parser, dayfirst, iterator, chunksize, compression, thousands, decimal, lineterminator, quotechar, quoting, doublequote, escapechar, comment, encoding, dialect, tupleize_cols, error_bad_lines, warn_bad_lines, delim_whitespace, low_memory, memory_map, float_precision)\u001b[0m\n\u001b[1;32m    700\u001b[0m                     skip_blank_lines=skip_blank_lines)\n\u001b[1;32m    701\u001b[0m \u001b[0;34m\u001b[0m\u001b[0m\n\u001b[0;32m--> 702\u001b[0;31m         \u001b[0;32mreturn\u001b[0m \u001b[0m_read\u001b[0m\u001b[0;34m(\u001b[0m\u001b[0mfilepath_or_buffer\u001b[0m\u001b[0;34m,\u001b[0m \u001b[0mkwds\u001b[0m\u001b[0;34m)\u001b[0m\u001b[0;34m\u001b[0m\u001b[0;34m\u001b[0m\u001b[0m\n\u001b[0m\u001b[1;32m    703\u001b[0m \u001b[0;34m\u001b[0m\u001b[0m\n\u001b[1;32m    704\u001b[0m     \u001b[0mparser_f\u001b[0m\u001b[0;34m.\u001b[0m\u001b[0m__name__\u001b[0m \u001b[0;34m=\u001b[0m \u001b[0mname\u001b[0m\u001b[0;34m\u001b[0m\u001b[0;34m\u001b[0m\u001b[0m\n",
      "\u001b[0;32m/Applications/anaconda3/lib/python3.7/site-packages/pandas/io/parsers.py\u001b[0m in \u001b[0;36m_read\u001b[0;34m(filepath_or_buffer, kwds)\u001b[0m\n\u001b[1;32m    427\u001b[0m \u001b[0;34m\u001b[0m\u001b[0m\n\u001b[1;32m    428\u001b[0m     \u001b[0;31m# Create the parser.\u001b[0m\u001b[0;34m\u001b[0m\u001b[0;34m\u001b[0m\u001b[0;34m\u001b[0m\u001b[0m\n\u001b[0;32m--> 429\u001b[0;31m     \u001b[0mparser\u001b[0m \u001b[0;34m=\u001b[0m \u001b[0mTextFileReader\u001b[0m\u001b[0;34m(\u001b[0m\u001b[0mfilepath_or_buffer\u001b[0m\u001b[0;34m,\u001b[0m \u001b[0;34m**\u001b[0m\u001b[0mkwds\u001b[0m\u001b[0;34m)\u001b[0m\u001b[0;34m\u001b[0m\u001b[0;34m\u001b[0m\u001b[0m\n\u001b[0m\u001b[1;32m    430\u001b[0m \u001b[0;34m\u001b[0m\u001b[0m\n\u001b[1;32m    431\u001b[0m     \u001b[0;32mif\u001b[0m \u001b[0mchunksize\u001b[0m \u001b[0;32mor\u001b[0m \u001b[0miterator\u001b[0m\u001b[0;34m:\u001b[0m\u001b[0;34m\u001b[0m\u001b[0;34m\u001b[0m\u001b[0m\n",
      "\u001b[0;32m/Applications/anaconda3/lib/python3.7/site-packages/pandas/io/parsers.py\u001b[0m in \u001b[0;36m__init__\u001b[0;34m(self, f, engine, **kwds)\u001b[0m\n\u001b[1;32m    893\u001b[0m             \u001b[0mself\u001b[0m\u001b[0;34m.\u001b[0m\u001b[0moptions\u001b[0m\u001b[0;34m[\u001b[0m\u001b[0;34m'has_index_names'\u001b[0m\u001b[0;34m]\u001b[0m \u001b[0;34m=\u001b[0m \u001b[0mkwds\u001b[0m\u001b[0;34m[\u001b[0m\u001b[0;34m'has_index_names'\u001b[0m\u001b[0;34m]\u001b[0m\u001b[0;34m\u001b[0m\u001b[0;34m\u001b[0m\u001b[0m\n\u001b[1;32m    894\u001b[0m \u001b[0;34m\u001b[0m\u001b[0m\n\u001b[0;32m--> 895\u001b[0;31m         \u001b[0mself\u001b[0m\u001b[0;34m.\u001b[0m\u001b[0m_make_engine\u001b[0m\u001b[0;34m(\u001b[0m\u001b[0mself\u001b[0m\u001b[0;34m.\u001b[0m\u001b[0mengine\u001b[0m\u001b[0;34m)\u001b[0m\u001b[0;34m\u001b[0m\u001b[0;34m\u001b[0m\u001b[0m\n\u001b[0m\u001b[1;32m    896\u001b[0m \u001b[0;34m\u001b[0m\u001b[0m\n\u001b[1;32m    897\u001b[0m     \u001b[0;32mdef\u001b[0m \u001b[0mclose\u001b[0m\u001b[0;34m(\u001b[0m\u001b[0mself\u001b[0m\u001b[0;34m)\u001b[0m\u001b[0;34m:\u001b[0m\u001b[0;34m\u001b[0m\u001b[0;34m\u001b[0m\u001b[0m\n",
      "\u001b[0;32m/Applications/anaconda3/lib/python3.7/site-packages/pandas/io/parsers.py\u001b[0m in \u001b[0;36m_make_engine\u001b[0;34m(self, engine)\u001b[0m\n\u001b[1;32m   1120\u001b[0m     \u001b[0;32mdef\u001b[0m \u001b[0m_make_engine\u001b[0m\u001b[0;34m(\u001b[0m\u001b[0mself\u001b[0m\u001b[0;34m,\u001b[0m \u001b[0mengine\u001b[0m\u001b[0;34m=\u001b[0m\u001b[0;34m'c'\u001b[0m\u001b[0;34m)\u001b[0m\u001b[0;34m:\u001b[0m\u001b[0;34m\u001b[0m\u001b[0;34m\u001b[0m\u001b[0m\n\u001b[1;32m   1121\u001b[0m         \u001b[0;32mif\u001b[0m \u001b[0mengine\u001b[0m \u001b[0;34m==\u001b[0m \u001b[0;34m'c'\u001b[0m\u001b[0;34m:\u001b[0m\u001b[0;34m\u001b[0m\u001b[0;34m\u001b[0m\u001b[0m\n\u001b[0;32m-> 1122\u001b[0;31m             \u001b[0mself\u001b[0m\u001b[0;34m.\u001b[0m\u001b[0m_engine\u001b[0m \u001b[0;34m=\u001b[0m \u001b[0mCParserWrapper\u001b[0m\u001b[0;34m(\u001b[0m\u001b[0mself\u001b[0m\u001b[0;34m.\u001b[0m\u001b[0mf\u001b[0m\u001b[0;34m,\u001b[0m \u001b[0;34m**\u001b[0m\u001b[0mself\u001b[0m\u001b[0;34m.\u001b[0m\u001b[0moptions\u001b[0m\u001b[0;34m)\u001b[0m\u001b[0;34m\u001b[0m\u001b[0;34m\u001b[0m\u001b[0m\n\u001b[0m\u001b[1;32m   1123\u001b[0m         \u001b[0;32melse\u001b[0m\u001b[0;34m:\u001b[0m\u001b[0;34m\u001b[0m\u001b[0;34m\u001b[0m\u001b[0m\n\u001b[1;32m   1124\u001b[0m             \u001b[0;32mif\u001b[0m \u001b[0mengine\u001b[0m \u001b[0;34m==\u001b[0m \u001b[0;34m'python'\u001b[0m\u001b[0;34m:\u001b[0m\u001b[0;34m\u001b[0m\u001b[0;34m\u001b[0m\u001b[0m\n",
      "\u001b[0;32m/Applications/anaconda3/lib/python3.7/site-packages/pandas/io/parsers.py\u001b[0m in \u001b[0;36m__init__\u001b[0;34m(self, src, **kwds)\u001b[0m\n\u001b[1;32m   1851\u001b[0m         \u001b[0mkwds\u001b[0m\u001b[0;34m[\u001b[0m\u001b[0;34m'usecols'\u001b[0m\u001b[0;34m]\u001b[0m \u001b[0;34m=\u001b[0m \u001b[0mself\u001b[0m\u001b[0;34m.\u001b[0m\u001b[0musecols\u001b[0m\u001b[0;34m\u001b[0m\u001b[0;34m\u001b[0m\u001b[0m\n\u001b[1;32m   1852\u001b[0m \u001b[0;34m\u001b[0m\u001b[0m\n\u001b[0;32m-> 1853\u001b[0;31m         \u001b[0mself\u001b[0m\u001b[0;34m.\u001b[0m\u001b[0m_reader\u001b[0m \u001b[0;34m=\u001b[0m \u001b[0mparsers\u001b[0m\u001b[0;34m.\u001b[0m\u001b[0mTextReader\u001b[0m\u001b[0;34m(\u001b[0m\u001b[0msrc\u001b[0m\u001b[0;34m,\u001b[0m \u001b[0;34m**\u001b[0m\u001b[0mkwds\u001b[0m\u001b[0;34m)\u001b[0m\u001b[0;34m\u001b[0m\u001b[0;34m\u001b[0m\u001b[0m\n\u001b[0m\u001b[1;32m   1854\u001b[0m         \u001b[0mself\u001b[0m\u001b[0;34m.\u001b[0m\u001b[0munnamed_cols\u001b[0m \u001b[0;34m=\u001b[0m \u001b[0mself\u001b[0m\u001b[0;34m.\u001b[0m\u001b[0m_reader\u001b[0m\u001b[0;34m.\u001b[0m\u001b[0munnamed_cols\u001b[0m\u001b[0;34m\u001b[0m\u001b[0;34m\u001b[0m\u001b[0m\n\u001b[1;32m   1855\u001b[0m \u001b[0;34m\u001b[0m\u001b[0m\n",
      "\u001b[0;32mpandas/_libs/parsers.pyx\u001b[0m in \u001b[0;36mpandas._libs.parsers.TextReader.__cinit__\u001b[0;34m()\u001b[0m\n",
      "\u001b[0;32mpandas/_libs/parsers.pyx\u001b[0m in \u001b[0;36mpandas._libs.parsers.TextReader._setup_parser_source\u001b[0;34m()\u001b[0m\n",
      "\u001b[0;31mFileNotFoundError\u001b[0m: [Errno 2] File b'/Users/AirMorena/Desktop/final_proj/csv/data_merged.csv' does not exist: b'/Users/AirMorena/Desktop/final_proj/csv/data_merged.csv'"
     ]
    }
   ],
   "source": [
    "# Load data from the folder where I uploaded the csv file\n",
    "data_merged=pd.read_csv(\"/Users/AirMorena/Desktop/final_proj/csv/data_merged.csv\")"
   ]
  },
  {
   "cell_type": "code",
   "execution_count": null,
   "metadata": {},
   "outputs": [],
   "source": [
    "print(\"Shape of data (samples, features): \",data_merged.shape)"
   ]
  },
  {
   "cell_type": "code",
   "execution_count": null,
   "metadata": {},
   "outputs": [],
   "source": [
    "# Get the columns that have any missing value\n",
    "s_missing_values = data_merged.isnull().sum()\n",
    "s_missing_values[s_missing_values > 0]"
   ]
  },
  {
   "cell_type": "code",
   "execution_count": null,
   "metadata": {},
   "outputs": [],
   "source": [
    "data_merged.head()"
   ]
  },
  {
   "cell_type": "code",
   "execution_count": 5,
   "metadata": {},
   "outputs": [
    {
     "ename": "NameError",
     "evalue": "name 'data_merged' is not defined",
     "output_type": "error",
     "traceback": [
      "\u001b[0;31m---------------------------------------------------------------------------\u001b[0m",
      "\u001b[0;31mNameError\u001b[0m                                 Traceback (most recent call last)",
      "\u001b[0;32m<ipython-input-5-48cd20e0f4c8>\u001b[0m in \u001b[0;36m<module>\u001b[0;34m\u001b[0m\n\u001b[0;32m----> 1\u001b[0;31m \u001b[0mdata_merged\u001b[0m\u001b[0;34m.\u001b[0m\u001b[0minfo\u001b[0m\u001b[0;34m(\u001b[0m\u001b[0;34m)\u001b[0m\u001b[0;34m\u001b[0m\u001b[0;34m\u001b[0m\u001b[0m\n\u001b[0m",
      "\u001b[0;31mNameError\u001b[0m: name 'data_merged' is not defined"
     ]
    }
   ],
   "source": [
    "data_merged.info()"
   ]
  },
  {
   "cell_type": "code",
   "execution_count": 6,
   "metadata": {},
   "outputs": [
    {
     "ename": "NameError",
     "evalue": "name 'data_merged' is not defined",
     "output_type": "error",
     "traceback": [
      "\u001b[0;31m---------------------------------------------------------------------------\u001b[0m",
      "\u001b[0;31mNameError\u001b[0m                                 Traceback (most recent call last)",
      "\u001b[0;32m<ipython-input-6-76bd268bcf85>\u001b[0m in \u001b[0;36m<module>\u001b[0;34m\u001b[0m\n\u001b[0;32m----> 1\u001b[0;31m \u001b[0mprint\u001b[0m\u001b[0;34m(\u001b[0m\u001b[0;34m\"Data Types: \\n\"\u001b[0m\u001b[0;34m,\u001b[0m \u001b[0mdata_merged\u001b[0m\u001b[0;34m.\u001b[0m\u001b[0mdtypes\u001b[0m\u001b[0;34m.\u001b[0m\u001b[0mvalue_counts\u001b[0m\u001b[0;34m(\u001b[0m\u001b[0;34m)\u001b[0m\u001b[0;34m)\u001b[0m\u001b[0;34m\u001b[0m\u001b[0;34m\u001b[0m\u001b[0m\n\u001b[0m",
      "\u001b[0;31mNameError\u001b[0m: name 'data_merged' is not defined"
     ]
    }
   ],
   "source": [
    "print(\"Data Types: \\n\", data_merged.dtypes.value_counts())"
   ]
  },
  {
   "cell_type": "code",
   "execution_count": 7,
   "metadata": {},
   "outputs": [
    {
     "ename": "NameError",
     "evalue": "name 'data_merged' is not defined",
     "output_type": "error",
     "traceback": [
      "\u001b[0;31m---------------------------------------------------------------------------\u001b[0m",
      "\u001b[0;31mNameError\u001b[0m                                 Traceback (most recent call last)",
      "\u001b[0;32m<ipython-input-7-55d7cfa5b3b9>\u001b[0m in \u001b[0;36m<module>\u001b[0;34m\u001b[0m\n\u001b[1;32m      1\u001b[0m \u001b[0;31m# unique apps in data_merged.\u001b[0m\u001b[0;34m\u001b[0m\u001b[0;34m\u001b[0m\u001b[0;34m\u001b[0m\u001b[0m\n\u001b[0;32m----> 2\u001b[0;31m \u001b[0mdata_merged\u001b[0m\u001b[0;34m[\u001b[0m\u001b[0;34m'App'\u001b[0m\u001b[0;34m]\u001b[0m\u001b[0;34m.\u001b[0m\u001b[0munique\u001b[0m\u001b[0;34m(\u001b[0m\u001b[0;34m)\u001b[0m\u001b[0;34m\u001b[0m\u001b[0;34m\u001b[0m\u001b[0m\n\u001b[0m",
      "\u001b[0;31mNameError\u001b[0m: name 'data_merged' is not defined"
     ]
    }
   ],
   "source": [
    "# unique apps in data_merged.\n",
    "data_merged['App'].unique()"
   ]
  },
  {
   "cell_type": "code",
   "execution_count": 8,
   "metadata": {},
   "outputs": [
    {
     "ename": "NameError",
     "evalue": "name 'data_merged' is not defined",
     "output_type": "error",
     "traceback": [
      "\u001b[0;31m---------------------------------------------------------------------------\u001b[0m",
      "\u001b[0;31mNameError\u001b[0m                                 Traceback (most recent call last)",
      "\u001b[0;32m<ipython-input-8-103bbb1fd72a>\u001b[0m in \u001b[0;36m<module>\u001b[0;34m\u001b[0m\n\u001b[0;32m----> 1\u001b[0;31m \u001b[0mlen\u001b[0m\u001b[0;34m(\u001b[0m\u001b[0mdata_merged\u001b[0m\u001b[0;34m[\u001b[0m\u001b[0;34m'App'\u001b[0m\u001b[0;34m]\u001b[0m\u001b[0;34m.\u001b[0m\u001b[0munique\u001b[0m\u001b[0;34m(\u001b[0m\u001b[0;34m)\u001b[0m\u001b[0;34m)\u001b[0m\u001b[0;34m\u001b[0m\u001b[0;34m\u001b[0m\u001b[0m\n\u001b[0m",
      "\u001b[0;31mNameError\u001b[0m: name 'data_merged' is not defined"
     ]
    }
   ],
   "source": [
    "len(data_merged['App'].unique())"
   ]
  },
  {
   "cell_type": "code",
   "execution_count": 9,
   "metadata": {},
   "outputs": [
    {
     "ename": "NameError",
     "evalue": "name 'data_merged' is not defined",
     "output_type": "error",
     "traceback": [
      "\u001b[0;31m---------------------------------------------------------------------------\u001b[0m",
      "\u001b[0;31mNameError\u001b[0m                                 Traceback (most recent call last)",
      "\u001b[0;32m<ipython-input-9-2e7b309314c3>\u001b[0m in \u001b[0;36m<module>\u001b[0;34m\u001b[0m\n\u001b[1;32m      1\u001b[0m \u001b[0;31m#Returns the column names.\u001b[0m\u001b[0;34m\u001b[0m\u001b[0;34m\u001b[0m\u001b[0;34m\u001b[0m\u001b[0m\n\u001b[0;32m----> 2\u001b[0;31m \u001b[0mdata_merged\u001b[0m\u001b[0;34m.\u001b[0m\u001b[0mcolumns\u001b[0m\u001b[0;34m.\u001b[0m\u001b[0mtolist\u001b[0m\u001b[0;34m(\u001b[0m\u001b[0;34m)\u001b[0m\u001b[0;34m\u001b[0m\u001b[0;34m\u001b[0m\u001b[0m\n\u001b[0m",
      "\u001b[0;31mNameError\u001b[0m: name 'data_merged' is not defined"
     ]
    }
   ],
   "source": [
    "#Returns the column names.\n",
    "data_merged.columns.tolist()"
   ]
  },
  {
   "cell_type": "code",
   "execution_count": 10,
   "metadata": {},
   "outputs": [
    {
     "ename": "NameError",
     "evalue": "name 'data_merged' is not defined",
     "output_type": "error",
     "traceback": [
      "\u001b[0;31m---------------------------------------------------------------------------\u001b[0m",
      "\u001b[0;31mNameError\u001b[0m                                 Traceback (most recent call last)",
      "\u001b[0;32m<ipython-input-10-48cd20e0f4c8>\u001b[0m in \u001b[0;36m<module>\u001b[0;34m\u001b[0m\n\u001b[0;32m----> 1\u001b[0;31m \u001b[0mdata_merged\u001b[0m\u001b[0;34m.\u001b[0m\u001b[0minfo\u001b[0m\u001b[0;34m(\u001b[0m\u001b[0;34m)\u001b[0m\u001b[0;34m\u001b[0m\u001b[0;34m\u001b[0m\u001b[0m\n\u001b[0m",
      "\u001b[0;31mNameError\u001b[0m: name 'data_merged' is not defined"
     ]
    }
   ],
   "source": [
    "data_merged.info()"
   ]
  },
  {
   "cell_type": "code",
   "execution_count": 11,
   "metadata": {},
   "outputs": [
    {
     "ename": "NameError",
     "evalue": "name 'data_merged' is not defined",
     "output_type": "error",
     "traceback": [
      "\u001b[0;31m---------------------------------------------------------------------------\u001b[0m",
      "\u001b[0;31mNameError\u001b[0m                                 Traceback (most recent call last)",
      "\u001b[0;32m<ipython-input-11-3cd798e5b542>\u001b[0m in \u001b[0;36m<module>\u001b[0;34m\u001b[0m\n\u001b[0;32m----> 1\u001b[0;31m \u001b[0mdata_merged\u001b[0m\u001b[0;34m.\u001b[0m\u001b[0misnull\u001b[0m\u001b[0;34m(\u001b[0m\u001b[0;34m)\u001b[0m\u001b[0;34m.\u001b[0m\u001b[0msum\u001b[0m\u001b[0;34m(\u001b[0m\u001b[0;34m)\u001b[0m\u001b[0;34m\u001b[0m\u001b[0;34m\u001b[0m\u001b[0m\n\u001b[0m",
      "\u001b[0;31mNameError\u001b[0m: name 'data_merged' is not defined"
     ]
    }
   ],
   "source": [
    "data_merged.isnull().sum()"
   ]
  },
  {
   "cell_type": "code",
   "execution_count": 12,
   "metadata": {},
   "outputs": [],
   "source": [
    "# we need to convert selected variables from object to float or int"
   ]
  },
  {
   "cell_type": "code",
   "execution_count": 13,
   "metadata": {},
   "outputs": [
    {
     "ename": "NameError",
     "evalue": "name 'data_merged' is not defined",
     "output_type": "error",
     "traceback": [
      "\u001b[0;31m---------------------------------------------------------------------------\u001b[0m",
      "\u001b[0;31mNameError\u001b[0m                                 Traceback (most recent call last)",
      "\u001b[0;32m<ipython-input-13-f22af7a3978d>\u001b[0m in \u001b[0;36m<module>\u001b[0;34m\u001b[0m\n\u001b[1;32m      1\u001b[0m \u001b[0;31m# store a copy of merged:\u001b[0m\u001b[0;34m\u001b[0m\u001b[0;34m\u001b[0m\u001b[0;34m\u001b[0m\u001b[0m\n\u001b[0;32m----> 2\u001b[0;31m \u001b[0mdata_merged1\u001b[0m \u001b[0;34m=\u001b[0m \u001b[0mdata_merged\u001b[0m\u001b[0;34m.\u001b[0m\u001b[0mcopy\u001b[0m\u001b[0;34m(\u001b[0m\u001b[0;34m)\u001b[0m\u001b[0;34m\u001b[0m\u001b[0;34m\u001b[0m\u001b[0m\n\u001b[0m",
      "\u001b[0;31mNameError\u001b[0m: name 'data_merged' is not defined"
     ]
    }
   ],
   "source": [
    "# store a copy of merged:\n",
    "data_merged1 = data_merged.copy()"
   ]
  },
  {
   "cell_type": "code",
   "execution_count": 215,
   "metadata": {},
   "outputs": [],
   "source": [
    "##############################################################################################"
   ]
  },
  {
   "cell_type": "code",
   "execution_count": 216,
   "metadata": {},
   "outputs": [],
   "source": [
    "#3#############################################DATA CLEANING##################################"
   ]
  },
  {
   "cell_type": "code",
   "execution_count": null,
   "metadata": {},
   "outputs": [],
   "source": []
  },
  {
   "cell_type": "code",
   "execution_count": 217,
   "metadata": {},
   "outputs": [],
   "source": [
    "## Installs"
   ]
  },
  {
   "cell_type": "code",
   "execution_count": 218,
   "metadata": {},
   "outputs": [],
   "source": [
    "# Feature Installs should be interger, need to remove the + and coma"
   ]
  },
  {
   "cell_type": "code",
   "execution_count": 219,
   "metadata": {},
   "outputs": [
    {
     "data": {
      "text/plain": [
       "array(['500,000+', '1,000,000+', '100,000+', '5,000,000+', '10,000+',\n",
       "       '10,000,000+', '100,000,000+', '1,000,000,000+', '50,000,000+',\n",
       "       '500,000,000+', '1,000+', '50,000+', '5,000+'], dtype=object)"
      ]
     },
     "execution_count": 219,
     "metadata": {},
     "output_type": "execute_result"
    }
   ],
   "source": [
    "data_merged['Installs'].unique()"
   ]
  },
  {
   "cell_type": "code",
   "execution_count": 220,
   "metadata": {},
   "outputs": [],
   "source": [
    "# convert installs to numeric int: replace+ by '', but it leaves a coma\n",
    "#data_merged['Installs'].str.replace('+','')"
   ]
  },
  {
   "cell_type": "code",
   "execution_count": 221,
   "metadata": {},
   "outputs": [],
   "source": [
    "# replace comma by nothing and convert to int,and save it into data_merged['Installs'] \n",
    "data_merged['Installs']=data_merged['Installs'].str.replace('+','').str.replace(',','').astype(int)"
   ]
  },
  {
   "cell_type": "code",
   "execution_count": 222,
   "metadata": {},
   "outputs": [
    {
     "data": {
      "text/plain": [
       "array([    500000,    1000000,     100000,    5000000,      10000,\n",
       "         10000000,  100000000, 1000000000,   50000000,  500000000,\n",
       "             1000,      50000,       5000])"
      ]
     },
     "execution_count": 222,
     "metadata": {},
     "output_type": "execute_result"
    }
   ],
   "source": [
    "# check if it worked\n",
    "data_merged['Installs'].unique()"
   ]
  },
  {
   "cell_type": "code",
   "execution_count": 223,
   "metadata": {},
   "outputs": [
    {
     "data": {
      "text/plain": [
       "<matplotlib.axes._subplots.AxesSubplot at 0x1a263eb390>"
      ]
     },
     "execution_count": 223,
     "metadata": {},
     "output_type": "execute_result"
    },
    {
     "data": {
      "image/png": "[encoded data removed]",
      "text/plain": [
       "<Figure size 864x576 with 1 Axes>"
      ]
     },
     "metadata": {
      "needs_background": "light"
     },
     "output_type": "display_data"
    }
   ],
   "source": [
    "# Vizualise installs distribution\n",
    "_=plt.figure(figsize=(12,8))\n",
    "sns.distplot(data_merged['Installs'], bins=10 )"
   ]
  },
  {
   "cell_type": "code",
   "execution_count": 224,
   "metadata": {},
   "outputs": [
    {
     "data": {
      "text/plain": [
       "Text(0.5, 1.0, 'Number of Installs by app')"
      ]
     },
     "execution_count": 224,
     "metadata": {},
     "output_type": "execute_result"
    },
    {
     "data": {
      "image/png": "[encoded data removed]",
      "text/plain": [
       "<Figure size 432x288 with 1 Axes>"
      ]
     },
     "metadata": {
      "needs_background": "light"
     },
     "output_type": "display_data"
    }
   ],
   "source": [
    "#vizualisation distribution of number of installs values\n",
    "_=sns.boxplot(data_merged['Installs'])\n",
    "plt.title(\"Number of Installs by app\")"
   ]
  },
  {
   "cell_type": "code",
   "execution_count": 225,
   "metadata": {},
   "outputs": [
    {
     "data": {
      "text/plain": [
       "count    1.226620e+05\n",
       "mean     7.304089e+07\n",
       "std      1.896831e+08\n",
       "min      1.000000e+03\n",
       "25%      1.000000e+06\n",
       "50%      1.000000e+07\n",
       "75%      1.000000e+08\n",
       "max      1.000000e+09\n",
       "Name: Installs, dtype: float64"
      ]
     },
     "execution_count": 225,
     "metadata": {},
     "output_type": "execute_result"
    }
   ],
   "source": [
    "data_merged['Installs'].describe()"
   ]
  },
  {
   "cell_type": "code",
   "execution_count": 226,
   "metadata": {},
   "outputs": [],
   "source": [
    "# we can see 2 outliers: What is an outlier?\n",
    "#An outlier is a data point in a data set that is distant from all other observations. \n",
    "#A data point that lies outside the overall distribution of the dataset."
   ]
  },
  {
   "cell_type": "code",
   "execution_count": 227,
   "metadata": {},
   "outputs": [
    {
     "data": {
      "text/plain": [
       "[1000,\n",
       " 1000,\n",
       " 1000,\n",
       " 1000,\n",
       " 1000,\n",
       " 1000,\n",
       " 1000,\n",
       " 1000,\n",
       " 1000,\n",
       " 1000,\n",
       " 1000,\n",
       " 1000,\n",
       " 1000,\n",
       " 1000,\n",
       " 1000,\n",
       " 1000,\n",
       " 1000,\n",
       " 1000,\n",
       " 1000,\n",
       " 1000,\n",
       " 1000,\n",
       " 1000,\n",
       " 1000,\n",
       " 1000,\n",
       " 1000,\n",
       " 1000,\n",
       " 1000,\n",
       " 1000,\n",
       " 1000,\n",
       " 1000,\n",
       " 1000,\n",
       " 1000,\n",
       " 1000,\n",
       " 1000,\n",
       " 1000,\n",
       " 1000,\n",
       " 1000,\n",
       " 1000,\n",
       " 1000,\n",
       " 1000,\n",
       " 1000,\n",
       " 1000,\n",
       " 1000,\n",
       " 1000,\n",
       " 1000,\n",
       " 1000,\n",
       " 1000,\n",
       " 1000,\n",
       " 1000,\n",
       " 1000,\n",
       " 1000,\n",
       " 1000,\n",
       " 1000,\n",
       " 1000,\n",
       " 1000,\n",
       " 1000,\n",
       " 1000,\n",
       " 1000,\n",
       " 1000,\n",
       " 1000,\n",
       " 1000,\n",
       " 1000,\n",
       " 1000,\n",
       " 1000,\n",
       " 1000,\n",
       " 1000,\n",
       " 1000,\n",
       " 1000,\n",
       " 1000,\n",
       " 1000,\n",
       " 1000,\n",
       " 1000,\n",
       " 1000,\n",
       " 1000,\n",
       " 1000,\n",
       " 1000,\n",
       " 1000,\n",
       " 1000,\n",
       " 1000,\n",
       " 1000,\n",
       " 1000,\n",
       " 1000,\n",
       " 1000,\n",
       " 1000,\n",
       " 1000,\n",
       " 1000,\n",
       " 1000,\n",
       " 1000,\n",
       " 1000,\n",
       " 1000,\n",
       " 1000,\n",
       " 1000,\n",
       " 1000,\n",
       " 1000,\n",
       " 1000,\n",
       " 1000,\n",
       " 1000,\n",
       " 1000,\n",
       " 1000,\n",
       " 1000,\n",
       " 1000,\n",
       " 1000,\n",
       " 1000,\n",
       " 1000,\n",
       " 1000,\n",
       " 1000,\n",
       " 1000,\n",
       " 1000,\n",
       " 1000,\n",
       " 1000,\n",
       " 1000,\n",
       " 1000,\n",
       " 1000,\n",
       " 1000,\n",
       " 1000,\n",
       " 1000,\n",
       " 1000,\n",
       " 1000,\n",
       " 1000,\n",
       " 1000,\n",
       " 1000,\n",
       " 1000,\n",
       " 1000,\n",
       " 1000,\n",
       " 1000,\n",
       " 1000,\n",
       " 1000,\n",
       " 1000,\n",
       " 1000,\n",
       " 1000,\n",
       " 1000,\n",
       " 1000,\n",
       " 1000,\n",
       " 1000,\n",
       " 1000,\n",
       " 1000,\n",
       " 1000,\n",
       " 1000,\n",
       " 1000,\n",
       " 1000,\n",
       " 1000,\n",
       " 1000,\n",
       " 1000,\n",
       " 1000,\n",
       " 1000,\n",
       " 1000,\n",
       " 1000,\n",
       " 1000,\n",
       " 1000,\n",
       " 1000,\n",
       " 1000,\n",
       " 1000,\n",
       " 1000,\n",
       " 1000,\n",
       " 1000,\n",
       " 1000,\n",
       " 1000,\n",
       " 1000,\n",
       " 1000,\n",
       " 1000,\n",
       " 1000,\n",
       " 1000,\n",
       " 1000,\n",
       " 1000,\n",
       " 1000,\n",
       " 1000,\n",
       " 1000,\n",
       " 1000,\n",
       " 1000,\n",
       " 1000,\n",
       " 1000,\n",
       " 1000,\n",
       " 1000,\n",
       " 1000,\n",
       " 1000,\n",
       " 1000,\n",
       " 1000,\n",
       " 1000,\n",
       " 1000,\n",
       " 1000,\n",
       " 1000,\n",
       " 1000,\n",
       " 1000,\n",
       " 1000,\n",
       " 1000,\n",
       " 1000,\n",
       " 1000,\n",
       " 1000,\n",
       " 1000,\n",
       " 1000,\n",
       " 1000,\n",
       " 1000,\n",
       " 1000,\n",
       " 1000,\n",
       " 1000,\n",
       " 1000,\n",
       " 1000,\n",
       " 1000,\n",
       " 1000,\n",
       " 1000,\n",
       " 1000,\n",
       " 1000,\n",
       " 1000,\n",
       " 1000,\n",
       " 1000,\n",
       " 1000,\n",
       " 1000,\n",
       " 1000,\n",
       " 1000,\n",
       " 1000,\n",
       " 1000,\n",
       " 1000,\n",
       " 1000,\n",
       " 1000,\n",
       " 1000,\n",
       " 1000,\n",
       " 1000,\n",
       " 1000,\n",
       " 1000,\n",
       " 1000,\n",
       " 1000,\n",
       " 1000,\n",
       " 1000,\n",
       " 1000,\n",
       " 1000,\n",
       " 1000,\n",
       " 1000,\n",
       " 1000,\n",
       " 1000,\n",
       " 1000,\n",
       " 1000,\n",
       " 1000,\n",
       " 1000,\n",
       " 1000,\n",
       " 1000,\n",
       " 1000,\n",
       " 1000,\n",
       " 1000,\n",
       " 1000,\n",
       " 1000,\n",
       " 1000,\n",
       " 1000,\n",
       " 1000,\n",
       " 1000,\n",
       " 1000,\n",
       " 1000,\n",
       " 1000,\n",
       " 1000,\n",
       " 1000,\n",
       " 1000,\n",
       " 1000,\n",
       " 1000,\n",
       " 1000,\n",
       " 1000,\n",
       " 1000,\n",
       " 1000,\n",
       " 1000,\n",
       " 1000,\n",
       " 1000,\n",
       " 1000,\n",
       " 1000,\n",
       " 1000,\n",
       " 1000,\n",
       " 1000,\n",
       " 1000,\n",
       " 1000,\n",
       " 1000,\n",
       " 1000,\n",
       " 1000,\n",
       " 1000,\n",
       " 1000,\n",
       " 1000,\n",
       " 1000,\n",
       " 1000,\n",
       " 1000,\n",
       " 1000,\n",
       " 1000,\n",
       " 1000,\n",
       " 1000,\n",
       " 1000,\n",
       " 1000,\n",
       " 1000,\n",
       " 1000,\n",
       " 1000,\n",
       " 1000,\n",
       " 1000,\n",
       " 1000,\n",
       " 1000,\n",
       " 1000,\n",
       " 1000,\n",
       " 1000,\n",
       " 1000,\n",
       " 1000,\n",
       " 1000,\n",
       " 1000,\n",
       " 1000,\n",
       " 1000,\n",
       " 1000,\n",
       " 1000,\n",
       " 1000,\n",
       " 1000,\n",
       " 1000,\n",
       " 1000,\n",
       " 1000,\n",
       " 1000,\n",
       " 1000,\n",
       " 1000,\n",
       " 1000,\n",
       " 1000,\n",
       " 1000,\n",
       " 1000,\n",
       " 1000,\n",
       " 1000,\n",
       " 1000,\n",
       " 1000,\n",
       " 1000,\n",
       " 1000,\n",
       " 1000,\n",
       " 1000,\n",
       " 1000,\n",
       " 1000,\n",
       " 1000,\n",
       " 1000,\n",
       " 1000,\n",
       " 1000,\n",
       " 1000,\n",
       " 1000,\n",
       " 1000,\n",
       " 1000,\n",
       " 1000,\n",
       " 1000,\n",
       " 1000,\n",
       " 1000,\n",
       " 1000,\n",
       " 1000,\n",
       " 1000,\n",
       " 1000,\n",
       " 1000,\n",
       " 1000,\n",
       " 1000,\n",
       " 1000,\n",
       " 1000,\n",
       " 1000,\n",
       " 1000,\n",
       " 1000,\n",
       " 1000,\n",
       " 1000,\n",
       " 1000,\n",
       " 1000,\n",
       " 1000,\n",
       " 1000,\n",
       " 1000,\n",
       " 1000,\n",
       " 1000,\n",
       " 1000,\n",
       " 1000,\n",
       " 1000,\n",
       " 1000,\n",
       " 1000,\n",
       " 1000,\n",
       " 1000,\n",
       " 1000,\n",
       " 1000,\n",
       " 1000,\n",
       " 1000,\n",
       " 1000,\n",
       " 1000,\n",
       " 1000,\n",
       " 1000,\n",
       " 1000,\n",
       " 1000,\n",
       " 1000,\n",
       " 1000,\n",
       " 1000,\n",
       " 1000,\n",
       " 1000,\n",
       " 1000,\n",
       " 1000,\n",
       " 1000,\n",
       " 1000,\n",
       " 1000,\n",
       " 1000,\n",
       " 1000,\n",
       " 1000,\n",
       " 1000,\n",
       " 1000,\n",
       " 1000,\n",
       " 1000,\n",
       " 1000,\n",
       " 1000,\n",
       " 1000,\n",
       " 1000,\n",
       " 1000,\n",
       " 1000,\n",
       " 1000,\n",
       " 1000,\n",
       " 1000,\n",
       " 1000,\n",
       " 1000,\n",
       " 1000,\n",
       " 5000,\n",
       " 5000,\n",
       " 5000,\n",
       " 5000,\n",
       " 5000,\n",
       " 5000,\n",
       " 5000,\n",
       " 5000,\n",
       " 5000,\n",
       " 5000,\n",
       " 5000,\n",
       " 5000,\n",
       " 5000,\n",
       " 5000,\n",
       " 5000,\n",
       " 5000,\n",
       " 5000,\n",
       " 5000,\n",
       " 5000,\n",
       " 5000,\n",
       " 5000,\n",
       " 5000,\n",
       " 5000,\n",
       " 5000,\n",
       " 5000,\n",
       " 5000,\n",
       " 5000,\n",
       " 5000,\n",
       " 5000,\n",
       " 5000,\n",
       " 5000,\n",
       " 5000,\n",
       " 5000,\n",
       " 5000,\n",
       " 5000,\n",
       " 5000,\n",
       " 5000,\n",
       " 5000,\n",
       " 5000,\n",
       " 5000,\n",
       " 5000,\n",
       " 5000,\n",
       " 5000,\n",
       " 5000,\n",
       " 5000,\n",
       " 5000,\n",
       " 5000,\n",
       " 5000,\n",
       " 5000,\n",
       " 5000,\n",
       " 5000,\n",
       " 5000,\n",
       " 5000,\n",
       " 5000,\n",
       " 5000,\n",
       " 5000,\n",
       " 5000,\n",
       " 5000,\n",
       " 5000,\n",
       " 5000,\n",
       " 5000,\n",
       " 5000,\n",
       " 5000,\n",
       " 5000,\n",
       " 5000,\n",
       " 5000,\n",
       " 5000,\n",
       " 5000,\n",
       " 5000,\n",
       " 5000,\n",
       " 5000,\n",
       " 5000,\n",
       " 5000,\n",
       " 5000,\n",
       " 5000,\n",
       " 5000,\n",
       " 5000,\n",
       " 5000,\n",
       " 5000,\n",
       " 5000,\n",
       " 10000,\n",
       " 10000,\n",
       " 10000,\n",
       " 10000,\n",
       " 10000,\n",
       " 10000,\n",
       " 10000,\n",
       " 10000,\n",
       " 10000,\n",
       " 10000,\n",
       " 10000,\n",
       " 10000,\n",
       " 10000,\n",
       " 10000,\n",
       " 10000,\n",
       " 10000,\n",
       " 10000,\n",
       " 10000,\n",
       " 10000,\n",
       " 10000,\n",
       " 10000,\n",
       " 10000,\n",
       " 10000,\n",
       " 10000,\n",
       " 10000,\n",
       " 10000,\n",
       " 10000,\n",
       " 10000,\n",
       " 10000,\n",
       " 10000,\n",
       " 10000,\n",
       " 10000,\n",
       " 10000,\n",
       " 10000,\n",
       " 10000,\n",
       " 10000,\n",
       " 10000,\n",
       " 10000,\n",
       " 10000,\n",
       " 10000,\n",
       " 10000,\n",
       " 10000,\n",
       " 10000,\n",
       " 10000,\n",
       " 10000,\n",
       " 10000,\n",
       " 10000,\n",
       " 10000,\n",
       " 10000,\n",
       " 10000,\n",
       " 10000,\n",
       " 10000,\n",
       " 10000,\n",
       " 10000,\n",
       " 10000,\n",
       " 10000,\n",
       " 10000,\n",
       " 10000,\n",
       " 10000,\n",
       " 10000,\n",
       " 10000,\n",
       " 10000,\n",
       " 10000,\n",
       " 10000,\n",
       " 10000,\n",
       " 10000,\n",
       " 10000,\n",
       " 10000,\n",
       " 10000,\n",
       " 10000,\n",
       " 10000,\n",
       " 10000,\n",
       " 10000,\n",
       " 10000,\n",
       " 10000,\n",
       " 10000,\n",
       " 10000,\n",
       " 10000,\n",
       " 10000,\n",
       " 10000,\n",
       " 10000,\n",
       " 10000,\n",
       " 10000,\n",
       " 10000,\n",
       " 10000,\n",
       " 10000,\n",
       " 10000,\n",
       " 10000,\n",
       " 10000,\n",
       " 10000,\n",
       " 10000,\n",
       " 10000,\n",
       " 10000,\n",
       " 10000,\n",
       " 10000,\n",
       " 10000,\n",
       " 10000,\n",
       " 10000,\n",
       " 10000,\n",
       " 10000,\n",
       " 10000,\n",
       " 10000,\n",
       " 10000,\n",
       " 10000,\n",
       " 10000,\n",
       " 10000,\n",
       " 10000,\n",
       " 10000,\n",
       " 10000,\n",
       " 10000,\n",
       " 10000,\n",
       " 10000,\n",
       " 10000,\n",
       " 10000,\n",
       " 10000,\n",
       " 10000,\n",
       " 10000,\n",
       " 10000,\n",
       " 10000,\n",
       " 10000,\n",
       " 10000,\n",
       " 10000,\n",
       " 10000,\n",
       " 10000,\n",
       " 10000,\n",
       " 10000,\n",
       " 10000,\n",
       " 10000,\n",
       " 10000,\n",
       " 10000,\n",
       " 10000,\n",
       " 10000,\n",
       " 10000,\n",
       " 10000,\n",
       " 10000,\n",
       " 10000,\n",
       " 10000,\n",
       " 10000,\n",
       " 10000,\n",
       " 10000,\n",
       " 10000,\n",
       " 10000,\n",
       " 10000,\n",
       " 10000,\n",
       " 10000,\n",
       " 10000,\n",
       " 10000,\n",
       " 10000,\n",
       " 10000,\n",
       " 10000,\n",
       " 10000,\n",
       " 10000,\n",
       " 10000,\n",
       " 10000,\n",
       " 10000,\n",
       " 10000,\n",
       " 10000,\n",
       " 10000,\n",
       " 10000,\n",
       " 10000,\n",
       " 10000,\n",
       " 10000,\n",
       " 10000,\n",
       " 10000,\n",
       " 10000,\n",
       " 10000,\n",
       " 10000,\n",
       " 10000,\n",
       " 10000,\n",
       " 10000,\n",
       " 10000,\n",
       " 10000,\n",
       " 10000,\n",
       " 10000,\n",
       " 10000,\n",
       " 10000,\n",
       " 10000,\n",
       " 10000,\n",
       " 10000,\n",
       " 10000,\n",
       " 10000,\n",
       " 10000,\n",
       " 10000,\n",
       " 10000,\n",
       " 10000,\n",
       " 10000,\n",
       " 10000,\n",
       " 10000,\n",
       " 10000,\n",
       " 10000,\n",
       " 10000,\n",
       " 10000,\n",
       " 10000,\n",
       " 10000,\n",
       " 10000,\n",
       " 10000,\n",
       " 10000,\n",
       " 10000,\n",
       " 10000,\n",
       " 10000,\n",
       " 10000,\n",
       " 10000,\n",
       " 10000,\n",
       " 10000,\n",
       " 10000,\n",
       " 10000,\n",
       " 10000,\n",
       " 10000,\n",
       " 10000,\n",
       " 10000,\n",
       " 10000,\n",
       " 10000,\n",
       " 10000,\n",
       " 10000,\n",
       " 10000,\n",
       " 10000,\n",
       " 10000,\n",
       " 10000,\n",
       " 10000,\n",
       " 10000,\n",
       " 10000,\n",
       " 10000,\n",
       " 10000,\n",
       " 10000,\n",
       " 10000,\n",
       " 10000,\n",
       " 10000,\n",
       " 10000,\n",
       " 10000,\n",
       " 10000,\n",
       " 10000,\n",
       " 10000,\n",
       " 10000,\n",
       " 10000,\n",
       " 10000,\n",
       " 10000,\n",
       " 10000,\n",
       " 10000,\n",
       " 10000,\n",
       " 10000,\n",
       " 10000,\n",
       " 10000,\n",
       " 10000,\n",
       " 10000,\n",
       " 10000,\n",
       " 10000,\n",
       " 10000,\n",
       " 10000,\n",
       " 10000,\n",
       " 10000,\n",
       " 10000,\n",
       " 10000,\n",
       " 10000,\n",
       " 10000,\n",
       " 10000,\n",
       " 10000,\n",
       " 10000,\n",
       " 10000,\n",
       " 10000,\n",
       " 10000,\n",
       " 10000,\n",
       " 10000,\n",
       " 10000,\n",
       " 10000,\n",
       " 10000,\n",
       " 10000,\n",
       " 10000,\n",
       " 10000,\n",
       " 10000,\n",
       " 10000,\n",
       " 10000,\n",
       " 10000,\n",
       " 10000,\n",
       " 10000,\n",
       " 10000,\n",
       " 10000,\n",
       " 10000,\n",
       " 10000,\n",
       " 10000,\n",
       " 10000,\n",
       " 10000,\n",
       " 10000,\n",
       " 10000,\n",
       " 10000,\n",
       " 10000,\n",
       " 10000,\n",
       " 10000,\n",
       " 10000,\n",
       " 10000,\n",
       " 10000,\n",
       " 10000,\n",
       " 10000,\n",
       " 10000,\n",
       " 10000,\n",
       " 10000,\n",
       " 10000,\n",
       " 10000,\n",
       " 10000,\n",
       " 10000,\n",
       " 10000,\n",
       " 10000,\n",
       " 10000,\n",
       " 10000,\n",
       " 10000,\n",
       " 10000,\n",
       " 10000,\n",
       " 10000,\n",
       " 10000,\n",
       " 10000,\n",
       " 10000,\n",
       " 10000,\n",
       " 10000,\n",
       " 10000,\n",
       " 10000,\n",
       " 10000,\n",
       " 10000,\n",
       " 10000,\n",
       " 10000,\n",
       " 10000,\n",
       " 10000,\n",
       " 10000,\n",
       " 10000,\n",
       " 10000,\n",
       " 10000,\n",
       " 10000,\n",
       " 10000,\n",
       " 10000,\n",
       " 10000,\n",
       " 10000,\n",
       " 10000,\n",
       " 10000,\n",
       " 10000,\n",
       " 10000,\n",
       " 10000,\n",
       " 10000,\n",
       " 10000,\n",
       " 10000,\n",
       " 10000,\n",
       " 10000,\n",
       " 10000,\n",
       " 10000,\n",
       " 10000,\n",
       " 10000,\n",
       " 10000,\n",
       " 10000,\n",
       " 10000,\n",
       " 10000,\n",
       " 10000,\n",
       " 10000,\n",
       " 10000,\n",
       " 10000,\n",
       " 10000,\n",
       " 10000,\n",
       " 10000,\n",
       " 10000,\n",
       " 10000,\n",
       " 10000,\n",
       " 10000,\n",
       " 10000,\n",
       " 10000,\n",
       " 10000,\n",
       " 10000,\n",
       " 10000,\n",
       " 10000,\n",
       " 10000,\n",
       " 10000,\n",
       " 10000,\n",
       " 10000,\n",
       " 10000,\n",
       " 10000,\n",
       " 10000,\n",
       " 10000,\n",
       " 10000,\n",
       " 10000,\n",
       " 10000,\n",
       " 10000,\n",
       " 10000,\n",
       " 10000,\n",
       " 10000,\n",
       " 10000,\n",
       " 10000,\n",
       " 10000,\n",
       " 10000,\n",
       " 10000,\n",
       " 10000,\n",
       " 10000,\n",
       " 10000,\n",
       " 10000,\n",
       " 10000,\n",
       " 10000,\n",
       " 10000,\n",
       " 10000,\n",
       " 10000,\n",
       " 10000,\n",
       " 10000,\n",
       " 10000,\n",
       " 10000,\n",
       " 10000,\n",
       " 10000,\n",
       " 10000,\n",
       " 10000,\n",
       " 10000,\n",
       " 10000,\n",
       " 10000,\n",
       " 10000,\n",
       " 10000,\n",
       " 10000,\n",
       " 10000,\n",
       " 10000,\n",
       " 10000,\n",
       " 10000,\n",
       " 10000,\n",
       " 10000,\n",
       " 10000,\n",
       " 10000,\n",
       " 10000,\n",
       " 10000,\n",
       " 10000,\n",
       " 10000,\n",
       " 10000,\n",
       " 10000,\n",
       " 10000,\n",
       " 10000,\n",
       " 10000,\n",
       " 10000,\n",
       " 10000,\n",
       " 10000,\n",
       " 10000,\n",
       " 10000,\n",
       " 10000,\n",
       " 10000,\n",
       " 10000,\n",
       " 10000,\n",
       " 10000,\n",
       " 10000,\n",
       " 10000,\n",
       " 10000,\n",
       " 10000,\n",
       " 10000,\n",
       " 10000,\n",
       " 10000,\n",
       " 10000,\n",
       " 10000,\n",
       " 10000,\n",
       " 10000,\n",
       " 10000,\n",
       " 10000,\n",
       " 10000,\n",
       " 10000,\n",
       " 10000,\n",
       " 10000,\n",
       " 10000,\n",
       " 10000,\n",
       " 10000,\n",
       " 10000,\n",
       " 10000,\n",
       " 10000,\n",
       " 10000,\n",
       " 10000,\n",
       " 10000,\n",
       " 10000,\n",
       " 10000,\n",
       " 10000,\n",
       " 10000,\n",
       " 10000,\n",
       " 10000,\n",
       " 10000,\n",
       " 10000,\n",
       " 10000,\n",
       " 10000,\n",
       " 10000,\n",
       " 10000,\n",
       " 10000,\n",
       " 10000,\n",
       " 10000,\n",
       " 10000,\n",
       " 10000,\n",
       " 10000,\n",
       " 10000,\n",
       " 10000,\n",
       " 10000,\n",
       " 10000,\n",
       " 10000,\n",
       " 10000,\n",
       " 10000,\n",
       " 10000,\n",
       " 10000,\n",
       " 10000,\n",
       " 10000,\n",
       " 10000,\n",
       " 10000,\n",
       " 10000,\n",
       " 10000,\n",
       " 10000,\n",
       " 10000,\n",
       " 10000,\n",
       " 10000,\n",
       " 10000,\n",
       " 10000,\n",
       " 10000,\n",
       " 10000,\n",
       " 10000,\n",
       " 10000,\n",
       " 10000,\n",
       " 10000,\n",
       " 10000,\n",
       " 10000,\n",
       " 10000,\n",
       " 10000,\n",
       " 10000,\n",
       " 10000,\n",
       " 10000,\n",
       " 10000,\n",
       " 10000,\n",
       " 10000,\n",
       " 10000,\n",
       " 10000,\n",
       " 10000,\n",
       " 10000,\n",
       " 10000,\n",
       " ...]"
      ]
     },
     "execution_count": 227,
     "metadata": {},
     "output_type": "execute_result"
    }
   ],
   "source": [
    "# First sort installs by increasing order\n",
    "sorted(data_merged['Installs'])"
   ]
  },
  {
   "cell_type": "code",
   "execution_count": 228,
   "metadata": {},
   "outputs": [
    {
     "name": "stdout",
     "output_type": "stream",
     "text": [
      "q1:  1000000.0\n",
      "q3:  100000000.0\n"
     ]
    }
   ],
   "source": [
    "# Finding first quartile and third quartile\n",
    "Q1, Q3= np.percentile(data_merged['Installs'],[25,75])\n",
    "print(\"q1: \",Q1)\n",
    "print(\"q3: \",Q3)"
   ]
  },
  {
   "cell_type": "code",
   "execution_count": 229,
   "metadata": {},
   "outputs": [
    {
     "name": "stdout",
     "output_type": "stream",
     "text": [
      "iqr:  99000000.0\n"
     ]
    }
   ],
   "source": [
    "# Find the IQR which is the difference between third and first quartile\n",
    "IQR = Q3 - Q1\n",
    "print(\"iqr: \",IQR)"
   ]
  },
  {
   "cell_type": "code",
   "execution_count": 230,
   "metadata": {},
   "outputs": [
    {
     "name": "stdout",
     "output_type": "stream",
     "text": [
      "upper_bound:  248500000.0\n",
      "lower_bound:  -147500000.0\n"
     ]
    }
   ],
   "source": [
    "lower_bound = Q1 -(1.5 * IQR) \n",
    "upper_bound = Q3 +(1.5 * IQR) \n",
    "print(\"upper_bound: \",upper_bound)\n",
    "print(\"lower_bound: \",lower_bound)\n"
   ]
  },
  {
   "cell_type": "code",
   "execution_count": 231,
   "metadata": {},
   "outputs": [],
   "source": [
    "# remove the 2 outliers\n",
    "data_merged['Installs'] = data_merged['Installs'][~((data_merged['Installs'] < (Q1 - 1.5 * IQR)) |(data_merged['Installs'] > (Q3 + 1.5 * IQR)))]"
   ]
  },
  {
   "cell_type": "code",
   "execution_count": 232,
   "metadata": {},
   "outputs": [
    {
     "data": {
      "text/plain": [
       "Text(0.5, 1.0, 'Number of Installs by app')"
      ]
     },
     "execution_count": 232,
     "metadata": {},
     "output_type": "execute_result"
    },
    {
     "data": {
      "image/png": "[encoded data removed]",
      "text/plain": [
       "<Figure size 432x288 with 1 Axes>"
      ]
     },
     "metadata": {
      "needs_background": "light"
     },
     "output_type": "display_data"
    }
   ],
   "source": [
    "# boxplot of 'Installs' without outliers\n",
    "_=sns.boxplot(data_merged['Installs'])\n",
    "plt.title(\"Number of Installs by app\")"
   ]
  },
  {
   "cell_type": "code",
   "execution_count": 233,
   "metadata": {},
   "outputs": [
    {
     "name": "stdout",
     "output_type": "stream",
     "text": [
      "Shape of data (samples, features):  (122662, 17)\n"
     ]
    }
   ],
   "source": [
    "print(\"Shape of data (samples, features): \",data_merged.shape)"
   ]
  },
  {
   "cell_type": "code",
   "execution_count": 234,
   "metadata": {},
   "outputs": [
    {
     "data": {
      "text/plain": [
       "count    1.153680e+05\n",
       "mean     2.888446e+07\n",
       "std      3.927389e+07\n",
       "min      1.000000e+03\n",
       "25%      1.000000e+06\n",
       "50%      1.000000e+07\n",
       "75%      5.000000e+07\n",
       "max      1.000000e+08\n",
       "Name: Installs, dtype: float64"
      ]
     },
     "execution_count": 234,
     "metadata": {},
     "output_type": "execute_result"
    }
   ],
   "source": [
    "data_merged['Installs'].describe()"
   ]
  },
  {
   "cell_type": "code",
   "execution_count": 235,
   "metadata": {},
   "outputs": [
    {
     "data": {
      "text/plain": [
       "array([5.e+05, 1.e+06, 1.e+05, 5.e+06, 1.e+04, 1.e+07, 1.e+08,    nan,\n",
       "       5.e+07, 1.e+03, 5.e+04, 5.e+03])"
      ]
     },
     "execution_count": 235,
     "metadata": {},
     "output_type": "execute_result"
    }
   ],
   "source": [
    "data_merged['Installs'].unique()"
   ]
  },
  {
   "cell_type": "code",
   "execution_count": 236,
   "metadata": {},
   "outputs": [],
   "source": [
    "# replace nan by mean\n",
    "Installs_array = data_merged[data_merged['Installs']!=np.nan]['Installs']\n",
    "data_merged['Installs']=data_merged['Installs'].replace(np.nan,Installs_array.mean())"
   ]
  },
  {
   "cell_type": "code",
   "execution_count": 237,
   "metadata": {},
   "outputs": [
    {
     "data": {
      "text/plain": [
       "array([5.00000000e+05, 1.00000000e+06, 1.00000000e+05, 5.00000000e+06,\n",
       "       1.00000000e+04, 1.00000000e+07, 1.00000000e+08, 2.88844553e+07,\n",
       "       5.00000000e+07, 1.00000000e+03, 5.00000000e+04, 5.00000000e+03])"
      ]
     },
     "execution_count": 237,
     "metadata": {},
     "output_type": "execute_result"
    }
   ],
   "source": [
    "data_merged['Installs'].unique()"
   ]
  },
  {
   "cell_type": "code",
   "execution_count": 238,
   "metadata": {},
   "outputs": [],
   "source": [
    "## Feature Size"
   ]
  },
  {
   "cell_type": "code",
   "execution_count": 353,
   "metadata": {},
   "outputs": [
    {
     "data": {
      "text/plain": [
       "array([1.40000000e+01, 3.30000000e+01, 3.70000000e+01, 3.90000000e+01,\n",
       "       1.20000000e+01, 2.50000000e+01, 6.10000000e+00, 1.10000000e+01,\n",
       "       3.46878609e+01, 1.50000000e+01, 2.40000000e+01, 1.70000000e+01,\n",
       "       2.40000000e+00, 2.70000000e+01, 1.60000000e+01, 2.90000000e+00,\n",
       "       3.80000000e+01, 2.10000000e+01, 5.20000000e+01, 8.20000000e+00,\n",
       "       4.20000000e+00, 2.80000000e+00, 5.00000000e+00, 5.90000000e+00,\n",
       "       1.90000000e+01, 7.30000000e+01, 6.80000000e+00, 4.00000000e+00,\n",
       "       1.00000000e+01, 2.10000000e+00, 4.20000000e+01, 3.00000000e+01,\n",
       "       2.90000000e+01, 3.90000000e+00, 1.80000000e+01, 3.20000000e+00,\n",
       "       2.00000000e+01, 2.60000000e+01, 4.80000000e+01, 2.20000000e+01,\n",
       "       8.50000000e+00, 2.80000000e+01, 4.60000000e+01, 2.30000000e+01,\n",
       "       7.10000000e+00, 4.00000000e+01, 7.80000000e+00, 6.60000000e+00,\n",
       "       5.10000000e+00, 7.90000000e-02, 3.20000000e+01, 2.20000000e+00,\n",
       "       4.70000000e+00, 2.70000000e+00, 1.30000000e+01, 1.18000000e-01,\n",
       "       4.40000000e+01, 7.30000000e+00, 6.95000000e-01, 6.20000000e+00,\n",
       "       5.60000000e+01, 3.10000000e+00, 3.10000000e+01, 8.00000000e+00,\n",
       "       7.90000000e+00, 1.40000000e+00, 7.20000000e+00, 3.80000000e+00,\n",
       "       4.10000000e+01, 9.00000000e+00, 4.90000000e+00, 8.10000000e+00,\n",
       "       3.70000000e+00, 4.50000000e+00, 2.60000000e+00, 6.90000000e+00,\n",
       "       7.40000000e+00, 1.90000000e+00, 1.80000000e+00, 2.30000000e+00,\n",
       "       5.20000000e+00, 1.20000000e+00, 5.90000000e+01, 5.60000000e+00,\n",
       "       7.20000000e+01, 9.60000000e+00, 4.30000000e+01, 3.60000000e+00,\n",
       "       9.50000000e+00, 8.90000000e+00, 6.50000000e+01, 7.90000000e+01,\n",
       "       8.40000000e+00, 5.80000000e+01, 5.00000000e+01, 4.50000000e+01,\n",
       "       5.30000000e+01, 6.80000000e+01, 6.60000000e+01, 3.50000000e+01,\n",
       "       7.60000000e+01, 9.40000000e+00, 4.30000000e+00, 6.70000000e+01,\n",
       "       6.00000000e+01, 5.50000000e+00, 3.30000000e+00, 7.50000000e+00,\n",
       "       9.10000000e+00, 8.30000000e+00, 9.20000000e+00, 7.00000000e+00,\n",
       "       7.70000000e+01, 5.70000000e+00, 5.30000000e+00, 2.32000000e-01,\n",
       "       9.90000000e+01, 6.24000000e-01, 9.50000000e+01, 8.50000000e-03,\n",
       "       2.92000000e-01, 5.50000000e+01, 8.00000000e+01, 4.40000000e+00,\n",
       "       3.60000000e+01, 3.00000000e+00, 1.70000000e+00, 4.60000000e+00,\n",
       "       7.70000000e+00, 7.40000000e+01, 9.70000000e+01, 9.80000000e+01,\n",
       "       7.80000000e+01, 8.50000000e+01, 6.30000000e+01, 7.00000000e+01,\n",
       "       7.10000000e+01, 4.90000000e+01, 8.20000000e+01, 5.70000000e+01,\n",
       "       8.60000000e+01, 8.10000000e+01, 9.60000000e+01, 9.30000000e+01,\n",
       "       8.30000000e+01, 5.40000000e+01, 6.10000000e+01, 7.50000000e+01,\n",
       "       5.10000000e+01, 9.10000000e+01, 1.60000000e+00, 4.70000000e+01,\n",
       "       6.40000000e+00, 3.40000000e+01, 2.00000000e+00, 1.50000000e+00,\n",
       "       6.20000000e+01, 4.10000000e+00, 9.30000000e+00, 9.70000000e+00,\n",
       "       8.70000000e+00, 9.80000000e+00, 6.00000000e+00, 6.50000000e+00,\n",
       "       8.80000000e+01, 7.60000000e+00, 5.80000000e+00, 1.30000000e+00,\n",
       "       9.90000000e+00, 3.50000000e+00, 5.40000000e+00, 8.53000000e-01,\n",
       "       7.20000000e-01, 3.40000000e+00, 6.30000000e+00, 9.20000000e+01,\n",
       "       9.40000000e+01])"
      ]
     },
     "execution_count": 353,
     "metadata": {},
     "output_type": "execute_result"
    }
   ],
   "source": [
    "data_merged['Size'].unique()"
   ]
  },
  {
   "cell_type": "markdown",
   "metadata": {},
   "source": [
    "# to clean size we can use a for loop\n",
    "## for loop to iterate over Size:\n",
    "\n",
    "# create a new empty list:\n",
    "my_new_size=[]\n",
    "\n",
    "# create a list from series data['Size']\n",
    "sizelist=data_merged['Size'].tolist()\n",
    "                     \n",
    "for size in sizelist:# size element in the list\n",
    "       \n",
    "        if size=='Varies with device':\n",
    "            my_new_size.append(size)\n",
    "            \n",
    "        else:\n",
    "            print(size)\n",
    "            print(size[1:0])\n",
    "            unit=size[-1]# the last character of the string is -1\n",
    "            value=float(size[:-1])#change the value to float for all except last character\n",
    "\n",
    "            if unit=='M':\n",
    "                    new_value=value*1000000\n",
    "                    my_new_size.append(new_value)\n",
    "            elif unit=='k':\n",
    "                    new_value=value/1000\n",
    "                    my_new_size.append(new_value)"
   ]
  },
  {
   "cell_type": "code",
   "execution_count": 354,
   "metadata": {},
   "outputs": [],
   "source": [
    "# another way: keep the values in Megabytes:Megabyte is the unit of digital information with prefix mega (106)\n",
    "#https://www.gbmb.org/megabytes"
   ]
  },
  {
   "cell_type": "code",
   "execution_count": 355,
   "metadata": {},
   "outputs": [
    {
     "data": {
      "text/plain": [
       "dtype('float64')"
      ]
     },
     "execution_count": 355,
     "metadata": {},
     "output_type": "execute_result"
    }
   ],
   "source": [
    "data_merged['Size'] = data_merged['Size'].apply(lambda x: str(x).replace('Varies with device', 'NaN') if 'Varies with device' in str(x) else x)\n",
    "data_merged['Size'] = data_merged['Size'].apply(lambda x: str(x).replace('M', '') if 'M' in str(x) else x)\n",
    "data_merged['Size'] = data_merged['Size'].apply(lambda x: str(x).replace(',', '') if 'M' in str(x) else x)\n",
    "data_merged['Size'] = data_merged['Size'].apply(lambda x: float(str(x).replace('k', '')) / 1000 if 'k' in str(x) else x)\n",
    "data_merged['Size'] = data_merged['Size'].apply(lambda x: float(x))\n",
    "data_merged['Size'].dtypes"
   ]
  },
  {
   "cell_type": "code",
   "execution_count": 356,
   "metadata": {},
   "outputs": [],
   "source": [
    "# in order to know how to replace the NaN\n",
    "# we need to look at the distribution of the non nulls to decide how to deal\n",
    "# with the nan, replace by zero or by the mean/median?"
   ]
  },
  {
   "cell_type": "code",
   "execution_count": 357,
   "metadata": {},
   "outputs": [
    {
     "data": {
      "text/plain": [
       "count    122662.000000\n",
       "mean         34.687861\n",
       "std          21.525494\n",
       "min           0.008500\n",
       "25%          19.000000\n",
       "50%          34.687861\n",
       "75%          35.000000\n",
       "max          99.000000\n",
       "Name: Size, dtype: float64"
      ]
     },
     "execution_count": 357,
     "metadata": {},
     "output_type": "execute_result"
    }
   ],
   "source": [
    "data_merged['Size'].describe()\n",
    "# mean 34.68 and median 25"
   ]
  },
  {
   "cell_type": "code",
   "execution_count": 358,
   "metadata": {},
   "outputs": [],
   "source": [
    "#select those rows that have a null value in the column Size\n",
    "isnull_condition = (data_merged['Size'].isnull())"
   ]
  },
  {
   "cell_type": "code",
   "execution_count": 359,
   "metadata": {},
   "outputs": [
    {
     "data": {
      "image/png": "[encoded data removed]",
      "text/plain": [
       "<Figure size 432x288 with 1 Axes>"
      ]
     },
     "metadata": {
      "needs_background": "light"
     },
     "output_type": "display_data"
    }
   ],
   "source": [
    "non_null_rating = data_merged[~isnull_condition]['Size']\n",
    "#vizualisation distribution of NON NULLs of Size values\n",
    "_=sns.distplot(non_null_rating)\n",
    "plt.title(\"Apps by size\")\n",
    "plt.grid(True)\n",
    "plt.tight_layout()"
   ]
  },
  {
   "cell_type": "code",
   "execution_count": 360,
   "metadata": {},
   "outputs": [],
   "source": [
    "# replace nan by mean: create an array with the non null values and apply the mean"
   ]
  },
  {
   "cell_type": "code",
   "execution_count": 361,
   "metadata": {},
   "outputs": [
    {
     "data": {
      "text/plain": [
       "0         14.000000\n",
       "1         14.000000\n",
       "2         14.000000\n",
       "3         14.000000\n",
       "4         14.000000\n",
       "5         14.000000\n",
       "6         14.000000\n",
       "7         14.000000\n",
       "8         14.000000\n",
       "9         14.000000\n",
       "10        14.000000\n",
       "11        14.000000\n",
       "12        14.000000\n",
       "13        14.000000\n",
       "14        14.000000\n",
       "15        14.000000\n",
       "16        14.000000\n",
       "17        14.000000\n",
       "18        14.000000\n",
       "19        14.000000\n",
       "20        14.000000\n",
       "21        14.000000\n",
       "22        14.000000\n",
       "23        14.000000\n",
       "24        14.000000\n",
       "25        14.000000\n",
       "26        14.000000\n",
       "27        14.000000\n",
       "28        14.000000\n",
       "29        14.000000\n",
       "            ...    \n",
       "122632    34.687861\n",
       "122633    34.687861\n",
       "122634    34.687861\n",
       "122635    34.687861\n",
       "122636    34.687861\n",
       "122637    34.687861\n",
       "122638    34.687861\n",
       "122639    34.687861\n",
       "122640    34.687861\n",
       "122641    34.687861\n",
       "122642    34.687861\n",
       "122643    34.687861\n",
       "122644    34.687861\n",
       "122645    34.687861\n",
       "122646    34.687861\n",
       "122647    34.687861\n",
       "122648    34.687861\n",
       "122649    34.687861\n",
       "122650    34.687861\n",
       "122651    34.687861\n",
       "122652    34.687861\n",
       "122653    34.687861\n",
       "122654    34.687861\n",
       "122655    34.687861\n",
       "122656    34.687861\n",
       "122657    34.687861\n",
       "122658    34.687861\n",
       "122659    34.687861\n",
       "122660    34.687861\n",
       "122661    34.687861\n",
       "Name: Size, Length: 122662, dtype: float64"
      ]
     },
     "execution_count": 361,
     "metadata": {},
     "output_type": "execute_result"
    }
   ],
   "source": [
    "size_array = data_merged[data_merged['Size']!=np.nan]['Size']\n",
    "data_merged['Size'].replace(np.nan,size_array.mean())"
   ]
  },
  {
   "cell_type": "code",
   "execution_count": 362,
   "metadata": {},
   "outputs": [
    {
     "data": {
      "text/plain": [
       "0         14.000000\n",
       "1         14.000000\n",
       "2         14.000000\n",
       "3         14.000000\n",
       "4         14.000000\n",
       "5         14.000000\n",
       "6         14.000000\n",
       "7         14.000000\n",
       "8         14.000000\n",
       "9         14.000000\n",
       "10        14.000000\n",
       "11        14.000000\n",
       "12        14.000000\n",
       "13        14.000000\n",
       "14        14.000000\n",
       "15        14.000000\n",
       "16        14.000000\n",
       "17        14.000000\n",
       "18        14.000000\n",
       "19        14.000000\n",
       "20        14.000000\n",
       "21        14.000000\n",
       "22        14.000000\n",
       "23        14.000000\n",
       "24        14.000000\n",
       "25        14.000000\n",
       "26        14.000000\n",
       "27        14.000000\n",
       "28        14.000000\n",
       "29        14.000000\n",
       "            ...    \n",
       "122632    34.687861\n",
       "122633    34.687861\n",
       "122634    34.687861\n",
       "122635    34.687861\n",
       "122636    34.687861\n",
       "122637    34.687861\n",
       "122638    34.687861\n",
       "122639    34.687861\n",
       "122640    34.687861\n",
       "122641    34.687861\n",
       "122642    34.687861\n",
       "122643    34.687861\n",
       "122644    34.687861\n",
       "122645    34.687861\n",
       "122646    34.687861\n",
       "122647    34.687861\n",
       "122648    34.687861\n",
       "122649    34.687861\n",
       "122650    34.687861\n",
       "122651    34.687861\n",
       "122652    34.687861\n",
       "122653    34.687861\n",
       "122654    34.687861\n",
       "122655    34.687861\n",
       "122656    34.687861\n",
       "122657    34.687861\n",
       "122658    34.687861\n",
       "122659    34.687861\n",
       "122660    34.687861\n",
       "122661    34.687861\n",
       "Name: Size, Length: 122662, dtype: float64"
      ]
     },
     "execution_count": 362,
     "metadata": {},
     "output_type": "execute_result"
    }
   ],
   "source": [
    "data_merged['Size'].replace(np.nan,size_array.mean())"
   ]
  },
  {
   "cell_type": "code",
   "execution_count": 372,
   "metadata": {},
   "outputs": [],
   "source": [
    "data_merged['Size']= data_merged['Size'].replace(np.nan,size_array.mean())"
   ]
  },
  {
   "cell_type": "code",
   "execution_count": 373,
   "metadata": {},
   "outputs": [
    {
     "data": {
      "text/plain": [
       "array([1.40000000e+01, 3.30000000e+01, 3.70000000e+01, 3.90000000e+01,\n",
       "       1.20000000e+01, 2.50000000e+01, 6.10000000e+00, 1.10000000e+01,\n",
       "       3.46878609e+01, 1.50000000e+01, 2.40000000e+01, 1.70000000e+01,\n",
       "       2.40000000e+00, 2.70000000e+01, 1.60000000e+01, 2.90000000e+00,\n",
       "       3.80000000e+01, 2.10000000e+01, 5.20000000e+01, 8.20000000e+00,\n",
       "       4.20000000e+00, 2.80000000e+00, 5.00000000e+00, 5.90000000e+00,\n",
       "       1.90000000e+01, 7.30000000e+01, 6.80000000e+00, 4.00000000e+00,\n",
       "       1.00000000e+01, 2.10000000e+00, 4.20000000e+01, 3.00000000e+01,\n",
       "       2.90000000e+01, 3.90000000e+00, 1.80000000e+01, 3.20000000e+00,\n",
       "       2.00000000e+01, 2.60000000e+01, 4.80000000e+01, 2.20000000e+01,\n",
       "       8.50000000e+00, 2.80000000e+01, 4.60000000e+01, 2.30000000e+01,\n",
       "       7.10000000e+00, 4.00000000e+01, 7.80000000e+00, 6.60000000e+00,\n",
       "       5.10000000e+00, 7.90000000e-02, 3.20000000e+01, 2.20000000e+00,\n",
       "       4.70000000e+00, 2.70000000e+00, 1.30000000e+01, 1.18000000e-01,\n",
       "       4.40000000e+01, 7.30000000e+00, 6.95000000e-01, 6.20000000e+00,\n",
       "       5.60000000e+01, 3.10000000e+00, 3.10000000e+01, 8.00000000e+00,\n",
       "       7.90000000e+00, 1.40000000e+00, 7.20000000e+00, 3.80000000e+00,\n",
       "       4.10000000e+01, 9.00000000e+00, 4.90000000e+00, 8.10000000e+00,\n",
       "       3.70000000e+00, 4.50000000e+00, 2.60000000e+00, 6.90000000e+00,\n",
       "       7.40000000e+00, 1.90000000e+00, 1.80000000e+00, 2.30000000e+00,\n",
       "       5.20000000e+00, 1.20000000e+00, 5.90000000e+01, 5.60000000e+00,\n",
       "       7.20000000e+01, 9.60000000e+00, 4.30000000e+01, 3.60000000e+00,\n",
       "       9.50000000e+00, 8.90000000e+00, 6.50000000e+01, 7.90000000e+01,\n",
       "       8.40000000e+00, 5.80000000e+01, 5.00000000e+01, 4.50000000e+01,\n",
       "       5.30000000e+01, 6.80000000e+01, 6.60000000e+01, 3.50000000e+01,\n",
       "       7.60000000e+01, 9.40000000e+00, 4.30000000e+00, 6.70000000e+01,\n",
       "       6.00000000e+01, 5.50000000e+00, 3.30000000e+00, 7.50000000e+00,\n",
       "       9.10000000e+00, 8.30000000e+00, 9.20000000e+00, 7.00000000e+00,\n",
       "       7.70000000e+01, 5.70000000e+00, 5.30000000e+00, 2.32000000e-01,\n",
       "       9.90000000e+01, 6.24000000e-01, 9.50000000e+01, 8.50000000e-03,\n",
       "       2.92000000e-01, 5.50000000e+01, 8.00000000e+01, 4.40000000e+00,\n",
       "       3.60000000e+01, 3.00000000e+00, 1.70000000e+00, 4.60000000e+00,\n",
       "       7.70000000e+00, 7.40000000e+01, 9.70000000e+01, 9.80000000e+01,\n",
       "       7.80000000e+01, 8.50000000e+01, 6.30000000e+01, 7.00000000e+01,\n",
       "       7.10000000e+01, 4.90000000e+01, 8.20000000e+01, 5.70000000e+01,\n",
       "       8.60000000e+01, 8.10000000e+01, 9.60000000e+01, 9.30000000e+01,\n",
       "       8.30000000e+01, 5.40000000e+01, 6.10000000e+01, 7.50000000e+01,\n",
       "       5.10000000e+01, 9.10000000e+01, 1.60000000e+00, 4.70000000e+01,\n",
       "       6.40000000e+00, 3.40000000e+01, 2.00000000e+00, 1.50000000e+00,\n",
       "       6.20000000e+01, 4.10000000e+00, 9.30000000e+00, 9.70000000e+00,\n",
       "       8.70000000e+00, 9.80000000e+00, 6.00000000e+00, 6.50000000e+00,\n",
       "       8.80000000e+01, 7.60000000e+00, 5.80000000e+00, 1.30000000e+00,\n",
       "       9.90000000e+00, 3.50000000e+00, 5.40000000e+00, 8.53000000e-01,\n",
       "       7.20000000e-01, 3.40000000e+00, 6.30000000e+00, 9.20000000e+01,\n",
       "       9.40000000e+01])"
      ]
     },
     "execution_count": 373,
     "metadata": {},
     "output_type": "execute_result"
    }
   ],
   "source": [
    "# new size uniques (numeric, and no nans)\n",
    "data_merged['Size'].unique()"
   ]
  },
  {
   "cell_type": "code",
   "execution_count": 378,
   "metadata": {},
   "outputs": [
    {
     "data": {
      "text/plain": [
       "count    122662.000000\n",
       "mean         34.687861\n",
       "std          21.525494\n",
       "min           0.008500\n",
       "25%          19.000000\n",
       "50%          34.687861\n",
       "75%          35.000000\n",
       "max          99.000000\n",
       "Name: Size, dtype: float64"
      ]
     },
     "execution_count": 378,
     "metadata": {},
     "output_type": "execute_result"
    }
   ],
   "source": [
    "# new size describe without the nan (mean previously was # mean 34.68 and median 25)\n",
    "data_merged['Size'].describe()\n",
    "# wo the nan , the mean is 34 and median 34"
   ]
  },
  {
   "cell_type": "code",
   "execution_count": 379,
   "metadata": {},
   "outputs": [
    {
     "data": {
      "text/plain": [
       "0"
      ]
     },
     "execution_count": 379,
     "metadata": {},
     "output_type": "execute_result"
    }
   ],
   "source": [
    "data_merged['Size'].isna().sum()"
   ]
  },
  {
   "cell_type": "code",
   "execution_count": 380,
   "metadata": {},
   "outputs": [
    {
     "data": {
      "text/plain": [
       "Text(0.5, 1.0, 'Apps by size')"
      ]
     },
     "execution_count": 380,
     "metadata": {},
     "output_type": "execute_result"
    },
    {
     "data": {
      "image/png": "[encoded data removed]",
      "text/plain": [
       "<Figure size 432x288 with 1 Axes>"
      ]
     },
     "metadata": {
      "needs_background": "light"
     },
     "output_type": "display_data"
    }
   ],
   "source": [
    "# outliers for installs\n",
    "#vizualisation distribution of number of Size values\n",
    "_=sns.boxplot(data_merged['Size'])\n",
    "plt.title(\"Apps by size\")"
   ]
  },
  {
   "cell_type": "code",
   "execution_count": 381,
   "metadata": {},
   "outputs": [],
   "source": [
    "# First sort size by increasing order\n",
    "#sorted(data_merged['Size'])"
   ]
  },
  {
   "cell_type": "code",
   "execution_count": 382,
   "metadata": {},
   "outputs": [],
   "source": [
    "# outliers in Size\n",
    "# Finding first quartile and third quartile\n",
    "#Q1, Q3= np.percentile(data_merged['Size'],[25,75])\n",
    "#print(\"q1: \",Q1)\n",
    "#print(\"q3: \",Q3)\n",
    "# Find the IQR which is the difference between third and first quartile\n",
    "#IQR = Q3 - Q1\n",
    "#print(\"iqr: \",IQR)"
   ]
  },
  {
   "cell_type": "code",
   "execution_count": 383,
   "metadata": {},
   "outputs": [],
   "source": [
    "#lower_bound = Q1 -(1.5 * IQR) \n",
    "#upper_bound = Q3 +(1.5 * IQR) \n",
    "#print(\"upper_bound: \",upper_bound)\n",
    "#print(\"lower_bound: \",lower_bound)"
   ]
  },
  {
   "cell_type": "code",
   "execution_count": 384,
   "metadata": {},
   "outputs": [],
   "source": [
    "# remove the  outliers\n",
    "#data_merged['Size'] = data_merged['Size'][~((data_merged['Size'] < (Q1 - 1.5 * IQR)) |(data_merged['Size'] > (Q3 + 1.5 * IQR)))]"
   ]
  },
  {
   "cell_type": "code",
   "execution_count": null,
   "metadata": {},
   "outputs": [],
   "source": []
  },
  {
   "cell_type": "code",
   "execution_count": 385,
   "metadata": {},
   "outputs": [],
   "source": [
    "# boxplot of 'Size' without outliers in Megabytes\n",
    "#_=sns.boxplot(data_merged['Size'])\n",
    "#plt.title(\"Size by app\")\n",
    "#data_merged['Size'].describe()"
   ]
  },
  {
   "cell_type": "code",
   "execution_count": null,
   "metadata": {},
   "outputs": [],
   "source": []
  },
  {
   "cell_type": "code",
   "execution_count": 386,
   "metadata": {},
   "outputs": [],
   "source": [
    "## Feature Price "
   ]
  },
  {
   "cell_type": "code",
   "execution_count": 387,
   "metadata": {},
   "outputs": [
    {
     "data": {
      "text/plain": [
       "array([ 0.  ,  6.99,  1.99,  4.99,  3.99,  2.99, 11.99,  9.99,  7.99,\n",
       "       33.99,  3.95, 29.99,  2.49,  0.99])"
      ]
     },
     "execution_count": 387,
     "metadata": {},
     "output_type": "execute_result"
    }
   ],
   "source": [
    "data_merged['Price'].unique()"
   ]
  },
  {
   "cell_type": "code",
   "execution_count": 388,
   "metadata": {},
   "outputs": [
    {
     "ename": "AttributeError",
     "evalue": "Can only use .str accessor with string values, which use np.object_ dtype in pandas",
     "output_type": "error",
     "traceback": [
      "\u001b[0;31m---------------------------------------------------------------------------\u001b[0m",
      "\u001b[0;31mAttributeError\u001b[0m                            Traceback (most recent call last)",
      "\u001b[0;32m<ipython-input-388-124ce2a1c8a2>\u001b[0m in \u001b[0;36m<module>\u001b[0;34m\u001b[0m\n\u001b[1;32m      1\u001b[0m \u001b[0;31m# remove dollar from Price and store it in Price2\u001b[0m\u001b[0;34m\u001b[0m\u001b[0;34m\u001b[0m\u001b[0;34m\u001b[0m\u001b[0m\n\u001b[0;32m----> 2\u001b[0;31m \u001b[0mdata_merged\u001b[0m\u001b[0;34m[\u001b[0m\u001b[0;34m'Price'\u001b[0m\u001b[0;34m]\u001b[0m\u001b[0;34m=\u001b[0m \u001b[0mdata_merged\u001b[0m\u001b[0;34m[\u001b[0m\u001b[0;34m'Price'\u001b[0m\u001b[0;34m]\u001b[0m\u001b[0;34m.\u001b[0m\u001b[0mstr\u001b[0m\u001b[0;34m.\u001b[0m\u001b[0mreplace\u001b[0m\u001b[0;34m(\u001b[0m\u001b[0;34m\"$\"\u001b[0m\u001b[0;34m,\u001b[0m\u001b[0;34m\"\"\u001b[0m\u001b[0;34m)\u001b[0m\u001b[0;34m\u001b[0m\u001b[0;34m\u001b[0m\u001b[0m\n\u001b[0m",
      "\u001b[0;32m/Applications/anaconda3/lib/python3.7/site-packages/pandas/core/generic.py\u001b[0m in \u001b[0;36m__getattr__\u001b[0;34m(self, name)\u001b[0m\n\u001b[1;32m   5061\u001b[0m         if (name in self._internal_names_set or name in self._metadata or\n\u001b[1;32m   5062\u001b[0m                 name in self._accessors):\n\u001b[0;32m-> 5063\u001b[0;31m             \u001b[0;32mreturn\u001b[0m \u001b[0mobject\u001b[0m\u001b[0;34m.\u001b[0m\u001b[0m__getattribute__\u001b[0m\u001b[0;34m(\u001b[0m\u001b[0mself\u001b[0m\u001b[0;34m,\u001b[0m \u001b[0mname\u001b[0m\u001b[0;34m)\u001b[0m\u001b[0;34m\u001b[0m\u001b[0;34m\u001b[0m\u001b[0m\n\u001b[0m\u001b[1;32m   5064\u001b[0m         \u001b[0;32melse\u001b[0m\u001b[0;34m:\u001b[0m\u001b[0;34m\u001b[0m\u001b[0;34m\u001b[0m\u001b[0m\n\u001b[1;32m   5065\u001b[0m             \u001b[0;32mif\u001b[0m \u001b[0mself\u001b[0m\u001b[0;34m.\u001b[0m\u001b[0m_info_axis\u001b[0m\u001b[0;34m.\u001b[0m\u001b[0m_can_hold_identifiers_and_holds_name\u001b[0m\u001b[0;34m(\u001b[0m\u001b[0mname\u001b[0m\u001b[0;34m)\u001b[0m\u001b[0;34m:\u001b[0m\u001b[0;34m\u001b[0m\u001b[0;34m\u001b[0m\u001b[0m\n",
      "\u001b[0;32m/Applications/anaconda3/lib/python3.7/site-packages/pandas/core/accessor.py\u001b[0m in \u001b[0;36m__get__\u001b[0;34m(self, obj, cls)\u001b[0m\n\u001b[1;32m    169\u001b[0m             \u001b[0;31m# we're accessing the attribute of the class, i.e., Dataset.geo\u001b[0m\u001b[0;34m\u001b[0m\u001b[0;34m\u001b[0m\u001b[0;34m\u001b[0m\u001b[0m\n\u001b[1;32m    170\u001b[0m             \u001b[0;32mreturn\u001b[0m \u001b[0mself\u001b[0m\u001b[0;34m.\u001b[0m\u001b[0m_accessor\u001b[0m\u001b[0;34m\u001b[0m\u001b[0;34m\u001b[0m\u001b[0m\n\u001b[0;32m--> 171\u001b[0;31m         \u001b[0maccessor_obj\u001b[0m \u001b[0;34m=\u001b[0m \u001b[0mself\u001b[0m\u001b[0;34m.\u001b[0m\u001b[0m_accessor\u001b[0m\u001b[0;34m(\u001b[0m\u001b[0mobj\u001b[0m\u001b[0;34m)\u001b[0m\u001b[0;34m\u001b[0m\u001b[0;34m\u001b[0m\u001b[0m\n\u001b[0m\u001b[1;32m    172\u001b[0m         \u001b[0;31m# Replace the property with the accessor object. Inspired by:\u001b[0m\u001b[0;34m\u001b[0m\u001b[0;34m\u001b[0m\u001b[0;34m\u001b[0m\u001b[0m\n\u001b[1;32m    173\u001b[0m         \u001b[0;31m# http://www.pydanny.com/cached-property.html\u001b[0m\u001b[0;34m\u001b[0m\u001b[0;34m\u001b[0m\u001b[0;34m\u001b[0m\u001b[0m\n",
      "\u001b[0;32m/Applications/anaconda3/lib/python3.7/site-packages/pandas/core/strings.py\u001b[0m in \u001b[0;36m__init__\u001b[0;34m(self, data)\u001b[0m\n\u001b[1;32m   1794\u001b[0m \u001b[0;34m\u001b[0m\u001b[0m\n\u001b[1;32m   1795\u001b[0m     \u001b[0;32mdef\u001b[0m \u001b[0m__init__\u001b[0m\u001b[0;34m(\u001b[0m\u001b[0mself\u001b[0m\u001b[0;34m,\u001b[0m \u001b[0mdata\u001b[0m\u001b[0;34m)\u001b[0m\u001b[0;34m:\u001b[0m\u001b[0;34m\u001b[0m\u001b[0;34m\u001b[0m\u001b[0m\n\u001b[0;32m-> 1796\u001b[0;31m         \u001b[0mself\u001b[0m\u001b[0;34m.\u001b[0m\u001b[0m_validate\u001b[0m\u001b[0;34m(\u001b[0m\u001b[0mdata\u001b[0m\u001b[0;34m)\u001b[0m\u001b[0;34m\u001b[0m\u001b[0;34m\u001b[0m\u001b[0m\n\u001b[0m\u001b[1;32m   1797\u001b[0m         \u001b[0mself\u001b[0m\u001b[0;34m.\u001b[0m\u001b[0m_is_categorical\u001b[0m \u001b[0;34m=\u001b[0m \u001b[0mis_categorical_dtype\u001b[0m\u001b[0;34m(\u001b[0m\u001b[0mdata\u001b[0m\u001b[0;34m)\u001b[0m\u001b[0;34m\u001b[0m\u001b[0;34m\u001b[0m\u001b[0m\n\u001b[1;32m   1798\u001b[0m \u001b[0;34m\u001b[0m\u001b[0m\n",
      "\u001b[0;32m/Applications/anaconda3/lib/python3.7/site-packages/pandas/core/strings.py\u001b[0m in \u001b[0;36m_validate\u001b[0;34m(data)\u001b[0m\n\u001b[1;32m   1816\u001b[0m             \u001b[0;31m# (instead of test for object dtype), but that isn't practical for\u001b[0m\u001b[0;34m\u001b[0m\u001b[0;34m\u001b[0m\u001b[0;34m\u001b[0m\u001b[0m\n\u001b[1;32m   1817\u001b[0m             \u001b[0;31m# performance reasons until we have a str dtype (GH 9343)\u001b[0m\u001b[0;34m\u001b[0m\u001b[0;34m\u001b[0m\u001b[0;34m\u001b[0m\u001b[0m\n\u001b[0;32m-> 1818\u001b[0;31m             raise AttributeError(\"Can only use .str accessor with string \"\n\u001b[0m\u001b[1;32m   1819\u001b[0m                                  \u001b[0;34m\"values, which use np.object_ dtype in \"\u001b[0m\u001b[0;34m\u001b[0m\u001b[0;34m\u001b[0m\u001b[0m\n\u001b[1;32m   1820\u001b[0m                                  \"pandas\")\n",
      "\u001b[0;31mAttributeError\u001b[0m: Can only use .str accessor with string values, which use np.object_ dtype in pandas"
     ]
    }
   ],
   "source": [
    "# remove dollar from Price and store it in Price2\n",
    "data_merged['Price']= data_merged['Price'].str.replace(\"$\",\"\")"
   ]
  },
  {
   "cell_type": "code",
   "execution_count": 389,
   "metadata": {},
   "outputs": [
    {
     "data": {
      "text/plain": [
       "array([ 0.  ,  6.99,  1.99,  4.99,  3.99,  2.99, 11.99,  9.99,  7.99,\n",
       "       33.99,  3.95, 29.99,  2.49,  0.99])"
      ]
     },
     "execution_count": 389,
     "metadata": {},
     "output_type": "execute_result"
    }
   ],
   "source": [
    "data_merged['Price'].unique()"
   ]
  },
  {
   "cell_type": "code",
   "execution_count": 390,
   "metadata": {},
   "outputs": [
    {
     "data": {
      "text/plain": [
       "0"
      ]
     },
     "execution_count": 390,
     "metadata": {},
     "output_type": "execute_result"
    }
   ],
   "source": [
    "data_merged['Price'].isna().sum()"
   ]
  },
  {
   "cell_type": "code",
   "execution_count": 391,
   "metadata": {},
   "outputs": [],
   "source": [
    "# in order to know how to replace the NaN\n",
    "# we need to look at the distribution of the non nulls to decide how to deal\n",
    "# with the nan, replace by zero or by the mean/median?"
   ]
  },
  {
   "cell_type": "code",
   "execution_count": 392,
   "metadata": {},
   "outputs": [],
   "source": [
    "data_merged['Price'] = data_merged['Price'].astype(float)"
   ]
  },
  {
   "cell_type": "code",
   "execution_count": 393,
   "metadata": {},
   "outputs": [],
   "source": [
    "# visualise non nulls in a graph to decide \n",
    "#select those rows that have a null value in the column Size\n",
    "isnull_condition = (data_merged['Price'].isna())"
   ]
  },
  {
   "cell_type": "code",
   "execution_count": 394,
   "metadata": {},
   "outputs": [
    {
     "data": {
      "image/png": "[encoded data removed]",
      "text/plain": [
       "<Figure size 432x288 with 1 Axes>"
      ]
     },
     "metadata": {
      "needs_background": "light"
     },
     "output_type": "display_data"
    }
   ],
   "source": [
    "non_null_rating = data_merged[~isnull_condition]['Price']\n",
    "#vizualisation distribution of NON NULLs of Size values\n",
    "_=sns.distplot(non_null_rating)\n",
    "plt.title(\"Apps by price\")\n",
    "plt.grid(True)\n",
    "plt.tight_layout()"
   ]
  },
  {
   "cell_type": "code",
   "execution_count": 395,
   "metadata": {},
   "outputs": [],
   "source": [
    "# most apps are free so , change nan to zero\n"
   ]
  },
  {
   "cell_type": "code",
   "execution_count": null,
   "metadata": {},
   "outputs": [],
   "source": []
  },
  {
   "cell_type": "code",
   "execution_count": 396,
   "metadata": {},
   "outputs": [],
   "source": [
    "# store it into Price\n",
    "data_merged['Price']=data_merged['Price'].fillna(0)\n"
   ]
  },
  {
   "cell_type": "code",
   "execution_count": 397,
   "metadata": {},
   "outputs": [
    {
     "data": {
      "text/plain": [
       "count    122662.000000\n",
       "mean          0.128265\n",
       "std           1.563680\n",
       "min           0.000000\n",
       "25%           0.000000\n",
       "50%           0.000000\n",
       "75%           0.000000\n",
       "max          33.990000\n",
       "Name: Price, dtype: float64"
      ]
     },
     "execution_count": 397,
     "metadata": {},
     "output_type": "execute_result"
    }
   ],
   "source": [
    "data_merged['Price'].describe()"
   ]
  },
  {
   "cell_type": "code",
   "execution_count": 398,
   "metadata": {},
   "outputs": [
    {
     "data": {
      "text/plain": [
       "Text(0.5, 1.0, 'Price by app')"
      ]
     },
     "execution_count": 398,
     "metadata": {},
     "output_type": "execute_result"
    },
    {
     "data": {
      "image/png": "[encoded data removed]",
      "text/plain": [
       "<Figure size 432x288 with 1 Axes>"
      ]
     },
     "metadata": {
      "needs_background": "light"
     },
     "output_type": "display_data"
    }
   ],
   "source": [
    "# boxplot of 'Size' without outliers\n",
    "_=sns.boxplot(data_merged['Price'])\n",
    "plt.title(\"Price by app\")"
   ]
  },
  {
   "cell_type": "code",
   "execution_count": 399,
   "metadata": {},
   "outputs": [
    {
     "data": {
      "text/plain": [
       "0"
      ]
     },
     "execution_count": 399,
     "metadata": {},
     "output_type": "execute_result"
    }
   ],
   "source": [
    "data_merged['Price'].isna().sum()"
   ]
  },
  {
   "cell_type": "code",
   "execution_count": 400,
   "metadata": {},
   "outputs": [
    {
     "data": {
      "text/plain": [
       "dtype('float64')"
      ]
     },
     "execution_count": 400,
     "metadata": {},
     "output_type": "execute_result"
    }
   ],
   "source": [
    "data_merged['Price'].dtypes"
   ]
  },
  {
   "cell_type": "code",
   "execution_count": 401,
   "metadata": {},
   "outputs": [
    {
     "data": {
      "text/plain": [
       "array([ 0.  ,  6.99,  1.99,  4.99,  3.99,  2.99, 11.99,  9.99,  7.99,\n",
       "       33.99,  3.95, 29.99,  2.49,  0.99])"
      ]
     },
     "execution_count": 401,
     "metadata": {},
     "output_type": "execute_result"
    }
   ],
   "source": [
    "data_merged['Price'].unique()"
   ]
  },
  {
   "cell_type": "code",
   "execution_count": null,
   "metadata": {},
   "outputs": [],
   "source": []
  },
  {
   "cell_type": "code",
   "execution_count": 402,
   "metadata": {},
   "outputs": [],
   "source": [
    "##  Feature reviews: means number of reviews per app"
   ]
  },
  {
   "cell_type": "code",
   "execution_count": 403,
   "metadata": {},
   "outputs": [
    {
     "data": {
      "text/plain": [
       "array([    967,     974,   13791, ...,  179139, 1275373,  223941])"
      ]
     },
     "execution_count": 403,
     "metadata": {},
     "output_type": "execute_result"
    }
   ],
   "source": [
    "# Reviews\n",
    "data_merged['Reviews'].unique()"
   ]
  },
  {
   "cell_type": "code",
   "execution_count": 404,
   "metadata": {},
   "outputs": [
    {
     "data": {
      "text/plain": [
       "1330"
      ]
     },
     "execution_count": 404,
     "metadata": {},
     "output_type": "execute_result"
    }
   ],
   "source": [
    "len(data_merged['Reviews'].unique())"
   ]
  },
  {
   "cell_type": "code",
   "execution_count": 405,
   "metadata": {},
   "outputs": [
    {
     "data": {
      "text/plain": [
       "dtype('int64')"
      ]
     },
     "execution_count": 405,
     "metadata": {},
     "output_type": "execute_result"
    }
   ],
   "source": [
    "data_merged['Reviews'].dtypes"
   ]
  },
  {
   "cell_type": "code",
   "execution_count": 406,
   "metadata": {},
   "outputs": [
    {
     "data": {
      "text/plain": [
       "count    1.226620e+05\n",
       "mean     2.243249e+06\n",
       "std      6.324819e+06\n",
       "min      1.000000e+01\n",
       "25%      2.752400e+04\n",
       "50%      1.598720e+05\n",
       "75%      1.500999e+06\n",
       "max      7.815831e+07\n",
       "Name: Reviews, dtype: float64"
      ]
     },
     "execution_count": 406,
     "metadata": {},
     "output_type": "execute_result"
    }
   ],
   "source": [
    "data_merged['Reviews'].describe()"
   ]
  },
  {
   "cell_type": "code",
   "execution_count": 407,
   "metadata": {},
   "outputs": [
    {
     "name": "stdout",
     "output_type": "stream",
     "text": [
      "range number of reviews:  10 - 78158306\n"
     ]
    }
   ],
   "source": [
    "print(\"range number of reviews: \", data_merged['Reviews'].min(),\"-\",data_merged['Reviews'].max())"
   ]
  },
  {
   "cell_type": "code",
   "execution_count": 408,
   "metadata": {},
   "outputs": [
    {
     "data": {
      "text/plain": [
       "<matplotlib.axes._subplots.AxesSubplot at 0x1a29033f60>"
      ]
     },
     "execution_count": 408,
     "metadata": {},
     "output_type": "execute_result"
    },
    {
     "data": {
      "image/png": "[encoded data removed]",
      "text/plain": [
       "<Figure size 864x576 with 1 Axes>"
      ]
     },
     "metadata": {
      "needs_background": "light"
     },
     "output_type": "display_data"
    }
   ],
   "source": [
    "_=plt.figure(figsize=(12,8))\n",
    "sns.distplot(data_merged['Reviews'], bins=10 )"
   ]
  },
  {
   "cell_type": "code",
   "execution_count": 409,
   "metadata": {},
   "outputs": [
    {
     "data": {
      "text/plain": [
       "Text(0.5, 1.0, 'Number of reviews')"
      ]
     },
     "execution_count": 409,
     "metadata": {},
     "output_type": "execute_result"
    },
    {
     "data": {
      "image/png": "[encoded data removed]",
      "text/plain": [
       "<Figure size 432x288 with 1 Axes>"
      ]
     },
     "metadata": {
      "needs_background": "light"
     },
     "output_type": "display_data"
    }
   ],
   "source": [
    "#vizualisation distribution of number of reviews values\n",
    "_=sns.boxplot(data_merged['Reviews'])\n",
    "plt.title(\"Number of reviews\")"
   ]
  },
  {
   "cell_type": "code",
   "execution_count": 410,
   "metadata": {},
   "outputs": [],
   "source": [
    "# remove outliers"
   ]
  },
  {
   "cell_type": "code",
   "execution_count": 411,
   "metadata": {},
   "outputs": [
    {
     "data": {
      "text/plain": [
       "[10,\n",
       " 10,\n",
       " 10,\n",
       " 10,\n",
       " 10,\n",
       " 10,\n",
       " 10,\n",
       " 10,\n",
       " 10,\n",
       " 10,\n",
       " 10,\n",
       " 10,\n",
       " 10,\n",
       " 10,\n",
       " 10,\n",
       " 10,\n",
       " 10,\n",
       " 10,\n",
       " 10,\n",
       " 10,\n",
       " 10,\n",
       " 10,\n",
       " 10,\n",
       " 10,\n",
       " 10,\n",
       " 10,\n",
       " 10,\n",
       " 10,\n",
       " 10,\n",
       " 10,\n",
       " 10,\n",
       " 10,\n",
       " 10,\n",
       " 10,\n",
       " 10,\n",
       " 10,\n",
       " 10,\n",
       " 10,\n",
       " 10,\n",
       " 10,\n",
       " 46,\n",
       " 46,\n",
       " 46,\n",
       " 46,\n",
       " 46,\n",
       " 46,\n",
       " 46,\n",
       " 46,\n",
       " 46,\n",
       " 46,\n",
       " 46,\n",
       " 46,\n",
       " 46,\n",
       " 46,\n",
       " 46,\n",
       " 46,\n",
       " 46,\n",
       " 46,\n",
       " 46,\n",
       " 46,\n",
       " 46,\n",
       " 46,\n",
       " 46,\n",
       " 46,\n",
       " 46,\n",
       " 46,\n",
       " 46,\n",
       " 46,\n",
       " 46,\n",
       " 46,\n",
       " 46,\n",
       " 46,\n",
       " 46,\n",
       " 46,\n",
       " 46,\n",
       " 46,\n",
       " 46,\n",
       " 46,\n",
       " 46,\n",
       " 46,\n",
       " 57,\n",
       " 57,\n",
       " 57,\n",
       " 57,\n",
       " 57,\n",
       " 57,\n",
       " 57,\n",
       " 57,\n",
       " 57,\n",
       " 57,\n",
       " 57,\n",
       " 57,\n",
       " 57,\n",
       " 57,\n",
       " 57,\n",
       " 57,\n",
       " 57,\n",
       " 57,\n",
       " 57,\n",
       " 57,\n",
       " 57,\n",
       " 57,\n",
       " 57,\n",
       " 57,\n",
       " 57,\n",
       " 57,\n",
       " 57,\n",
       " 57,\n",
       " 57,\n",
       " 57,\n",
       " 57,\n",
       " 57,\n",
       " 57,\n",
       " 57,\n",
       " 57,\n",
       " 57,\n",
       " 57,\n",
       " 57,\n",
       " 57,\n",
       " 57,\n",
       " 110,\n",
       " 110,\n",
       " 110,\n",
       " 110,\n",
       " 110,\n",
       " 110,\n",
       " 110,\n",
       " 110,\n",
       " 110,\n",
       " 110,\n",
       " 110,\n",
       " 110,\n",
       " 110,\n",
       " 110,\n",
       " 110,\n",
       " 110,\n",
       " 110,\n",
       " 110,\n",
       " 110,\n",
       " 110,\n",
       " 110,\n",
       " 110,\n",
       " 110,\n",
       " 110,\n",
       " 110,\n",
       " 110,\n",
       " 110,\n",
       " 110,\n",
       " 110,\n",
       " 110,\n",
       " 110,\n",
       " 110,\n",
       " 110,\n",
       " 110,\n",
       " 110,\n",
       " 110,\n",
       " 110,\n",
       " 110,\n",
       " 110,\n",
       " 110,\n",
       " 110,\n",
       " 110,\n",
       " 110,\n",
       " 110,\n",
       " 110,\n",
       " 110,\n",
       " 110,\n",
       " 110,\n",
       " 110,\n",
       " 110,\n",
       " 110,\n",
       " 110,\n",
       " 110,\n",
       " 110,\n",
       " 110,\n",
       " 110,\n",
       " 110,\n",
       " 110,\n",
       " 110,\n",
       " 110,\n",
       " 110,\n",
       " 110,\n",
       " 110,\n",
       " 110,\n",
       " 110,\n",
       " 110,\n",
       " 110,\n",
       " 110,\n",
       " 110,\n",
       " 110,\n",
       " 110,\n",
       " 110,\n",
       " 110,\n",
       " 110,\n",
       " 110,\n",
       " 110,\n",
       " 110,\n",
       " 110,\n",
       " 110,\n",
       " 110,\n",
       " 110,\n",
       " 110,\n",
       " 110,\n",
       " 110,\n",
       " 110,\n",
       " 110,\n",
       " 110,\n",
       " 110,\n",
       " 110,\n",
       " 110,\n",
       " 110,\n",
       " 110,\n",
       " 110,\n",
       " 110,\n",
       " 110,\n",
       " 110,\n",
       " 110,\n",
       " 110,\n",
       " 110,\n",
       " 110,\n",
       " 110,\n",
       " 110,\n",
       " 110,\n",
       " 110,\n",
       " 110,\n",
       " 110,\n",
       " 110,\n",
       " 110,\n",
       " 110,\n",
       " 110,\n",
       " 110,\n",
       " 110,\n",
       " 110,\n",
       " 110,\n",
       " 110,\n",
       " 110,\n",
       " 114,\n",
       " 114,\n",
       " 114,\n",
       " 114,\n",
       " 114,\n",
       " 114,\n",
       " 114,\n",
       " 114,\n",
       " 114,\n",
       " 114,\n",
       " 114,\n",
       " 114,\n",
       " 114,\n",
       " 114,\n",
       " 114,\n",
       " 114,\n",
       " 114,\n",
       " 114,\n",
       " 114,\n",
       " 114,\n",
       " 114,\n",
       " 114,\n",
       " 114,\n",
       " 114,\n",
       " 114,\n",
       " 114,\n",
       " 114,\n",
       " 114,\n",
       " 114,\n",
       " 114,\n",
       " 114,\n",
       " 114,\n",
       " 114,\n",
       " 114,\n",
       " 114,\n",
       " 114,\n",
       " 114,\n",
       " 114,\n",
       " 114,\n",
       " 114,\n",
       " 117,\n",
       " 117,\n",
       " 117,\n",
       " 117,\n",
       " 117,\n",
       " 117,\n",
       " 117,\n",
       " 117,\n",
       " 117,\n",
       " 117,\n",
       " 117,\n",
       " 117,\n",
       " 117,\n",
       " 117,\n",
       " 117,\n",
       " 117,\n",
       " 117,\n",
       " 117,\n",
       " 117,\n",
       " 117,\n",
       " 117,\n",
       " 117,\n",
       " 117,\n",
       " 117,\n",
       " 117,\n",
       " 117,\n",
       " 117,\n",
       " 117,\n",
       " 117,\n",
       " 117,\n",
       " 123,\n",
       " 123,\n",
       " 123,\n",
       " 123,\n",
       " 123,\n",
       " 123,\n",
       " 123,\n",
       " 123,\n",
       " 123,\n",
       " 123,\n",
       " 123,\n",
       " 123,\n",
       " 123,\n",
       " 123,\n",
       " 123,\n",
       " 123,\n",
       " 123,\n",
       " 123,\n",
       " 123,\n",
       " 123,\n",
       " 123,\n",
       " 123,\n",
       " 123,\n",
       " 123,\n",
       " 123,\n",
       " 123,\n",
       " 123,\n",
       " 123,\n",
       " 123,\n",
       " 123,\n",
       " 123,\n",
       " 123,\n",
       " 123,\n",
       " 123,\n",
       " 123,\n",
       " 123,\n",
       " 123,\n",
       " 123,\n",
       " 123,\n",
       " 123,\n",
       " 123,\n",
       " 123,\n",
       " 123,\n",
       " 123,\n",
       " 123,\n",
       " 123,\n",
       " 123,\n",
       " 123,\n",
       " 123,\n",
       " 123,\n",
       " 123,\n",
       " 123,\n",
       " 123,\n",
       " 123,\n",
       " 123,\n",
       " 123,\n",
       " 123,\n",
       " 123,\n",
       " 123,\n",
       " 123,\n",
       " 123,\n",
       " 123,\n",
       " 123,\n",
       " 123,\n",
       " 123,\n",
       " 123,\n",
       " 123,\n",
       " 123,\n",
       " 123,\n",
       " 123,\n",
       " 123,\n",
       " 123,\n",
       " 123,\n",
       " 123,\n",
       " 123,\n",
       " 123,\n",
       " 123,\n",
       " 123,\n",
       " 123,\n",
       " 123,\n",
       " 156,\n",
       " 156,\n",
       " 156,\n",
       " 156,\n",
       " 156,\n",
       " 156,\n",
       " 156,\n",
       " 156,\n",
       " 156,\n",
       " 156,\n",
       " 156,\n",
       " 156,\n",
       " 156,\n",
       " 156,\n",
       " 156,\n",
       " 156,\n",
       " 156,\n",
       " 156,\n",
       " 156,\n",
       " 156,\n",
       " 156,\n",
       " 156,\n",
       " 156,\n",
       " 156,\n",
       " 156,\n",
       " 156,\n",
       " 156,\n",
       " 156,\n",
       " 156,\n",
       " 156,\n",
       " 156,\n",
       " 156,\n",
       " 158,\n",
       " 158,\n",
       " 158,\n",
       " 158,\n",
       " 158,\n",
       " 158,\n",
       " 158,\n",
       " 158,\n",
       " 158,\n",
       " 158,\n",
       " 158,\n",
       " 158,\n",
       " 158,\n",
       " 158,\n",
       " 158,\n",
       " 158,\n",
       " 158,\n",
       " 158,\n",
       " 158,\n",
       " 158,\n",
       " 158,\n",
       " 158,\n",
       " 158,\n",
       " 158,\n",
       " 158,\n",
       " 158,\n",
       " 158,\n",
       " 158,\n",
       " 158,\n",
       " 158,\n",
       " 158,\n",
       " 158,\n",
       " 158,\n",
       " 158,\n",
       " 158,\n",
       " 158,\n",
       " 158,\n",
       " 158,\n",
       " 158,\n",
       " 158,\n",
       " 163,\n",
       " 163,\n",
       " 163,\n",
       " 163,\n",
       " 163,\n",
       " 163,\n",
       " 163,\n",
       " 163,\n",
       " 163,\n",
       " 163,\n",
       " 163,\n",
       " 163,\n",
       " 163,\n",
       " 163,\n",
       " 163,\n",
       " 163,\n",
       " 163,\n",
       " 163,\n",
       " 163,\n",
       " 163,\n",
       " 163,\n",
       " 163,\n",
       " 163,\n",
       " 163,\n",
       " 163,\n",
       " 163,\n",
       " 163,\n",
       " 163,\n",
       " 163,\n",
       " 163,\n",
       " 163,\n",
       " 163,\n",
       " 163,\n",
       " 163,\n",
       " 163,\n",
       " 163,\n",
       " 163,\n",
       " 163,\n",
       " 163,\n",
       " 163,\n",
       " 174,\n",
       " 174,\n",
       " 174,\n",
       " 174,\n",
       " 174,\n",
       " 174,\n",
       " 174,\n",
       " 174,\n",
       " 174,\n",
       " 174,\n",
       " 174,\n",
       " 174,\n",
       " 174,\n",
       " 174,\n",
       " 174,\n",
       " 174,\n",
       " 174,\n",
       " 174,\n",
       " 174,\n",
       " 174,\n",
       " 174,\n",
       " 174,\n",
       " 174,\n",
       " 174,\n",
       " 174,\n",
       " 174,\n",
       " 174,\n",
       " 174,\n",
       " 174,\n",
       " 174,\n",
       " 174,\n",
       " 174,\n",
       " 174,\n",
       " 174,\n",
       " 174,\n",
       " 174,\n",
       " 174,\n",
       " 174,\n",
       " 174,\n",
       " 174,\n",
       " 174,\n",
       " 174,\n",
       " 174,\n",
       " 174,\n",
       " 174,\n",
       " 174,\n",
       " 174,\n",
       " 174,\n",
       " 174,\n",
       " 174,\n",
       " 174,\n",
       " 174,\n",
       " 174,\n",
       " 174,\n",
       " 174,\n",
       " 174,\n",
       " 174,\n",
       " 174,\n",
       " 174,\n",
       " 174,\n",
       " 174,\n",
       " 174,\n",
       " 174,\n",
       " 174,\n",
       " 174,\n",
       " 174,\n",
       " 174,\n",
       " 174,\n",
       " 174,\n",
       " 190,\n",
       " 190,\n",
       " 190,\n",
       " 190,\n",
       " 190,\n",
       " 190,\n",
       " 190,\n",
       " 190,\n",
       " 190,\n",
       " 190,\n",
       " 190,\n",
       " 190,\n",
       " 190,\n",
       " 190,\n",
       " 190,\n",
       " 190,\n",
       " 190,\n",
       " 190,\n",
       " 190,\n",
       " 190,\n",
       " 190,\n",
       " 190,\n",
       " 190,\n",
       " 190,\n",
       " 190,\n",
       " 190,\n",
       " 190,\n",
       " 190,\n",
       " 190,\n",
       " 190,\n",
       " 190,\n",
       " 190,\n",
       " 190,\n",
       " 190,\n",
       " 190,\n",
       " 190,\n",
       " 190,\n",
       " 190,\n",
       " 190,\n",
       " 190,\n",
       " 198,\n",
       " 198,\n",
       " 198,\n",
       " 198,\n",
       " 198,\n",
       " 198,\n",
       " 198,\n",
       " 198,\n",
       " 198,\n",
       " 198,\n",
       " 198,\n",
       " 198,\n",
       " 198,\n",
       " 198,\n",
       " 198,\n",
       " 198,\n",
       " 198,\n",
       " 198,\n",
       " 198,\n",
       " 198,\n",
       " 198,\n",
       " 198,\n",
       " 198,\n",
       " 198,\n",
       " 198,\n",
       " 198,\n",
       " 198,\n",
       " 198,\n",
       " 198,\n",
       " 198,\n",
       " 198,\n",
       " 198,\n",
       " 198,\n",
       " 198,\n",
       " 198,\n",
       " 198,\n",
       " 198,\n",
       " 198,\n",
       " 198,\n",
       " 198,\n",
       " 199,\n",
       " 199,\n",
       " 199,\n",
       " 199,\n",
       " 199,\n",
       " 199,\n",
       " 199,\n",
       " 199,\n",
       " 199,\n",
       " 199,\n",
       " 199,\n",
       " 199,\n",
       " 199,\n",
       " 199,\n",
       " 199,\n",
       " 199,\n",
       " 199,\n",
       " 199,\n",
       " 199,\n",
       " 199,\n",
       " 199,\n",
       " 199,\n",
       " 199,\n",
       " 199,\n",
       " 199,\n",
       " 199,\n",
       " 199,\n",
       " 199,\n",
       " 199,\n",
       " 199,\n",
       " 199,\n",
       " 199,\n",
       " 199,\n",
       " 199,\n",
       " 199,\n",
       " 199,\n",
       " 199,\n",
       " 199,\n",
       " 199,\n",
       " 199,\n",
       " 199,\n",
       " 199,\n",
       " 199,\n",
       " 199,\n",
       " 199,\n",
       " 199,\n",
       " 199,\n",
       " 199,\n",
       " 199,\n",
       " 199,\n",
       " 199,\n",
       " 199,\n",
       " 199,\n",
       " 199,\n",
       " 199,\n",
       " 199,\n",
       " 199,\n",
       " 199,\n",
       " 199,\n",
       " 199,\n",
       " 199,\n",
       " 199,\n",
       " 199,\n",
       " 199,\n",
       " 199,\n",
       " 199,\n",
       " 199,\n",
       " 199,\n",
       " 199,\n",
       " 199,\n",
       " 199,\n",
       " 199,\n",
       " 199,\n",
       " 199,\n",
       " 199,\n",
       " 199,\n",
       " 199,\n",
       " 199,\n",
       " 199,\n",
       " 199,\n",
       " 199,\n",
       " 199,\n",
       " 199,\n",
       " 199,\n",
       " 199,\n",
       " 199,\n",
       " 199,\n",
       " 199,\n",
       " 199,\n",
       " 199,\n",
       " 199,\n",
       " 199,\n",
       " 199,\n",
       " 199,\n",
       " 199,\n",
       " 199,\n",
       " 199,\n",
       " 199,\n",
       " 199,\n",
       " 199,\n",
       " 199,\n",
       " 199,\n",
       " 199,\n",
       " 199,\n",
       " 199,\n",
       " 199,\n",
       " 199,\n",
       " 199,\n",
       " 199,\n",
       " 199,\n",
       " 199,\n",
       " 199,\n",
       " 199,\n",
       " 199,\n",
       " 199,\n",
       " 199,\n",
       " 199,\n",
       " 199,\n",
       " 199,\n",
       " 199,\n",
       " 199,\n",
       " 199,\n",
       " 199,\n",
       " 199,\n",
       " 199,\n",
       " 199,\n",
       " 199,\n",
       " 199,\n",
       " 199,\n",
       " 199,\n",
       " 199,\n",
       " 199,\n",
       " 199,\n",
       " 199,\n",
       " 199,\n",
       " 199,\n",
       " 199,\n",
       " 199,\n",
       " 199,\n",
       " 199,\n",
       " 199,\n",
       " 199,\n",
       " 199,\n",
       " 199,\n",
       " 199,\n",
       " 199,\n",
       " 199,\n",
       " 199,\n",
       " 199,\n",
       " 199,\n",
       " 199,\n",
       " 199,\n",
       " 199,\n",
       " 199,\n",
       " 199,\n",
       " 199,\n",
       " 199,\n",
       " 199,\n",
       " 199,\n",
       " 199,\n",
       " 203,\n",
       " 203,\n",
       " 203,\n",
       " 203,\n",
       " 203,\n",
       " 203,\n",
       " 203,\n",
       " 203,\n",
       " 203,\n",
       " 203,\n",
       " 203,\n",
       " 203,\n",
       " 203,\n",
       " 203,\n",
       " 203,\n",
       " 203,\n",
       " 203,\n",
       " 203,\n",
       " 203,\n",
       " 203,\n",
       " 203,\n",
       " 203,\n",
       " 203,\n",
       " 203,\n",
       " 203,\n",
       " 203,\n",
       " 203,\n",
       " 203,\n",
       " 203,\n",
       " 203,\n",
       " 203,\n",
       " 203,\n",
       " 203,\n",
       " 203,\n",
       " 203,\n",
       " 203,\n",
       " 203,\n",
       " 203,\n",
       " 203,\n",
       " 203,\n",
       " 214,\n",
       " 214,\n",
       " 214,\n",
       " 214,\n",
       " 214,\n",
       " 214,\n",
       " 214,\n",
       " 214,\n",
       " 214,\n",
       " 214,\n",
       " 214,\n",
       " 214,\n",
       " 214,\n",
       " 214,\n",
       " 214,\n",
       " 214,\n",
       " 214,\n",
       " 214,\n",
       " 214,\n",
       " 214,\n",
       " 214,\n",
       " 214,\n",
       " 214,\n",
       " 214,\n",
       " 214,\n",
       " 214,\n",
       " 214,\n",
       " 214,\n",
       " 214,\n",
       " 214,\n",
       " 214,\n",
       " 214,\n",
       " 214,\n",
       " 214,\n",
       " 214,\n",
       " 214,\n",
       " 214,\n",
       " 214,\n",
       " 214,\n",
       " 214,\n",
       " 214,\n",
       " 214,\n",
       " 214,\n",
       " 214,\n",
       " 214,\n",
       " 214,\n",
       " 214,\n",
       " 214,\n",
       " 214,\n",
       " 214,\n",
       " 214,\n",
       " 214,\n",
       " 214,\n",
       " 214,\n",
       " 214,\n",
       " 214,\n",
       " 214,\n",
       " 214,\n",
       " 214,\n",
       " 214,\n",
       " 214,\n",
       " 214,\n",
       " 214,\n",
       " 214,\n",
       " 214,\n",
       " 214,\n",
       " 214,\n",
       " 214,\n",
       " 214,\n",
       " 214,\n",
       " 214,\n",
       " 214,\n",
       " 214,\n",
       " 214,\n",
       " 214,\n",
       " 214,\n",
       " 214,\n",
       " 214,\n",
       " 214,\n",
       " 214,\n",
       " 214,\n",
       " 214,\n",
       " 214,\n",
       " 214,\n",
       " 214,\n",
       " 214,\n",
       " 214,\n",
       " 214,\n",
       " 214,\n",
       " 214,\n",
       " 214,\n",
       " 214,\n",
       " 214,\n",
       " 214,\n",
       " 214,\n",
       " 214,\n",
       " 214,\n",
       " 214,\n",
       " 214,\n",
       " 214,\n",
       " 214,\n",
       " 214,\n",
       " 214,\n",
       " 214,\n",
       " 214,\n",
       " 214,\n",
       " 214,\n",
       " 214,\n",
       " 214,\n",
       " 214,\n",
       " 214,\n",
       " 214,\n",
       " 214,\n",
       " 214,\n",
       " 214,\n",
       " 214,\n",
       " 214,\n",
       " 214,\n",
       " 214,\n",
       " 214,\n",
       " 214,\n",
       " 214,\n",
       " 214,\n",
       " 214,\n",
       " 214,\n",
       " 214,\n",
       " 214,\n",
       " 214,\n",
       " 214,\n",
       " 214,\n",
       " 214,\n",
       " 214,\n",
       " 214,\n",
       " 214,\n",
       " 214,\n",
       " 214,\n",
       " 214,\n",
       " 214,\n",
       " 214,\n",
       " 214,\n",
       " 214,\n",
       " 214,\n",
       " 214,\n",
       " 214,\n",
       " 214,\n",
       " 214,\n",
       " 214,\n",
       " 214,\n",
       " 214,\n",
       " 214,\n",
       " 214,\n",
       " 214,\n",
       " 214,\n",
       " ...]"
      ]
     },
     "execution_count": 411,
     "metadata": {},
     "output_type": "execute_result"
    }
   ],
   "source": [
    "sorted(data_merged['Reviews'])"
   ]
  },
  {
   "cell_type": "code",
   "execution_count": 412,
   "metadata": {},
   "outputs": [],
   "source": [
    "############## there is a problem here"
   ]
  },
  {
   "cell_type": "code",
   "execution_count": 413,
   "metadata": {},
   "outputs": [],
   "source": [
    "# outliers in 'Reviews'\n",
    "# Finding first quartile and third quartile\n",
    "#Q1, Q3= np.percentile(data_merged['Reviews'],[25,75])\n",
    "#print(\"q1: \",Q1)\n",
    "#print(\"q3: \",Q3)\n"
   ]
  },
  {
   "cell_type": "code",
   "execution_count": 414,
   "metadata": {},
   "outputs": [],
   "source": [
    "# Find the IQR which is the difference between third and first quartile\n",
    "#IQR = Q3 - Q1\n",
    "#print(\"iqr: \",IQR)\n",
    "#lower_bound = Q1 -(1.5 * IQR) \n",
    "#upper_bound = Q3 +(1.5 * IQR) \n",
    "#print(\"upper_bound: \",upper_bound)\n",
    "#print(\"lower_bound: \",lower_bound)"
   ]
  },
  {
   "cell_type": "code",
   "execution_count": 415,
   "metadata": {},
   "outputs": [],
   "source": [
    "# remove the outliers\n",
    "#data_merged['Reviews2'] = data_merged['Reviews'][~((data_merged['Reviews'] < (Q1 - 1.5 * IQR)) |(data_merged['Reviews'] > (Q3 + 1.5 * IQR)))]"
   ]
  },
  {
   "cell_type": "code",
   "execution_count": 416,
   "metadata": {},
   "outputs": [],
   "source": [
    "# boxplot of ''Reviews' without outliers\n",
    "#_=sns.boxplot(data_merged['Reviews2'])\n",
    "#plt.title(\"Number of 'Reviews' by app\")"
   ]
  },
  {
   "cell_type": "code",
   "execution_count": null,
   "metadata": {},
   "outputs": [],
   "source": []
  },
  {
   "cell_type": "code",
   "execution_count": 417,
   "metadata": {},
   "outputs": [],
   "source": [
    "# vizualise, once apply log to reviews"
   ]
  },
  {
   "cell_type": "code",
   "execution_count": 418,
   "metadata": {},
   "outputs": [],
   "source": [
    "def transform_continuous_to_logarithmic_scale(series):\n",
    "  # Transform to logarithmic scale\n",
    "  return np.log(series)"
   ]
  },
  {
   "cell_type": "code",
   "execution_count": 419,
   "metadata": {},
   "outputs": [],
   "source": [
    "# we add a column log reviews to the dataset"
   ]
  },
  {
   "cell_type": "code",
   "execution_count": 420,
   "metadata": {},
   "outputs": [],
   "source": [
    "data_merged['Reviewslog']=transform_continuous_to_logarithmic_scale(data_merged['Reviews'])"
   ]
  },
  {
   "cell_type": "code",
   "execution_count": 421,
   "metadata": {},
   "outputs": [
    {
     "data": {
      "text/plain": [
       "<matplotlib.axes._subplots.AxesSubplot at 0x1a2820b898>"
      ]
     },
     "execution_count": 421,
     "metadata": {},
     "output_type": "execute_result"
    },
    {
     "data": {
      "image/png": "[encoded data removed]",
      "text/plain": [
       "<Figure size 864x576 with 1 Axes>"
      ]
     },
     "metadata": {
      "needs_background": "light"
     },
     "output_type": "display_data"
    }
   ],
   "source": [
    "#visualise log reviews\n",
    "_=plt.figure(figsize=(12,8))\n",
    "sns.distplot(data_merged['Reviewslog'], bins=10 )"
   ]
  },
  {
   "cell_type": "code",
   "execution_count": null,
   "metadata": {},
   "outputs": [],
   "source": []
  },
  {
   "cell_type": "code",
   "execution_count": 422,
   "metadata": {},
   "outputs": [],
   "source": [
    "## Feature Rating:"
   ]
  },
  {
   "cell_type": "code",
   "execution_count": 423,
   "metadata": {},
   "outputs": [],
   "source": [
    "# Feature Rating:  has 40 missing value\n",
    "#already a float , range should be within 0 to 5"
   ]
  },
  {
   "cell_type": "code",
   "execution_count": 424,
   "metadata": {},
   "outputs": [
    {
     "name": "stdout",
     "output_type": "stream",
     "text": [
      "range: 2.5 - 4.9\n"
     ]
    }
   ],
   "source": [
    "print(\"range:\", data_merged['Rating'].min(),\"-\",data_merged['Rating'].max())"
   ]
  },
  {
   "cell_type": "code",
   "execution_count": 425,
   "metadata": {},
   "outputs": [
    {
     "name": "stdout",
     "output_type": "stream",
     "text": [
      "0 missing values out of 122662\n"
     ]
    }
   ],
   "source": [
    "print(data_merged['Rating'].isna().sum(),\"missing values out of\", len(data_merged['Rating']))"
   ]
  },
  {
   "cell_type": "code",
   "execution_count": 426,
   "metadata": {},
   "outputs": [
    {
     "data": {
      "text/plain": [
       "count    122662.000000\n",
       "mean          4.322405\n",
       "std           0.284719\n",
       "min           2.500000\n",
       "25%           4.200000\n",
       "50%           4.400000\n",
       "75%           4.500000\n",
       "max           4.900000\n",
       "Name: Rating, dtype: float64"
      ]
     },
     "execution_count": 426,
     "metadata": {},
     "output_type": "execute_result"
    }
   ],
   "source": [
    "data_merged['Rating'].describe()"
   ]
  },
  {
   "cell_type": "code",
   "execution_count": 427,
   "metadata": {},
   "outputs": [],
   "source": [
    "#select those rows that have a null value in the column share\n",
    "isnull_condition = (data_merged['Rating'].isnull())"
   ]
  },
  {
   "cell_type": "code",
   "execution_count": 428,
   "metadata": {},
   "outputs": [
    {
     "data": {
      "image/png": "[encoded data removed]",
      "text/plain": [
       "<Figure size 432x288 with 1 Axes>"
      ]
     },
     "metadata": {
      "needs_background": "light"
     },
     "output_type": "display_data"
    }
   ],
   "source": [
    "non_null_rating = data_merged[~isnull_condition]['Rating']\n",
    "#vizualisation distribution 0 of share values\n",
    "_=sns.distplot(non_null_rating)\n",
    "plt.title(\"Apps average rating\")\n",
    "plt.grid(True)\n",
    "plt.tight_layout()"
   ]
  },
  {
   "cell_type": "code",
   "execution_count": 429,
   "metadata": {},
   "outputs": [],
   "source": [
    "rating_array = data_merged[data_merged['Rating']!=np.nan]['Rating']"
   ]
  },
  {
   "cell_type": "code",
   "execution_count": 430,
   "metadata": {},
   "outputs": [
    {
     "data": {
      "text/plain": [
       "0         3.9\n",
       "1         3.9\n",
       "2         3.9\n",
       "3         3.9\n",
       "4         3.9\n",
       "5         3.9\n",
       "6         3.9\n",
       "7         3.9\n",
       "8         3.9\n",
       "9         3.9\n",
       "10        3.9\n",
       "11        3.9\n",
       "12        3.9\n",
       "13        3.9\n",
       "14        3.9\n",
       "15        3.9\n",
       "16        3.9\n",
       "17        3.9\n",
       "18        3.9\n",
       "19        3.9\n",
       "20        3.9\n",
       "21        3.9\n",
       "22        3.9\n",
       "23        3.9\n",
       "24        3.9\n",
       "25        3.9\n",
       "26        3.9\n",
       "27        3.9\n",
       "28        3.9\n",
       "29        3.9\n",
       "         ... \n",
       "122632    4.5\n",
       "122633    4.5\n",
       "122634    4.5\n",
       "122635    4.5\n",
       "122636    4.5\n",
       "122637    4.5\n",
       "122638    4.5\n",
       "122639    4.5\n",
       "122640    4.5\n",
       "122641    4.5\n",
       "122642    4.5\n",
       "122643    4.5\n",
       "122644    4.5\n",
       "122645    4.5\n",
       "122646    4.5\n",
       "122647    4.5\n",
       "122648    4.5\n",
       "122649    4.5\n",
       "122650    4.5\n",
       "122651    4.5\n",
       "122652    4.5\n",
       "122653    4.5\n",
       "122654    4.5\n",
       "122655    4.5\n",
       "122656    4.5\n",
       "122657    4.5\n",
       "122658    4.5\n",
       "122659    4.5\n",
       "122660    4.5\n",
       "122661    4.5\n",
       "Name: Rating, Length: 122662, dtype: float64"
      ]
     },
     "execution_count": 430,
     "metadata": {},
     "output_type": "execute_result"
    }
   ],
   "source": [
    "# replace 40 nan with mean rating\n",
    "data_merged['Rating'].replace(np.nan,rating_array.mean())"
   ]
  },
  {
   "cell_type": "code",
   "execution_count": 431,
   "metadata": {},
   "outputs": [],
   "source": [
    "# replace nan by mean\n",
    "data_merged['Rating']= data_merged['Rating'].replace(np.nan,rating_array.mean())"
   ]
  },
  {
   "cell_type": "code",
   "execution_count": 432,
   "metadata": {
    "scrolled": true
   },
   "outputs": [
    {
     "data": {
      "text/plain": [
       "array([3.9       , 4.4       , 4.3       , 4.1       , 4.7       ,\n",
       "       4.5       , 4.2       , 4.9       , 4.6       , 4.        ,\n",
       "       4.8       , 3.4       , 3.5       , 3.8       , 3.2       ,\n",
       "       3.7       , 2.6       , 3.3       , 3.        , 2.5       ,\n",
       "       3.6       , 3.1       , 4.32240463, 2.7       ])"
      ]
     },
     "execution_count": 432,
     "metadata": {},
     "output_type": "execute_result"
    }
   ],
   "source": [
    "data_merged['Rating'].unique()"
   ]
  },
  {
   "cell_type": "code",
   "execution_count": 433,
   "metadata": {},
   "outputs": [
    {
     "data": {
      "text/plain": [
       "Text(0.5, 1.0, 'Apps by rating')"
      ]
     },
     "execution_count": 433,
     "metadata": {},
     "output_type": "execute_result"
    },
    {
     "data": {
      "image/png": "[encoded data removed]",
      "text/plain": [
       "<Figure size 432x288 with 1 Axes>"
      ]
     },
     "metadata": {
      "needs_background": "light"
     },
     "output_type": "display_data"
    }
   ],
   "source": [
    "#vizualisation distribution of new ['Rating'] values\n",
    "_=sns.boxplot(data_merged['Rating'])\n",
    "plt.title(\"Apps by rating\")"
   ]
  },
  {
   "cell_type": "code",
   "execution_count": null,
   "metadata": {},
   "outputs": [],
   "source": []
  },
  {
   "cell_type": "code",
   "execution_count": 434,
   "metadata": {},
   "outputs": [],
   "source": [
    "## Feature 'Android Ver'"
   ]
  },
  {
   "cell_type": "code",
   "execution_count": 435,
   "metadata": {},
   "outputs": [
    {
     "data": {
      "text/plain": [
       "array([4.        ,        nan, 4.1       , 4.2       , 4.09848464])"
      ]
     },
     "execution_count": 435,
     "metadata": {},
     "output_type": "execute_result"
    }
   ],
   "source": [
    "data_merged['Android Ver'].unique()"
   ]
  },
  {
   "cell_type": "code",
   "execution_count": 436,
   "metadata": {},
   "outputs": [],
   "source": [
    "# replace varies with device\n",
    "data_merged['Android Ver']=data_merged['Android Ver'].replace('Varies with device',np.nan)"
   ]
  },
  {
   "cell_type": "code",
   "execution_count": 437,
   "metadata": {},
   "outputs": [
    {
     "ename": "AttributeError",
     "evalue": "Can only use .str accessor with string values, which use np.object_ dtype in pandas",
     "output_type": "error",
     "traceback": [
      "\u001b[0;31m---------------------------------------------------------------------------\u001b[0m",
      "\u001b[0;31mAttributeError\u001b[0m                            Traceback (most recent call last)",
      "\u001b[0;32m<ipython-input-437-b56fac42407f>\u001b[0m in \u001b[0;36m<module>\u001b[0;34m\u001b[0m\n\u001b[0;32m----> 1\u001b[0;31m \u001b[0mdata_merged\u001b[0m\u001b[0;34m[\u001b[0m\u001b[0;34m'Android Ver'\u001b[0m\u001b[0;34m]\u001b[0m\u001b[0;34m.\u001b[0m\u001b[0mstr\u001b[0m\u001b[0;34m.\u001b[0m\u001b[0mextract\u001b[0m\u001b[0;34m(\u001b[0m\u001b[0;34m'(\\d\\.\\d)'\u001b[0m\u001b[0;34m,\u001b[0m \u001b[0mexpand\u001b[0m\u001b[0;34m=\u001b[0m\u001b[0;32mTrue\u001b[0m\u001b[0;34m)\u001b[0m\u001b[0;34m\u001b[0m\u001b[0;34m\u001b[0m\u001b[0m\n\u001b[0m",
      "\u001b[0;32m/Applications/anaconda3/lib/python3.7/site-packages/pandas/core/generic.py\u001b[0m in \u001b[0;36m__getattr__\u001b[0;34m(self, name)\u001b[0m\n\u001b[1;32m   5061\u001b[0m         if (name in self._internal_names_set or name in self._metadata or\n\u001b[1;32m   5062\u001b[0m                 name in self._accessors):\n\u001b[0;32m-> 5063\u001b[0;31m             \u001b[0;32mreturn\u001b[0m \u001b[0mobject\u001b[0m\u001b[0;34m.\u001b[0m\u001b[0m__getattribute__\u001b[0m\u001b[0;34m(\u001b[0m\u001b[0mself\u001b[0m\u001b[0;34m,\u001b[0m \u001b[0mname\u001b[0m\u001b[0;34m)\u001b[0m\u001b[0;34m\u001b[0m\u001b[0;34m\u001b[0m\u001b[0m\n\u001b[0m\u001b[1;32m   5064\u001b[0m         \u001b[0;32melse\u001b[0m\u001b[0;34m:\u001b[0m\u001b[0;34m\u001b[0m\u001b[0;34m\u001b[0m\u001b[0m\n\u001b[1;32m   5065\u001b[0m             \u001b[0;32mif\u001b[0m \u001b[0mself\u001b[0m\u001b[0;34m.\u001b[0m\u001b[0m_info_axis\u001b[0m\u001b[0;34m.\u001b[0m\u001b[0m_can_hold_identifiers_and_holds_name\u001b[0m\u001b[0;34m(\u001b[0m\u001b[0mname\u001b[0m\u001b[0;34m)\u001b[0m\u001b[0;34m:\u001b[0m\u001b[0;34m\u001b[0m\u001b[0;34m\u001b[0m\u001b[0m\n",
      "\u001b[0;32m/Applications/anaconda3/lib/python3.7/site-packages/pandas/core/accessor.py\u001b[0m in \u001b[0;36m__get__\u001b[0;34m(self, obj, cls)\u001b[0m\n\u001b[1;32m    169\u001b[0m             \u001b[0;31m# we're accessing the attribute of the class, i.e., Dataset.geo\u001b[0m\u001b[0;34m\u001b[0m\u001b[0;34m\u001b[0m\u001b[0;34m\u001b[0m\u001b[0m\n\u001b[1;32m    170\u001b[0m             \u001b[0;32mreturn\u001b[0m \u001b[0mself\u001b[0m\u001b[0;34m.\u001b[0m\u001b[0m_accessor\u001b[0m\u001b[0;34m\u001b[0m\u001b[0;34m\u001b[0m\u001b[0m\n\u001b[0;32m--> 171\u001b[0;31m         \u001b[0maccessor_obj\u001b[0m \u001b[0;34m=\u001b[0m \u001b[0mself\u001b[0m\u001b[0;34m.\u001b[0m\u001b[0m_accessor\u001b[0m\u001b[0;34m(\u001b[0m\u001b[0mobj\u001b[0m\u001b[0;34m)\u001b[0m\u001b[0;34m\u001b[0m\u001b[0;34m\u001b[0m\u001b[0m\n\u001b[0m\u001b[1;32m    172\u001b[0m         \u001b[0;31m# Replace the property with the accessor object. Inspired by:\u001b[0m\u001b[0;34m\u001b[0m\u001b[0;34m\u001b[0m\u001b[0;34m\u001b[0m\u001b[0m\n\u001b[1;32m    173\u001b[0m         \u001b[0;31m# http://www.pydanny.com/cached-property.html\u001b[0m\u001b[0;34m\u001b[0m\u001b[0;34m\u001b[0m\u001b[0;34m\u001b[0m\u001b[0m\n",
      "\u001b[0;32m/Applications/anaconda3/lib/python3.7/site-packages/pandas/core/strings.py\u001b[0m in \u001b[0;36m__init__\u001b[0;34m(self, data)\u001b[0m\n\u001b[1;32m   1794\u001b[0m \u001b[0;34m\u001b[0m\u001b[0m\n\u001b[1;32m   1795\u001b[0m     \u001b[0;32mdef\u001b[0m \u001b[0m__init__\u001b[0m\u001b[0;34m(\u001b[0m\u001b[0mself\u001b[0m\u001b[0;34m,\u001b[0m \u001b[0mdata\u001b[0m\u001b[0;34m)\u001b[0m\u001b[0;34m:\u001b[0m\u001b[0;34m\u001b[0m\u001b[0;34m\u001b[0m\u001b[0m\n\u001b[0;32m-> 1796\u001b[0;31m         \u001b[0mself\u001b[0m\u001b[0;34m.\u001b[0m\u001b[0m_validate\u001b[0m\u001b[0;34m(\u001b[0m\u001b[0mdata\u001b[0m\u001b[0;34m)\u001b[0m\u001b[0;34m\u001b[0m\u001b[0;34m\u001b[0m\u001b[0m\n\u001b[0m\u001b[1;32m   1797\u001b[0m         \u001b[0mself\u001b[0m\u001b[0;34m.\u001b[0m\u001b[0m_is_categorical\u001b[0m \u001b[0;34m=\u001b[0m \u001b[0mis_categorical_dtype\u001b[0m\u001b[0;34m(\u001b[0m\u001b[0mdata\u001b[0m\u001b[0;34m)\u001b[0m\u001b[0;34m\u001b[0m\u001b[0;34m\u001b[0m\u001b[0m\n\u001b[1;32m   1798\u001b[0m \u001b[0;34m\u001b[0m\u001b[0m\n",
      "\u001b[0;32m/Applications/anaconda3/lib/python3.7/site-packages/pandas/core/strings.py\u001b[0m in \u001b[0;36m_validate\u001b[0;34m(data)\u001b[0m\n\u001b[1;32m   1816\u001b[0m             \u001b[0;31m# (instead of test for object dtype), but that isn't practical for\u001b[0m\u001b[0;34m\u001b[0m\u001b[0;34m\u001b[0m\u001b[0;34m\u001b[0m\u001b[0m\n\u001b[1;32m   1817\u001b[0m             \u001b[0;31m# performance reasons until we have a str dtype (GH 9343)\u001b[0m\u001b[0;34m\u001b[0m\u001b[0;34m\u001b[0m\u001b[0;34m\u001b[0m\u001b[0m\n\u001b[0;32m-> 1818\u001b[0;31m             raise AttributeError(\"Can only use .str accessor with string \"\n\u001b[0m\u001b[1;32m   1819\u001b[0m                                  \u001b[0;34m\"values, which use np.object_ dtype in \"\u001b[0m\u001b[0;34m\u001b[0m\u001b[0;34m\u001b[0m\u001b[0m\n\u001b[1;32m   1820\u001b[0m                                  \"pandas\")\n",
      "\u001b[0;31mAttributeError\u001b[0m: Can only use .str accessor with string values, which use np.object_ dtype in pandas"
     ]
    }
   ],
   "source": [
    "data_merged['Android Ver'].str.extract('(\\d\\.\\d)', expand=True)"
   ]
  },
  {
   "cell_type": "code",
   "execution_count": 438,
   "metadata": {},
   "outputs": [
    {
     "ename": "AttributeError",
     "evalue": "Can only use .str accessor with string values, which use np.object_ dtype in pandas",
     "output_type": "error",
     "traceback": [
      "\u001b[0;31m---------------------------------------------------------------------------\u001b[0m",
      "\u001b[0;31mAttributeError\u001b[0m                            Traceback (most recent call last)",
      "\u001b[0;32m<ipython-input-438-f3b83857c848>\u001b[0m in \u001b[0;36m<module>\u001b[0;34m\u001b[0m\n\u001b[1;32m      1\u001b[0m \u001b[0;31m#store it\u001b[0m\u001b[0;34m\u001b[0m\u001b[0;34m\u001b[0m\u001b[0;34m\u001b[0m\u001b[0m\n\u001b[0;32m----> 2\u001b[0;31m \u001b[0mdata_merged\u001b[0m\u001b[0;34m[\u001b[0m\u001b[0;34m'Android Ver'\u001b[0m\u001b[0;34m]\u001b[0m\u001b[0;34m=\u001b[0m\u001b[0mdata_merged\u001b[0m\u001b[0;34m[\u001b[0m\u001b[0;34m'Android Ver'\u001b[0m\u001b[0;34m]\u001b[0m\u001b[0;34m.\u001b[0m\u001b[0mstr\u001b[0m\u001b[0;34m.\u001b[0m\u001b[0mextract\u001b[0m\u001b[0;34m(\u001b[0m\u001b[0;34m'(\\d\\.\\d)'\u001b[0m\u001b[0;34m,\u001b[0m \u001b[0mexpand\u001b[0m\u001b[0;34m=\u001b[0m\u001b[0;32mTrue\u001b[0m\u001b[0;34m)\u001b[0m\u001b[0;34m\u001b[0m\u001b[0;34m\u001b[0m\u001b[0m\n\u001b[0m",
      "\u001b[0;32m/Applications/anaconda3/lib/python3.7/site-packages/pandas/core/generic.py\u001b[0m in \u001b[0;36m__getattr__\u001b[0;34m(self, name)\u001b[0m\n\u001b[1;32m   5061\u001b[0m         if (name in self._internal_names_set or name in self._metadata or\n\u001b[1;32m   5062\u001b[0m                 name in self._accessors):\n\u001b[0;32m-> 5063\u001b[0;31m             \u001b[0;32mreturn\u001b[0m \u001b[0mobject\u001b[0m\u001b[0;34m.\u001b[0m\u001b[0m__getattribute__\u001b[0m\u001b[0;34m(\u001b[0m\u001b[0mself\u001b[0m\u001b[0;34m,\u001b[0m \u001b[0mname\u001b[0m\u001b[0;34m)\u001b[0m\u001b[0;34m\u001b[0m\u001b[0;34m\u001b[0m\u001b[0m\n\u001b[0m\u001b[1;32m   5064\u001b[0m         \u001b[0;32melse\u001b[0m\u001b[0;34m:\u001b[0m\u001b[0;34m\u001b[0m\u001b[0;34m\u001b[0m\u001b[0m\n\u001b[1;32m   5065\u001b[0m             \u001b[0;32mif\u001b[0m \u001b[0mself\u001b[0m\u001b[0;34m.\u001b[0m\u001b[0m_info_axis\u001b[0m\u001b[0;34m.\u001b[0m\u001b[0m_can_hold_identifiers_and_holds_name\u001b[0m\u001b[0;34m(\u001b[0m\u001b[0mname\u001b[0m\u001b[0;34m)\u001b[0m\u001b[0;34m:\u001b[0m\u001b[0;34m\u001b[0m\u001b[0;34m\u001b[0m\u001b[0m\n",
      "\u001b[0;32m/Applications/anaconda3/lib/python3.7/site-packages/pandas/core/accessor.py\u001b[0m in \u001b[0;36m__get__\u001b[0;34m(self, obj, cls)\u001b[0m\n\u001b[1;32m    169\u001b[0m             \u001b[0;31m# we're accessing the attribute of the class, i.e., Dataset.geo\u001b[0m\u001b[0;34m\u001b[0m\u001b[0;34m\u001b[0m\u001b[0;34m\u001b[0m\u001b[0m\n\u001b[1;32m    170\u001b[0m             \u001b[0;32mreturn\u001b[0m \u001b[0mself\u001b[0m\u001b[0;34m.\u001b[0m\u001b[0m_accessor\u001b[0m\u001b[0;34m\u001b[0m\u001b[0;34m\u001b[0m\u001b[0m\n\u001b[0;32m--> 171\u001b[0;31m         \u001b[0maccessor_obj\u001b[0m \u001b[0;34m=\u001b[0m \u001b[0mself\u001b[0m\u001b[0;34m.\u001b[0m\u001b[0m_accessor\u001b[0m\u001b[0;34m(\u001b[0m\u001b[0mobj\u001b[0m\u001b[0;34m)\u001b[0m\u001b[0;34m\u001b[0m\u001b[0;34m\u001b[0m\u001b[0m\n\u001b[0m\u001b[1;32m    172\u001b[0m         \u001b[0;31m# Replace the property with the accessor object. Inspired by:\u001b[0m\u001b[0;34m\u001b[0m\u001b[0;34m\u001b[0m\u001b[0;34m\u001b[0m\u001b[0m\n\u001b[1;32m    173\u001b[0m         \u001b[0;31m# http://www.pydanny.com/cached-property.html\u001b[0m\u001b[0;34m\u001b[0m\u001b[0;34m\u001b[0m\u001b[0;34m\u001b[0m\u001b[0m\n",
      "\u001b[0;32m/Applications/anaconda3/lib/python3.7/site-packages/pandas/core/strings.py\u001b[0m in \u001b[0;36m__init__\u001b[0;34m(self, data)\u001b[0m\n\u001b[1;32m   1794\u001b[0m \u001b[0;34m\u001b[0m\u001b[0m\n\u001b[1;32m   1795\u001b[0m     \u001b[0;32mdef\u001b[0m \u001b[0m__init__\u001b[0m\u001b[0;34m(\u001b[0m\u001b[0mself\u001b[0m\u001b[0;34m,\u001b[0m \u001b[0mdata\u001b[0m\u001b[0;34m)\u001b[0m\u001b[0;34m:\u001b[0m\u001b[0;34m\u001b[0m\u001b[0;34m\u001b[0m\u001b[0m\n\u001b[0;32m-> 1796\u001b[0;31m         \u001b[0mself\u001b[0m\u001b[0;34m.\u001b[0m\u001b[0m_validate\u001b[0m\u001b[0;34m(\u001b[0m\u001b[0mdata\u001b[0m\u001b[0;34m)\u001b[0m\u001b[0;34m\u001b[0m\u001b[0;34m\u001b[0m\u001b[0m\n\u001b[0m\u001b[1;32m   1797\u001b[0m         \u001b[0mself\u001b[0m\u001b[0;34m.\u001b[0m\u001b[0m_is_categorical\u001b[0m \u001b[0;34m=\u001b[0m \u001b[0mis_categorical_dtype\u001b[0m\u001b[0;34m(\u001b[0m\u001b[0mdata\u001b[0m\u001b[0;34m)\u001b[0m\u001b[0;34m\u001b[0m\u001b[0;34m\u001b[0m\u001b[0m\n\u001b[1;32m   1798\u001b[0m \u001b[0;34m\u001b[0m\u001b[0m\n",
      "\u001b[0;32m/Applications/anaconda3/lib/python3.7/site-packages/pandas/core/strings.py\u001b[0m in \u001b[0;36m_validate\u001b[0;34m(data)\u001b[0m\n\u001b[1;32m   1816\u001b[0m             \u001b[0;31m# (instead of test for object dtype), but that isn't practical for\u001b[0m\u001b[0;34m\u001b[0m\u001b[0;34m\u001b[0m\u001b[0;34m\u001b[0m\u001b[0m\n\u001b[1;32m   1817\u001b[0m             \u001b[0;31m# performance reasons until we have a str dtype (GH 9343)\u001b[0m\u001b[0;34m\u001b[0m\u001b[0;34m\u001b[0m\u001b[0;34m\u001b[0m\u001b[0m\n\u001b[0;32m-> 1818\u001b[0;31m             raise AttributeError(\"Can only use .str accessor with string \"\n\u001b[0m\u001b[1;32m   1819\u001b[0m                                  \u001b[0;34m\"values, which use np.object_ dtype in \"\u001b[0m\u001b[0;34m\u001b[0m\u001b[0;34m\u001b[0m\u001b[0m\n\u001b[1;32m   1820\u001b[0m                                  \"pandas\")\n",
      "\u001b[0;31mAttributeError\u001b[0m: Can only use .str accessor with string values, which use np.object_ dtype in pandas"
     ]
    }
   ],
   "source": [
    "#store it\n",
    "data_merged['Android Ver']=data_merged['Android Ver'].str.extract('(\\d\\.\\d)', expand=True)"
   ]
  },
  {
   "cell_type": "code",
   "execution_count": 439,
   "metadata": {},
   "outputs": [
    {
     "data": {
      "text/plain": [
       "array([4.        ,        nan, 4.1       , 4.2       , 4.09848464])"
      ]
     },
     "execution_count": 439,
     "metadata": {},
     "output_type": "execute_result"
    }
   ],
   "source": [
    "data_merged['Android Ver'].unique()"
   ]
  },
  {
   "cell_type": "code",
   "execution_count": null,
   "metadata": {},
   "outputs": [],
   "source": []
  },
  {
   "cell_type": "code",
   "execution_count": 440,
   "metadata": {},
   "outputs": [],
   "source": [
    "# convert to float\n",
    "data_merged['Android Ver']=pd.to_numeric(data_merged['Android Ver'])"
   ]
  },
  {
   "cell_type": "code",
   "execution_count": 441,
   "metadata": {},
   "outputs": [
    {
     "data": {
      "text/plain": [
       "dtype('float64')"
      ]
     },
     "execution_count": 441,
     "metadata": {},
     "output_type": "execute_result"
    }
   ],
   "source": [
    "data_merged['Android Ver'].dtypes"
   ]
  },
  {
   "cell_type": "code",
   "execution_count": 442,
   "metadata": {},
   "outputs": [],
   "source": [
    "# replace nan by mean\n",
    "# create an array based on the current ver clean non nulls to look at the distribution\n",
    "android_ver_clean_array = data_merged[data_merged['Android Ver']!=np.nan]['Android Ver']"
   ]
  },
  {
   "cell_type": "code",
   "execution_count": 443,
   "metadata": {},
   "outputs": [],
   "source": [
    "# print (android_ver_clean_array )"
   ]
  },
  {
   "cell_type": "code",
   "execution_count": 444,
   "metadata": {},
   "outputs": [
    {
     "data": {
      "text/plain": [
       "Text(0.5, 1.0, 'Apps by android version')"
      ]
     },
     "execution_count": 444,
     "metadata": {},
     "output_type": "execute_result"
    },
    {
     "data": {
      "image/png": "[encoded data removed]",
      "text/plain": [
       "<Figure size 432x288 with 1 Axes>"
      ]
     },
     "metadata": {
      "needs_background": "light"
     },
     "output_type": "display_data"
    }
   ],
   "source": [
    "#vizualisation distribution of new ['Android ver'] values non nulls\n",
    "_=sns.boxplot(android_ver_clean_array )\n",
    "plt.title(\"Apps by android version\")"
   ]
  },
  {
   "cell_type": "code",
   "execution_count": 445,
   "metadata": {},
   "outputs": [],
   "source": [
    "# some outliers"
   ]
  },
  {
   "cell_type": "code",
   "execution_count": 446,
   "metadata": {},
   "outputs": [],
   "source": [
    "# replace nan by mean\n",
    "data_merged['Android Ver']=data_merged['Android Ver'].replace(np.nan,android_ver_clean_array.mean())"
   ]
  },
  {
   "cell_type": "code",
   "execution_count": 447,
   "metadata": {},
   "outputs": [
    {
     "data": {
      "text/plain": [
       "count    122662.000000\n",
       "mean          4.076297\n",
       "std           0.042678\n",
       "min           4.000000\n",
       "25%           4.076297\n",
       "50%           4.098485\n",
       "75%           4.098485\n",
       "max           4.200000\n",
       "Name: Android Ver, dtype: float64"
      ]
     },
     "execution_count": 447,
     "metadata": {},
     "output_type": "execute_result"
    }
   ],
   "source": [
    "data_merged['Android Ver'].describe()"
   ]
  },
  {
   "cell_type": "code",
   "execution_count": 448,
   "metadata": {},
   "outputs": [
    {
     "data": {
      "text/plain": [
       "array([4.        , 4.07629732, 4.1       , 4.2       , 4.09848464])"
      ]
     },
     "execution_count": 448,
     "metadata": {},
     "output_type": "execute_result"
    }
   ],
   "source": [
    "data_merged['Android Ver'].unique()"
   ]
  },
  {
   "cell_type": "code",
   "execution_count": 449,
   "metadata": {},
   "outputs": [],
   "source": [
    "# remove outliers"
   ]
  },
  {
   "cell_type": "code",
   "execution_count": 450,
   "metadata": {},
   "outputs": [
    {
     "data": {
      "text/plain": [
       "[4.0,\n",
       " 4.0,\n",
       " 4.0,\n",
       " 4.0,\n",
       " 4.0,\n",
       " 4.0,\n",
       " 4.0,\n",
       " 4.0,\n",
       " 4.0,\n",
       " 4.0,\n",
       " 4.0,\n",
       " 4.0,\n",
       " 4.0,\n",
       " 4.0,\n",
       " 4.0,\n",
       " 4.0,\n",
       " 4.0,\n",
       " 4.0,\n",
       " 4.0,\n",
       " 4.0,\n",
       " 4.0,\n",
       " 4.0,\n",
       " 4.0,\n",
       " 4.0,\n",
       " 4.0,\n",
       " 4.0,\n",
       " 4.0,\n",
       " 4.0,\n",
       " 4.0,\n",
       " 4.0,\n",
       " 4.0,\n",
       " 4.0,\n",
       " 4.0,\n",
       " 4.0,\n",
       " 4.0,\n",
       " 4.0,\n",
       " 4.0,\n",
       " 4.0,\n",
       " 4.0,\n",
       " 4.0,\n",
       " 4.0,\n",
       " 4.0,\n",
       " 4.0,\n",
       " 4.0,\n",
       " 4.0,\n",
       " 4.0,\n",
       " 4.0,\n",
       " 4.0,\n",
       " 4.0,\n",
       " 4.0,\n",
       " 4.0,\n",
       " 4.0,\n",
       " 4.0,\n",
       " 4.0,\n",
       " 4.0,\n",
       " 4.0,\n",
       " 4.0,\n",
       " 4.0,\n",
       " 4.0,\n",
       " 4.0,\n",
       " 4.0,\n",
       " 4.0,\n",
       " 4.0,\n",
       " 4.0,\n",
       " 4.0,\n",
       " 4.0,\n",
       " 4.0,\n",
       " 4.0,\n",
       " 4.0,\n",
       " 4.0,\n",
       " 4.0,\n",
       " 4.0,\n",
       " 4.0,\n",
       " 4.0,\n",
       " 4.0,\n",
       " 4.0,\n",
       " 4.0,\n",
       " 4.0,\n",
       " 4.0,\n",
       " 4.0,\n",
       " 4.0,\n",
       " 4.0,\n",
       " 4.0,\n",
       " 4.0,\n",
       " 4.0,\n",
       " 4.0,\n",
       " 4.0,\n",
       " 4.0,\n",
       " 4.0,\n",
       " 4.0,\n",
       " 4.0,\n",
       " 4.0,\n",
       " 4.0,\n",
       " 4.0,\n",
       " 4.0,\n",
       " 4.0,\n",
       " 4.0,\n",
       " 4.0,\n",
       " 4.0,\n",
       " 4.0,\n",
       " 4.0,\n",
       " 4.0,\n",
       " 4.0,\n",
       " 4.0,\n",
       " 4.0,\n",
       " 4.0,\n",
       " 4.0,\n",
       " 4.0,\n",
       " 4.0,\n",
       " 4.0,\n",
       " 4.0,\n",
       " 4.0,\n",
       " 4.0,\n",
       " 4.0,\n",
       " 4.0,\n",
       " 4.0,\n",
       " 4.0,\n",
       " 4.0,\n",
       " 4.0,\n",
       " 4.0,\n",
       " 4.0,\n",
       " 4.0,\n",
       " 4.0,\n",
       " 4.0,\n",
       " 4.0,\n",
       " 4.0,\n",
       " 4.0,\n",
       " 4.0,\n",
       " 4.0,\n",
       " 4.0,\n",
       " 4.0,\n",
       " 4.0,\n",
       " 4.0,\n",
       " 4.0,\n",
       " 4.0,\n",
       " 4.0,\n",
       " 4.0,\n",
       " 4.0,\n",
       " 4.0,\n",
       " 4.0,\n",
       " 4.0,\n",
       " 4.0,\n",
       " 4.0,\n",
       " 4.0,\n",
       " 4.0,\n",
       " 4.0,\n",
       " 4.0,\n",
       " 4.0,\n",
       " 4.0,\n",
       " 4.0,\n",
       " 4.0,\n",
       " 4.0,\n",
       " 4.0,\n",
       " 4.0,\n",
       " 4.0,\n",
       " 4.0,\n",
       " 4.0,\n",
       " 4.0,\n",
       " 4.0,\n",
       " 4.0,\n",
       " 4.0,\n",
       " 4.0,\n",
       " 4.0,\n",
       " 4.0,\n",
       " 4.0,\n",
       " 4.0,\n",
       " 4.0,\n",
       " 4.0,\n",
       " 4.0,\n",
       " 4.0,\n",
       " 4.0,\n",
       " 4.0,\n",
       " 4.0,\n",
       " 4.0,\n",
       " 4.0,\n",
       " 4.0,\n",
       " 4.0,\n",
       " 4.0,\n",
       " 4.0,\n",
       " 4.0,\n",
       " 4.0,\n",
       " 4.0,\n",
       " 4.0,\n",
       " 4.0,\n",
       " 4.0,\n",
       " 4.0,\n",
       " 4.0,\n",
       " 4.0,\n",
       " 4.0,\n",
       " 4.0,\n",
       " 4.0,\n",
       " 4.0,\n",
       " 4.0,\n",
       " 4.0,\n",
       " 4.0,\n",
       " 4.0,\n",
       " 4.0,\n",
       " 4.0,\n",
       " 4.0,\n",
       " 4.0,\n",
       " 4.0,\n",
       " 4.0,\n",
       " 4.0,\n",
       " 4.0,\n",
       " 4.0,\n",
       " 4.0,\n",
       " 4.0,\n",
       " 4.0,\n",
       " 4.0,\n",
       " 4.0,\n",
       " 4.0,\n",
       " 4.0,\n",
       " 4.0,\n",
       " 4.0,\n",
       " 4.0,\n",
       " 4.0,\n",
       " 4.0,\n",
       " 4.0,\n",
       " 4.0,\n",
       " 4.0,\n",
       " 4.0,\n",
       " 4.0,\n",
       " 4.0,\n",
       " 4.0,\n",
       " 4.0,\n",
       " 4.0,\n",
       " 4.0,\n",
       " 4.0,\n",
       " 4.0,\n",
       " 4.0,\n",
       " 4.0,\n",
       " 4.0,\n",
       " 4.0,\n",
       " 4.0,\n",
       " 4.0,\n",
       " 4.0,\n",
       " 4.0,\n",
       " 4.0,\n",
       " 4.0,\n",
       " 4.0,\n",
       " 4.0,\n",
       " 4.0,\n",
       " 4.0,\n",
       " 4.0,\n",
       " 4.0,\n",
       " 4.0,\n",
       " 4.0,\n",
       " 4.0,\n",
       " 4.0,\n",
       " 4.0,\n",
       " 4.0,\n",
       " 4.0,\n",
       " 4.0,\n",
       " 4.0,\n",
       " 4.0,\n",
       " 4.0,\n",
       " 4.0,\n",
       " 4.0,\n",
       " 4.0,\n",
       " 4.0,\n",
       " 4.0,\n",
       " 4.0,\n",
       " 4.0,\n",
       " 4.0,\n",
       " 4.0,\n",
       " 4.0,\n",
       " 4.0,\n",
       " 4.0,\n",
       " 4.0,\n",
       " 4.0,\n",
       " 4.0,\n",
       " 4.0,\n",
       " 4.0,\n",
       " 4.0,\n",
       " 4.0,\n",
       " 4.0,\n",
       " 4.0,\n",
       " 4.0,\n",
       " 4.0,\n",
       " 4.0,\n",
       " 4.0,\n",
       " 4.0,\n",
       " 4.0,\n",
       " 4.0,\n",
       " 4.0,\n",
       " 4.0,\n",
       " 4.0,\n",
       " 4.0,\n",
       " 4.0,\n",
       " 4.0,\n",
       " 4.0,\n",
       " 4.0,\n",
       " 4.0,\n",
       " 4.0,\n",
       " 4.0,\n",
       " 4.0,\n",
       " 4.0,\n",
       " 4.0,\n",
       " 4.0,\n",
       " 4.0,\n",
       " 4.0,\n",
       " 4.0,\n",
       " 4.0,\n",
       " 4.0,\n",
       " 4.0,\n",
       " 4.0,\n",
       " 4.0,\n",
       " 4.0,\n",
       " 4.0,\n",
       " 4.0,\n",
       " 4.0,\n",
       " 4.0,\n",
       " 4.0,\n",
       " 4.0,\n",
       " 4.0,\n",
       " 4.0,\n",
       " 4.0,\n",
       " 4.0,\n",
       " 4.0,\n",
       " 4.0,\n",
       " 4.0,\n",
       " 4.0,\n",
       " 4.0,\n",
       " 4.0,\n",
       " 4.0,\n",
       " 4.0,\n",
       " 4.0,\n",
       " 4.0,\n",
       " 4.0,\n",
       " 4.0,\n",
       " 4.0,\n",
       " 4.0,\n",
       " 4.0,\n",
       " 4.0,\n",
       " 4.0,\n",
       " 4.0,\n",
       " 4.0,\n",
       " 4.0,\n",
       " 4.0,\n",
       " 4.0,\n",
       " 4.0,\n",
       " 4.0,\n",
       " 4.0,\n",
       " 4.0,\n",
       " 4.0,\n",
       " 4.0,\n",
       " 4.0,\n",
       " 4.0,\n",
       " 4.0,\n",
       " 4.0,\n",
       " 4.0,\n",
       " 4.0,\n",
       " 4.0,\n",
       " 4.0,\n",
       " 4.0,\n",
       " 4.0,\n",
       " 4.0,\n",
       " 4.0,\n",
       " 4.0,\n",
       " 4.0,\n",
       " 4.0,\n",
       " 4.0,\n",
       " 4.0,\n",
       " 4.0,\n",
       " 4.0,\n",
       " 4.0,\n",
       " 4.0,\n",
       " 4.0,\n",
       " 4.0,\n",
       " 4.0,\n",
       " 4.0,\n",
       " 4.0,\n",
       " 4.0,\n",
       " 4.0,\n",
       " 4.0,\n",
       " 4.0,\n",
       " 4.0,\n",
       " 4.0,\n",
       " 4.0,\n",
       " 4.0,\n",
       " 4.0,\n",
       " 4.0,\n",
       " 4.0,\n",
       " 4.0,\n",
       " 4.0,\n",
       " 4.0,\n",
       " 4.0,\n",
       " 4.0,\n",
       " 4.0,\n",
       " 4.0,\n",
       " 4.0,\n",
       " 4.0,\n",
       " 4.0,\n",
       " 4.0,\n",
       " 4.0,\n",
       " 4.0,\n",
       " 4.0,\n",
       " 4.0,\n",
       " 4.0,\n",
       " 4.0,\n",
       " 4.0,\n",
       " 4.0,\n",
       " 4.0,\n",
       " 4.0,\n",
       " 4.0,\n",
       " 4.0,\n",
       " 4.0,\n",
       " 4.0,\n",
       " 4.0,\n",
       " 4.0,\n",
       " 4.0,\n",
       " 4.0,\n",
       " 4.0,\n",
       " 4.0,\n",
       " 4.0,\n",
       " 4.0,\n",
       " 4.0,\n",
       " 4.0,\n",
       " 4.0,\n",
       " 4.0,\n",
       " 4.0,\n",
       " 4.0,\n",
       " 4.0,\n",
       " 4.0,\n",
       " 4.0,\n",
       " 4.0,\n",
       " 4.0,\n",
       " 4.0,\n",
       " 4.0,\n",
       " 4.0,\n",
       " 4.0,\n",
       " 4.0,\n",
       " 4.0,\n",
       " 4.0,\n",
       " 4.0,\n",
       " 4.0,\n",
       " 4.0,\n",
       " 4.0,\n",
       " 4.0,\n",
       " 4.0,\n",
       " 4.0,\n",
       " 4.0,\n",
       " 4.0,\n",
       " 4.0,\n",
       " 4.0,\n",
       " 4.0,\n",
       " 4.0,\n",
       " 4.0,\n",
       " 4.0,\n",
       " 4.0,\n",
       " 4.0,\n",
       " 4.0,\n",
       " 4.0,\n",
       " 4.0,\n",
       " 4.0,\n",
       " 4.0,\n",
       " 4.0,\n",
       " 4.0,\n",
       " 4.0,\n",
       " 4.0,\n",
       " 4.0,\n",
       " 4.0,\n",
       " 4.0,\n",
       " 4.0,\n",
       " 4.0,\n",
       " 4.0,\n",
       " 4.0,\n",
       " 4.0,\n",
       " 4.0,\n",
       " 4.0,\n",
       " 4.0,\n",
       " 4.0,\n",
       " 4.0,\n",
       " 4.0,\n",
       " 4.0,\n",
       " 4.0,\n",
       " 4.0,\n",
       " 4.0,\n",
       " 4.0,\n",
       " 4.0,\n",
       " 4.0,\n",
       " 4.0,\n",
       " 4.0,\n",
       " 4.0,\n",
       " 4.0,\n",
       " 4.0,\n",
       " 4.0,\n",
       " 4.0,\n",
       " 4.0,\n",
       " 4.0,\n",
       " 4.0,\n",
       " 4.0,\n",
       " 4.0,\n",
       " 4.0,\n",
       " 4.0,\n",
       " 4.0,\n",
       " 4.0,\n",
       " 4.0,\n",
       " 4.0,\n",
       " 4.0,\n",
       " 4.0,\n",
       " 4.0,\n",
       " 4.0,\n",
       " 4.0,\n",
       " 4.0,\n",
       " 4.0,\n",
       " 4.0,\n",
       " 4.0,\n",
       " 4.0,\n",
       " 4.0,\n",
       " 4.0,\n",
       " 4.0,\n",
       " 4.0,\n",
       " 4.0,\n",
       " 4.0,\n",
       " 4.0,\n",
       " 4.0,\n",
       " 4.0,\n",
       " 4.0,\n",
       " 4.0,\n",
       " 4.0,\n",
       " 4.0,\n",
       " 4.0,\n",
       " 4.0,\n",
       " 4.0,\n",
       " 4.0,\n",
       " 4.0,\n",
       " 4.0,\n",
       " 4.0,\n",
       " 4.0,\n",
       " 4.0,\n",
       " 4.0,\n",
       " 4.0,\n",
       " 4.0,\n",
       " 4.0,\n",
       " 4.0,\n",
       " 4.0,\n",
       " 4.0,\n",
       " 4.0,\n",
       " 4.0,\n",
       " 4.0,\n",
       " 4.0,\n",
       " 4.0,\n",
       " 4.0,\n",
       " 4.0,\n",
       " 4.0,\n",
       " 4.0,\n",
       " 4.0,\n",
       " 4.0,\n",
       " 4.0,\n",
       " 4.0,\n",
       " 4.0,\n",
       " 4.0,\n",
       " 4.0,\n",
       " 4.0,\n",
       " 4.0,\n",
       " 4.0,\n",
       " 4.0,\n",
       " 4.0,\n",
       " 4.0,\n",
       " 4.0,\n",
       " 4.0,\n",
       " 4.0,\n",
       " 4.0,\n",
       " 4.0,\n",
       " 4.0,\n",
       " 4.0,\n",
       " 4.0,\n",
       " 4.0,\n",
       " 4.0,\n",
       " 4.0,\n",
       " 4.0,\n",
       " 4.0,\n",
       " 4.0,\n",
       " 4.0,\n",
       " 4.0,\n",
       " 4.0,\n",
       " 4.0,\n",
       " 4.0,\n",
       " 4.0,\n",
       " 4.0,\n",
       " 4.0,\n",
       " 4.0,\n",
       " 4.0,\n",
       " 4.0,\n",
       " 4.0,\n",
       " 4.0,\n",
       " 4.0,\n",
       " 4.0,\n",
       " 4.0,\n",
       " 4.0,\n",
       " 4.0,\n",
       " 4.0,\n",
       " 4.0,\n",
       " 4.0,\n",
       " 4.0,\n",
       " 4.0,\n",
       " 4.0,\n",
       " 4.0,\n",
       " 4.0,\n",
       " 4.0,\n",
       " 4.0,\n",
       " 4.0,\n",
       " 4.0,\n",
       " 4.0,\n",
       " 4.0,\n",
       " 4.0,\n",
       " 4.0,\n",
       " 4.0,\n",
       " 4.0,\n",
       " 4.0,\n",
       " 4.0,\n",
       " 4.0,\n",
       " 4.0,\n",
       " 4.0,\n",
       " 4.0,\n",
       " 4.0,\n",
       " 4.0,\n",
       " 4.0,\n",
       " 4.0,\n",
       " 4.0,\n",
       " 4.0,\n",
       " 4.0,\n",
       " 4.0,\n",
       " 4.0,\n",
       " 4.0,\n",
       " 4.0,\n",
       " 4.0,\n",
       " 4.0,\n",
       " 4.0,\n",
       " 4.0,\n",
       " 4.0,\n",
       " 4.0,\n",
       " 4.0,\n",
       " 4.0,\n",
       " 4.0,\n",
       " 4.0,\n",
       " 4.0,\n",
       " 4.0,\n",
       " 4.0,\n",
       " 4.0,\n",
       " 4.0,\n",
       " 4.0,\n",
       " 4.0,\n",
       " 4.0,\n",
       " 4.0,\n",
       " 4.0,\n",
       " 4.0,\n",
       " 4.0,\n",
       " 4.0,\n",
       " 4.0,\n",
       " 4.0,\n",
       " 4.0,\n",
       " 4.0,\n",
       " 4.0,\n",
       " 4.0,\n",
       " 4.0,\n",
       " 4.0,\n",
       " 4.0,\n",
       " 4.0,\n",
       " 4.0,\n",
       " 4.0,\n",
       " 4.0,\n",
       " 4.0,\n",
       " 4.0,\n",
       " 4.0,\n",
       " 4.0,\n",
       " 4.0,\n",
       " 4.0,\n",
       " 4.0,\n",
       " 4.0,\n",
       " 4.0,\n",
       " 4.0,\n",
       " 4.0,\n",
       " 4.0,\n",
       " 4.0,\n",
       " 4.0,\n",
       " 4.0,\n",
       " 4.0,\n",
       " 4.0,\n",
       " 4.0,\n",
       " 4.0,\n",
       " 4.0,\n",
       " 4.0,\n",
       " 4.0,\n",
       " 4.0,\n",
       " 4.0,\n",
       " 4.0,\n",
       " 4.0,\n",
       " 4.0,\n",
       " 4.0,\n",
       " 4.0,\n",
       " 4.0,\n",
       " 4.0,\n",
       " 4.0,\n",
       " 4.0,\n",
       " 4.0,\n",
       " 4.0,\n",
       " 4.0,\n",
       " 4.0,\n",
       " 4.0,\n",
       " 4.0,\n",
       " 4.0,\n",
       " 4.0,\n",
       " 4.0,\n",
       " 4.0,\n",
       " 4.0,\n",
       " 4.0,\n",
       " 4.0,\n",
       " 4.0,\n",
       " 4.0,\n",
       " 4.0,\n",
       " 4.0,\n",
       " 4.0,\n",
       " 4.0,\n",
       " 4.0,\n",
       " 4.0,\n",
       " 4.0,\n",
       " 4.0,\n",
       " 4.0,\n",
       " 4.0,\n",
       " 4.0,\n",
       " 4.0,\n",
       " 4.0,\n",
       " 4.0,\n",
       " 4.0,\n",
       " 4.0,\n",
       " 4.0,\n",
       " 4.0,\n",
       " 4.0,\n",
       " 4.0,\n",
       " 4.0,\n",
       " 4.0,\n",
       " 4.0,\n",
       " 4.0,\n",
       " 4.0,\n",
       " 4.0,\n",
       " 4.0,\n",
       " 4.0,\n",
       " 4.0,\n",
       " 4.0,\n",
       " 4.0,\n",
       " 4.0,\n",
       " 4.0,\n",
       " 4.0,\n",
       " 4.0,\n",
       " 4.0,\n",
       " 4.0,\n",
       " 4.0,\n",
       " 4.0,\n",
       " 4.0,\n",
       " 4.0,\n",
       " 4.0,\n",
       " 4.0,\n",
       " 4.0,\n",
       " 4.0,\n",
       " 4.0,\n",
       " 4.0,\n",
       " 4.0,\n",
       " 4.0,\n",
       " 4.0,\n",
       " 4.0,\n",
       " 4.0,\n",
       " 4.0,\n",
       " 4.0,\n",
       " 4.0,\n",
       " 4.0,\n",
       " 4.0,\n",
       " 4.0,\n",
       " 4.0,\n",
       " 4.0,\n",
       " 4.0,\n",
       " 4.0,\n",
       " 4.0,\n",
       " 4.0,\n",
       " 4.0,\n",
       " 4.0,\n",
       " 4.0,\n",
       " 4.0,\n",
       " 4.0,\n",
       " 4.0,\n",
       " 4.0,\n",
       " 4.0,\n",
       " 4.0,\n",
       " 4.0,\n",
       " 4.0,\n",
       " 4.0,\n",
       " 4.0,\n",
       " 4.0,\n",
       " 4.0,\n",
       " 4.0,\n",
       " 4.0,\n",
       " 4.0,\n",
       " 4.0,\n",
       " 4.0,\n",
       " 4.0,\n",
       " 4.0,\n",
       " 4.0,\n",
       " 4.0,\n",
       " 4.0,\n",
       " 4.0,\n",
       " 4.0,\n",
       " 4.0,\n",
       " 4.0,\n",
       " 4.0,\n",
       " 4.0,\n",
       " 4.0,\n",
       " 4.0,\n",
       " 4.0,\n",
       " 4.0,\n",
       " 4.0,\n",
       " 4.0,\n",
       " 4.0,\n",
       " 4.0,\n",
       " 4.0,\n",
       " 4.0,\n",
       " 4.0,\n",
       " 4.0,\n",
       " 4.0,\n",
       " 4.0,\n",
       " 4.0,\n",
       " 4.0,\n",
       " 4.0,\n",
       " 4.0,\n",
       " 4.0,\n",
       " 4.0,\n",
       " 4.0,\n",
       " 4.0,\n",
       " 4.0,\n",
       " 4.0,\n",
       " 4.0,\n",
       " 4.0,\n",
       " 4.0,\n",
       " 4.0,\n",
       " 4.0,\n",
       " 4.0,\n",
       " 4.0,\n",
       " 4.0,\n",
       " 4.0,\n",
       " 4.0,\n",
       " 4.0,\n",
       " 4.0,\n",
       " 4.0,\n",
       " 4.0,\n",
       " 4.0,\n",
       " 4.0,\n",
       " 4.0,\n",
       " 4.0,\n",
       " 4.0,\n",
       " 4.0,\n",
       " 4.0,\n",
       " 4.0,\n",
       " 4.0,\n",
       " 4.0,\n",
       " 4.0,\n",
       " 4.0,\n",
       " 4.0,\n",
       " 4.0,\n",
       " 4.0,\n",
       " 4.0,\n",
       " 4.0,\n",
       " 4.0,\n",
       " 4.0,\n",
       " 4.0,\n",
       " 4.0,\n",
       " 4.0,\n",
       " 4.0,\n",
       " 4.0,\n",
       " 4.0,\n",
       " 4.0,\n",
       " 4.0,\n",
       " 4.0,\n",
       " 4.0,\n",
       " 4.0,\n",
       " 4.0,\n",
       " 4.0,\n",
       " 4.0,\n",
       " 4.0,\n",
       " 4.0,\n",
       " 4.0,\n",
       " 4.0,\n",
       " 4.0,\n",
       " 4.0,\n",
       " 4.0,\n",
       " 4.0,\n",
       " 4.0,\n",
       " 4.0,\n",
       " 4.0,\n",
       " 4.0,\n",
       " 4.0,\n",
       " 4.0,\n",
       " 4.0,\n",
       " 4.0,\n",
       " 4.0,\n",
       " 4.0,\n",
       " 4.0,\n",
       " 4.0,\n",
       " 4.0,\n",
       " 4.0,\n",
       " 4.0,\n",
       " 4.0,\n",
       " 4.0,\n",
       " 4.0,\n",
       " 4.0,\n",
       " 4.0,\n",
       " 4.0,\n",
       " 4.0,\n",
       " 4.0,\n",
       " 4.0,\n",
       " 4.0,\n",
       " 4.0,\n",
       " 4.0,\n",
       " 4.0,\n",
       " 4.0,\n",
       " 4.0,\n",
       " 4.0,\n",
       " 4.0,\n",
       " 4.0,\n",
       " 4.0,\n",
       " 4.0,\n",
       " 4.0,\n",
       " 4.0,\n",
       " 4.0,\n",
       " 4.0,\n",
       " 4.0,\n",
       " 4.0,\n",
       " 4.0,\n",
       " 4.0,\n",
       " 4.0,\n",
       " 4.0,\n",
       " 4.0,\n",
       " 4.0,\n",
       " 4.0,\n",
       " 4.0,\n",
       " 4.0,\n",
       " 4.0,\n",
       " 4.0,\n",
       " 4.0,\n",
       " 4.0,\n",
       " 4.0,\n",
       " 4.0,\n",
       " 4.0,\n",
       " 4.0,\n",
       " 4.0,\n",
       " 4.0,\n",
       " 4.0,\n",
       " 4.0,\n",
       " 4.0,\n",
       " 4.0,\n",
       " 4.0,\n",
       " 4.0,\n",
       " 4.0,\n",
       " 4.0,\n",
       " 4.0,\n",
       " 4.0,\n",
       " 4.0,\n",
       " 4.0,\n",
       " 4.0,\n",
       " 4.0,\n",
       " 4.0,\n",
       " 4.0,\n",
       " 4.0,\n",
       " 4.0,\n",
       " 4.0,\n",
       " 4.0,\n",
       " 4.0,\n",
       " 4.0,\n",
       " 4.0,\n",
       " 4.0,\n",
       " 4.0,\n",
       " 4.0,\n",
       " 4.0,\n",
       " 4.0,\n",
       " 4.0,\n",
       " 4.0,\n",
       " 4.0,\n",
       " 4.0,\n",
       " 4.0,\n",
       " 4.0,\n",
       " 4.0,\n",
       " 4.0,\n",
       " 4.0,\n",
       " 4.0,\n",
       " 4.0,\n",
       " 4.0,\n",
       " 4.0,\n",
       " 4.0,\n",
       " 4.0,\n",
       " 4.0,\n",
       " 4.0,\n",
       " 4.0,\n",
       " 4.0,\n",
       " 4.0,\n",
       " 4.0,\n",
       " 4.0,\n",
       " 4.0,\n",
       " 4.0,\n",
       " 4.0,\n",
       " 4.0,\n",
       " 4.0,\n",
       " ...]"
      ]
     },
     "execution_count": 450,
     "metadata": {},
     "output_type": "execute_result"
    }
   ],
   "source": [
    "# First sort size by increasing order\n",
    "sorted(data_merged['Android Ver'])"
   ]
  },
  {
   "cell_type": "code",
   "execution_count": 451,
   "metadata": {},
   "outputs": [
    {
     "name": "stdout",
     "output_type": "stream",
     "text": [
      "q1:  4.076297324248561\n",
      "q3:  4.098484641948573\n",
      "iqr:  0.0221873177000127\n"
     ]
    }
   ],
   "source": [
    "# outliers in Size\n",
    "# Finding first quartile and third quartile\n",
    "Q1, Q3= np.percentile(data_merged['Android Ver'],[25,75])\n",
    "print(\"q1: \",Q1)\n",
    "print(\"q3: \",Q3)\n",
    "# Find the IQR which is the difference between third and first quartile\n",
    "IQR = Q3 - Q1\n",
    "print(\"iqr: \",IQR)"
   ]
  },
  {
   "cell_type": "code",
   "execution_count": 452,
   "metadata": {},
   "outputs": [
    {
     "name": "stdout",
     "output_type": "stream",
     "text": [
      "upper_bound:  4.1317656184985925\n",
      "lower_bound:  4.043016347698542\n"
     ]
    }
   ],
   "source": [
    "lower_bound = Q1 -(1.5 * IQR) \n",
    "upper_bound = Q3 +(1.5 * IQR) \n",
    "print(\"upper_bound: \",upper_bound)\n",
    "print(\"lower_bound: \",lower_bound)"
   ]
  },
  {
   "cell_type": "code",
   "execution_count": 453,
   "metadata": {},
   "outputs": [],
   "source": [
    "# remove the  outliers\n",
    "data_merged['Android Ver'] = data_merged['Android Ver'][~((data_merged['Android Ver'] < (Q1 - 1.5 * IQR)) |(data_merged['Android Ver'] > (Q3 + 1.5 * IQR)))]"
   ]
  },
  {
   "cell_type": "code",
   "execution_count": 454,
   "metadata": {},
   "outputs": [
    {
     "data": {
      "text/plain": [
       "count    95339.000000\n",
       "mean         4.091035\n",
       "std          0.010950\n",
       "min          4.076297\n",
       "25%          4.076297\n",
       "50%          4.098485\n",
       "75%          4.100000\n",
       "max          4.100000\n",
       "Name: Android Ver, dtype: float64"
      ]
     },
     "execution_count": 454,
     "metadata": {},
     "output_type": "execute_result"
    },
    {
     "data": {
      "image/png": "[encoded data removed]",
      "text/plain": [
       "<Figure size 432x288 with 1 Axes>"
      ]
     },
     "metadata": {
      "needs_background": "light"
     },
     "output_type": "display_data"
    }
   ],
   "source": [
    "# boxplot of 'Size' without outliers in Megabytes\n",
    "_=sns.boxplot(data_merged['Android Ver'])\n",
    "plt.title(\"Android Version by app\")\n",
    "data_merged['Android Ver'].describe()"
   ]
  },
  {
   "cell_type": "code",
   "execution_count": null,
   "metadata": {},
   "outputs": [],
   "source": []
  },
  {
   "cell_type": "code",
   "execution_count": 455,
   "metadata": {},
   "outputs": [],
   "source": [
    "# Feature current ver"
   ]
  },
  {
   "cell_type": "code",
   "execution_count": 456,
   "metadata": {},
   "outputs": [],
   "source": [
    "# unique values of current ver: quite dirty data, we want to get rid of the text and extract the first 2 digits\n",
    "#data_merged['Current Ver'].unique()"
   ]
  },
  {
   "cell_type": "code",
   "execution_count": 457,
   "metadata": {},
   "outputs": [],
   "source": [
    "# get the column and extract the first 2 digit and repetition + and return string, finadll returns a list\n",
    "data_merged['Current Ver_clean'] = data_merged['Current Ver']\\\n",
    "                                    .apply(lambda x: re.findall('[0-9]+\\.[0-9]+', \n",
    "                                                        str(x))[0] if re.findall('[0-9]+\\.[0-9]+', \n",
    "                                                        str(x)) else np.nan)"
   ]
  },
  {
   "cell_type": "code",
   "execution_count": 458,
   "metadata": {},
   "outputs": [
    {
     "data": {
      "text/plain": [
       "array(['2.0', '2.9', '1.2', '2.2', '1.1', '1.0', '1.03', '2.20', nan,\n",
       "       '1.6', '1.7', '1.37', '1.9', '2.1', '1.911805270', '2.3', '5.0',\n",
       "       '6.0', '9.00', '3.05', '2.5', '7.0', '1.15', '3.1', '3.9', '3.4',\n",
       "       '2.19', '3.3', '3.550', '5.86', '99.0', '1.12', '3.19', '6.1',\n",
       "       '6.4', '3.7', '2.6', '5.20', '11.1', '3.0', '2.22', '1.01', '2.8',\n",
       "       '1.3', '24.6', '3.2', '5.2', '69.0', '37.1', '0.1', '7.73', '5.65',\n",
       "       '5.22', '1.4', '5.85', '3.5', '8.1', '1.286', '2.17', '5.28',\n",
       "       '4.17', '4.19', '1.639', '1.308', '4.5', '1.31', '1.230', '15.8',\n",
       "       '4.8', '1.5', '12.0', '8.7', '5.5', '4.3', '4.4', '8.2', '4.813',\n",
       "       '20.7', '1.17', '8.5', '15.9', '9.12', '4.21', '5.7', '2.4', '4.6',\n",
       "       '6.18', '01.01', '11.45', '1.16', '16.0', '6.6', '8.4', '3.8',\n",
       "       '20.1', '2.31', '5.10', '5.38', '2.70', '2.29', '5.1', '1.18',\n",
       "       '2.10', '6.8', '4.2', '2.131', '4.10', '5.9', '7.8', '9.7', '6.7',\n",
       "       '9.9', '3.52', '6.29', '2.12', '7.12', '4.0', '24.5', '2.76',\n",
       "       '112.0', '3.48', '5.3', '6.2', '3.6', '7.3', '10.24', '8.8', '6.5',\n",
       "       '10.2', '9.6', '4.7', '1.02', '1.8', '8.0', '4.90', '16.7', '8.00',\n",
       "       '10.0', '9.1', '12.1', '1.129', '1.20', '1.118', '10.322', '7.9',\n",
       "       '2.21', '5.66', '1.21', '5.064', '1.11', '3.30', '2.0081', '1.13',\n",
       "       '5.8', '2.11', '0.5', '57.0', '1.49', '8.25', '3.200', '1.19',\n",
       "       '2.72', '3.46', '3.53', '1.38', '7.2', '28.0', '5.4', '3.27',\n",
       "       '3.25', '7.4', '4.36', '2.25', '2.15', '2.7', '10.4', '0.6',\n",
       "       '13.0', '16.14', '29.14', '4.89', '4.31', '3.13', '11.6', '2.18',\n",
       "       '7.6', '22.0', '6.9', '4.1', '2.74', '4.47', '9.3', '1.32', '3.31',\n",
       "       '1004.0', '3.17', '8.9', '4.18', '2.46', '3.21', '18.30', '10.9',\n",
       "       '1.10', '9.2', '5.16', '4.13', '17.7', '4.20', '53.89', '4.9',\n",
       "       '1.28', '8.10', '32.1', '1.51', '5.34', '1.284', '5.41', '2.85',\n",
       "       '11.0', '2.41', '18.0', '15.0', '68.0', '1.39', '1.07', '1.26',\n",
       "       '2.30', '3.14', '1.04', '12.2', '7.1', '8.50', '7.10', '9.51',\n",
       "       '2.71', '5.17', '7.5', '2.42', '17.4', '7.16', '8.6', '1.58',\n",
       "       '1.021'], dtype=object)"
      ]
     },
     "execution_count": 458,
     "metadata": {},
     "output_type": "execute_result"
    }
   ],
   "source": [
    "data_merged['Current Ver_clean'].unique()"
   ]
  },
  {
   "cell_type": "code",
   "execution_count": 459,
   "metadata": {},
   "outputs": [],
   "source": [
    "data_merged['Current Ver_clean'] = data_merged['Current Ver_clean'].astype(float)"
   ]
  },
  {
   "cell_type": "code",
   "execution_count": 460,
   "metadata": {},
   "outputs": [
    {
     "data": {
      "text/plain": [
       "122662"
      ]
     },
     "execution_count": 460,
     "metadata": {},
     "output_type": "execute_result"
    }
   ],
   "source": [
    "len(data_merged['Current Ver_clean'])"
   ]
  },
  {
   "cell_type": "code",
   "execution_count": 461,
   "metadata": {},
   "outputs": [
    {
     "data": {
      "text/plain": [
       "122662"
      ]
     },
     "execution_count": 461,
     "metadata": {},
     "output_type": "execute_result"
    }
   ],
   "source": [
    "len(data_merged['Current Ver'])"
   ]
  },
  {
   "cell_type": "code",
   "execution_count": 462,
   "metadata": {},
   "outputs": [
    {
     "data": {
      "text/plain": [
       "count    82232.000000\n",
       "mean         4.856447\n",
       "std         22.914798\n",
       "min          0.100000\n",
       "25%          1.700000\n",
       "50%          3.000000\n",
       "75%          5.100000\n",
       "max       1004.000000\n",
       "Name: Current Ver_clean, dtype: float64"
      ]
     },
     "execution_count": 462,
     "metadata": {},
     "output_type": "execute_result"
    }
   ],
   "source": [
    "data_merged['Current Ver_clean'].describe()"
   ]
  },
  {
   "cell_type": "code",
   "execution_count": 463,
   "metadata": {},
   "outputs": [
    {
     "data": {
      "text/plain": [
       "App                           Chrome Dev\n",
       "Category                   COMMUNICATION\n",
       "Rating                               4.4\n",
       "Reviews                            63543\n",
       "Size                             34.6879\n",
       "Installs                           5e+06\n",
       "Type                                Free\n",
       "Price                                  0\n",
       "Content Rating                  Everyone\n",
       "Genres                     Communication\n",
       "Last Updated              August 2, 2018\n",
       "Current Ver                 69.0.3497.24\n",
       "Android Ver                      4.09848\n",
       "Translated_Review              I another\n",
       "Sentiment                        Neutral\n",
       "Sentiment_Polarity                     0\n",
       "Sentiment_Subjectivity                 0\n",
       "Reviewslog                       11.0595\n",
       "Current Ver_clean                     69\n",
       "year                                2018\n",
       "month                                  8\n",
       "day                                    2\n",
       "month_year                       2018-08\n",
       "Name: 8832, dtype: object"
      ]
     },
     "execution_count": 463,
     "metadata": {},
     "output_type": "execute_result"
    }
   ],
   "source": [
    "#  let's compare the value of current ver and current ver clean\n",
    "data_merged.loc[8832]"
   ]
  },
  {
   "cell_type": "code",
   "execution_count": 464,
   "metadata": {},
   "outputs": [],
   "source": [
    "# create an array based on the current ver clean non nulls to look at the distribution\n",
    "current_ver_clean_array = data_merged[data_merged['Current Ver_clean']!=np.nan]['Current Ver_clean']"
   ]
  },
  {
   "cell_type": "code",
   "execution_count": 465,
   "metadata": {},
   "outputs": [
    {
     "data": {
      "text/plain": [
       "Text(0.5, 1.0, 'Apps by current version number')"
      ]
     },
     "execution_count": 465,
     "metadata": {},
     "output_type": "execute_result"
    },
    {
     "data": {
      "image/png": "[encoded data removed]",
      "text/plain": [
       "<Figure size 432x288 with 1 Axes>"
      ]
     },
     "metadata": {
      "needs_background": "light"
     },
     "output_type": "display_data"
    }
   ],
   "source": [
    "#vizualisation distribution of current ver clean non nulls values\n",
    "_=sns.boxplot(current_ver_clean_array)\n",
    "plt.title(\"Apps by current version number\")"
   ]
  },
  {
   "cell_type": "code",
   "execution_count": 466,
   "metadata": {},
   "outputs": [],
   "source": [
    "# replace nan by\n",
    "data_merged['Current Ver_clean']=data_merged['Current Ver_clean'].replace(np.nan,current_ver_clean_array.mean())"
   ]
  },
  {
   "cell_type": "code",
   "execution_count": 467,
   "metadata": {},
   "outputs": [],
   "source": [
    "#data_merged['Current Ver_clean'].unique()"
   ]
  },
  {
   "cell_type": "code",
   "execution_count": 468,
   "metadata": {},
   "outputs": [],
   "source": [
    "## Feature Last updated"
   ]
  },
  {
   "cell_type": "code",
   "execution_count": 469,
   "metadata": {},
   "outputs": [],
   "source": [
    "#data_merged['Last Updated'].unique()"
   ]
  },
  {
   "cell_type": "code",
   "execution_count": 14,
   "metadata": {},
   "outputs": [
    {
     "ename": "NameError",
     "evalue": "name 'data_merged' is not defined",
     "output_type": "error",
     "traceback": [
      "\u001b[0;31m---------------------------------------------------------------------------\u001b[0m",
      "\u001b[0;31mNameError\u001b[0m                                 Traceback (most recent call last)",
      "\u001b[0;32m<ipython-input-14-aadeab9889ce>\u001b[0m in \u001b[0;36m<module>\u001b[0;34m\u001b[0m\n\u001b[1;32m      1\u001b[0m \u001b[0;31m# extract the year from string date month, day , year\u001b[0m\u001b[0;34m\u001b[0m\u001b[0;34m\u001b[0m\u001b[0;34m\u001b[0m\u001b[0m\n\u001b[1;32m      2\u001b[0m \u001b[0;31m#pandas datetimeindex\u001b[0m\u001b[0;34m\u001b[0m\u001b[0;34m\u001b[0m\u001b[0;34m\u001b[0m\u001b[0m\n\u001b[0;32m----> 3\u001b[0;31m \u001b[0mdata_merged\u001b[0m\u001b[0;34m[\u001b[0m\u001b[0;34m'year'\u001b[0m\u001b[0;34m]\u001b[0m \u001b[0;34m=\u001b[0m \u001b[0mpd\u001b[0m\u001b[0;34m.\u001b[0m\u001b[0mDatetimeIndex\u001b[0m\u001b[0;34m(\u001b[0m\u001b[0mdata_merged\u001b[0m\u001b[0;34m[\u001b[0m\u001b[0;34m'Last Updated'\u001b[0m\u001b[0;34m]\u001b[0m\u001b[0;34m)\u001b[0m\u001b[0;34m.\u001b[0m\u001b[0myear\u001b[0m\u001b[0;34m\u001b[0m\u001b[0;34m\u001b[0m\u001b[0m\n\u001b[0m",
      "\u001b[0;31mNameError\u001b[0m: name 'data_merged' is not defined"
     ]
    }
   ],
   "source": [
    "# extract the year from string date month, day , year\n",
    "#pandas datetimeindex \n",
    "data_merged['year'] = pd.DatetimeIndex(data_merged['Last Updated']).year"
   ]
  },
  {
   "cell_type": "code",
   "execution_count": 471,
   "metadata": {},
   "outputs": [],
   "source": [
    "#data.head()\n",
    "#data_merged['year'].unique()"
   ]
  },
  {
   "cell_type": "code",
   "execution_count": 472,
   "metadata": {},
   "outputs": [],
   "source": [
    "# extract the year from string date month, day , year\n",
    "#pandas datetimeindex \n",
    "data_merged['month'] = pd.DatetimeIndex(data_merged['Last Updated']).month"
   ]
  },
  {
   "cell_type": "code",
   "execution_count": 473,
   "metadata": {},
   "outputs": [],
   "source": [
    "#data_merged['month'].unique()"
   ]
  },
  {
   "cell_type": "code",
   "execution_count": 474,
   "metadata": {},
   "outputs": [],
   "source": [
    "# extract the year from string date month, day , year\n",
    "#pandas datetimeindex \n",
    "data_merged['day'] = pd.DatetimeIndex(data_merged['Last Updated']).day"
   ]
  },
  {
   "cell_type": "code",
   "execution_count": 475,
   "metadata": {},
   "outputs": [],
   "source": [
    "#data_merged['day'].unique()"
   ]
  },
  {
   "cell_type": "code",
   "execution_count": 476,
   "metadata": {},
   "outputs": [],
   "source": [
    "#if the date format comes in datetime, we can also extract the day/month/year using the to_period function\n",
    "#where 'D', 'M', 'Y' are inputs\n",
    "data_merged['month_year'] = pd.to_datetime(data_merged['Last Updated']).dt.to_period('M')"
   ]
  },
  {
   "cell_type": "code",
   "execution_count": 477,
   "metadata": {},
   "outputs": [
    {
     "data": {
      "text/plain": [
       "<PeriodArray>\n",
       "['2018-01', '2017-09', '2018-08', '2018-03', '2017-10', '2018-07', '2018-06',\n",
       " '2018-02', '2018-05', '2017-08', '2017-03', '2015-07', '2017-11', '2016-08',\n",
       " '2018-04', '2015-09', '2016-04', '2016-06', '2014-07', '2017-01', '2017-02',\n",
       " '2016-02', '2017-12', '2016-10', '2014-08', '2015-08', '2015-06', '2015-04',\n",
       " '2013-12', '2016-09', '2016-12', '2015-01', '2017-07', '2017-06', '2016-07',\n",
       " '2015-03', '2013-03', '2012-01', '2016-03', '2011-06', '2016-11', '2014-04',\n",
       " '2017-04', '2014-12', '2013-10', '2017-05', '2015-02', '2015-10', '2016-05',\n",
       " '2014-05', '2015-12', '2016-01', '2013-09', '2015-05']\n",
       "Length: 54, dtype: period[M]"
      ]
     },
     "execution_count": 477,
     "metadata": {},
     "output_type": "execute_result"
    }
   ],
   "source": [
    "data_merged['month_year'].unique()"
   ]
  },
  {
   "cell_type": "code",
   "execution_count": 478,
   "metadata": {},
   "outputs": [],
   "source": [
    "# feature 'Translated_Review'"
   ]
  },
  {
   "cell_type": "code",
   "execution_count": 479,
   "metadata": {},
   "outputs": [
    {
     "data": {
      "text/plain": [
       "50057"
      ]
     },
     "execution_count": 479,
     "metadata": {},
     "output_type": "execute_result"
    }
   ],
   "source": [
    "data_merged['Translated_Review'].isna().sum()"
   ]
  },
  {
   "cell_type": "code",
   "execution_count": 480,
   "metadata": {},
   "outputs": [
    {
     "data": {
      "text/plain": [
       "26683"
      ]
     },
     "execution_count": 480,
     "metadata": {},
     "output_type": "execute_result"
    }
   ],
   "source": [
    "len(data_merged['Translated_Review'].unique())"
   ]
  },
  {
   "cell_type": "code",
   "execution_count": 481,
   "metadata": {},
   "outputs": [],
   "source": [
    "#data_merged.loc[47298]"
   ]
  },
  {
   "cell_type": "code",
   "execution_count": 482,
   "metadata": {},
   "outputs": [],
   "source": [
    "#data_merged.loc[47998] "
   ]
  },
  {
   "cell_type": "code",
   "execution_count": 483,
   "metadata": {},
   "outputs": [],
   "source": [
    "#data_merged['Translated_Review'].sort_values()"
   ]
  },
  {
   "cell_type": "code",
   "execution_count": 484,
   "metadata": {},
   "outputs": [],
   "source": [
    "######## DUPLICATES"
   ]
  },
  {
   "cell_type": "code",
   "execution_count": 485,
   "metadata": {},
   "outputs": [],
   "source": [
    "# get rid of duplicate rows (for all the columns except log that varies)\n",
    "data_merged2=data_merged.drop_duplicates(subset=['App','Category',\n",
    " 'Rating',\n",
    " 'Reviews',\n",
    " 'Size',\n",
    " 'Installs',\n",
    " 'Type',\n",
    " 'Price',\n",
    " 'Content Rating',\n",
    " 'Genres',\n",
    " 'Last Updated',\n",
    " 'Current Ver',\n",
    " 'Android Ver',\n",
    " 'Translated_Review',\n",
    " 'Sentiment',\n",
    " 'Sentiment_Polarity',\n",
    " 'Sentiment_Subjectivity'])"
   ]
  },
  {
   "cell_type": "code",
   "execution_count": 486,
   "metadata": {},
   "outputs": [
    {
     "data": {
      "text/plain": [
       "(41661, 23)"
      ]
     },
     "execution_count": 486,
     "metadata": {},
     "output_type": "execute_result"
    }
   ],
   "source": [
    "# double check the row numbers\n",
    "data_merged2.shape"
   ]
  },
  {
   "cell_type": "code",
   "execution_count": 487,
   "metadata": {},
   "outputs": [],
   "source": [
    "##### export clean data into csv: removed duplicated, cleaned variables"
   ]
  },
  {
   "cell_type": "code",
   "execution_count": 488,
   "metadata": {},
   "outputs": [
    {
     "name": "stdout",
     "output_type": "stream",
     "text": [
      "<class 'pandas.core.frame.DataFrame'>\n",
      "Int64Index: 41661 entries, 0 to 122661\n",
      "Data columns (total 23 columns):\n",
      "App                       41661 non-null object\n",
      "Category                  41661 non-null object\n",
      "Rating                    41661 non-null float64\n",
      "Reviews                   41661 non-null int64\n",
      "Size                      41661 non-null float64\n",
      "Installs                  41661 non-null float64\n",
      "Type                      41661 non-null object\n",
      "Price                     41661 non-null float64\n",
      "Content Rating            41661 non-null object\n",
      "Genres                    41661 non-null object\n",
      "Last Updated              41661 non-null object\n",
      "Current Ver               41661 non-null object\n",
      "Android Ver               31138 non-null float64\n",
      "Translated_Review         40414 non-null object\n",
      "Sentiment                 40422 non-null object\n",
      "Sentiment_Polarity        40422 non-null float64\n",
      "Sentiment_Subjectivity    40422 non-null float64\n",
      "Reviewslog                41661 non-null float64\n",
      "Current Ver_clean         41661 non-null float64\n",
      "year                      41661 non-null int64\n",
      "month                     41661 non-null int64\n",
      "day                       41661 non-null int64\n",
      "month_year                41661 non-null period[M]\n",
      "dtypes: float64(9), int64(4), object(9), period[M](1)\n",
      "memory usage: 7.6+ MB\n"
     ]
    }
   ],
   "source": [
    "# before saving new csv double check data types for all\n",
    "data_merged2.info()\n"
   ]
  },
  {
   "cell_type": "code",
   "execution_count": 489,
   "metadata": {},
   "outputs": [
    {
     "data": {
      "text/plain": [
       "App                           0\n",
       "Category                      0\n",
       "Rating                        0\n",
       "Reviews                       0\n",
       "Size                          0\n",
       "Installs                      0\n",
       "Type                          0\n",
       "Price                         0\n",
       "Content Rating                0\n",
       "Genres                        0\n",
       "Last Updated                  0\n",
       "Current Ver                   0\n",
       "Android Ver               10523\n",
       "Translated_Review          1247\n",
       "Sentiment                  1239\n",
       "Sentiment_Polarity         1239\n",
       "Sentiment_Subjectivity     1239\n",
       "Reviewslog                    0\n",
       "Current Ver_clean             0\n",
       "year                          0\n",
       "month                         0\n",
       "day                           0\n",
       "month_year                    0\n",
       "dtype: int64"
      ]
     },
     "execution_count": 489,
     "metadata": {},
     "output_type": "execute_result"
    }
   ],
   "source": [
    "data_merged2.isna().sum()"
   ]
  },
  {
   "cell_type": "code",
   "execution_count": 490,
   "metadata": {},
   "outputs": [],
   "source": [
    "# export data_clean (dealt with outliers for installs, size, android version,)\n",
    "# Export data to my chosen folder\n",
    "data_merged2.to_csv(\"/Users/AirMorena/Desktop/final_proj/csv/data_clean.csv\", index=False, encoding='utf-8')"
   ]
  },
  {
   "cell_type": "code",
   "execution_count": null,
   "metadata": {},
   "outputs": [],
   "source": []
  },
  {
   "cell_type": "code",
   "execution_count": null,
   "metadata": {},
   "outputs": [],
   "source": []
  },
  {
   "cell_type": "code",
   "execution_count": null,
   "metadata": {},
   "outputs": [],
   "source": []
  },
  {
   "cell_type": "code",
   "execution_count": null,
   "metadata": {},
   "outputs": [],
   "source": []
  },
  {
   "cell_type": "code",
   "execution_count": null,
   "metadata": {},
   "outputs": [],
   "source": []
  },
  {
   "cell_type": "code",
   "execution_count": null,
   "metadata": {},
   "outputs": [],
   "source": []
  },
  {
   "cell_type": "code",
   "execution_count": null,
   "metadata": {},
   "outputs": [],
   "source": []
  }
 ],
 "metadata": {
  "kernelspec": {
   "display_name": "Python 3",
   "language": "python",
   "name": "python3"
  },
  "language_info": {
   "codemirror_mode": {
    "name": "ipython",
    "version": 3
   },
   "file_extension": ".py",
   "mimetype": "text/x-python",
   "name": "python",
   "nbconvert_exporter": "python",
   "pygments_lexer": "ipython3",
   "version": "3.7.1"
  }
 },
 "nbformat": 4,
 "nbformat_minor": 2
}
