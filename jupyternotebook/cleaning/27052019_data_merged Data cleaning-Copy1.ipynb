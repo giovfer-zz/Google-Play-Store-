{
 "cells": [
  {
   "cell_type": "markdown",
   "metadata": {},
   "source": [
    "# Data set from Kaggle \n",
    "https://www.kaggle.com/lava18/google-play-store-apps/downloads/google-play-store-apps.zip/6"
   ]
  },
  {
   "cell_type": "markdown",
   "metadata": {},
   "source": [
    "# Context\n",
    "While many public datasets (on Kaggle and the like) provide Apple App Store data, there are not many counterpart datasets available for Google Play Store apps anywhere on the web. On digging deeper, I found out that iTunes App Store page deploys a nicely indexed appendix-like structure to allow for simple and easy web scraping. On the other hand, Google Play Store uses sophisticated modern-day techniques (like dynamic page load) using JQuery making scraping more challenging.\n",
    "Content\n",
    "Each app (row) has values for catergory, rating, size, and more."
   ]
  },
  {
   "cell_type": "markdown",
   "metadata": {},
   "source": [
    "1. App: Application name\n",
    "2. Category: Category the app belongs to\n",
    "3. Rating: Overall user rating of the app (as when scraped)\n",
    "4. Reviews: Number of user reviews for the app (as when scraped)\n",
    "5. Size: Size of the app (as when scraped)\n",
    "6. Installs: Number of user downloads/installs for the app (as when scraped)\n",
    "7. Type: Paid or Free\n",
    "8. Price: Price of the app (as when scraped)\n",
    "9. Content Rating: Age group the app is targeted at - Children / Mature 21+ / Adult\n",
    "10.Genres: An app can belong to multiple genres (apart from its main category). For eg, a musical family game will belong to Music, Game, Family genres.\n",
    "11. Last Updated: Date when the app was last updated on Play Store (as when scraped)\n",
    "12. Current Ver: Current version of the app available on Play Store (as when scraped)\n",
    "13. Android Ver: Min required Android version (as when scraped)"
   ]
  },
  {
   "cell_type": "code",
   "execution_count": 321,
   "metadata": {},
   "outputs": [],
   "source": [
    "import math\n",
    "import pdb\n",
    "import pandas as pd\n",
    "import numpy as np\n",
    "import datetime\n",
    "import re\n",
    "import seaborn as sns\n",
    "from scipy import stats\n",
    "from scipy.stats import t, sem\n",
    "from scipy.stats import chi2_contingency\n",
    "import matplotlib.pyplot as plt"
   ]
  },
  {
   "cell_type": "code",
   "execution_count": 322,
   "metadata": {},
   "outputs": [],
   "source": [
    "# Hide deprecated warnings\n",
    "import warnings\n",
    "warnings.filterwarnings('ignore')"
   ]
  },
  {
   "cell_type": "code",
   "execution_count": 323,
   "metadata": {},
   "outputs": [],
   "source": [
    "# data 1 and data 2 were merged (inner join) \n",
    "#so that only the apps that had reviews lie in the dataset"
   ]
  },
  {
   "cell_type": "code",
   "execution_count": 324,
   "metadata": {},
   "outputs": [],
   "source": [
    "# Load data from the folder where I uploaded the csv file\n",
    "data_merged=pd.read_csv(\"/Users/AirMorena/Desktop/final_proj/csv/data_merged.csv\")"
   ]
  },
  {
   "cell_type": "code",
   "execution_count": 325,
   "metadata": {},
   "outputs": [
    {
     "name": "stdout",
     "output_type": "stream",
     "text": [
      "Shape of data (samples, features):  (122662, 17)\n"
     ]
    }
   ],
   "source": [
    "print(\"Shape of data (samples, features): \",data_merged.shape)"
   ]
  },
  {
   "cell_type": "code",
   "execution_count": 326,
   "metadata": {},
   "outputs": [
    {
     "data": {
      "text/plain": [
       "Rating                       40\n",
       "Translated_Review         50057\n",
       "Sentiment                 50047\n",
       "Sentiment_Polarity        50047\n",
       "Sentiment_Subjectivity    50047\n",
       "dtype: int64"
      ]
     },
     "execution_count": 326,
     "metadata": {},
     "output_type": "execute_result"
    }
   ],
   "source": [
    "# Get the columns that have any missing value\n",
    "s_missing_values = data_merged.isnull().sum()\n",
    "s_missing_values[s_missing_values > 0]"
   ]
  },
  {
   "cell_type": "code",
   "execution_count": null,
   "metadata": {},
   "outputs": [],
   "source": []
  },
  {
   "cell_type": "code",
   "execution_count": null,
   "metadata": {},
   "outputs": [],
   "source": []
  },
  {
   "cell_type": "code",
   "execution_count": 422,
   "metadata": {},
   "outputs": [
    {
     "name": "stdout",
     "output_type": "stream",
     "text": [
      "Duplicate Rows except first occurrence based on all columns are :\n",
      "                                 App        Category  Rating  Reviews  \\\n",
      "6                Coloring book moana  ART_AND_DESIGN     3.9      967   \n",
      "12               Coloring book moana  ART_AND_DESIGN     3.9      967   \n",
      "21               Coloring book moana  ART_AND_DESIGN     3.9      967   \n",
      "22               Coloring book moana  ART_AND_DESIGN     3.9      967   \n",
      "24               Coloring book moana  ART_AND_DESIGN     3.9      967   \n",
      "25               Coloring book moana  ART_AND_DESIGN     3.9      967   \n",
      "26               Coloring book moana  ART_AND_DESIGN     3.9      967   \n",
      "28               Coloring book moana  ART_AND_DESIGN     3.9      967   \n",
      "29               Coloring book moana  ART_AND_DESIGN     3.9      967   \n",
      "30               Coloring book moana  ART_AND_DESIGN     3.9      967   \n",
      "31               Coloring book moana  ART_AND_DESIGN     3.9      967   \n",
      "32               Coloring book moana  ART_AND_DESIGN     3.9      967   \n",
      "33               Coloring book moana  ART_AND_DESIGN     3.9      967   \n",
      "34               Coloring book moana  ART_AND_DESIGN     3.9      967   \n",
      "35               Coloring book moana  ART_AND_DESIGN     3.9      967   \n",
      "36               Coloring book moana  ART_AND_DESIGN     3.9      967   \n",
      "37               Coloring book moana  ART_AND_DESIGN     3.9      967   \n",
      "38               Coloring book moana  ART_AND_DESIGN     3.9      967   \n",
      "39               Coloring book moana  ART_AND_DESIGN     3.9      967   \n",
      "40               Coloring book moana  ART_AND_DESIGN     3.9      967   \n",
      "41               Coloring book moana  ART_AND_DESIGN     3.9      967   \n",
      "42               Coloring book moana  ART_AND_DESIGN     3.9      967   \n",
      "43               Coloring book moana  ART_AND_DESIGN     3.9      967   \n",
      "44               Coloring book moana  ART_AND_DESIGN     3.9      967   \n",
      "45               Coloring book moana  ART_AND_DESIGN     3.9      967   \n",
      "46               Coloring book moana  ART_AND_DESIGN     3.9      967   \n",
      "47               Coloring book moana  ART_AND_DESIGN     3.9      967   \n",
      "48               Coloring book moana  ART_AND_DESIGN     3.9      967   \n",
      "49               Coloring book moana  ART_AND_DESIGN     3.9      967   \n",
      "50               Coloring book moana  ART_AND_DESIGN     3.9      967   \n",
      "...                              ...             ...     ...      ...   \n",
      "122613  A+ Gallery - Photos & Videos     PHOTOGRAPHY     4.5   223941   \n",
      "122614  A+ Gallery - Photos & Videos     PHOTOGRAPHY     4.5   223941   \n",
      "122615  A+ Gallery - Photos & Videos     PHOTOGRAPHY     4.5   223941   \n",
      "122619  A+ Gallery - Photos & Videos     PHOTOGRAPHY     4.5   223941   \n",
      "122620  A+ Gallery - Photos & Videos     PHOTOGRAPHY     4.5   223941   \n",
      "122622  A+ Gallery - Photos & Videos     PHOTOGRAPHY     4.5   223941   \n",
      "122623  A+ Gallery - Photos & Videos     PHOTOGRAPHY     4.5   223941   \n",
      "122625  A+ Gallery - Photos & Videos     PHOTOGRAPHY     4.5   223941   \n",
      "122626  A+ Gallery - Photos & Videos     PHOTOGRAPHY     4.5   223941   \n",
      "122627  A+ Gallery - Photos & Videos     PHOTOGRAPHY     4.5   223941   \n",
      "122628  A+ Gallery - Photos & Videos     PHOTOGRAPHY     4.5   223941   \n",
      "122629  A+ Gallery - Photos & Videos     PHOTOGRAPHY     4.5   223941   \n",
      "122632  A+ Gallery - Photos & Videos     PHOTOGRAPHY     4.5   223941   \n",
      "122638  A+ Gallery - Photos & Videos     PHOTOGRAPHY     4.5   223941   \n",
      "122639  A+ Gallery - Photos & Videos     PHOTOGRAPHY     4.5   223941   \n",
      "122641  A+ Gallery - Photos & Videos     PHOTOGRAPHY     4.5   223941   \n",
      "122642  A+ Gallery - Photos & Videos     PHOTOGRAPHY     4.5   223941   \n",
      "122644  A+ Gallery - Photos & Videos     PHOTOGRAPHY     4.5   223941   \n",
      "122645  A+ Gallery - Photos & Videos     PHOTOGRAPHY     4.5   223941   \n",
      "122647  A+ Gallery - Photos & Videos     PHOTOGRAPHY     4.5   223941   \n",
      "122648  A+ Gallery - Photos & Videos     PHOTOGRAPHY     4.5   223941   \n",
      "122649  A+ Gallery - Photos & Videos     PHOTOGRAPHY     4.5   223941   \n",
      "122650  A+ Gallery - Photos & Videos     PHOTOGRAPHY     4.5   223941   \n",
      "122651  A+ Gallery - Photos & Videos     PHOTOGRAPHY     4.5   223941   \n",
      "122653  A+ Gallery - Photos & Videos     PHOTOGRAPHY     4.5   223941   \n",
      "122654  A+ Gallery - Photos & Videos     PHOTOGRAPHY     4.5   223941   \n",
      "122655  A+ Gallery - Photos & Videos     PHOTOGRAPHY     4.5   223941   \n",
      "122656  A+ Gallery - Photos & Videos     PHOTOGRAPHY     4.5   223941   \n",
      "122657  A+ Gallery - Photos & Videos     PHOTOGRAPHY     4.5   223941   \n",
      "122658  A+ Gallery - Photos & Videos     PHOTOGRAPHY     4.5   223941   \n",
      "\n",
      "             Size  Installs  Type  Price Content Rating  \\\n",
      "6       14.000000    500000  Free    0.0       Everyone   \n",
      "12      14.000000    500000  Free    0.0       Everyone   \n",
      "21      14.000000    500000  Free    0.0       Everyone   \n",
      "22      14.000000    500000  Free    0.0       Everyone   \n",
      "24      14.000000    500000  Free    0.0       Everyone   \n",
      "25      14.000000    500000  Free    0.0       Everyone   \n",
      "26      14.000000    500000  Free    0.0       Everyone   \n",
      "28      14.000000    500000  Free    0.0       Everyone   \n",
      "29      14.000000    500000  Free    0.0       Everyone   \n",
      "30      14.000000    500000  Free    0.0       Everyone   \n",
      "31      14.000000    500000  Free    0.0       Everyone   \n",
      "32      14.000000    500000  Free    0.0       Everyone   \n",
      "33      14.000000    500000  Free    0.0       Everyone   \n",
      "34      14.000000    500000  Free    0.0       Everyone   \n",
      "35      14.000000    500000  Free    0.0       Everyone   \n",
      "36      14.000000    500000  Free    0.0       Everyone   \n",
      "37      14.000000    500000  Free    0.0       Everyone   \n",
      "38      14.000000    500000  Free    0.0       Everyone   \n",
      "39      14.000000    500000  Free    0.0       Everyone   \n",
      "40      14.000000    500000  Free    0.0       Everyone   \n",
      "41      14.000000    500000  Free    0.0       Everyone   \n",
      "42      14.000000    500000  Free    0.0       Everyone   \n",
      "43      14.000000    500000  Free    0.0       Everyone   \n",
      "44      14.000000    500000  Free    0.0       Everyone   \n",
      "45      14.000000    500000  Free    0.0       Everyone   \n",
      "46      14.000000    500000  Free    0.0       Everyone   \n",
      "47      14.000000    500000  Free    0.0       Everyone   \n",
      "48      14.000000    500000  Free    0.0       Everyone   \n",
      "49      14.000000    500000  Free    0.0       Everyone   \n",
      "50      14.000000    500000  Free    0.0       Everyone   \n",
      "...           ...       ...   ...    ...            ...   \n",
      "122613  34.687861  10000000  Free    0.0       Everyone   \n",
      "122614  34.687861  10000000  Free    0.0       Everyone   \n",
      "122615  34.687861  10000000  Free    0.0       Everyone   \n",
      "122619  34.687861  10000000  Free    0.0       Everyone   \n",
      "122620  34.687861  10000000  Free    0.0       Everyone   \n",
      "122622  34.687861  10000000  Free    0.0       Everyone   \n",
      "122623  34.687861  10000000  Free    0.0       Everyone   \n",
      "122625  34.687861  10000000  Free    0.0       Everyone   \n",
      "122626  34.687861  10000000  Free    0.0       Everyone   \n",
      "122627  34.687861  10000000  Free    0.0       Everyone   \n",
      "122628  34.687861  10000000  Free    0.0       Everyone   \n",
      "122629  34.687861  10000000  Free    0.0       Everyone   \n",
      "122632  34.687861  10000000  Free    0.0       Everyone   \n",
      "122638  34.687861  10000000  Free    0.0       Everyone   \n",
      "122639  34.687861  10000000  Free    0.0       Everyone   \n",
      "122641  34.687861  10000000  Free    0.0       Everyone   \n",
      "122642  34.687861  10000000  Free    0.0       Everyone   \n",
      "122644  34.687861  10000000  Free    0.0       Everyone   \n",
      "122645  34.687861  10000000  Free    0.0       Everyone   \n",
      "122647  34.687861  10000000  Free    0.0       Everyone   \n",
      "122648  34.687861  10000000  Free    0.0       Everyone   \n",
      "122649  34.687861  10000000  Free    0.0       Everyone   \n",
      "122650  34.687861  10000000  Free    0.0       Everyone   \n",
      "122651  34.687861  10000000  Free    0.0       Everyone   \n",
      "122653  34.687861  10000000  Free    0.0       Everyone   \n",
      "122654  34.687861  10000000  Free    0.0       Everyone   \n",
      "122655  34.687861  10000000  Free    0.0       Everyone   \n",
      "122656  34.687861  10000000  Free    0.0       Everyone   \n",
      "122657  34.687861  10000000  Free    0.0       Everyone   \n",
      "122658  34.687861  10000000  Free    0.0       Everyone   \n",
      "\n",
      "                           Genres      Last Updated         Current Ver  \\\n",
      "6       Art & Design;Pretend Play  January 15, 2018               2.0.0   \n",
      "12      Art & Design;Pretend Play  January 15, 2018               2.0.0   \n",
      "21      Art & Design;Pretend Play  January 15, 2018               2.0.0   \n",
      "22      Art & Design;Pretend Play  January 15, 2018               2.0.0   \n",
      "24      Art & Design;Pretend Play  January 15, 2018               2.0.0   \n",
      "25      Art & Design;Pretend Play  January 15, 2018               2.0.0   \n",
      "26      Art & Design;Pretend Play  January 15, 2018               2.0.0   \n",
      "28      Art & Design;Pretend Play  January 15, 2018               2.0.0   \n",
      "29      Art & Design;Pretend Play  January 15, 2018               2.0.0   \n",
      "30      Art & Design;Pretend Play  January 15, 2018               2.0.0   \n",
      "31      Art & Design;Pretend Play  January 15, 2018               2.0.0   \n",
      "32      Art & Design;Pretend Play  January 15, 2018               2.0.0   \n",
      "33      Art & Design;Pretend Play  January 15, 2018               2.0.0   \n",
      "34      Art & Design;Pretend Play  January 15, 2018               2.0.0   \n",
      "35      Art & Design;Pretend Play  January 15, 2018               2.0.0   \n",
      "36      Art & Design;Pretend Play  January 15, 2018               2.0.0   \n",
      "37      Art & Design;Pretend Play  January 15, 2018               2.0.0   \n",
      "38      Art & Design;Pretend Play  January 15, 2018               2.0.0   \n",
      "39      Art & Design;Pretend Play  January 15, 2018               2.0.0   \n",
      "40      Art & Design;Pretend Play  January 15, 2018               2.0.0   \n",
      "41      Art & Design;Pretend Play  January 15, 2018               2.0.0   \n",
      "42      Art & Design;Pretend Play  January 15, 2018               2.0.0   \n",
      "43      Art & Design;Pretend Play  January 15, 2018               2.0.0   \n",
      "44      Art & Design;Pretend Play  January 15, 2018               2.0.0   \n",
      "45      Art & Design;Pretend Play  January 15, 2018               2.0.0   \n",
      "46      Art & Design;Pretend Play  January 15, 2018               2.0.0   \n",
      "47      Art & Design;Pretend Play  January 15, 2018               2.0.0   \n",
      "48      Art & Design;Pretend Play  January 15, 2018               2.0.0   \n",
      "49      Art & Design;Pretend Play  January 15, 2018               2.0.0   \n",
      "50      Art & Design;Pretend Play  January 15, 2018               2.0.0   \n",
      "...                           ...               ...                 ...   \n",
      "122613                Photography    August 6, 2018  Varies with device   \n",
      "122614                Photography    August 6, 2018  Varies with device   \n",
      "122615                Photography    August 6, 2018  Varies with device   \n",
      "122619                Photography    August 6, 2018  Varies with device   \n",
      "122620                Photography    August 6, 2018  Varies with device   \n",
      "122622                Photography    August 6, 2018  Varies with device   \n",
      "122623                Photography    August 6, 2018  Varies with device   \n",
      "122625                Photography    August 6, 2018  Varies with device   \n",
      "122626                Photography    August 6, 2018  Varies with device   \n",
      "122627                Photography    August 6, 2018  Varies with device   \n",
      "122628                Photography    August 6, 2018  Varies with device   \n",
      "122629                Photography    August 6, 2018  Varies with device   \n",
      "122632                Photography    August 6, 2018  Varies with device   \n",
      "122638                Photography    August 6, 2018  Varies with device   \n",
      "122639                Photography    August 6, 2018  Varies with device   \n",
      "122641                Photography    August 6, 2018  Varies with device   \n",
      "122642                Photography    August 6, 2018  Varies with device   \n",
      "122644                Photography    August 6, 2018  Varies with device   \n",
      "122645                Photography    August 6, 2018  Varies with device   \n",
      "122647                Photography    August 6, 2018  Varies with device   \n",
      "122648                Photography    August 6, 2018  Varies with device   \n",
      "122649                Photography    August 6, 2018  Varies with device   \n",
      "122650                Photography    August 6, 2018  Varies with device   \n",
      "122651                Photography    August 6, 2018  Varies with device   \n",
      "122653                Photography    August 6, 2018  Varies with device   \n",
      "122654                Photography    August 6, 2018  Varies with device   \n",
      "122655                Photography    August 6, 2018  Varies with device   \n",
      "122656                Photography    August 6, 2018  Varies with device   \n",
      "122657                Photography    August 6, 2018  Varies with device   \n",
      "122658                Photography    August 6, 2018  Varies with device   \n",
      "\n",
      "               Android Ver                                  Translated_Review  \\\n",
      "6             4.0.3 and up                                                NaN   \n",
      "12            4.0.3 and up                                                NaN   \n",
      "21            4.0.3 and up                                                NaN   \n",
      "22            4.0.3 and up                                                NaN   \n",
      "24            4.0.3 and up                                                NaN   \n",
      "25            4.0.3 and up                                             I love   \n",
      "26            4.0.3 and up                                               Love   \n",
      "28            4.0.3 and up                                                NaN   \n",
      "29            4.0.3 and up  A kid's excessive ads. The types ads allowed a...   \n",
      "30            4.0.3 and up                                           It cute.   \n",
      "31            4.0.3 and up                                         It bad >:(   \n",
      "32            4.0.3 and up                                               like   \n",
      "33            4.0.3 and up                                                NaN   \n",
      "34            4.0.3 and up                           I love colors inspyering   \n",
      "35            4.0.3 and up                                             I hate   \n",
      "36            4.0.3 and up                                                NaN   \n",
      "37            4.0.3 and up                                           omgggggg   \n",
      "38            4.0.3 and up                                             I love   \n",
      "39            4.0.3 and up                                               Love   \n",
      "40            4.0.3 and up                               I love enjoyable fun   \n",
      "41            4.0.3 and up                                                NaN   \n",
      "42            4.0.3 and up                        It horrible even zoom color   \n",
      "43            4.0.3 and up                                             I sure   \n",
      "44            4.0.3 and up                                    It stoepet game   \n",
      "45            4.0.3 and up                                       Too many ads   \n",
      "46            4.0.3 and up                                 It missing filling   \n",
      "47            4.0.3 and up                                         Good great   \n",
      "48            4.0.3 and up                                            It's ok   \n",
      "49            4.0.3 and up                                           hate it.   \n",
      "50            4.0.3 and up                                                NaN   \n",
      "...                    ...                                                ...   \n",
      "122613  Varies with device                                                NaN   \n",
      "122614  Varies with device                                                NaN   \n",
      "122615  Varies with device                                                NaN   \n",
      "122619  Varies with device                                                NaN   \n",
      "122620  Varies with device                                                NaN   \n",
      "122622  Varies with device                                                NaN   \n",
      "122623  Varies with device                                                NaN   \n",
      "122625  Varies with device                                                NaN   \n",
      "122626  Varies with device                                                NaN   \n",
      "122627  Varies with device                                                NaN   \n",
      "122628  Varies with device                                                NaN   \n",
      "122629  Varies with device                                                NaN   \n",
      "122632  Varies with device                                                NaN   \n",
      "122638  Varies with device                                                NaN   \n",
      "122639  Varies with device                                                NaN   \n",
      "122641  Varies with device                                                NaN   \n",
      "122642  Varies with device                                                NaN   \n",
      "122644  Varies with device                                                NaN   \n",
      "122645  Varies with device                                                NaN   \n",
      "122647  Varies with device                                                NaN   \n",
      "122648  Varies with device                                                NaN   \n",
      "122649  Varies with device                                                NaN   \n",
      "122650  Varies with device                                                NaN   \n",
      "122651  Varies with device                                                NaN   \n",
      "122653  Varies with device                                                NaN   \n",
      "122654  Varies with device                                                NaN   \n",
      "122655  Varies with device                                                NaN   \n",
      "122656  Varies with device                                                NaN   \n",
      "122657  Varies with device                                                NaN   \n",
      "122658  Varies with device                                                NaN   \n",
      "\n",
      "       Sentiment  Sentiment_Polarity  Sentiment_Subjectivity  Reviewslog  \n",
      "6            NaN                 NaN                     NaN    6.874198  \n",
      "12           NaN                 NaN                     NaN    6.874198  \n",
      "21           NaN                 NaN                     NaN    6.874198  \n",
      "22           NaN                 NaN                     NaN    6.874198  \n",
      "24           NaN                 NaN                     NaN    6.874198  \n",
      "25      Positive            0.500000                0.600000    6.874198  \n",
      "26      Positive            0.500000                0.600000    6.874198  \n",
      "28           NaN                 NaN                     NaN    6.874198  \n",
      "29      Negative           -0.250000                1.000000    6.874198  \n",
      "30      Positive            0.500000                1.000000    6.874198  \n",
      "31      Negative           -0.725000                0.833333    6.874198  \n",
      "32       Neutral            0.000000                0.000000    6.874198  \n",
      "33           NaN                 NaN                     NaN    6.874198  \n",
      "34      Positive            0.500000                0.600000    6.874198  \n",
      "35      Negative           -0.800000                0.900000    6.874198  \n",
      "36           NaN                 NaN                     NaN    6.874198  \n",
      "37       Neutral            0.000000                0.000000    6.874198  \n",
      "38      Positive            0.500000                0.600000    6.874198  \n",
      "39      Positive            0.500000                0.600000    6.874198  \n",
      "40      Positive            0.433333                0.466667    6.874198  \n",
      "41           NaN                 NaN                     NaN    6.874198  \n",
      "42      Negative           -1.000000                1.000000    6.874198  \n",
      "43      Positive            0.500000                0.888889    6.874198  \n",
      "44      Negative           -0.400000                0.400000    6.874198  \n",
      "45      Positive            0.500000                0.500000    6.874198  \n",
      "46      Negative           -0.200000                0.050000    6.874198  \n",
      "47      Positive            0.750000                0.675000    6.874198  \n",
      "48      Positive            0.500000                0.500000    6.874198  \n",
      "49      Negative           -0.800000                0.900000    6.874198  \n",
      "50           NaN                 NaN                     NaN    6.874198  \n",
      "...          ...                 ...                     ...         ...  \n",
      "122613       NaN                 NaN                     NaN   12.319138  \n",
      "122614       NaN                 NaN                     NaN   12.319138  \n",
      "122615       NaN                 NaN                     NaN   12.319138  \n",
      "122619       NaN                 NaN                     NaN   12.319138  \n",
      "122620       NaN                 NaN                     NaN   12.319138  \n",
      "122622       NaN                 NaN                     NaN   12.319138  \n",
      "122623       NaN                 NaN                     NaN   12.319138  \n",
      "122625       NaN                 NaN                     NaN   12.319138  \n",
      "122626       NaN                 NaN                     NaN   12.319138  \n",
      "122627       NaN                 NaN                     NaN   12.319138  \n",
      "122628       NaN                 NaN                     NaN   12.319138  \n",
      "122629       NaN                 NaN                     NaN   12.319138  \n",
      "122632       NaN                 NaN                     NaN   12.319138  \n",
      "122638       NaN                 NaN                     NaN   12.319138  \n",
      "122639       NaN                 NaN                     NaN   12.319138  \n",
      "122641       NaN                 NaN                     NaN   12.319138  \n",
      "122642       NaN                 NaN                     NaN   12.319138  \n",
      "122644       NaN                 NaN                     NaN   12.319138  \n",
      "122645       NaN                 NaN                     NaN   12.319138  \n",
      "122647       NaN                 NaN                     NaN   12.319138  \n",
      "122648       NaN                 NaN                     NaN   12.319138  \n",
      "122649       NaN                 NaN                     NaN   12.319138  \n",
      "122650       NaN                 NaN                     NaN   12.319138  \n",
      "122651       NaN                 NaN                     NaN   12.319138  \n",
      "122653       NaN                 NaN                     NaN   12.319138  \n",
      "122654       NaN                 NaN                     NaN   12.319138  \n",
      "122655       NaN                 NaN                     NaN   12.319138  \n",
      "122656       NaN                 NaN                     NaN   12.319138  \n",
      "122657       NaN                 NaN                     NaN   12.319138  \n",
      "122658       NaN                 NaN                     NaN   12.319138  \n",
      "\n",
      "[81001 rows x 18 columns]\n"
     ]
    }
   ],
   "source": [
    "duplicateRowsDF = data_merged[data_merged.duplicated()]\n",
    " \n",
    "print(\"Duplicate Rows except first occurrence based on all columns are :\")\n",
    "print(duplicateRowsDF)"
   ]
  },
  {
   "cell_type": "code",
   "execution_count": 418,
   "metadata": {},
   "outputs": [
    {
     "data": {
      "text/plain": [
       "120782    !!!Dont waste time! Failed Samsung flagship ph...\n",
       "3820                   \"...Future Follow updated follow\"...\n",
       "3780                   \"...Future Follow updated follow\"...\n",
       "6216      \"Cisco Spark stopped working\" error group work...\n",
       "47518     \"Classic\" allows untimed play; game holds posi...\n",
       "47298     \"Classic\" allows untimed play; game holds posi...\n",
       "47338     \"Classic\" allows untimed play; game holds posi...\n",
       "47438     \"Classic\" allows untimed play; game holds posi...\n",
       "48098     \"Classic\" allows untimed play; game holds posi...\n",
       "47998     \"Classic\" allows untimed play; game holds posi...\n",
       "47958     \"Classic\" allows untimed play; game holds posi...\n",
       "47878     \"Classic\" allows untimed play; game holds posi...\n",
       "47778     \"Classic\" allows untimed play; game holds posi...\n",
       "47738     \"Classic\" allows untimed play; game holds posi...\n",
       "47658     \"Classic\" allows untimed play; game holds posi...\n",
       "47558     \"Classic\" allows untimed play; game holds posi...\n",
       "5954      \"Coming soon\". You link new Google Ads app, in...\n",
       "5874      \"Coming soon\". You link new Google Ads app, in...\n",
       "116817             \"Contains ads\" mean adds take phone, do.\n",
       "9922      \"Does make happy?\" What kind question that? Th...\n",
       "121560      \"Dust bible leads dirt life\" helps stay focused\n",
       "38929     \"Fabulously Fabuloso\" I wanted 2 improve quali...\n",
       "81001     \"Free First Phone Number\" - true false adverti...\n",
       "80961     \"Free First Phone Number\" - true false adverti...\n",
       "20431     \"Great innovation idea towards education highl...\n",
       "20471     \"Great innovation idea towards education highl...\n",
       "80060     \"I Hate's This Apps disgusting many Ads nonsto...\n",
       "80020     \"I Hate's This Apps disgusting many Ads nonsto...\n",
       "10316     \"Love If dial icons could done on/off, even du...\n",
       "28920     \"Mobile currently unavailable\" lol ever availa...\n",
       "                                ...                        \n",
       "122613                                                  NaN\n",
       "122614                                                  NaN\n",
       "122615                                                  NaN\n",
       "122619                                                  NaN\n",
       "122620                                                  NaN\n",
       "122622                                                  NaN\n",
       "122623                                                  NaN\n",
       "122625                                                  NaN\n",
       "122626                                                  NaN\n",
       "122627                                                  NaN\n",
       "122628                                                  NaN\n",
       "122629                                                  NaN\n",
       "122632                                                  NaN\n",
       "122638                                                  NaN\n",
       "122639                                                  NaN\n",
       "122641                                                  NaN\n",
       "122642                                                  NaN\n",
       "122644                                                  NaN\n",
       "122645                                                  NaN\n",
       "122647                                                  NaN\n",
       "122648                                                  NaN\n",
       "122649                                                  NaN\n",
       "122650                                                  NaN\n",
       "122651                                                  NaN\n",
       "122653                                                  NaN\n",
       "122654                                                  NaN\n",
       "122655                                                  NaN\n",
       "122656                                                  NaN\n",
       "122657                                                  NaN\n",
       "122658                                                  NaN\n",
       "Name: Translated_Review, Length: 122662, dtype: object"
      ]
     },
     "execution_count": 418,
     "metadata": {},
     "output_type": "execute_result"
    }
   ],
   "source": [
    "data_merged['Translated_Review'].sort_values()"
   ]
  },
  {
   "cell_type": "code",
   "execution_count": null,
   "metadata": {},
   "outputs": [],
   "source": []
  },
  {
   "cell_type": "code",
   "execution_count": 427,
   "metadata": {},
   "outputs": [
    {
     "data": {
      "text/plain": [
       "App                                                            Block Puzzle\n",
       "Category                                                               GAME\n",
       "Rating                                                                  4.6\n",
       "Reviews                                                               59800\n",
       "Size                                                                    7.8\n",
       "Installs                                                            5000000\n",
       "Type                                                                   Free\n",
       "Price                                                                     0\n",
       "Content Rating                                                     Everyone\n",
       "Genres                                                               Puzzle\n",
       "Last Updated                                                  March 6, 2018\n",
       "Current Ver                                                             2.9\n",
       "Android Ver                                                      2.3 and up\n",
       "Translated_Review         \"Classic\" allows untimed play; game holds posi...\n",
       "Sentiment                                                          Positive\n",
       "Sentiment_Polarity                                                0.0333333\n",
       "Sentiment_Subjectivity                                             0.355556\n",
       "Reviewslog                                                          10.9988\n",
       "Name: 47298, dtype: object"
      ]
     },
     "execution_count": 427,
     "metadata": {},
     "output_type": "execute_result"
    }
   ],
   "source": [
    "data_merged.loc[47298]"
   ]
  },
  {
   "cell_type": "code",
   "execution_count": 428,
   "metadata": {},
   "outputs": [
    {
     "data": {
      "text/plain": [
       "App                                                            Block Puzzle\n",
       "Category                                                               GAME\n",
       "Rating                                                                  4.6\n",
       "Reviews                                                               59907\n",
       "Size                                                                    7.8\n",
       "Installs                                                            5000000\n",
       "Type                                                                   Free\n",
       "Price                                                                     0\n",
       "Content Rating                                                     Everyone\n",
       "Genres                                                               Puzzle\n",
       "Last Updated                                                  March 6, 2018\n",
       "Current Ver                                                             2.9\n",
       "Android Ver                                                      2.3 and up\n",
       "Translated_Review         \"Classic\" allows untimed play; game holds posi...\n",
       "Sentiment                                                          Positive\n",
       "Sentiment_Polarity                                                0.0333333\n",
       "Sentiment_Subjectivity                                             0.355556\n",
       "Reviewslog                                                          11.0005\n",
       "Name: 47998, dtype: object"
      ]
     },
     "execution_count": 428,
     "metadata": {},
     "output_type": "execute_result"
    }
   ],
   "source": [
    "data_merged.loc[47998] "
   ]
  },
  {
   "cell_type": "code",
   "execution_count": 436,
   "metadata": {},
   "outputs": [],
   "source": [
    "data_merged2=data_merged.drop_duplicates(subset=['App','Category',\n",
    " 'Rating',\n",
    " 'Reviews',\n",
    " 'Size',\n",
    " 'Installs',\n",
    " 'Type',\n",
    " 'Price',\n",
    " 'Content Rating',\n",
    " 'Genres',\n",
    " 'Last Updated',\n",
    " 'Current Ver',\n",
    " 'Android Ver',\n",
    " 'Translated_Review',\n",
    " 'Sentiment',\n",
    " 'Sentiment_Polarity',\n",
    " 'Sentiment_Subjectivity'])"
   ]
  },
  {
   "cell_type": "code",
   "execution_count": 437,
   "metadata": {},
   "outputs": [
    {
     "data": {
      "text/plain": [
       "(41661, 18)"
      ]
     },
     "execution_count": 437,
     "metadata": {},
     "output_type": "execute_result"
    }
   ],
   "source": [
    "data_merged2.shape"
   ]
  },
  {
   "cell_type": "code",
   "execution_count": 328,
   "metadata": {},
   "outputs": [
    {
     "data": {
      "text/html": [
       "<div>\n",
       "<style scoped>\n",
       "    .dataframe tbody tr th:only-of-type {\n",
       "        vertical-align: middle;\n",
       "    }\n",
       "\n",
       "    .dataframe tbody tr th {\n",
       "        vertical-align: top;\n",
       "    }\n",
       "\n",
       "    .dataframe thead th {\n",
       "        text-align: right;\n",
       "    }\n",
       "</style>\n",
       "<table border=\"1\" class=\"dataframe\">\n",
       "  <thead>\n",
       "    <tr style=\"text-align: right;\">\n",
       "      <th></th>\n",
       "      <th>App</th>\n",
       "      <th>Category</th>\n",
       "      <th>Rating</th>\n",
       "      <th>Reviews</th>\n",
       "      <th>Size</th>\n",
       "      <th>Installs</th>\n",
       "      <th>Type</th>\n",
       "      <th>Price</th>\n",
       "      <th>Content Rating</th>\n",
       "      <th>Genres</th>\n",
       "      <th>Last Updated</th>\n",
       "      <th>Current Ver</th>\n",
       "      <th>Android Ver</th>\n",
       "      <th>Translated_Review</th>\n",
       "      <th>Sentiment</th>\n",
       "      <th>Sentiment_Polarity</th>\n",
       "      <th>Sentiment_Subjectivity</th>\n",
       "    </tr>\n",
       "  </thead>\n",
       "  <tbody>\n",
       "    <tr>\n",
       "      <th>0</th>\n",
       "      <td>Coloring book moana</td>\n",
       "      <td>ART_AND_DESIGN</td>\n",
       "      <td>3.9</td>\n",
       "      <td>967</td>\n",
       "      <td>14M</td>\n",
       "      <td>500,000+</td>\n",
       "      <td>Free</td>\n",
       "      <td>0</td>\n",
       "      <td>Everyone</td>\n",
       "      <td>Art &amp; Design;Pretend Play</td>\n",
       "      <td>January 15, 2018</td>\n",
       "      <td>2.0.0</td>\n",
       "      <td>4.0.3 and up</td>\n",
       "      <td>A kid's excessive ads. The types ads allowed a...</td>\n",
       "      <td>Negative</td>\n",
       "      <td>-0.250</td>\n",
       "      <td>1.000000</td>\n",
       "    </tr>\n",
       "    <tr>\n",
       "      <th>1</th>\n",
       "      <td>Coloring book moana</td>\n",
       "      <td>ART_AND_DESIGN</td>\n",
       "      <td>3.9</td>\n",
       "      <td>967</td>\n",
       "      <td>14M</td>\n",
       "      <td>500,000+</td>\n",
       "      <td>Free</td>\n",
       "      <td>0</td>\n",
       "      <td>Everyone</td>\n",
       "      <td>Art &amp; Design;Pretend Play</td>\n",
       "      <td>January 15, 2018</td>\n",
       "      <td>2.0.0</td>\n",
       "      <td>4.0.3 and up</td>\n",
       "      <td>It bad &gt;:(</td>\n",
       "      <td>Negative</td>\n",
       "      <td>-0.725</td>\n",
       "      <td>0.833333</td>\n",
       "    </tr>\n",
       "    <tr>\n",
       "      <th>2</th>\n",
       "      <td>Coloring book moana</td>\n",
       "      <td>ART_AND_DESIGN</td>\n",
       "      <td>3.9</td>\n",
       "      <td>967</td>\n",
       "      <td>14M</td>\n",
       "      <td>500,000+</td>\n",
       "      <td>Free</td>\n",
       "      <td>0</td>\n",
       "      <td>Everyone</td>\n",
       "      <td>Art &amp; Design;Pretend Play</td>\n",
       "      <td>January 15, 2018</td>\n",
       "      <td>2.0.0</td>\n",
       "      <td>4.0.3 and up</td>\n",
       "      <td>like</td>\n",
       "      <td>Neutral</td>\n",
       "      <td>0.000</td>\n",
       "      <td>0.000000</td>\n",
       "    </tr>\n",
       "    <tr>\n",
       "      <th>3</th>\n",
       "      <td>Coloring book moana</td>\n",
       "      <td>ART_AND_DESIGN</td>\n",
       "      <td>3.9</td>\n",
       "      <td>967</td>\n",
       "      <td>14M</td>\n",
       "      <td>500,000+</td>\n",
       "      <td>Free</td>\n",
       "      <td>0</td>\n",
       "      <td>Everyone</td>\n",
       "      <td>Art &amp; Design;Pretend Play</td>\n",
       "      <td>January 15, 2018</td>\n",
       "      <td>2.0.0</td>\n",
       "      <td>4.0.3 and up</td>\n",
       "      <td>NaN</td>\n",
       "      <td>NaN</td>\n",
       "      <td>NaN</td>\n",
       "      <td>NaN</td>\n",
       "    </tr>\n",
       "    <tr>\n",
       "      <th>4</th>\n",
       "      <td>Coloring book moana</td>\n",
       "      <td>ART_AND_DESIGN</td>\n",
       "      <td>3.9</td>\n",
       "      <td>967</td>\n",
       "      <td>14M</td>\n",
       "      <td>500,000+</td>\n",
       "      <td>Free</td>\n",
       "      <td>0</td>\n",
       "      <td>Everyone</td>\n",
       "      <td>Art &amp; Design;Pretend Play</td>\n",
       "      <td>January 15, 2018</td>\n",
       "      <td>2.0.0</td>\n",
       "      <td>4.0.3 and up</td>\n",
       "      <td>I love colors inspyering</td>\n",
       "      <td>Positive</td>\n",
       "      <td>0.500</td>\n",
       "      <td>0.600000</td>\n",
       "    </tr>\n",
       "  </tbody>\n",
       "</table>\n",
       "</div>"
      ],
      "text/plain": [
       "                   App        Category  Rating  Reviews Size  Installs  Type  \\\n",
       "0  Coloring book moana  ART_AND_DESIGN     3.9      967  14M  500,000+  Free   \n",
       "1  Coloring book moana  ART_AND_DESIGN     3.9      967  14M  500,000+  Free   \n",
       "2  Coloring book moana  ART_AND_DESIGN     3.9      967  14M  500,000+  Free   \n",
       "3  Coloring book moana  ART_AND_DESIGN     3.9      967  14M  500,000+  Free   \n",
       "4  Coloring book moana  ART_AND_DESIGN     3.9      967  14M  500,000+  Free   \n",
       "\n",
       "  Price Content Rating                     Genres      Last Updated  \\\n",
       "0     0       Everyone  Art & Design;Pretend Play  January 15, 2018   \n",
       "1     0       Everyone  Art & Design;Pretend Play  January 15, 2018   \n",
       "2     0       Everyone  Art & Design;Pretend Play  January 15, 2018   \n",
       "3     0       Everyone  Art & Design;Pretend Play  January 15, 2018   \n",
       "4     0       Everyone  Art & Design;Pretend Play  January 15, 2018   \n",
       "\n",
       "  Current Ver   Android Ver  \\\n",
       "0       2.0.0  4.0.3 and up   \n",
       "1       2.0.0  4.0.3 and up   \n",
       "2       2.0.0  4.0.3 and up   \n",
       "3       2.0.0  4.0.3 and up   \n",
       "4       2.0.0  4.0.3 and up   \n",
       "\n",
       "                                   Translated_Review Sentiment  \\\n",
       "0  A kid's excessive ads. The types ads allowed a...  Negative   \n",
       "1                                         It bad >:(  Negative   \n",
       "2                                               like   Neutral   \n",
       "3                                                NaN       NaN   \n",
       "4                           I love colors inspyering  Positive   \n",
       "\n",
       "   Sentiment_Polarity  Sentiment_Subjectivity  \n",
       "0              -0.250                1.000000  \n",
       "1              -0.725                0.833333  \n",
       "2               0.000                0.000000  \n",
       "3                 NaN                     NaN  \n",
       "4               0.500                0.600000  "
      ]
     },
     "execution_count": 328,
     "metadata": {},
     "output_type": "execute_result"
    }
   ],
   "source": [
    "data_merged.head()"
   ]
  },
  {
   "cell_type": "code",
   "execution_count": null,
   "metadata": {},
   "outputs": [],
   "source": []
  },
  {
   "cell_type": "code",
   "execution_count": 329,
   "metadata": {},
   "outputs": [
    {
     "name": "stdout",
     "output_type": "stream",
     "text": [
      "Data Types: \n",
      " object     13\n",
      "float64     3\n",
      "int64       1\n",
      "dtype: int64\n"
     ]
    }
   ],
   "source": [
    "print(\"Data Types: \\n\", data_merged.dtypes.value_counts())"
   ]
  },
  {
   "cell_type": "code",
   "execution_count": 330,
   "metadata": {},
   "outputs": [
    {
     "data": {
      "text/plain": [
       "array(['Coloring book moana', 'Garden Coloring Book',\n",
       "       '3D Color Pixel by Number - Sandbox Art Coloring', ...,\n",
       "       'Diary with lock password', 'Avakin Life - 3D virtual world',\n",
       "       'A+ Gallery - Photos & Videos'], dtype=object)"
      ]
     },
     "execution_count": 330,
     "metadata": {},
     "output_type": "execute_result"
    }
   ],
   "source": [
    "# unique apps in data_merged.\n",
    "data_merged['App'].unique()"
   ]
  },
  {
   "cell_type": "code",
   "execution_count": 331,
   "metadata": {},
   "outputs": [
    {
     "data": {
      "text/plain": [
       "1020"
      ]
     },
     "execution_count": 331,
     "metadata": {},
     "output_type": "execute_result"
    }
   ],
   "source": [
    "len(data_merged['App'].unique())"
   ]
  },
  {
   "cell_type": "code",
   "execution_count": 332,
   "metadata": {},
   "outputs": [
    {
     "data": {
      "text/plain": [
       "Index(['App', 'Category', 'Rating', 'Reviews', 'Size', 'Installs', 'Type',\n",
       "       'Price', 'Content Rating', 'Genres', 'Last Updated', 'Current Ver',\n",
       "       'Android Ver', 'Translated_Review', 'Sentiment', 'Sentiment_Polarity',\n",
       "       'Sentiment_Subjectivity'],\n",
       "      dtype='object')"
      ]
     },
     "execution_count": 332,
     "metadata": {},
     "output_type": "execute_result"
    }
   ],
   "source": [
    "#Returns the column names.\n",
    "data_merged.columns"
   ]
  },
  {
   "cell_type": "code",
   "execution_count": 333,
   "metadata": {},
   "outputs": [
    {
     "name": "stdout",
     "output_type": "stream",
     "text": [
      "<class 'pandas.core.frame.DataFrame'>\n",
      "RangeIndex: 122662 entries, 0 to 122661\n",
      "Data columns (total 17 columns):\n",
      "App                       122662 non-null object\n",
      "Category                  122662 non-null object\n",
      "Rating                    122622 non-null float64\n",
      "Reviews                   122662 non-null int64\n",
      "Size                      122662 non-null object\n",
      "Installs                  122662 non-null object\n",
      "Type                      122662 non-null object\n",
      "Price                     122662 non-null object\n",
      "Content Rating            122662 non-null object\n",
      "Genres                    122662 non-null object\n",
      "Last Updated              122662 non-null object\n",
      "Current Ver               122662 non-null object\n",
      "Android Ver               122662 non-null object\n",
      "Translated_Review         72605 non-null object\n",
      "Sentiment                 72615 non-null object\n",
      "Sentiment_Polarity        72615 non-null float64\n",
      "Sentiment_Subjectivity    72615 non-null float64\n",
      "dtypes: float64(3), int64(1), object(13)\n",
      "memory usage: 15.9+ MB\n"
     ]
    }
   ],
   "source": [
    "data_merged.info()"
   ]
  },
  {
   "cell_type": "code",
   "execution_count": 334,
   "metadata": {},
   "outputs": [
    {
     "data": {
      "text/plain": [
       "App                           0\n",
       "Category                      0\n",
       "Rating                       40\n",
       "Reviews                       0\n",
       "Size                          0\n",
       "Installs                      0\n",
       "Type                          0\n",
       "Price                         0\n",
       "Content Rating                0\n",
       "Genres                        0\n",
       "Last Updated                  0\n",
       "Current Ver                   0\n",
       "Android Ver                   0\n",
       "Translated_Review         50057\n",
       "Sentiment                 50047\n",
       "Sentiment_Polarity        50047\n",
       "Sentiment_Subjectivity    50047\n",
       "dtype: int64"
      ]
     },
     "execution_count": 334,
     "metadata": {},
     "output_type": "execute_result"
    }
   ],
   "source": [
    "data_merged.isnull().sum()"
   ]
  },
  {
   "cell_type": "code",
   "execution_count": 335,
   "metadata": {},
   "outputs": [],
   "source": [
    "# we need to convert selected variables from object to float or int"
   ]
  },
  {
   "cell_type": "code",
   "execution_count": 336,
   "metadata": {},
   "outputs": [],
   "source": [
    "# store a copy of merged:\n",
    "data_merged1 = data_merged.copy()"
   ]
  },
  {
   "cell_type": "code",
   "execution_count": 337,
   "metadata": {},
   "outputs": [],
   "source": [
    "##############################################################################################"
   ]
  },
  {
   "cell_type": "code",
   "execution_count": 338,
   "metadata": {},
   "outputs": [],
   "source": [
    "# DATA CLEANING"
   ]
  },
  {
   "cell_type": "code",
   "execution_count": 339,
   "metadata": {},
   "outputs": [],
   "source": [
    "# 1) convert features that are object that should be numeric into int or float"
   ]
  },
  {
   "cell_type": "code",
   "execution_count": 340,
   "metadata": {},
   "outputs": [],
   "source": [
    "# Installs"
   ]
  },
  {
   "cell_type": "code",
   "execution_count": 341,
   "metadata": {},
   "outputs": [],
   "source": [
    "# Feature Installs should be interger, need to remove the + and coma"
   ]
  },
  {
   "cell_type": "code",
   "execution_count": 342,
   "metadata": {},
   "outputs": [
    {
     "data": {
      "text/plain": [
       "array(['500,000+', '1,000,000+', '100,000+', '5,000,000+', '10,000+',\n",
       "       '10,000,000+', '100,000,000+', '1,000,000,000+', '50,000,000+',\n",
       "       '500,000,000+', '1,000+', '50,000+', '5,000+'], dtype=object)"
      ]
     },
     "execution_count": 342,
     "metadata": {},
     "output_type": "execute_result"
    }
   ],
   "source": [
    "data_merged['Installs'].unique()"
   ]
  },
  {
   "cell_type": "code",
   "execution_count": 343,
   "metadata": {},
   "outputs": [],
   "source": [
    "# convert installs to numeric int: replace+ by '', but it leaves a coma\n",
    "#data_merged['Installs'].str.replace('+','')"
   ]
  },
  {
   "cell_type": "code",
   "execution_count": 344,
   "metadata": {},
   "outputs": [],
   "source": [
    "# replace comma by nothing and convert to int,and save it into data_merged['Installs'] \n",
    "data_merged['Installs']=data_merged['Installs'].str.replace('+','').str.replace(',','').c"
   ]
  },
  {
   "cell_type": "code",
   "execution_count": 345,
   "metadata": {},
   "outputs": [
    {
     "data": {
      "text/plain": [
       "array([    500000,    1000000,     100000,    5000000,      10000,\n",
       "         10000000,  100000000, 1000000000,   50000000,  500000000,\n",
       "             1000,      50000,       5000])"
      ]
     },
     "execution_count": 345,
     "metadata": {},
     "output_type": "execute_result"
    }
   ],
   "source": [
    "# check if it worked\n",
    "data_merged['Installs'].unique()"
   ]
  },
  {
   "cell_type": "code",
   "execution_count": 346,
   "metadata": {},
   "outputs": [],
   "source": [
    "####Feature Size"
   ]
  },
  {
   "cell_type": "code",
   "execution_count": 347,
   "metadata": {},
   "outputs": [
    {
     "data": {
      "text/plain": [
       "array(['14M', '33M', '37M', '39M', '12M', '25M', '6.1M', '11M',\n",
       "       'Varies with device', '15M', '24M', '17M', '2.4M', '27M', '16M',\n",
       "       '2.9M', '38M', '21M', '52M', '8.2M', '4.2M', '2.8M', '5.0M',\n",
       "       '5.9M', '19M', '73M', '6.8M', '4.0M', '10M', '2.1M', '42M', '30M',\n",
       "       '29M', '3.9M', '18M', '3.2M', '20M', '26M', '48M', '22M', '8.5M',\n",
       "       '28M', '46M', '23M', '7.1M', '40M', '7.8M', '6.6M', '5.1M', '79k',\n",
       "       '32M', '2.2M', '4.7M', '2.7M', '13M', '118k', '44M', '7.3M',\n",
       "       '695k', '6.2M', '56M', '3.1M', '31M', '8.0M', '7.9M', '1.4M',\n",
       "       '7.2M', '3.8M', '41M', '9.0M', '4.9M', '8.1M', '3.7M', '4.5M',\n",
       "       '2.6M', '6.9M', '7.4M', '1.9M', '1.8M', '2.3M', '5.2M', '1.2M',\n",
       "       '59M', '5.6M', '72M', '9.6M', '43M', '3.6M', '9.5M', '8.9M', '65M',\n",
       "       '79M', '8.4M', '58M', '50M', '45M', '53M', '68M', '66M', '35M',\n",
       "       '76M', '9.4M', '4.3M', '67M', '60M', '5.5M', '3.3M', '7.5M',\n",
       "       '9.1M', '8.3M', '9.2M', '7.0M', '77M', '5.7M', '5.3M', '232k',\n",
       "       '99M', '624k', '95M', '8.5k', '292k', '55M', '80M', '4.4M', '36M',\n",
       "       '3.0M', '1.7M', '4.6M', '7.7M', '74M', '97M', '98M', '78M', '85M',\n",
       "       '63M', '70M', '71M', '49M', '82M', '57M', '86M', '81M', '96M',\n",
       "       '93M', '83M', '54M', '61M', '75M', '51M', '91M', '1.6M', '47M',\n",
       "       '6.4M', '34M', '2.0M', '1.5M', '62M', '4.1M', '9.3M', '9.7M',\n",
       "       '8.7M', '9.8M', '6.0M', '6.5M', '88M', '7.6M', '10.0M', '5.8M',\n",
       "       '1.3M', '9.9M', '3.5M', '5.4M', '853k', '720k', '3.4M', '6.3M',\n",
       "       '92M', '94M'], dtype=object)"
      ]
     },
     "execution_count": 347,
     "metadata": {},
     "output_type": "execute_result"
    }
   ],
   "source": [
    "data_merged['Size'].unique()"
   ]
  },
  {
   "cell_type": "markdown",
   "metadata": {},
   "source": [
    "# to clean size we can use a for loop\n",
    "## for loop to iterate over Size:\n",
    "\n",
    "# create a new empty list:\n",
    "my_new_size=[]\n",
    "\n",
    "# create a list from series data['Size']\n",
    "sizelist=data_merged['Size'].tolist()\n",
    "                     \n",
    "for size in sizelist:# size element in the list\n",
    "       \n",
    "        if size=='Varies with device':\n",
    "            my_new_size.append(size)\n",
    "            \n",
    "        else:\n",
    "            print(size)\n",
    "            print(size[1:0])\n",
    "            unit=size[-1]# the last character of the string is -1\n",
    "            value=float(size[:-1])#change the value to float for all except last character\n",
    "\n",
    "            if unit=='M':\n",
    "                    new_value=value*1000000\n",
    "                    my_new_size.append(new_value)\n",
    "            elif unit=='k':\n",
    "                    new_value=value/1000\n",
    "                    my_new_size.append(new_value)"
   ]
  },
  {
   "cell_type": "code",
   "execution_count": 348,
   "metadata": {},
   "outputs": [],
   "source": [
    "# another way"
   ]
  },
  {
   "cell_type": "code",
   "execution_count": 349,
   "metadata": {},
   "outputs": [
    {
     "data": {
      "text/plain": [
       "dtype('float64')"
      ]
     },
     "execution_count": 349,
     "metadata": {},
     "output_type": "execute_result"
    }
   ],
   "source": [
    "data_merged['Size'] = data_merged['Size'].apply(lambda x: str(x).replace('Varies with device', 'NaN') if 'Varies with device' in str(x) else x)\n",
    "data_merged['Size'] = data_merged['Size'].apply(lambda x: str(x).replace('M', '') if 'M' in str(x) else x)\n",
    "data_merged['Size'] = data_merged['Size'].apply(lambda x: str(x).replace(',', '') if 'M' in str(x) else x)\n",
    "data_merged['Size'] = data_merged['Size'].apply(lambda x: float(str(x).replace('k', '')) / 1000 if 'k' in str(x) else x)\n",
    "data_merged['Size'] = data_merged['Size'].apply(lambda x: float(x))\n",
    "data_merged['Size'].dtypes"
   ]
  },
  {
   "cell_type": "code",
   "execution_count": 350,
   "metadata": {},
   "outputs": [],
   "source": [
    "# in order to know how to replace the NaN\n",
    "# we need to look at the distribution of the non nulls to decide how to deal\n",
    "# with the nan, replace by zero or by the mean/median?"
   ]
  },
  {
   "cell_type": "code",
   "execution_count": 351,
   "metadata": {},
   "outputs": [
    {
     "data": {
      "text/plain": [
       "count    75432.000000\n",
       "mean        34.687861\n",
       "std         27.449311\n",
       "min          0.008500\n",
       "25%         11.000000\n",
       "50%         25.000000\n",
       "75%         53.000000\n",
       "max         99.000000\n",
       "Name: Size, dtype: float64"
      ]
     },
     "execution_count": 351,
     "metadata": {},
     "output_type": "execute_result"
    }
   ],
   "source": [
    "data_merged['Size'].describe()\n",
    "# mean 34.68 and median 25"
   ]
  },
  {
   "cell_type": "code",
   "execution_count": 352,
   "metadata": {},
   "outputs": [],
   "source": [
    "#select those rows that have a null value in the column Size\n",
    "isnull_condition = (data_merged['Size'].isnull())"
   ]
  },
  {
   "cell_type": "code",
   "execution_count": 353,
   "metadata": {},
   "outputs": [
    {
     "data": {
      "image/png": "[encoded data removed]",
      "text/plain": [
       "<Figure size 432x288 with 1 Axes>"
      ]
     },
     "metadata": {
      "needs_background": "light"
     },
     "output_type": "display_data"
    }
   ],
   "source": [
    "non_null_rating = data_merged[~isnull_condition]['Size']\n",
    "#vizualisation distribution of NON NULLs of Size values\n",
    "_=sns.distplot(non_null_rating)\n",
    "plt.title(\"Apps by size\")\n",
    "plt.grid(True)\n",
    "plt.tight_layout()"
   ]
  },
  {
   "cell_type": "code",
   "execution_count": 354,
   "metadata": {},
   "outputs": [],
   "source": [
    "# replace nan by mean: create an array with the non null values and apply the mean"
   ]
  },
  {
   "cell_type": "code",
   "execution_count": 355,
   "metadata": {},
   "outputs": [],
   "source": [
    "size_array = data_merged[data_merged['Size']!=np.nan]['Size']"
   ]
  },
  {
   "cell_type": "code",
   "execution_count": 356,
   "metadata": {},
   "outputs": [
    {
     "data": {
      "text/plain": [
       "0         14.000000\n",
       "1         14.000000\n",
       "2         14.000000\n",
       "3         14.000000\n",
       "4         14.000000\n",
       "5         14.000000\n",
       "6         14.000000\n",
       "7         14.000000\n",
       "8         14.000000\n",
       "9         14.000000\n",
       "10        14.000000\n",
       "11        14.000000\n",
       "12        14.000000\n",
       "13        14.000000\n",
       "14        14.000000\n",
       "15        14.000000\n",
       "16        14.000000\n",
       "17        14.000000\n",
       "18        14.000000\n",
       "19        14.000000\n",
       "20        14.000000\n",
       "21        14.000000\n",
       "22        14.000000\n",
       "23        14.000000\n",
       "24        14.000000\n",
       "25        14.000000\n",
       "26        14.000000\n",
       "27        14.000000\n",
       "28        14.000000\n",
       "29        14.000000\n",
       "            ...    \n",
       "122632    34.687861\n",
       "122633    34.687861\n",
       "122634    34.687861\n",
       "122635    34.687861\n",
       "122636    34.687861\n",
       "122637    34.687861\n",
       "122638    34.687861\n",
       "122639    34.687861\n",
       "122640    34.687861\n",
       "122641    34.687861\n",
       "122642    34.687861\n",
       "122643    34.687861\n",
       "122644    34.687861\n",
       "122645    34.687861\n",
       "122646    34.687861\n",
       "122647    34.687861\n",
       "122648    34.687861\n",
       "122649    34.687861\n",
       "122650    34.687861\n",
       "122651    34.687861\n",
       "122652    34.687861\n",
       "122653    34.687861\n",
       "122654    34.687861\n",
       "122655    34.687861\n",
       "122656    34.687861\n",
       "122657    34.687861\n",
       "122658    34.687861\n",
       "122659    34.687861\n",
       "122660    34.687861\n",
       "122661    34.687861\n",
       "Name: Size, Length: 122662, dtype: float64"
      ]
     },
     "execution_count": 356,
     "metadata": {},
     "output_type": "execute_result"
    }
   ],
   "source": [
    "data_merged['Size'].replace(np.nan,size_array.mean())"
   ]
  },
  {
   "cell_type": "code",
   "execution_count": 357,
   "metadata": {},
   "outputs": [],
   "source": [
    "data_merged['Size']= data_merged['Size'].replace(np.nan,size_array.mean())"
   ]
  },
  {
   "cell_type": "code",
   "execution_count": 358,
   "metadata": {},
   "outputs": [
    {
     "data": {
      "text/plain": [
       "array([1.40000000e+01, 3.30000000e+01, 3.70000000e+01, 3.90000000e+01,\n",
       "       1.20000000e+01, 2.50000000e+01, 6.10000000e+00, 1.10000000e+01,\n",
       "       3.46878609e+01, 1.50000000e+01, 2.40000000e+01, 1.70000000e+01,\n",
       "       2.40000000e+00, 2.70000000e+01, 1.60000000e+01, 2.90000000e+00,\n",
       "       3.80000000e+01, 2.10000000e+01, 5.20000000e+01, 8.20000000e+00,\n",
       "       4.20000000e+00, 2.80000000e+00, 5.00000000e+00, 5.90000000e+00,\n",
       "       1.90000000e+01, 7.30000000e+01, 6.80000000e+00, 4.00000000e+00,\n",
       "       1.00000000e+01, 2.10000000e+00, 4.20000000e+01, 3.00000000e+01,\n",
       "       2.90000000e+01, 3.90000000e+00, 1.80000000e+01, 3.20000000e+00,\n",
       "       2.00000000e+01, 2.60000000e+01, 4.80000000e+01, 2.20000000e+01,\n",
       "       8.50000000e+00, 2.80000000e+01, 4.60000000e+01, 2.30000000e+01,\n",
       "       7.10000000e+00, 4.00000000e+01, 7.80000000e+00, 6.60000000e+00,\n",
       "       5.10000000e+00, 7.90000000e-02, 3.20000000e+01, 2.20000000e+00,\n",
       "       4.70000000e+00, 2.70000000e+00, 1.30000000e+01, 1.18000000e-01,\n",
       "       4.40000000e+01, 7.30000000e+00, 6.95000000e-01, 6.20000000e+00,\n",
       "       5.60000000e+01, 3.10000000e+00, 3.10000000e+01, 8.00000000e+00,\n",
       "       7.90000000e+00, 1.40000000e+00, 7.20000000e+00, 3.80000000e+00,\n",
       "       4.10000000e+01, 9.00000000e+00, 4.90000000e+00, 8.10000000e+00,\n",
       "       3.70000000e+00, 4.50000000e+00, 2.60000000e+00, 6.90000000e+00,\n",
       "       7.40000000e+00, 1.90000000e+00, 1.80000000e+00, 2.30000000e+00,\n",
       "       5.20000000e+00, 1.20000000e+00, 5.90000000e+01, 5.60000000e+00,\n",
       "       7.20000000e+01, 9.60000000e+00, 4.30000000e+01, 3.60000000e+00,\n",
       "       9.50000000e+00, 8.90000000e+00, 6.50000000e+01, 7.90000000e+01,\n",
       "       8.40000000e+00, 5.80000000e+01, 5.00000000e+01, 4.50000000e+01,\n",
       "       5.30000000e+01, 6.80000000e+01, 6.60000000e+01, 3.50000000e+01,\n",
       "       7.60000000e+01, 9.40000000e+00, 4.30000000e+00, 6.70000000e+01,\n",
       "       6.00000000e+01, 5.50000000e+00, 3.30000000e+00, 7.50000000e+00,\n",
       "       9.10000000e+00, 8.30000000e+00, 9.20000000e+00, 7.00000000e+00,\n",
       "       7.70000000e+01, 5.70000000e+00, 5.30000000e+00, 2.32000000e-01,\n",
       "       9.90000000e+01, 6.24000000e-01, 9.50000000e+01, 8.50000000e-03,\n",
       "       2.92000000e-01, 5.50000000e+01, 8.00000000e+01, 4.40000000e+00,\n",
       "       3.60000000e+01, 3.00000000e+00, 1.70000000e+00, 4.60000000e+00,\n",
       "       7.70000000e+00, 7.40000000e+01, 9.70000000e+01, 9.80000000e+01,\n",
       "       7.80000000e+01, 8.50000000e+01, 6.30000000e+01, 7.00000000e+01,\n",
       "       7.10000000e+01, 4.90000000e+01, 8.20000000e+01, 5.70000000e+01,\n",
       "       8.60000000e+01, 8.10000000e+01, 9.60000000e+01, 9.30000000e+01,\n",
       "       8.30000000e+01, 5.40000000e+01, 6.10000000e+01, 7.50000000e+01,\n",
       "       5.10000000e+01, 9.10000000e+01, 1.60000000e+00, 4.70000000e+01,\n",
       "       6.40000000e+00, 3.40000000e+01, 2.00000000e+00, 1.50000000e+00,\n",
       "       6.20000000e+01, 4.10000000e+00, 9.30000000e+00, 9.70000000e+00,\n",
       "       8.70000000e+00, 9.80000000e+00, 6.00000000e+00, 6.50000000e+00,\n",
       "       8.80000000e+01, 7.60000000e+00, 5.80000000e+00, 1.30000000e+00,\n",
       "       9.90000000e+00, 3.50000000e+00, 5.40000000e+00, 8.53000000e-01,\n",
       "       7.20000000e-01, 3.40000000e+00, 6.30000000e+00, 9.20000000e+01,\n",
       "       9.40000000e+01])"
      ]
     },
     "execution_count": 358,
     "metadata": {},
     "output_type": "execute_result"
    }
   ],
   "source": [
    "# new size uniques (numeric, and no nans: \n",
    "data_merged['Size'].unique()"
   ]
  },
  {
   "cell_type": "code",
   "execution_count": 359,
   "metadata": {},
   "outputs": [
    {
     "data": {
      "text/plain": [
       "count    122662.000000\n",
       "mean         34.687861\n",
       "std          21.525494\n",
       "min           0.008500\n",
       "25%          19.000000\n",
       "50%          34.687861\n",
       "75%          35.000000\n",
       "max          99.000000\n",
       "Name: Size, dtype: float64"
      ]
     },
     "execution_count": 359,
     "metadata": {},
     "output_type": "execute_result"
    }
   ],
   "source": [
    "# new size describe without the nan (mean previously was # mean 34.68 and median 25)\n",
    "data_merged['Size'].describe()\n",
    "# wo the nan , the mean is 34 and median 34"
   ]
  },
  {
   "cell_type": "code",
   "execution_count": null,
   "metadata": {},
   "outputs": [],
   "source": []
  },
  {
   "cell_type": "code",
   "execution_count": 360,
   "metadata": {},
   "outputs": [],
   "source": [
    "##### Feature Price "
   ]
  },
  {
   "cell_type": "code",
   "execution_count": 361,
   "metadata": {},
   "outputs": [],
   "source": [
    "#Price is store as an object\n",
    "#data_merged['Price'].dtypes"
   ]
  },
  {
   "cell_type": "code",
   "execution_count": 362,
   "metadata": {},
   "outputs": [
    {
     "data": {
      "text/plain": [
       "array(['0', '$6.99', 0, '$1.99', '$4.99', '$3.99', '$2.99', '$11.99',\n",
       "       '$9.99', '$7.99', '$33.99', '$3.95', '$29.99', '$2.49', '$0.99'],\n",
       "      dtype=object)"
      ]
     },
     "execution_count": 362,
     "metadata": {},
     "output_type": "execute_result"
    }
   ],
   "source": [
    "data_merged['Price'].unique()"
   ]
  },
  {
   "cell_type": "code",
   "execution_count": 363,
   "metadata": {},
   "outputs": [],
   "source": [
    "# remove dollar from Price and store it in Price2\n",
    "data_merged['Price']= data_merged['Price'].str.replace(\"$\",\"\")"
   ]
  },
  {
   "cell_type": "code",
   "execution_count": 364,
   "metadata": {},
   "outputs": [
    {
     "data": {
      "text/plain": [
       "array(['0', '6.99', nan, '1.99', '4.99', '3.99', '2.99', '11.99', '9.99',\n",
       "       '7.99', '33.99', '3.95', '29.99', '2.49', '0.99'], dtype=object)"
      ]
     },
     "execution_count": 364,
     "metadata": {},
     "output_type": "execute_result"
    }
   ],
   "source": [
    "data_merged['Price'].unique()"
   ]
  },
  {
   "cell_type": "code",
   "execution_count": 400,
   "metadata": {},
   "outputs": [
    {
     "data": {
      "text/plain": [
       "32768"
      ]
     },
     "execution_count": 400,
     "metadata": {},
     "output_type": "execute_result"
    }
   ],
   "source": [
    "data_merged['Price'].isna().sum()"
   ]
  },
  {
   "cell_type": "code",
   "execution_count": 365,
   "metadata": {},
   "outputs": [],
   "source": [
    "# in order to know how to replace the NaN\n",
    "# we need to look at the distribution of the non nulls to decide how to deal\n",
    "# with the nan, replace by zero or by the mean/median?"
   ]
  },
  {
   "cell_type": "code",
   "execution_count": 366,
   "metadata": {},
   "outputs": [],
   "source": [
    "data_merged['Price'] = data_merged['Price'].astype(float)"
   ]
  },
  {
   "cell_type": "code",
   "execution_count": 367,
   "metadata": {},
   "outputs": [],
   "source": [
    "# visualise non nulls in a graph to decide \n",
    "#select those rows that have a null value in the column Size\n",
    "isnull_condition = (data_merged['Price'].isna())"
   ]
  },
  {
   "cell_type": "code",
   "execution_count": 368,
   "metadata": {},
   "outputs": [
    {
     "data": {
      "image/png": "[encoded data removed]",
      "text/plain": [
       "<Figure size 432x288 with 1 Axes>"
      ]
     },
     "metadata": {
      "needs_background": "light"
     },
     "output_type": "display_data"
    }
   ],
   "source": [
    "non_null_rating = data_merged[~isnull_condition]['Price']\n",
    "#vizualisation distribution of NON NULLs of Size values\n",
    "_=sns.distplot(non_null_rating)\n",
    "plt.title(\"Apps by price\")\n",
    "plt.grid(True)\n",
    "plt.tight_layout()"
   ]
  },
  {
   "cell_type": "code",
   "execution_count": 369,
   "metadata": {},
   "outputs": [],
   "source": [
    "# most apps are free so , change nan to zero\n",
    "####"
   ]
  },
  {
   "cell_type": "code",
   "execution_count": 401,
   "metadata": {},
   "outputs": [],
   "source": [
    "# store it into Price\n",
    "data_merged['Price']=data_merged['Price'].fillna(0)"
   ]
  },
  {
   "cell_type": "code",
   "execution_count": 404,
   "metadata": {},
   "outputs": [
    {
     "data": {
      "text/plain": [
       "0"
      ]
     },
     "execution_count": 404,
     "metadata": {},
     "output_type": "execute_result"
    }
   ],
   "source": [
    "data_merged['Price'].isna().sum()"
   ]
  },
  {
   "cell_type": "code",
   "execution_count": 402,
   "metadata": {},
   "outputs": [
    {
     "data": {
      "text/plain": [
       "dtype('float64')"
      ]
     },
     "execution_count": 402,
     "metadata": {},
     "output_type": "execute_result"
    }
   ],
   "source": [
    "data_merged['Price'].dtypes"
   ]
  },
  {
   "cell_type": "code",
   "execution_count": 403,
   "metadata": {},
   "outputs": [
    {
     "data": {
      "text/plain": [
       "count    122662.000000\n",
       "mean          0.128265\n",
       "std           1.563680\n",
       "min           0.000000\n",
       "25%           0.000000\n",
       "50%           0.000000\n",
       "75%           0.000000\n",
       "max          33.990000\n",
       "Name: Price, dtype: float64"
      ]
     },
     "execution_count": 403,
     "metadata": {},
     "output_type": "execute_result"
    }
   ],
   "source": [
    "data_merged['Price'].describe()"
   ]
  },
  {
   "cell_type": "code",
   "execution_count": 373,
   "metadata": {},
   "outputs": [],
   "source": [
    "###### Feature reviews: means numbr of reviews per app"
   ]
  },
  {
   "cell_type": "code",
   "execution_count": 374,
   "metadata": {},
   "outputs": [
    {
     "data": {
      "text/plain": [
       "array([    967,     974,   13791, ...,  179139, 1275373,  223941])"
      ]
     },
     "execution_count": 374,
     "metadata": {},
     "output_type": "execute_result"
    }
   ],
   "source": [
    "# Reviews\n",
    "data_merged['Reviews'].unique()"
   ]
  },
  {
   "cell_type": "code",
   "execution_count": 375,
   "metadata": {},
   "outputs": [
    {
     "data": {
      "text/plain": [
       "1330"
      ]
     },
     "execution_count": 375,
     "metadata": {},
     "output_type": "execute_result"
    }
   ],
   "source": [
    "len(data_merged['Reviews'].unique())"
   ]
  },
  {
   "cell_type": "code",
   "execution_count": 376,
   "metadata": {},
   "outputs": [
    {
     "data": {
      "text/plain": [
       "dtype('int64')"
      ]
     },
     "execution_count": 376,
     "metadata": {},
     "output_type": "execute_result"
    }
   ],
   "source": [
    "data_merged['Reviews'].dtypes"
   ]
  },
  {
   "cell_type": "code",
   "execution_count": 377,
   "metadata": {},
   "outputs": [
    {
     "data": {
      "text/plain": [
       "count    1.226620e+05\n",
       "mean     2.243249e+06\n",
       "std      6.324819e+06\n",
       "min      1.000000e+01\n",
       "25%      2.752400e+04\n",
       "50%      1.598720e+05\n",
       "75%      1.500999e+06\n",
       "max      7.815831e+07\n",
       "Name: Reviews, dtype: float64"
      ]
     },
     "execution_count": 377,
     "metadata": {},
     "output_type": "execute_result"
    }
   ],
   "source": [
    "data_merged['Reviews'].describe()"
   ]
  },
  {
   "cell_type": "code",
   "execution_count": 378,
   "metadata": {},
   "outputs": [
    {
     "name": "stdout",
     "output_type": "stream",
     "text": [
      "range number of reviews:  10 - 78158306\n"
     ]
    }
   ],
   "source": [
    "print(\"range number of reviews: \", data_merged['Reviews'].min(),\"-\",data_merged['Reviews'].max())"
   ]
  },
  {
   "cell_type": "code",
   "execution_count": 379,
   "metadata": {},
   "outputs": [
    {
     "data": {
      "text/plain": [
       "<matplotlib.axes._subplots.AxesSubplot at 0x1a1dddad30>"
      ]
     },
     "execution_count": 379,
     "metadata": {},
     "output_type": "execute_result"
    },
    {
     "data": {
      "image/png": "[encoded data removed]",
      "text/plain": [
       "<Figure size 864x576 with 1 Axes>"
      ]
     },
     "metadata": {
      "needs_background": "light"
     },
     "output_type": "display_data"
    }
   ],
   "source": [
    "_=plt.figure(figsize=(12,8))\n",
    "sns.distplot(data_merged['Reviews'], bins=10 )"
   ]
  },
  {
   "cell_type": "code",
   "execution_count": 380,
   "metadata": {},
   "outputs": [
    {
     "data": {
      "text/plain": [
       "Text(0.5, 1.0, 'Number of reviews')"
      ]
     },
     "execution_count": 380,
     "metadata": {},
     "output_type": "execute_result"
    },
    {
     "data": {
      "image/png": "[encoded data removed]",
      "text/plain": [
       "<Figure size 432x288 with 1 Axes>"
      ]
     },
     "metadata": {
      "needs_background": "light"
     },
     "output_type": "display_data"
    }
   ],
   "source": [
    "#vizualisation distribution of number of reviews values\n",
    "_=sns.boxplot(data_merged['Reviews'])\n",
    "plt.title(\"Number of reviews\")"
   ]
  },
  {
   "cell_type": "code",
   "execution_count": 381,
   "metadata": {},
   "outputs": [],
   "source": [
    "# vizualise, once apply log to reviews"
   ]
  },
  {
   "cell_type": "code",
   "execution_count": 382,
   "metadata": {},
   "outputs": [],
   "source": [
    "def transform_continuous_to_logarithmic_scale(series):\n",
    "  # Transform to logarithmic scale\n",
    "  return np.log(series)"
   ]
  },
  {
   "cell_type": "code",
   "execution_count": 383,
   "metadata": {},
   "outputs": [],
   "source": [
    "data_merged['Reviewslog']=transform_continuous_to_logarithmic_scale(data_merged['Reviews'])"
   ]
  },
  {
   "cell_type": "code",
   "execution_count": 384,
   "metadata": {},
   "outputs": [
    {
     "data": {
      "text/plain": [
       "<matplotlib.axes._subplots.AxesSubplot at 0x1a19c18208>"
      ]
     },
     "execution_count": 384,
     "metadata": {},
     "output_type": "execute_result"
    },
    {
     "data": {
      "image/png": "[encoded data removed]",
      "text/plain": [
       "<Figure size 864x576 with 1 Axes>"
      ]
     },
     "metadata": {
      "needs_background": "light"
     },
     "output_type": "display_data"
    }
   ],
   "source": [
    "_=plt.figure(figsize=(12,8))\n",
    "sns.distplot(data_merged['Reviewslog'], bins=10 )"
   ]
  },
  {
   "cell_type": "code",
   "execution_count": 385,
   "metadata": {},
   "outputs": [],
   "source": [
    "#### Feature Rating: has 40 missing values"
   ]
  },
  {
   "cell_type": "code",
   "execution_count": 386,
   "metadata": {},
   "outputs": [],
   "source": [
    "# Feature Rating: already a float , range should be within 0 to 5\n",
    "# already a float , range should be within 0 to 5"
   ]
  },
  {
   "cell_type": "code",
   "execution_count": 387,
   "metadata": {},
   "outputs": [
    {
     "name": "stdout",
     "output_type": "stream",
     "text": [
      "range: 2.5 - 4.9\n"
     ]
    }
   ],
   "source": [
    "print(\"range:\", data_merged['Rating'].min(),\"-\",data_merged['Rating'].max())"
   ]
  },
  {
   "cell_type": "code",
   "execution_count": 388,
   "metadata": {},
   "outputs": [
    {
     "name": "stdout",
     "output_type": "stream",
     "text": [
      "40 missing values out of 122662\n"
     ]
    }
   ],
   "source": [
    "print(data_merged['Rating'].isna().sum(),\"missing values out of\", len(data_merged['Rating']))"
   ]
  },
  {
   "cell_type": "code",
   "execution_count": 389,
   "metadata": {},
   "outputs": [
    {
     "data": {
      "text/plain": [
       "count    122622.000000\n",
       "mean          4.322405\n",
       "std           0.284766\n",
       "min           2.500000\n",
       "25%           4.200000\n",
       "50%           4.400000\n",
       "75%           4.500000\n",
       "max           4.900000\n",
       "Name: Rating, dtype: float64"
      ]
     },
     "execution_count": 389,
     "metadata": {},
     "output_type": "execute_result"
    }
   ],
   "source": [
    "data_merged['Rating'].describe()"
   ]
  },
  {
   "cell_type": "code",
   "execution_count": 390,
   "metadata": {},
   "outputs": [],
   "source": [
    "#select those rows that have a null value in the column share\n",
    "isnull_condition = (data_merged['Rating'].isnull())"
   ]
  },
  {
   "cell_type": "code",
   "execution_count": 391,
   "metadata": {},
   "outputs": [
    {
     "data": {
      "image/png": "[encoded data removed]",
      "text/plain": [
       "<Figure size 432x288 with 1 Axes>"
      ]
     },
     "metadata": {
      "needs_background": "light"
     },
     "output_type": "display_data"
    }
   ],
   "source": [
    "non_null_rating = data_merged[~isnull_condition]['Rating']\n",
    "#vizualisation distribution 0 of share values\n",
    "_=sns.distplot(non_null_rating)\n",
    "plt.title(\"Apps average rating\")\n",
    "plt.grid(True)\n",
    "plt.tight_layout()"
   ]
  },
  {
   "cell_type": "code",
   "execution_count": 392,
   "metadata": {},
   "outputs": [],
   "source": [
    "rating_array = data_merged[data_merged['Rating']!=np.nan]['Rating']"
   ]
  },
  {
   "cell_type": "code",
   "execution_count": 393,
   "metadata": {},
   "outputs": [
    {
     "data": {
      "text/plain": [
       "0         3.9\n",
       "1         3.9\n",
       "2         3.9\n",
       "3         3.9\n",
       "4         3.9\n",
       "5         3.9\n",
       "6         3.9\n",
       "7         3.9\n",
       "8         3.9\n",
       "9         3.9\n",
       "10        3.9\n",
       "11        3.9\n",
       "12        3.9\n",
       "13        3.9\n",
       "14        3.9\n",
       "15        3.9\n",
       "16        3.9\n",
       "17        3.9\n",
       "18        3.9\n",
       "19        3.9\n",
       "20        3.9\n",
       "21        3.9\n",
       "22        3.9\n",
       "23        3.9\n",
       "24        3.9\n",
       "25        3.9\n",
       "26        3.9\n",
       "27        3.9\n",
       "28        3.9\n",
       "29        3.9\n",
       "         ... \n",
       "122632    4.5\n",
       "122633    4.5\n",
       "122634    4.5\n",
       "122635    4.5\n",
       "122636    4.5\n",
       "122637    4.5\n",
       "122638    4.5\n",
       "122639    4.5\n",
       "122640    4.5\n",
       "122641    4.5\n",
       "122642    4.5\n",
       "122643    4.5\n",
       "122644    4.5\n",
       "122645    4.5\n",
       "122646    4.5\n",
       "122647    4.5\n",
       "122648    4.5\n",
       "122649    4.5\n",
       "122650    4.5\n",
       "122651    4.5\n",
       "122652    4.5\n",
       "122653    4.5\n",
       "122654    4.5\n",
       "122655    4.5\n",
       "122656    4.5\n",
       "122657    4.5\n",
       "122658    4.5\n",
       "122659    4.5\n",
       "122660    4.5\n",
       "122661    4.5\n",
       "Name: Rating, Length: 122662, dtype: float64"
      ]
     },
     "execution_count": 393,
     "metadata": {},
     "output_type": "execute_result"
    }
   ],
   "source": [
    "# replace 40 nan with mean rating\n",
    "data_merged['Rating'].replace(np.nan,rating_array.mean())"
   ]
  },
  {
   "cell_type": "code",
   "execution_count": 394,
   "metadata": {},
   "outputs": [],
   "source": [
    "data_merged['Rating']= data_merged['Rating'].replace(np.nan,rating_array.mean())"
   ]
  },
  {
   "cell_type": "code",
   "execution_count": 395,
   "metadata": {
    "scrolled": true
   },
   "outputs": [
    {
     "data": {
      "text/plain": [
       "array([3.9       , 4.4       , 4.3       , 4.1       , 4.7       ,\n",
       "       4.5       , 4.2       , 4.9       , 4.6       , 4.        ,\n",
       "       4.8       , 3.4       , 3.5       , 3.8       , 3.2       ,\n",
       "       3.7       , 2.6       , 3.3       , 3.        , 2.5       ,\n",
       "       3.6       , 3.1       , 4.32240463, 2.7       ])"
      ]
     },
     "execution_count": 395,
     "metadata": {},
     "output_type": "execute_result"
    }
   ],
   "source": [
    "data_merged['Rating'].unique()"
   ]
  },
  {
   "cell_type": "code",
   "execution_count": 396,
   "metadata": {},
   "outputs": [
    {
     "data": {
      "text/plain": [
       "Text(0.5, 1.0, 'Apps by rating')"
      ]
     },
     "execution_count": 396,
     "metadata": {},
     "output_type": "execute_result"
    },
    {
     "data": {
      "image/png": "[encoded data removed]",
      "text/plain": [
       "<Figure size 432x288 with 1 Axes>"
      ]
     },
     "metadata": {
      "needs_background": "light"
     },
     "output_type": "display_data"
    }
   ],
   "source": [
    "#vizualisation distribution of new ['Rating'] values\n",
    "_=sns.boxplot(data_merged['Rating'])\n",
    "plt.title(\"Apps by rating\")"
   ]
  },
  {
   "cell_type": "code",
   "execution_count": 397,
   "metadata": {},
   "outputs": [],
   "source": [
    "#### Feature Last Updated"
   ]
  },
  {
   "cell_type": "code",
   "execution_count": 398,
   "metadata": {},
   "outputs": [
    {
     "data": {
      "text/plain": [
       "array(['January 15, 2018', 'September 20, 2017', 'August 3, 2018',\n",
       "       'March 20, 2018', 'October 11, 2017', 'March 21, 2018',\n",
       "       'July 19, 2018', 'January 6, 2018', 'July 14, 2018',\n",
       "       'July 20, 2018', 'July 31, 2018', 'July 3, 2018', 'June 12, 2018',\n",
       "       'July 11, 2018', 'March 27, 2018', 'August 4, 2018',\n",
       "       'July 29, 2018', 'August 2, 2018', 'July 12, 2018',\n",
       "       'February 28, 2018', 'July 25, 2018', 'May 10, 2018',\n",
       "       'August 3, 2017', 'May 24, 2018', 'May 14, 2018', 'March 1, 2017',\n",
       "       'July 27, 2018', 'July 17, 2015', 'May 18, 2018', 'June 28, 2018',\n",
       "       'January 21, 2018', 'August 1, 2018', 'May 27, 2018',\n",
       "       'June 25, 2018', 'November 23, 2017', 'August 28, 2017',\n",
       "       'August 20, 2016', 'July 28, 2018', 'February 15, 2018',\n",
       "       'July 17, 2018', 'April 2, 2018', 'July 24, 2018', 'July 8, 2018',\n",
       "       'June 26, 2018', 'August 6, 2018', 'June 21, 2018',\n",
       "       'July 26, 2018', 'June 8, 2018', 'July 30, 2018', 'April 18, 2018',\n",
       "       'February 13, 2018', 'June 29, 2018', 'May 23, 2018',\n",
       "       'June 5, 2018', 'May 26, 2018', 'June 16, 2018', 'July 21, 2018',\n",
       "       'July 10, 2018', 'June 19, 2018', 'July 2, 2018', 'July 6, 2018',\n",
       "       'June 27, 2018', 'September 2, 2015', 'April 19, 2018',\n",
       "       'January 23, 2018', 'April 1, 2016', 'March 5, 2017',\n",
       "       'May 15, 2018', 'June 22, 2018', 'July 5, 2018', 'June 7, 2016',\n",
       "       'April 3, 2018', 'July 6, 2014', 'October 25, 2017',\n",
       "       'November 21, 2017', 'January 27, 2017', 'February 3, 2017',\n",
       "       'February 25, 2016', 'June 20, 2018', 'May 21, 2018',\n",
       "       'December 28, 2017', 'July 7, 2018', 'February 1, 2017',\n",
       "       'June 1, 2018', 'May 31, 2018', 'March 29, 2018', 'July 23, 2018',\n",
       "       'February 16, 2018', 'July 9, 2018', 'July 18, 2018',\n",
       "       'October 23, 2016', 'March 9, 2018', 'August 17, 2017',\n",
       "       'August 21, 2014', 'August 22, 2015', 'June 28, 2015',\n",
       "       'April 29, 2015', 'December 2, 2013', 'June 6, 2018',\n",
       "       'September 20, 2016', 'December 20, 2016', 'January 11, 2015',\n",
       "       'July 16, 2018', 'September 14, 2016', 'June 11, 2018',\n",
       "       'March 5, 2018', 'April 12, 2018', 'June 15, 2018',\n",
       "       'July 13, 2018', 'July 7, 2017', 'May 4, 2018', 'May 29, 2018',\n",
       "       'December 4, 2017', 'June 23, 2018', 'May 8, 2018', 'May 25, 2018',\n",
       "       'June 9, 2018', 'June 18, 2018', 'July 22, 2018', 'June 7, 2017',\n",
       "       'March 13, 2018', 'May 9, 2018', 'May 30, 2018',\n",
       "       'October 18, 2017', 'April 25, 2018', 'April 10, 2018',\n",
       "       'June 14, 2018', 'July 28, 2016', 'May 17, 2018', 'August 5, 2018',\n",
       "       'February 17, 2017', 'August 27, 2016', 'July 15, 2018',\n",
       "       'March 22, 2018', 'January 29, 2018', 'July 23, 2014',\n",
       "       'February 18, 2018', 'March 13, 2015', 'April 7, 2015',\n",
       "       'March 12, 2015', 'March 6, 2013', 'January 17, 2012',\n",
       "       'September 27, 2017', 'March 14, 2016', 'June 29, 2011',\n",
       "       'February 20, 2018', 'January 9, 2018', 'April 26, 2018',\n",
       "       'December 20, 2017', 'November 3, 2016', 'June 30, 2018',\n",
       "       'June 30, 2016', 'December 17, 2016', 'September 27, 2016',\n",
       "       'August 29, 2017', 'April 30, 2014', 'March 8, 2017',\n",
       "       'September 13, 2017', 'April 17, 2018', 'April 9, 2018',\n",
       "       'March 6, 2018', 'April 13, 2018', 'April 11, 2018',\n",
       "       'August 7, 2018', 'December 22, 2017', 'May 3, 2018',\n",
       "       'April 12, 2017', 'March 14, 2017', 'October 12, 2017',\n",
       "       'June 4, 2018', 'July 4, 2018', 'July 17, 2017', 'May 22, 2018',\n",
       "       'February 1, 2018', 'October 6, 2017', 'March 23, 2018',\n",
       "       'February 7, 2018', 'March 28, 2018', 'August 31, 2017',\n",
       "       'July 22, 2016', 'February 18, 2016', 'August 2, 2017',\n",
       "       'June 7, 2018', 'September 8, 2016', 'June 13, 2018',\n",
       "       'January 31, 2018', 'August 4, 2017', 'December 9, 2014',\n",
       "       'December 30, 2016', 'February 11, 2016', 'August 7, 2014',\n",
       "       'January 8, 2017', 'October 2, 2017', 'March 14, 2015',\n",
       "       'January 2, 2018', 'October 17, 2016', 'May 2, 2018',\n",
       "       'March 24, 2018', 'December 11, 2017', 'October 22, 2013',\n",
       "       'September 6, 2016', 'January 18, 2015', 'April 5, 2017',\n",
       "       'September 12, 2016', 'June 8, 2016', 'February 29, 2016',\n",
       "       'May 18, 2017', 'July 25, 2015', 'December 1, 2017',\n",
       "       'March 5, 2015', 'February 6, 2018', 'November 22, 2017',\n",
       "       'February 10, 2015', 'November 10, 2017', 'October 17, 2015',\n",
       "       'April 6, 2017', 'January 19, 2017', 'February 11, 2018',\n",
       "       'March 15, 2017', 'April 23, 2018', 'June 23, 2017',\n",
       "       'September 8, 2017', 'March 14, 2018', 'August 23, 2016',\n",
       "       'December 6, 2016', 'March 21, 2016', 'November 13, 2017',\n",
       "       'August 9, 2017', 'July 14, 2015', 'August 10, 2016',\n",
       "       'July 27, 2016', 'March 21, 2017', 'May 12, 2017',\n",
       "       'April 22, 2014', 'March 16, 2018', 'January 22, 2018',\n",
       "       'December 29, 2017', 'December 14, 2017', 'October 27, 2017',\n",
       "       'November 18, 2017', 'May 12, 2018', 'June 18, 2017',\n",
       "       'February 25, 2018', 'July 25, 2017', 'September 17, 2017',\n",
       "       'February 2, 2018', 'September 25, 2017', 'March 9, 2017',\n",
       "       'July 1, 2018', 'January 22, 2017', 'August 24, 2016',\n",
       "       'October 20, 2016', 'December 7, 2016', 'May 11, 2016',\n",
       "       'April 4, 2014', 'March 17, 2018', 'November 20, 2017',\n",
       "       'September 14, 2017', 'May 1, 2014', 'October 29, 2017',\n",
       "       'December 8, 2017', 'October 9, 2017', 'April 22, 2016',\n",
       "       'April 14, 2017', 'December 27, 2017', 'March 15, 2018',\n",
       "       'August 7, 2016', 'December 11, 2016', 'December 19, 2015',\n",
       "       'January 24, 2016', 'September 30, 2013', 'January 16, 2017',\n",
       "       'April 29, 2018', 'January 8, 2018', 'March 30, 2018',\n",
       "       'March 19, 2018', 'August 10, 2017', 'July 29, 2017',\n",
       "       'December 3, 2015', 'February 13, 2015', 'February 3, 2015',\n",
       "       'June 3, 2016', 'January 13, 2018', 'March 11, 2016',\n",
       "       'May 25, 2017', 'August 9, 2016', 'November 6, 2017',\n",
       "       'December 4, 2016', 'January 5, 2017', 'April 22, 2018',\n",
       "       'June 16, 2017', 'December 30, 2017', 'May 13, 2018',\n",
       "       'February 27, 2018', 'May 19, 2017', 'August 24, 2015',\n",
       "       'May 4, 2015', 'May 3, 2017', 'November 1, 2017'], dtype=object)"
      ]
     },
     "execution_count": 398,
     "metadata": {},
     "output_type": "execute_result"
    }
   ],
   "source": [
    "data_merged['Last Updated'].unique()"
   ]
  },
  {
   "cell_type": "code",
   "execution_count": null,
   "metadata": {},
   "outputs": [],
   "source": []
  },
  {
   "cell_type": "code",
   "execution_count": null,
   "metadata": {},
   "outputs": [],
   "source": []
  },
  {
   "cell_type": "code",
   "execution_count": null,
   "metadata": {},
   "outputs": [],
   "source": []
  },
  {
   "cell_type": "code",
   "execution_count": null,
   "metadata": {},
   "outputs": [],
   "source": []
  },
  {
   "cell_type": "code",
   "execution_count": null,
   "metadata": {},
   "outputs": [],
   "source": []
  },
  {
   "cell_type": "code",
   "execution_count": null,
   "metadata": {},
   "outputs": [],
   "source": []
  },
  {
   "cell_type": "code",
   "execution_count": 302,
   "metadata": {},
   "outputs": [],
   "source": [
    "#### Feature current version: I will deal with this later#####################"
   ]
  },
  {
   "cell_type": "code",
   "execution_count": 438,
   "metadata": {},
   "outputs": [
    {
     "data": {
      "text/plain": [
       "array(['2.0.0', '2.9.2', '1.2.3', '2.2.5', '1.1', '1.0.8', '1.03', '2.20',\n",
       "       '1.1.0', 'Varies with device', '2.0.1', '1.6.1', '1.7', '1.37',\n",
       "       '1.6', '1.0.3', '1.0.6', '1.9', '1.0.2.0', '2.1', '1.0', '2.0.075',\n",
       "       '1.911805270', '2.3.18', '5.0.6', '2.0', '6.0.8', '9.00.950462',\n",
       "       '3.05', '2.5.3', '7.0.4.6', '1.15', '3.1.7.9', '3.9.1', '3.4.2',\n",
       "       '2.19.0.204537701', '3.3', '3.550.2', '1.1.13', '5.86',\n",
       "       '99.0.0.35.75', '3.9.2', '1.12.0', '1.7.14', '3.19.005', '6.1.2',\n",
       "       '6.4.4', '3.7.5', '2.6.158', '5.20.7', '11.1.0', '3.0.4651',\n",
       "       '3.3.0', '2.22.397', '3.1.0', '1.7.7', '1.01', '2.8.4.201036949',\n",
       "       '1.3.4', '24.6.6', '3.2.0.100171', '5.2', '69.0.3497.24',\n",
       "       '37.1.206017801.DR37_RC14', '0.1.100944346', '3.0.4', '7.73',\n",
       "       '5.65.0', '5.22.18.0006', '1.4.1.0', '6.4.0.4', '5.85.1', '196',\n",
       "       '3.5.0', '8.1.2-6310', '1.286', '2.17.3', '5.28.0', '1.9.4.74',\n",
       "       '5.0.9', '2.8', '1.1.6', '2.5.2', '6.1.3', '4.17.2', '3.5.0.1',\n",
       "       '4.19.0.2320', '1.639', '2.5.1', '1.9.7', '1.308.us', '5.0.1',\n",
       "       '4.5.5', '1.6.5', '1.31.4', '1.230', '2.2', '15.8', '4.8.5',\n",
       "       '2.9.6', '1.0.5', '1.5', '2.0.5', '2.2.0.1748', '3.0.15', '12.0.4',\n",
       "       '6.4.1', '8.7.2', '2.8.0', '3.4.1.1', '5.5.7', '1.5.4.0', '5.2.9',\n",
       "       '4.3.2', '4.4.1', '8.2', '4.813', '2.1.8', '20.7.2', '1.17',\n",
       "       '2.2.4', '3.0', '2.8.1', '1.2.0', '2.9', '8.5.2', '2.3.1',\n",
       "       '15.9.4', '9.12.5', '9.12.6', '4.21.1', '2.6.6', '5.7.0', '2.4.4',\n",
       "       '5.7.1', '4.6.2', '3.0.231.18141', '2.19.0', '2.1.1', '6.18.3',\n",
       "       '2.9.4', '01.01.66', '4.8.6', '3.1.4', '11.45.0', '1.16',\n",
       "       '16.0.0.437', '6.6.1', '2.3.2', '8.1', '8.4', '4.3.6', '3.8',\n",
       "       '1.3', '11.1.1', '20.1.0', '2.31.1', '2.6.0', '5.10.1.40699',\n",
       "       '5.38.1', '2.70.206190089', '6.0.16', '2.29.01', '2.0.4', '5.1.1',\n",
       "       '2.1.4', '1.17.1', '1.18.0', '3.1.16', '2.9.5', '1.9.9.9.3',\n",
       "       '2.10.3', '6.8.2', '3.0.22', '6.0.6', '4.2.1', '2.131', '6.0.2',\n",
       "       '5.1', '4.10.0', '5.9.1.0', '7.8.8', '9.7.0', '6.7.0', '9.9.0',\n",
       "       '3.52', '6.29.37589', '2.12', '1.9.117', '5.0.0', '7.12', '6.0.1',\n",
       "       '2.1.0', '3.2.0', '4.0.0.427', '24.5.0', '2.76.2.0-android',\n",
       "       '5.7.23', '3.1.14', '2.4.11', '1.0.2', '1.1.22', '1.0.12', '3.0.7',\n",
       "       '2.8.2', '2.6', '112.0', '3.48', '5.3', '4.4', '6.2.73', '6.7',\n",
       "       '2.6.1', '3.0.0', '3.6.4', '7.3.4-play', '2.9.18', '10.24',\n",
       "       '8.8.14', '4.5.4', '6.5.1', '2.3.4', '10.2.0', '1.0.9',\n",
       "       '1.31.0-15160.950adac99', '9.6.8', '6.7.12.2018', '3.6', '3.2.4',\n",
       "       '2.4.2', '4.7.13', '4.3.0', '1.2', '1.4', '5.20.38', '7.0', '5.0',\n",
       "       '1.02', '1.8', '2.4', '8.0', '4.2.2', '5.1.2', '2.5', '5.2.4(881)',\n",
       "       '2.2.9', '4.90', '3.7', '16.7.1', '8.00.775375', '9.6.3', '1.5.1',\n",
       "       '7.0.8', '10.0', '3.1.2.1', '1.6.2', '9.1.0', '2.2.6', '12.1.0',\n",
       "       '3.6.3', '1.129.0.2', '1.20.1', '2.3.3122', '2.6.9', '1.118.4',\n",
       "       '10.322.16', '4.0.0', '4.8.4', '1.4.0.1', '7.9.3', '4.0', '2.21.5',\n",
       "       '5.66', '3.5', '1.3.7', '2.1.10', '1.37.2', '2.6.2', '5.1.8',\n",
       "       '5.2.6', '3.7.2', '1.21.0', '2.12.5', '5.064', '3.3.3179',\n",
       "       '1.17.2', '2.10.2', '1.9.2', '2.0.6', '1.0.1.049', '2.5.0',\n",
       "       '1.7.2', '1.8.2', '1.4.51', '1.1.1', '1.11.0', '1.2.2',\n",
       "       '1.8.0.900', '2.1.1.4.0', '1.5.2', '2.0.2', '3.30.4.83',\n",
       "       '2.0081_206', '1.3.3', '2.2.1', '1.0.11', '2.21.1', '1.13.12',\n",
       "       '5.8.1', '2.3.5', '1.8.225278', '3.0.2', '1.1.40', '1.7.1',\n",
       "       '1.8.20', '1.1.5', '2.11.1', '3.1.1', '1.1.7', '2.2.8', '0.5.8',\n",
       "       '1.2.6', '1.2.7', '1.15.2', '2.6.61', '1.9.1', '57.0.8',\n",
       "       '2.9.3181', '1.0.109', '60', '1.4.12', '1.49', '2.0.3165',\n",
       "       '2.2.3169', '1.0.3122', '8.25.10.00', '6.1', '3.5.3183',\n",
       "       '8.4.3180', '1.4.4', '2.2.3172', '1.0.89', '2.0.5.0', '8.25.10.01',\n",
       "       '1.6.4', '2.0.7.4', '1.2.1', '149', '1.1.9', '3.2.0h', '37893',\n",
       "       '3.200.18289', '1.19', '1.0.4', '1.15.3028.0', '2.72', '4.0.2',\n",
       "       '2.9.7', '2.2.3', '4.2', '20180609', '2.0.7', '3.46', '3.53',\n",
       "       '1.38.0', '7.2.0', '28.0.14', '1.1.3', '3.0.5', '4.4.5', '2.1.35',\n",
       "       '5.4.8', '3.27.3', '3.25.0', '8.0.226', '7.4.1', '1.4.6', '4.36',\n",
       "       '2.25.0', '2.1.3', '2.15', '4.6.0', '2.4.0', '1.3.185', '4.4.7',\n",
       "       '4.3.2.315', '4.5.2', '4.5.1', '2.1.0.372', '2.7.36', '1.0.0.10',\n",
       "       '10.4.1.015_05', '4.0.9', '0.6.88', '4.0.5', '2.4.12', '1.8.19179',\n",
       "       '13.0', '8.00.752746', '3.8.1', '7.0.7', '4.6.2.0', '3.4.5',\n",
       "       '1.8.0', '16.14.0.850', '16.14.0.100', '6.0.4', '7.8.1', '29.14',\n",
       "       '4.89', '3.0.3', '4.31.2', '5.0.2', '3.13.09', '11.6.0', '5.3.1',\n",
       "       '4.4.9', '2.18.2', '2.1.9', '5.0.508', '7.6.5', '1.8.5', '22.0',\n",
       "       '6.9.031', '4.1', '2.74.685', '1.6.0', '4.7.3', '4.47', '9.3.1',\n",
       "       '1.32', '3.31.4', '2.2.93', '6.2.9', '1.5.5', '4.6.0.0', '5.5.2',\n",
       "       '6.4.3', '4.5', '4.0.7', '3.3.5', '4.3.1', '1004.0', '5.3.0',\n",
       "       '2.9.9go', '3.17.0+3', '4.5.19.56', '1.31.0', '8.9.3', '4.18.0',\n",
       "       '2.46.1', '3.21.324', '7.0.2', '2.5.7.1', '4.4.15', '5.5.9',\n",
       "       '18.30.0', '10.9.8 (Play)', '6.7.1', '1.10.0.205086730', '4.6',\n",
       "       '9.2.17.13', '5.2.0 21127', '5.10.6.2.8466393', '5.0.4', '3.9.7',\n",
       "       '5.16.1', '3.1.3', '4.0.9.1', '1.1.2', '7.8.0', '4.13.2', '8.8.2',\n",
       "       '17.7.8', '4.20', '3.6.6', '53.89.55', '4.9.2', '4.0.38',\n",
       "       '8.1.171', '1.28.1', '3.1.2', 'v8.0.1.8.0629.1', '8.1.6',\n",
       "       '1.0.204375696', 'v7.0.7.1.0625.1_06_0629', '3.2',\n",
       "       '1.8.203182757.armeabi-v7a.release', '1.5.0', '9.7.753080', '10.4',\n",
       "       '1.2.5', '1.4.9', '8.10.1', '1.4.0', '2.4.1', '3.5.6', '32.1',\n",
       "       '2.2.7', '3.1.00', '1.51', '4.0.6', '1.6.11', '6.1.0',\n",
       "       '2.5.1.7592', '3.4.500', '5.34.10', '1.284.1.83', '5.41.0',\n",
       "       '2.6.2.1', '3.3.a', '2.0.0.39_171124', '3.2.5', '6.7.24.2018',\n",
       "       '2.11.5', '5.7.8', '5.7.6', '2.85', '11.0', '1.1.8', '2.41',\n",
       "       '4.0.0.7', '18.0', '15.0', '1.9.7.07', '2.5.9', '4.6.4',\n",
       "       '68.0.3440.91', '68.0.3440.70', '0.1.187945513', '4.1.4',\n",
       "       '4.1.8.2.2', '1.10.0.33_180403', '3.5.12', '2.2.1B216', 'v1.39.3',\n",
       "       '3.2.1', '9.3.5776', '2.4.5', '6.4.0', '1.07.59', '1.26.2',\n",
       "       '2.30.1', '1.9.1.147.0-google', '2.7',\n",
       "       'FreeTimeApp-aosp_v3.14_Build-1.0.204367.0.13014', '1.04', '1.3.0',\n",
       "       '12.2.6.3660', '7.1.34.28', '8.50.935520', '3.1.7', '1.0.1',\n",
       "       '7.10.621414', '6.5.852058', '9.51.755029', '2.71', '5.17',\n",
       "       '5.8.0', '5.2.0', '8.0.6', '7.5.0', '5.38', '2.42.1.9',\n",
       "       '5.9.1.1347176.a3ca6ab274', '3.19.11', '4.4.3', '3.1.12', '3.9.0',\n",
       "       '17.4.11', '4.3', '2.1.2', '7.16.8', '2.7.2', '5.2.10', '4.2.3',\n",
       "       '5.8', '6.5.2', '8.6', '1.3.13', '5.4.4', '4.1.1', '4.0.4',\n",
       "       '1.3.8', '3.7.1a', '1.16.2', '1.58', '4.5.19', '5.4', '2.0.3.1',\n",
       "       '2.8.0.17', '1.10', '1_39_93', '2.6.7.487220', '1.7.1.3', '2.3.3',\n",
       "       '3.5.3', '1.021.10'], dtype=object)"
      ]
     },
     "execution_count": 438,
     "metadata": {},
     "output_type": "execute_result"
    }
   ],
   "source": [
    "#\n",
    "data_merged['Current Ver'].unique()"
   ]
  },
  {
   "cell_type": "code",
   "execution_count": 304,
   "metadata": {},
   "outputs": [],
   "source": [
    "#newcurrentver=newcurrentver.apply(lambda x: 'Varies with device' if x=='Varies with device'  else  re.findall('^[0-9]\\.[0-9]|[\\d]|\\W*',str(x))[0] )"
   ]
  },
  {
   "cell_type": "code",
   "execution_count": 305,
   "metadata": {},
   "outputs": [],
   "source": []
  },
  {
   "cell_type": "code",
   "execution_count": 306,
   "metadata": {},
   "outputs": [],
   "source": [
    "#newcurrentver.replace(np.nan,'Varies with device')"
   ]
  },
  {
   "cell_type": "code",
   "execution_count": null,
   "metadata": {},
   "outputs": [],
   "source": []
  },
  {
   "cell_type": "code",
   "execution_count": null,
   "metadata": {},
   "outputs": [],
   "source": []
  },
  {
   "cell_type": "code",
   "execution_count": null,
   "metadata": {},
   "outputs": [],
   "source": []
  },
  {
   "cell_type": "code",
   "execution_count": null,
   "metadata": {},
   "outputs": [],
   "source": []
  },
  {
   "cell_type": "code",
   "execution_count": null,
   "metadata": {},
   "outputs": [],
   "source": [
    "# extract month an year ?"
   ]
  },
  {
   "cell_type": "code",
   "execution_count": 183,
   "metadata": {},
   "outputs": [
    {
     "data": {
      "text/plain": [
       "array([\"A kid's excessive ads. The types ads allowed app, let alone kids\",\n",
       "       'It bad >:(', 'like', ...,\n",
       "       'Recommended, 100% love it, keep good work dev :) :*',\n",
       "       'Just allow time ...', \"It's good best gallery phone\"],\n",
       "      dtype=object)"
      ]
     },
     "execution_count": 183,
     "metadata": {},
     "output_type": "execute_result"
    }
   ],
   "source": [
    "# Feature 'Translated_Review'\n",
    "data_merged['Translated_Review'].unique()"
   ]
  },
  {
   "cell_type": "code",
   "execution_count": 184,
   "metadata": {},
   "outputs": [
    {
     "data": {
      "text/plain": [
       "26683"
      ]
     },
     "execution_count": 184,
     "metadata": {},
     "output_type": "execute_result"
    }
   ],
   "source": [
    "len(data_merged['Translated_Review'].unique())"
   ]
  },
  {
   "cell_type": "code",
   "execution_count": null,
   "metadata": {},
   "outputs": [],
   "source": []
  },
  {
   "cell_type": "code",
   "execution_count": null,
   "metadata": {},
   "outputs": [],
   "source": [
    "##### export clean data into csv"
   ]
  },
  {
   "cell_type": "code",
   "execution_count": null,
   "metadata": {},
   "outputs": [],
   "source": []
  },
  {
   "cell_type": "code",
   "execution_count": 405,
   "metadata": {},
   "outputs": [
    {
     "name": "stdout",
     "output_type": "stream",
     "text": [
      "<class 'pandas.core.frame.DataFrame'>\n",
      "RangeIndex: 122662 entries, 0 to 122661\n",
      "Data columns (total 18 columns):\n",
      "App                       122662 non-null object\n",
      "Category                  122662 non-null object\n",
      "Rating                    122662 non-null float64\n",
      "Reviews                   122662 non-null int64\n",
      "Size                      122662 non-null float64\n",
      "Installs                  122662 non-null int64\n",
      "Type                      122662 non-null object\n",
      "Price                     122662 non-null float64\n",
      "Content Rating            122662 non-null object\n",
      "Genres                    122662 non-null object\n",
      "Last Updated              122662 non-null object\n",
      "Current Ver               122662 non-null object\n",
      "Android Ver               122662 non-null object\n",
      "Translated_Review         72605 non-null object\n",
      "Sentiment                 72615 non-null object\n",
      "Sentiment_Polarity        72615 non-null float64\n",
      "Sentiment_Subjectivity    72615 non-null float64\n",
      "Reviewslog                122662 non-null float64\n",
      "dtypes: float64(6), int64(2), object(10)\n",
      "memory usage: 16.8+ MB\n"
     ]
    },
    {
     "data": {
      "text/plain": [
       "App                           0\n",
       "Category                      0\n",
       "Rating                        0\n",
       "Reviews                       0\n",
       "Size                          0\n",
       "Installs                      0\n",
       "Type                          0\n",
       "Price                         0\n",
       "Content Rating                0\n",
       "Genres                        0\n",
       "Last Updated                  0\n",
       "Current Ver                   0\n",
       "Android Ver                   0\n",
       "Translated_Review         50057\n",
       "Sentiment                 50047\n",
       "Sentiment_Polarity        50047\n",
       "Sentiment_Subjectivity    50047\n",
       "Reviewslog                    0\n",
       "dtype: int64"
      ]
     },
     "execution_count": 405,
     "metadata": {},
     "output_type": "execute_result"
    }
   ],
   "source": [
    "# before saving new csv double check data types for all\n",
    "data_merged.info()\n",
    "data_merged.isna().sum()"
   ]
  },
  {
   "cell_type": "code",
   "execution_count": null,
   "metadata": {},
   "outputs": [],
   "source": [
    "# export data_clean\n",
    "# Export data to my chosen folder\n",
    "#data_merged.to_csv(\"/Users/AirMorena/Desktop/final_proj/csv/data_clean.csv\", index=False, encoding='utf-8')"
   ]
  }
 ],
 "metadata": {
  "kernelspec": {
   "display_name": "Python 3",
   "language": "python",
   "name": "python3"
  },
  "language_info": {
   "codemirror_mode": {
    "name": "ipython",
    "version": 3
   },
   "file_extension": ".py",
   "mimetype": "text/x-python",
   "name": "python",
   "nbconvert_exporter": "python",
   "pygments_lexer": "ipython3",
   "version": "3.7.2"
  }
 },
 "nbformat": 4,
 "nbformat_minor": 2
}
