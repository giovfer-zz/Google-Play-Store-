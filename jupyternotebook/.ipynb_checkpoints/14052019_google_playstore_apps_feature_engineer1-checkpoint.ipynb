{
 "cells": [
  {
   "cell_type": "markdown",
   "metadata": {},
   "source": [
    "# Data set from Kaggle \n",
    "https://www.kaggle.com/lava18/google-play-store-apps/downloads/google-play-store-apps.zip/6"
   ]
  },
  {
   "cell_type": "markdown",
   "metadata": {},
   "source": [
    "# Context\n",
    "While many public datasets (on Kaggle and the like) provide Apple App Store data, there are not many counterpart datasets available for Google Play Store apps anywhere on the web. On digging deeper, I found out that iTunes App Store page deploys a nicely indexed appendix-like structure to allow for simple and easy web scraping. On the other hand, Google Play Store uses sophisticated modern-day techniques (like dynamic page load) using JQuery making scraping more challenging.\n",
    "Content\n",
    "Each app (row) has values for catergory, rating, size, and more."
   ]
  },
  {
   "cell_type": "code",
   "execution_count": 41,
   "metadata": {},
   "outputs": [],
   "source": [
    "import math\n",
    "import pdb\n",
    "import pandas as pd\n",
    "import numpy as np\n",
    "import seaborn as sns\n",
    "from scipy import stats\n",
    "from scipy.stats import t, sem\n",
    "from scipy.stats import chi2_contingency\n",
    "import matplotlib.pyplot as plt\n",
    "from sklearn import preprocessing\n",
    "from sklearn.preprocessing import StandardScaler\n",
    "import math\n",
    "import numpy as np\n",
    "import pandas as pd\n",
    "import statsmodels.api as sm\n",
    "from sklearn.metrics import mean_squared_error\n",
    "from sklearn.model_selection import ShuffleSplit\n",
    "from sklearn.model_selection import ParameterGrid\n",
    "from sklearn.model_selection import train_test_split\n",
    "from sklearn.preprocessing import StandardScaler\n",
    "from sklearn.preprocessing import MinMaxScaler\n",
    "\n",
    "from sklearn import linear_model\n",
    "import seaborn as sns\n",
    "import matplotlib.pyplot as plt\n"
   ]
  },
  {
   "cell_type": "code",
   "execution_count": 42,
   "metadata": {},
   "outputs": [],
   "source": [
    "def transform_continuous_to_logarithmic_scale(series):\n",
    "  # Transform to logarithmic scale\n",
    "    return np.log(series)\n",
    "\n",
    "def binarize_continuous_variable(series):\n",
    "    return pd.cut(series, 2, labels=[0,1]).astype(int)\n",
    "\n",
    "def one_hot_encode_categorical_variables(series, name):\n",
    "    return pd.get_dummies(series, prefix=name)\n",
    "\n",
    "\n",
    "def remove_outliers_by_IQR_criteria(df, feature_name, multiplier):\n",
    "    df_ = df.copy()\n",
    "  \n",
    "  # Calculate IQR\n",
    "    len(df_[feature_name])\n",
    "    quartiles, Qs = pd.qcut(df_[feature_name].rank(method='first'), q=4, \n",
    "                        labels=['peak1','peak2','peak3','peak4'], retbins=True)\n",
    "\n",
    "    IQR = Qs[3] - Qs[1]\n",
    "    Q1 = Qs[1]\n",
    "    Q3 = Qs[3]\n",
    "\n",
    "\n",
    "\n",
    "def normalize(series):\n",
    "    series_ = series.copy()\n",
    "    max_value = series_.max()\n",
    "    min_value = series_.min()\n",
    "    result = (series_ - min_value) / (max_value - min_value)\n",
    "    return result\n",
    "\n",
    "def standardize_continuous_feature(series):\n",
    "  # First, normalize your data to avoid large values when standardizing\n",
    "        normalized_values = normalize(series)\n",
    "  \n",
    "  # Then standardize the data with the formula z = (x - u) / s\n",
    "        mean_sample = np.mean(normalized_values)\n",
    "        std_sample = np.std(normalized_values)\n",
    "        scaled_data = (normalized_values - mean_sample) / std_sample\n",
    "\n",
    "        return scaled_data"
   ]
  },
  {
   "cell_type": "code",
   "execution_count": 43,
   "metadata": {},
   "outputs": [],
   "source": [
    "# Hide deprecated warnings\n",
    "import warnings\n",
    "warnings.filterwarnings('ignore')"
   ]
  },
  {
   "cell_type": "code",
   "execution_count": 44,
   "metadata": {},
   "outputs": [],
   "source": [
    "# Load data from the folder where I uploaded the csv file\n",
    "data = pd.read_csv('/Users/AirMorena/Desktop/final_proj/csv/google_play_store/google_playstore_apps_clean_with_grouped_var.csv')"
   ]
  },
  {
   "cell_type": "code",
   "execution_count": 45,
   "metadata": {},
   "outputs": [
    {
     "data": {
      "text/plain": [
       "(9351, 24)"
      ]
     },
     "execution_count": 45,
     "metadata": {},
     "output_type": "execute_result"
    }
   ],
   "source": [
    "data.shape"
   ]
  },
  {
   "cell_type": "code",
   "execution_count": 46,
   "metadata": {},
   "outputs": [
    {
     "name": "stdout",
     "output_type": "stream",
     "text": [
      "<class 'pandas.core.frame.DataFrame'>\n",
      "RangeIndex: 9351 entries, 0 to 9350\n",
      "Data columns (total 24 columns):\n",
      "App                   9351 non-null object\n",
      "Category              9351 non-null object\n",
      "Rating                9351 non-null float64\n",
      "Reviews               9351 non-null int64\n",
      "Size                  9351 non-null float64\n",
      "Installs              9351 non-null int64\n",
      "Type                  9351 non-null object\n",
      "Price                 9351 non-null float64\n",
      "Content Rating        9351 non-null object\n",
      "Genres                9351 non-null object\n",
      "Last Updated          9351 non-null object\n",
      "Current Ver           9351 non-null object\n",
      "Android Ver           9351 non-null float64\n",
      "day                   9351 non-null int64\n",
      "month                 9351 non-null int64\n",
      "year                  9351 non-null int64\n",
      "month_year            9351 non-null object\n",
      "Current Ver_clean     9351 non-null float64\n",
      "nb_reviews_levels     9351 non-null object\n",
      "Size_group            9351 non-null object\n",
      "nb_Installs_levels    9351 non-null object\n",
      "success_rating        9351 non-null object\n",
      "App_dup               9351 non-null int64\n",
      "Successful_App        9351 non-null int64\n",
      "dtypes: float64(5), int64(7), object(12)\n",
      "memory usage: 1.7+ MB\n"
     ]
    }
   ],
   "source": [
    "data.info()"
   ]
  },
  {
   "cell_type": "code",
   "execution_count": 47,
   "metadata": {},
   "outputs": [],
   "source": [
    "# drop columns with old grouped variables and redo them\n",
    "data=data.drop(['success_rating','nb_Installs_levels','Size_group','nb_reviews_levels'], axis=1)"
   ]
  },
  {
   "cell_type": "code",
   "execution_count": 48,
   "metadata": {},
   "outputs": [
    {
     "name": "stdout",
     "output_type": "stream",
     "text": [
      "<class 'pandas.core.frame.DataFrame'>\n",
      "RangeIndex: 9351 entries, 0 to 9350\n",
      "Data columns (total 20 columns):\n",
      "App                  9351 non-null object\n",
      "Category             9351 non-null object\n",
      "Rating               9351 non-null float64\n",
      "Reviews              9351 non-null int64\n",
      "Size                 9351 non-null float64\n",
      "Installs             9351 non-null int64\n",
      "Type                 9351 non-null object\n",
      "Price                9351 non-null float64\n",
      "Content Rating       9351 non-null object\n",
      "Genres               9351 non-null object\n",
      "Last Updated         9351 non-null object\n",
      "Current Ver          9351 non-null object\n",
      "Android Ver          9351 non-null float64\n",
      "day                  9351 non-null int64\n",
      "month                9351 non-null int64\n",
      "year                 9351 non-null int64\n",
      "month_year           9351 non-null object\n",
      "Current Ver_clean    9351 non-null float64\n",
      "App_dup              9351 non-null int64\n",
      "Successful_App       9351 non-null int64\n",
      "dtypes: float64(5), int64(7), object(8)\n",
      "memory usage: 1.4+ MB\n"
     ]
    }
   ],
   "source": [
    "# check the data:\n",
    "data.info()"
   ]
  },
  {
   "cell_type": "code",
   "execution_count": 49,
   "metadata": {},
   "outputs": [
    {
     "data": {
      "text/plain": [
       "(9351, 20)"
      ]
     },
     "execution_count": 49,
     "metadata": {},
     "output_type": "execute_result"
    }
   ],
   "source": [
    "data.shape"
   ]
  },
  {
   "cell_type": "code",
   "execution_count": null,
   "metadata": {},
   "outputs": [],
   "source": []
  },
  {
   "cell_type": "code",
   "execution_count": 50,
   "metadata": {},
   "outputs": [],
   "source": [
    "###### TARGET VARIABLE based on Installs and Rating"
   ]
  },
  {
   "cell_type": "code",
   "execution_count": 51,
   "metadata": {},
   "outputs": [],
   "source": [
    "# generate the success var based on number of installs and rating\n",
    "data['Successful_App']=0\n",
    "condition4=(data['Rating']>=4.3)\n",
    "condition5=(data['Installs']>500000)\n",
    "data.loc[data[condition4 & condition5].index, 'Successful_App']=1"
   ]
  },
  {
   "cell_type": "code",
   "execution_count": 52,
   "metadata": {},
   "outputs": [
    {
     "data": {
      "image/png": "[encoded data removed]",
      "text/plain": [
       "<Figure size 576x432 with 1 Axes>"
      ]
     },
     "metadata": {
      "needs_background": "light"
     },
     "output_type": "display_data"
    }
   ],
   "source": [
    "# see the distribution of Successful_App\n",
    "# Visualize frequencies NORMALIZED\n",
    "plt.figure(figsize=(8,6))\n",
    "content = data['Successful_App']\n",
    "relative_freqs_type = content.value_counts(normalize=True)\n",
    "_=relative_freqs_type.plot(kind='bar', color='b')\n",
    "#_=plt.title('Relative Frequency 'Successful_App')\n",
    "# 30% of the Apps have a rating 4.3 and at least 500 000 installs"
   ]
  },
  {
   "cell_type": "code",
   "execution_count": 53,
   "metadata": {},
   "outputs": [],
   "source": [
    "###### TARGET VARIABLE based on Installs"
   ]
  },
  {
   "cell_type": "code",
   "execution_count": 54,
   "metadata": {},
   "outputs": [],
   "source": [
    "# create a new feature based on App installs numbers as the target feature for the Classification Model"
   ]
  },
  {
   "cell_type": "code",
   "execution_count": 55,
   "metadata": {},
   "outputs": [
    {
     "data": {
      "text/plain": [
       "count    9.351000e+03\n",
       "mean     1.792599e+07\n",
       "std      9.130859e+07\n",
       "min      1.000000e+00\n",
       "25%      1.000000e+04\n",
       "50%      5.000000e+05\n",
       "75%      5.000000e+06\n",
       "max      1.000000e+09\n",
       "Name: Installs, dtype: float64"
      ]
     },
     "execution_count": 55,
     "metadata": {},
     "output_type": "execute_result"
    }
   ],
   "source": [
    "# Installs mean, median, max and min:\n",
    "data['Installs'].describe().round(2)"
   ]
  },
  {
   "cell_type": "code",
   "execution_count": 56,
   "metadata": {},
   "outputs": [],
   "source": [
    "# Installs feature in 2 groups: high installs> =500 000 and low Installs < 500 000\n",
    "high= (data['Installs']>=500000)\n",
    "low=(data['Installs']<500000)\n",
    "# label the values as high and low\n",
    "data.loc[data[high].index, 'Installs_group'] = 'high'\n",
    "data.loc[data[low].index, 'Installs_group'] = 'low'"
   ]
  },
  {
   "cell_type": "code",
   "execution_count": 57,
   "metadata": {},
   "outputs": [
    {
     "data": {
      "image/png": "[encoded data removed]",
      "text/plain": [
       "<Figure size 576x432 with 1 Axes>"
      ]
     },
     "metadata": {
      "needs_background": "light"
     },
     "output_type": "display_data"
    }
   ],
   "source": [
    "# see the distribution of Installs_groups\n",
    "# Visualize frequencies NORMALIZED\n",
    "plt.figure(figsize=(8,6))\n",
    "content_year = data['Installs_group']\n",
    "relative_freqs_type = content_year.value_counts(normalize=True)\n",
    "_=relative_freqs_type.plot(kind='bar', color='b')\n",
    "_=plt.title('Relative Frequency of installs group')"
   ]
  },
  {
   "cell_type": "code",
   "execution_count": 58,
   "metadata": {},
   "outputs": [],
   "source": [
    "# intalls_group have a similar percentage of data points in both groups"
   ]
  },
  {
   "cell_type": "code",
   "execution_count": null,
   "metadata": {},
   "outputs": [],
   "source": []
  },
  {
   "cell_type": "code",
   "execution_count": 59,
   "metadata": {},
   "outputs": [],
   "source": [
    "# reviews to categorise"
   ]
  },
  {
   "cell_type": "code",
   "execution_count": 60,
   "metadata": {},
   "outputs": [
    {
     "data": {
      "text/plain": [
       "count        9351.00\n",
       "mean       514871.77\n",
       "std       3146496.03\n",
       "min             1.00\n",
       "25%           188.00\n",
       "50%          5969.00\n",
       "75%         81876.00\n",
       "max      78158306.00\n",
       "Name: Reviews, dtype: float64"
      ]
     },
     "execution_count": 60,
     "metadata": {},
     "output_type": "execute_result"
    }
   ],
   "source": [
    "# reviews mean, median, max and min:\n",
    "data['Reviews'].describe().round(2)"
   ]
  },
  {
   "cell_type": "code",
   "execution_count": 61,
   "metadata": {},
   "outputs": [],
   "source": [
    "\n",
    "# reviews: 3 groups, create 3 conditions:\n",
    "low = (data['Reviews']>=1)& (data['Reviews']<1000)\n",
    "medium = (data['Reviews']>=1000) & (data['Reviews']<50000)\n",
    "high =(data['Reviews']>=50000)\n",
    "\n",
    "data.loc[data[low].index, 'reviews_levels'] = 'low'\n",
    "data.loc[data[medium].index, 'reviews_levels'] = 'medium'\n",
    "data.loc[data[high].index, 'reviews_levels'] = 'high'"
   ]
  },
  {
   "cell_type": "code",
   "execution_count": 62,
   "metadata": {},
   "outputs": [
    {
     "data": {
      "image/png": "[encoded data removed]",
      "text/plain": [
       "<Figure size 576x432 with 1 Axes>"
      ]
     },
     "metadata": {
      "needs_background": "light"
     },
     "output_type": "display_data"
    }
   ],
   "source": [
    "# see the distribution of Installs_groups\n",
    "# Visualize frequencies NORMALIZED\n",
    "plt.figure(figsize=(8,6))\n",
    "content_year = data['reviews_levels']\n",
    "relative_freqs_type = content_year.value_counts(normalize=True)\n",
    "_=relative_freqs_type.plot(kind='bar', color='b')\n",
    "_=plt.title('Relative Frequency of reviews_levels')"
   ]
  },
  {
   "cell_type": "code",
   "execution_count": 63,
   "metadata": {},
   "outputs": [],
   "source": [
    "# now the groups have similar percentages of data points for the new reviews grouped variable"
   ]
  },
  {
   "cell_type": "code",
   "execution_count": null,
   "metadata": {},
   "outputs": [],
   "source": []
  },
  {
   "cell_type": "code",
   "execution_count": 64,
   "metadata": {},
   "outputs": [],
   "source": [
    "### categorise size variable"
   ]
  },
  {
   "cell_type": "code",
   "execution_count": 65,
   "metadata": {},
   "outputs": [
    {
     "data": {
      "text/plain": [
       "count    9351.00\n",
       "mean       22.97\n",
       "std        21.31\n",
       "min         0.01\n",
       "25%         6.60\n",
       "50%        21.00\n",
       "75%        27.00\n",
       "max       100.00\n",
       "Name: Size, dtype: float64"
      ]
     },
     "execution_count": 65,
     "metadata": {},
     "output_type": "execute_result"
    }
   ],
   "source": [
    "# Size (Megabytes) mean, median, max and min:\n",
    "data['Size'].describe().round(2)"
   ]
  },
  {
   "cell_type": "code",
   "execution_count": 66,
   "metadata": {},
   "outputs": [],
   "source": [
    "# size grouping: 2 groups : small <30 and big>=30\n",
    "\n",
    "small = (data['Size']<21.0)\n",
    "big= (data['Size']>=21.0)\n",
    "\n",
    "data.loc[data[small].index, 'Size_group'] = 'small'\n",
    "data.loc[data[big].index, 'Size_group'] = 'big'"
   ]
  },
  {
   "cell_type": "code",
   "execution_count": 67,
   "metadata": {},
   "outputs": [
    {
     "data": {
      "image/png": "[encoded data removed]",
      "text/plain": [
       "<Figure size 576x432 with 1 Axes>"
      ]
     },
     "metadata": {
      "needs_background": "light"
     },
     "output_type": "display_data"
    }
   ],
   "source": [
    "# Visualize frequencies NORMALIZED\n",
    "plt.figure(figsize=(8,6))\n",
    "content_year = data['Size_group']\n",
    "relative_freqs_type = content_year.value_counts(normalize=True)\n",
    "_=relative_freqs_type.plot(kind='bar', color='b')\n",
    "_=plt.title('Relative Frequency of Size_group')"
   ]
  },
  {
   "cell_type": "code",
   "execution_count": 68,
   "metadata": {},
   "outputs": [],
   "source": [
    "# now the groups have similar percentages of data points for the new size grouped variable"
   ]
  },
  {
   "cell_type": "code",
   "execution_count": null,
   "metadata": {},
   "outputs": [],
   "source": [
    "# Categorise Current Ver_clean, Android Ver"
   ]
  },
  {
   "cell_type": "code",
   "execution_count": 77,
   "metadata": {},
   "outputs": [
    {
     "data": {
      "text/plain": [
       "count    9351.000000\n",
       "mean        9.660961\n",
       "std       117.593525\n",
       "min         0.000000\n",
       "25%         1.220000\n",
       "50%         2.400000\n",
       "75%         6.400000\n",
       "max      5055.524000\n",
       "Name: Current Ver_clean, dtype: float64"
      ]
     },
     "execution_count": 77,
     "metadata": {},
     "output_type": "execute_result"
    }
   ],
   "source": [
    "data['Current Ver_clean'].describe()"
   ]
  },
  {
   "cell_type": "code",
   "execution_count": 84,
   "metadata": {},
   "outputs": [],
   "source": [
    "# 3 categories for current version: group1 =1 to 1.5 version, groupe 2: 1.5 to 4.5 versions, more than 4.5 version \n",
    "# Current Ver_clean: 3 groups, create 3 conditions:\n",
    "low = (data['Current Ver_clean']>=1)& (data['Current Ver_clean']<1.5)\n",
    "medium = (data['Current Ver_clean']>=1.5) & (data['Current Ver_clean']<4.5)\n",
    "high =(data['Current Ver_clean']>=4.5)\n",
    "\n",
    "data.loc[data[low].index, 'Current Ver_clean_levels'] = 'low'\n",
    "data.loc[data[medium].index, 'Current Ver_clean_levels'] = 'medium'\n",
    "data.loc[data[high].index, 'Current Ver_clean_levels'] = 'high'"
   ]
  },
  {
   "cell_type": "code",
   "execution_count": 85,
   "metadata": {},
   "outputs": [
    {
     "data": {
      "image/png": "[encoded data removed]",
      "text/plain": [
       "<Figure size 576x432 with 1 Axes>"
      ]
     },
     "metadata": {
      "needs_background": "light"
     },
     "output_type": "display_data"
    }
   ],
   "source": [
    "# Visualize frequencies NORMALIZED\n",
    "plt.figure(figsize=(8,6))\n",
    "content_cvc = data['Current Ver_clean_levels']\n",
    "relative_freqs_type = content_cvc.value_counts(normalize=True)\n",
    "_=relative_freqs_type.plot(kind='bar', color='b')\n",
    "#_=plt.title('Relative Frequency of current version nb group')"
   ]
  },
  {
   "cell_type": "code",
   "execution_count": null,
   "metadata": {},
   "outputs": [],
   "source": [
    "# now the groups have similar percentages of data points for current version clean levels variable"
   ]
  },
  {
   "cell_type": "code",
   "execution_count": 86,
   "metadata": {},
   "outputs": [
    {
     "data": {
      "text/plain": [
       "count    9351.000000\n",
       "mean        3.868934\n",
       "std         0.783375\n",
       "min         1.000000\n",
       "25%         3.869071\n",
       "50%         4.000000\n",
       "75%         4.100000\n",
       "max         8.000000\n",
       "Name: Android Ver, dtype: float64"
      ]
     },
     "execution_count": 86,
     "metadata": {},
     "output_type": "execute_result"
    }
   ],
   "source": [
    "data['Android Ver'].describe()"
   ]
  },
  {
   "cell_type": "code",
   "execution_count": 141,
   "metadata": {},
   "outputs": [],
   "source": [
    "# 2 categories for android version:\n",
    "# Android Ver': 3 groups, create 3 conditions:\n",
    "low = (data['Android Ver']>=1)& (data['Android Ver']<4)\n",
    "high = (data['Android Ver']>=4)\n",
    "\n",
    "\n",
    "data.loc[data[low].index, 'Android Ver_levels'] = 'low'\n",
    "data.loc[data[high].index, 'Android Ver_levels'] = 'high'\n"
   ]
  },
  {
   "cell_type": "code",
   "execution_count": 142,
   "metadata": {},
   "outputs": [
    {
     "data": {
      "image/png": "[encoded data removed]",
      "text/plain": [
       "<Figure size 576x432 with 1 Axes>"
      ]
     },
     "metadata": {
      "needs_background": "light"
     },
     "output_type": "display_data"
    }
   ],
   "source": [
    "# Visualize frequencies NORMALIZED\n",
    "plt.figure(figsize=(8,6))\n",
    "content_av = data['Android Ver_levels']\n",
    "relative_freqs_type = content_av.value_counts(normalize=True)\n",
    "_=relative_freqs_type.plot(kind='bar', color='b')\n",
    "#_=plt.title('Relative Frequency of android version nb group')"
   ]
  },
  {
   "cell_type": "code",
   "execution_count": null,
   "metadata": {},
   "outputs": [],
   "source": []
  },
  {
   "cell_type": "code",
   "execution_count": null,
   "metadata": {},
   "outputs": [],
   "source": []
  },
  {
   "cell_type": "code",
   "execution_count": null,
   "metadata": {},
   "outputs": [],
   "source": []
  },
  {
   "cell_type": "code",
   "execution_count": 130,
   "metadata": {},
   "outputs": [],
   "source": [
    "#### Rating keep continuous Rating and Price and standardise it####################"
   ]
  },
  {
   "cell_type": "code",
   "execution_count": 70,
   "metadata": {},
   "outputs": [
    {
     "data": {
      "text/plain": [
       "count    9351.00\n",
       "mean        4.19\n",
       "std         0.51\n",
       "min         1.00\n",
       "25%         4.00\n",
       "50%         4.30\n",
       "75%         4.50\n",
       "max         5.00\n",
       "Name: Rating, dtype: float64"
      ]
     },
     "execution_count": 70,
     "metadata": {},
     "output_type": "execute_result"
    }
   ],
   "source": [
    "# Rating mean, median, max and min:\n",
    "data['Rating'].describe().round(2)"
   ]
  },
  {
   "cell_type": "code",
   "execution_count": 71,
   "metadata": {},
   "outputs": [],
   "source": [
    "def normalize(series):\n",
    "    series_ = series.copy()\n",
    "    max_value = series_.max()\n",
    "    min_value = series_.min()\n",
    "    result = (series_ - min_value) / (max_value - min_value)\n",
    "    return result\n",
    "\n",
    "def standardize_continuous_feature(series):\n",
    "  # First, normalize your data to avoid large values when standardizing\n",
    "    normalized_values = normalize(series)\n",
    "  \n",
    "  # Then standardize the data with the formula z = (x - u) / s\n",
    "    mean_sample = np.mean(normalized_values)\n",
    "    std_sample = np.std(normalized_values)\n",
    "    scaled_data = (normalized_values - mean_sample) / std_sample\n",
    "    return scaled_data"
   ]
  },
  {
   "cell_type": "code",
   "execution_count": 72,
   "metadata": {},
   "outputs": [],
   "source": [
    "# create st_Rating and st_Price\n",
    "\n",
    "data['st_Rating']=standardize_continuous_feature(data['Rating'])"
   ]
  },
  {
   "cell_type": "code",
   "execution_count": 73,
   "metadata": {},
   "outputs": [
    {
     "data": {
      "text/plain": [
       "count    9351.00\n",
       "mean        0.96\n",
       "std        15.83\n",
       "min         0.00\n",
       "25%         0.00\n",
       "50%         0.00\n",
       "75%         0.00\n",
       "max       400.00\n",
       "Name: Price, dtype: float64"
      ]
     },
     "execution_count": 73,
     "metadata": {},
     "output_type": "execute_result"
    }
   ],
   "source": [
    "# create st_Price\n",
    "data['Price'].describe().round(2)"
   ]
  },
  {
   "cell_type": "code",
   "execution_count": 74,
   "metadata": {},
   "outputs": [],
   "source": [
    "data['st_Price']=standardize_continuous_feature(data['Price'])"
   ]
  },
  {
   "cell_type": "code",
   "execution_count": 75,
   "metadata": {},
   "outputs": [
    {
     "name": "stdout",
     "output_type": "stream",
     "text": [
      "<class 'pandas.core.frame.DataFrame'>\n",
      "RangeIndex: 9351 entries, 0 to 9350\n",
      "Data columns (total 25 columns):\n",
      "App                  9351 non-null object\n",
      "Category             9351 non-null object\n",
      "Rating               9351 non-null float64\n",
      "Reviews              9351 non-null int64\n",
      "Size                 9351 non-null float64\n",
      "Installs             9351 non-null int64\n",
      "Type                 9351 non-null object\n",
      "Price                9351 non-null float64\n",
      "Content Rating       9351 non-null object\n",
      "Genres               9351 non-null object\n",
      "Last Updated         9351 non-null object\n",
      "Current Ver          9351 non-null object\n",
      "Android Ver          9351 non-null float64\n",
      "day                  9351 non-null int64\n",
      "month                9351 non-null int64\n",
      "year                 9351 non-null int64\n",
      "month_year           9351 non-null object\n",
      "Current Ver_clean    9351 non-null float64\n",
      "App_dup              9351 non-null int64\n",
      "Successful_App       9351 non-null int64\n",
      "Installs_group       9351 non-null object\n",
      "reviews_levels       9351 non-null object\n",
      "Size_group           9351 non-null object\n",
      "st_Rating            9351 non-null float64\n",
      "st_Price             9351 non-null float64\n",
      "dtypes: float64(7), int64(7), object(11)\n",
      "memory usage: 1.8+ MB\n"
     ]
    }
   ],
   "source": [
    "data.info()"
   ]
  },
  {
   "cell_type": "code",
   "execution_count": null,
   "metadata": {},
   "outputs": [],
   "source": []
  },
  {
   "cell_type": "code",
   "execution_count": 76,
   "metadata": {},
   "outputs": [],
   "source": [
    "# Export data to my chosen folder (grouped var)\n",
    "data.to_csv(\"/Users/AirMorena/Desktop/final_proj/csv/data_engineer1.csv\", index=False, encoding='utf-8')"
   ]
  },
  {
   "cell_type": "code",
   "execution_count": null,
   "metadata": {},
   "outputs": [],
   "source": []
  },
  {
   "cell_type": "code",
   "execution_count": null,
   "metadata": {},
   "outputs": [],
   "source": []
  }
 ],
 "metadata": {
  "kernelspec": {
   "display_name": "Python 3",
   "language": "python",
   "name": "python3"
  },
  "language_info": {
   "codemirror_mode": {
    "name": "ipython",
    "version": 3
   },
   "file_extension": ".py",
   "mimetype": "text/x-python",
   "name": "python",
   "nbconvert_exporter": "python",
   "pygments_lexer": "ipython3",
   "version": "3.7.2"
  }
 },
 "nbformat": 4,
 "nbformat_minor": 2
}
