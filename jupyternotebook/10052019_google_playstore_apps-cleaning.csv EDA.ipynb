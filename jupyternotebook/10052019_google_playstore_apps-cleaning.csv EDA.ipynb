{
 "cells": [
  {
   "cell_type": "markdown",
   "metadata": {},
   "source": [
    "# Data set from Kaggle \n",
    "https://www.kaggle.com/lava18/google-play-store-apps/downloads/google-play-store-apps.zip/6"
   ]
  },
  {
   "cell_type": "markdown",
   "metadata": {},
   "source": [
    "# Context\n",
    "While many public datasets (on Kaggle and the like) provide Apple App Store data, there are not many counterpart datasets available for Google Play Store apps anywhere on the web. On digging deeper, I found out that iTunes App Store page deploys a nicely indexed appendix-like structure to allow for simple and easy web scraping. On the other hand, Google Play Store uses sophisticated modern-day techniques (like dynamic page load) using JQuery making scraping more challenging.\n",
    "Content\n",
    "Each app (row) has values for catergory, rating, size, and more."
   ]
  },
  {
   "cell_type": "code",
   "execution_count": 13,
   "metadata": {},
   "outputs": [],
   "source": [
    "import math\n",
    "import re\n",
    "import pdb\n",
    "import pandas as pd\n",
    "import numpy as np\n",
    "import seaborn as sns\n",
    "from scipy import stats\n",
    "from scipy.stats import t, sem\n",
    "from scipy.stats import chi2_contingency\n",
    "import matplotlib.pyplot as plt"
   ]
  },
  {
   "cell_type": "code",
   "execution_count": 14,
   "metadata": {},
   "outputs": [],
   "source": [
    "# Hide deprecated warnings\n",
    "import warnings\n",
    "warnings.filterwarnings('ignore')"
   ]
  },
  {
   "cell_type": "code",
   "execution_count": 15,
   "metadata": {},
   "outputs": [],
   "source": [
    "# Load data from the folder where I uploaded the csv file\n",
    "data = pd.read_csv('/Users/AirMorena/Desktop/final_proj/csv/google_play_store/googleplaystore.csv')"
   ]
  },
  {
   "cell_type": "code",
   "execution_count": 16,
   "metadata": {},
   "outputs": [
    {
     "data": {
      "text/plain": [
       "(10841, 13)"
      ]
     },
     "execution_count": 16,
     "metadata": {},
     "output_type": "execute_result"
    }
   ],
   "source": [
    "data.shape"
   ]
  },
  {
   "cell_type": "code",
   "execution_count": 17,
   "metadata": {},
   "outputs": [],
   "source": [
    "#data.info()"
   ]
  },
  {
   "cell_type": "code",
   "execution_count": 18,
   "metadata": {},
   "outputs": [],
   "source": [
    "#data.isnull().count()"
   ]
  },
  {
   "cell_type": "code",
   "execution_count": 19,
   "metadata": {},
   "outputs": [
    {
     "data": {
      "text/plain": [
       "9660"
      ]
     },
     "execution_count": 19,
     "metadata": {},
     "output_type": "execute_result"
    }
   ],
   "source": [
    "# how many unique apps in the dataset\n",
    "len(data['App'].unique())"
   ]
  },
  {
   "cell_type": "code",
   "execution_count": 20,
   "metadata": {},
   "outputs": [
    {
     "data": {
      "text/html": [
       "<div>\n",
       "<style scoped>\n",
       "    .dataframe tbody tr th:only-of-type {\n",
       "        vertical-align: middle;\n",
       "    }\n",
       "\n",
       "    .dataframe tbody tr th {\n",
       "        vertical-align: top;\n",
       "    }\n",
       "\n",
       "    .dataframe thead th {\n",
       "        text-align: right;\n",
       "    }\n",
       "</style>\n",
       "<table border=\"1\" class=\"dataframe\">\n",
       "  <thead>\n",
       "    <tr style=\"text-align: right;\">\n",
       "      <th></th>\n",
       "      <th>Total</th>\n",
       "      <th>Percent</th>\n",
       "    </tr>\n",
       "  </thead>\n",
       "  <tbody>\n",
       "    <tr>\n",
       "      <th>Rating</th>\n",
       "      <td>1474</td>\n",
       "      <td>0.135965</td>\n",
       "    </tr>\n",
       "    <tr>\n",
       "      <th>Current Ver</th>\n",
       "      <td>8</td>\n",
       "      <td>0.000738</td>\n",
       "    </tr>\n",
       "    <tr>\n",
       "      <th>Android Ver</th>\n",
       "      <td>3</td>\n",
       "      <td>0.000277</td>\n",
       "    </tr>\n",
       "    <tr>\n",
       "      <th>Content Rating</th>\n",
       "      <td>1</td>\n",
       "      <td>0.000092</td>\n",
       "    </tr>\n",
       "    <tr>\n",
       "      <th>Type</th>\n",
       "      <td>1</td>\n",
       "      <td>0.000092</td>\n",
       "    </tr>\n",
       "    <tr>\n",
       "      <th>Last Updated</th>\n",
       "      <td>0</td>\n",
       "      <td>0.000000</td>\n",
       "    </tr>\n",
       "    <tr>\n",
       "      <th>Genres</th>\n",
       "      <td>0</td>\n",
       "      <td>0.000000</td>\n",
       "    </tr>\n",
       "    <tr>\n",
       "      <th>Price</th>\n",
       "      <td>0</td>\n",
       "      <td>0.000000</td>\n",
       "    </tr>\n",
       "    <tr>\n",
       "      <th>Installs</th>\n",
       "      <td>0</td>\n",
       "      <td>0.000000</td>\n",
       "    </tr>\n",
       "    <tr>\n",
       "      <th>Size</th>\n",
       "      <td>0</td>\n",
       "      <td>0.000000</td>\n",
       "    </tr>\n",
       "    <tr>\n",
       "      <th>Reviews</th>\n",
       "      <td>0</td>\n",
       "      <td>0.000000</td>\n",
       "    </tr>\n",
       "    <tr>\n",
       "      <th>Category</th>\n",
       "      <td>0</td>\n",
       "      <td>0.000000</td>\n",
       "    </tr>\n",
       "    <tr>\n",
       "      <th>App</th>\n",
       "      <td>0</td>\n",
       "      <td>0.000000</td>\n",
       "    </tr>\n",
       "  </tbody>\n",
       "</table>\n",
       "</div>"
      ],
      "text/plain": [
       "                Total   Percent\n",
       "Rating           1474  0.135965\n",
       "Current Ver         8  0.000738\n",
       "Android Ver         3  0.000277\n",
       "Content Rating      1  0.000092\n",
       "Type                1  0.000092\n",
       "Last Updated        0  0.000000\n",
       "Genres              0  0.000000\n",
       "Price               0  0.000000\n",
       "Installs            0  0.000000\n",
       "Size                0  0.000000\n",
       "Reviews             0  0.000000\n",
       "Category            0  0.000000\n",
       "App                 0  0.000000"
      ]
     },
     "execution_count": 20,
     "metadata": {},
     "output_type": "execute_result"
    }
   ],
   "source": [
    "#missing data\n",
    "# sum the missing values and sort the featureas descending (highest to lowest)\n",
    "total = data.isnull().sum().sort_values(ascending=False)\n",
    "percent = (data.isnull().sum()/data.isnull().count()).sort_values(ascending=False)\n",
    "# create a dataframe with the sum of missing values per feature and the percentage it represents\n",
    "missing_data = pd.concat([total, percent], axis=1, keys=['Total', 'Percent'])\n",
    "missing_data.head(13)"
   ]
  },
  {
   "cell_type": "code",
   "execution_count": 21,
   "metadata": {},
   "outputs": [],
   "source": [
    "# get rid of missing values for all the features\n",
    "data.dropna(inplace = True)"
   ]
  },
  {
   "cell_type": "code",
   "execution_count": 22,
   "metadata": {},
   "outputs": [
    {
     "data": {
      "text/plain": [
       "(9360, 13)"
      ]
     },
     "execution_count": 22,
     "metadata": {},
     "output_type": "execute_result"
    }
   ],
   "source": [
    "data.shape"
   ]
  },
  {
   "cell_type": "code",
   "execution_count": 23,
   "metadata": {},
   "outputs": [],
   "source": [
    "#data.head()"
   ]
  },
  {
   "cell_type": "code",
   "execution_count": 24,
   "metadata": {},
   "outputs": [],
   "source": [
    "sorted_by_rating = data.sort_values(by=['Rating'], ascending=False)\n",
    "#sorted_by_rating.head()"
   ]
  },
  {
   "cell_type": "code",
   "execution_count": 25,
   "metadata": {},
   "outputs": [],
   "source": [
    "sorted_by_installs = data.sort_values(by=['Installs'], ascending=False)\n",
    "#sorted_by_installs.head()"
   ]
  },
  {
   "cell_type": "code",
   "execution_count": 26,
   "metadata": {},
   "outputs": [],
   "source": [
    "sorted_by_reviews = data.sort_values(by=['Reviews'], ascending=False)\n",
    "#sorted_by_reviews.head()"
   ]
  },
  {
   "cell_type": "code",
   "execution_count": 27,
   "metadata": {},
   "outputs": [],
   "source": [
    "#data.columns.tolist()"
   ]
  },
  {
   "cell_type": "code",
   "execution_count": 28,
   "metadata": {},
   "outputs": [],
   "source": [
    "# data description \n",
    "#data.info()"
   ]
  },
  {
   "cell_type": "code",
   "execution_count": 29,
   "metadata": {},
   "outputs": [],
   "source": [
    "# check data types\n",
    "#data.dtypes"
   ]
  },
  {
   "cell_type": "code",
   "execution_count": 30,
   "metadata": {},
   "outputs": [
    {
     "data": {
      "text/plain": [
       "array(['Free', 'Paid'], dtype=object)"
      ]
     },
     "execution_count": 30,
     "metadata": {},
     "output_type": "execute_result"
    }
   ],
   "source": [
    "data['Type'].unique()"
   ]
  },
  {
   "cell_type": "code",
   "execution_count": 31,
   "metadata": {},
   "outputs": [],
   "source": [
    "# how many of each?\n",
    "# Create the pandas DataFrame \n",
    "df = pd.DataFrame(data, columns = ['Type'])\n",
    "#df\n",
    "df2=df.reset_index()"
   ]
  },
  {
   "cell_type": "code",
   "execution_count": 32,
   "metadata": {},
   "outputs": [
    {
     "data": {
      "text/html": [
       "<div>\n",
       "<style scoped>\n",
       "    .dataframe tbody tr th:only-of-type {\n",
       "        vertical-align: middle;\n",
       "    }\n",
       "\n",
       "    .dataframe tbody tr th {\n",
       "        vertical-align: top;\n",
       "    }\n",
       "\n",
       "    .dataframe thead th {\n",
       "        text-align: right;\n",
       "    }\n",
       "</style>\n",
       "<table border=\"1\" class=\"dataframe\">\n",
       "  <thead>\n",
       "    <tr style=\"text-align: right;\">\n",
       "      <th></th>\n",
       "      <th>index</th>\n",
       "    </tr>\n",
       "    <tr>\n",
       "      <th>Type</th>\n",
       "      <th></th>\n",
       "    </tr>\n",
       "  </thead>\n",
       "  <tbody>\n",
       "    <tr>\n",
       "      <th>Free</th>\n",
       "      <td>8715</td>\n",
       "    </tr>\n",
       "    <tr>\n",
       "      <th>Paid</th>\n",
       "      <td>645</td>\n",
       "    </tr>\n",
       "  </tbody>\n",
       "</table>\n",
       "</div>"
      ],
      "text/plain": [
       "      index\n",
       "Type       \n",
       "Free   8715\n",
       "Paid    645"
      ]
     },
     "execution_count": 32,
     "metadata": {},
     "output_type": "execute_result"
    }
   ],
   "source": [
    "# count does not take nan into account (total 10841), so 2 nan and 1 zero --> data cleaning\n",
    "df2.groupby('Type').count()\n",
    "#6.89% of apps are paid\n"
   ]
  },
  {
   "cell_type": "code",
   "execution_count": null,
   "metadata": {},
   "outputs": [],
   "source": []
  },
  {
   "cell_type": "code",
   "execution_count": 33,
   "metadata": {},
   "outputs": [],
   "source": [
    "#_=plt.figure(figsize=(12,8))\n",
    "#sns.distplot(data_price['Price'], bins=10 )"
   ]
  },
  {
   "cell_type": "code",
   "execution_count": 34,
   "metadata": {},
   "outputs": [],
   "source": [
    "# Among paid Apps:\n",
    "#data_price['Price'].describe()\n",
    "# the median price among paid apps is 2.99 dollars, mean is 13.9 dollars\n",
    "# the min 0.99 \n",
    "# the max 400"
   ]
  },
  {
   "cell_type": "code",
   "execution_count": null,
   "metadata": {},
   "outputs": [],
   "source": []
  },
  {
   "cell_type": "code",
   "execution_count": 35,
   "metadata": {},
   "outputs": [],
   "source": [
    "#### Among paid Apps, what are the prices?\n",
    "#data[condition_app_paid & condition_app_price]\n",
    "#data_price=data[condition_app_paid & condition_app_price]\n",
    "#condition_app_paid=(data['Type']=='Paid')\n",
    "#condition_app_paid\n",
    "#condition_app_price=(data['Price']>0)\n",
    "#condition_app_price\n",
    "#_=sns.boxplot(data_price['Price'])\n",
    "#plt.title(\"price by app\")"
   ]
  },
  {
   "cell_type": "code",
   "execution_count": null,
   "metadata": {},
   "outputs": [],
   "source": []
  },
  {
   "cell_type": "code",
   "execution_count": null,
   "metadata": {},
   "outputs": [],
   "source": []
  },
  {
   "cell_type": "code",
   "execution_count": 36,
   "metadata": {},
   "outputs": [
    {
     "data": {
      "image/png": "[encoded data removed]",
      "text/plain": [
       "<Figure size 432x288 with 1 Axes>"
      ]
     },
     "metadata": {
      "needs_background": "light"
     },
     "output_type": "display_data"
    }
   ],
   "source": [
    "# Visualize frequencies of each type of content\n",
    "content_paid = data['Type']\n",
    "# Visualize the barplot\n",
    "_=sns.countplot(content_paid).plot(kind='bar', color='blue')\n",
    "_=plt.title('Relative Frequency Distribution for type')"
   ]
  },
  {
   "cell_type": "code",
   "execution_count": 37,
   "metadata": {},
   "outputs": [],
   "source": [
    "########"
   ]
  },
  {
   "cell_type": "code",
   "execution_count": null,
   "metadata": {},
   "outputs": [],
   "source": []
  },
  {
   "cell_type": "code",
   "execution_count": 38,
   "metadata": {},
   "outputs": [
    {
     "data": {
      "text/plain": [
       "array(['10,000+', '500,000+', '5,000,000+', '50,000,000+', '100,000+',\n",
       "       '50,000+', '1,000,000+', '10,000,000+', '5,000+', '100,000,000+',\n",
       "       '1,000,000,000+', '1,000+', '500,000,000+', '100+', '500+', '10+',\n",
       "       '5+', '50+', '1+'], dtype=object)"
      ]
     },
     "execution_count": 38,
     "metadata": {},
     "output_type": "execute_result"
    }
   ],
   "source": [
    "# clean Installs\n",
    "data['Installs'].unique()"
   ]
  },
  {
   "cell_type": "code",
   "execution_count": 39,
   "metadata": {},
   "outputs": [],
   "source": [
    "# replace comma by nothing and convert to int,and save it into data['Installs'] \n",
    "data['Installs']=data['Installs'].str.replace('+','').str.replace(',','').astype(int)"
   ]
  },
  {
   "cell_type": "code",
   "execution_count": 40,
   "metadata": {},
   "outputs": [
    {
     "data": {
      "text/plain": [
       "array([     10000,     500000,    5000000,   50000000,     100000,\n",
       "            50000,    1000000,   10000000,       5000,  100000000,\n",
       "       1000000000,       1000,  500000000,        100,        500,\n",
       "               10,          5,         50,          1])"
      ]
     },
     "execution_count": 40,
     "metadata": {},
     "output_type": "execute_result"
    }
   ],
   "source": [
    "# check that there are no weird characters in the feature installs left\n",
    "data['Installs'].unique()"
   ]
  },
  {
   "cell_type": "code",
   "execution_count": 41,
   "metadata": {},
   "outputs": [
    {
     "data": {
      "text/plain": [
       "count    9.360000e+03\n",
       "mean     1.790875e+07\n",
       "std      9.126637e+07\n",
       "min      1.000000e+00\n",
       "25%      1.000000e+04\n",
       "50%      5.000000e+05\n",
       "75%      5.000000e+06\n",
       "max      1.000000e+09\n",
       "Name: Installs, dtype: float64"
      ]
     },
     "execution_count": 41,
     "metadata": {},
     "output_type": "execute_result"
    }
   ],
   "source": [
    "data['Installs'].describe()"
   ]
  },
  {
   "cell_type": "code",
   "execution_count": 42,
   "metadata": {},
   "outputs": [
    {
     "data": {
      "text/plain": [
       "Text(0.5, 1.0, 'Number of Installs by app')"
      ]
     },
     "execution_count": 42,
     "metadata": {},
     "output_type": "execute_result"
    },
    {
     "data": {
      "image/png": "[encoded data removed]",
      "text/plain": [
       "<Figure size 432x288 with 1 Axes>"
      ]
     },
     "metadata": {
      "needs_background": "light"
     },
     "output_type": "display_data"
    }
   ],
   "source": [
    "# boxplot\n",
    "#vizualisation distribution of number of installs values\n",
    "_=sns.boxplot(data['Installs'])\n",
    "plt.title(\"Number of Installs by app\")"
   ]
  },
  {
   "cell_type": "code",
   "execution_count": 43,
   "metadata": {},
   "outputs": [
    {
     "data": {
      "text/plain": [
       "<matplotlib.axes._subplots.AxesSubplot at 0x10a85bf98>"
      ]
     },
     "execution_count": 43,
     "metadata": {},
     "output_type": "execute_result"
    },
    {
     "data": {
      "image/png": "[encoded data removed]",
      "text/plain": [
       "<Figure size 864x576 with 1 Axes>"
      ]
     },
     "metadata": {
      "needs_background": "light"
     },
     "output_type": "display_data"
    }
   ],
   "source": [
    "# Vizualise installs distribution\n",
    "_=plt.figure(figsize=(12,8))\n",
    "sns.distplot(data['Installs'], bins=40 )"
   ]
  },
  {
   "cell_type": "code",
   "execution_count": null,
   "metadata": {},
   "outputs": [],
   "source": []
  },
  {
   "cell_type": "code",
   "execution_count": 44,
   "metadata": {},
   "outputs": [],
   "source": [
    "######## time variables"
   ]
  },
  {
   "cell_type": "code",
   "execution_count": 45,
   "metadata": {},
   "outputs": [],
   "source": [
    "#if the date format comes in datetime, we can also extract the day/month/year using the to_period function\n",
    "#where 'D', 'M', 'Y' are inputs\n",
    "\n",
    "data['day'] = pd.DatetimeIndex(data['Last Updated']).day\n",
    "data['month'] = pd.DatetimeIndex(data['Last Updated']).month\n",
    "data['year'] = pd.DatetimeIndex(data['Last Updated']).year\n",
    "data['month_year'] = pd.to_datetime(data['Last Updated']).dt.to_period('M')\n",
    "#data['month_year'].unique()"
   ]
  },
  {
   "cell_type": "code",
   "execution_count": null,
   "metadata": {},
   "outputs": [],
   "source": []
  },
  {
   "cell_type": "code",
   "execution_count": 46,
   "metadata": {},
   "outputs": [],
   "source": [
    "######### Price"
   ]
  },
  {
   "cell_type": "code",
   "execution_count": 47,
   "metadata": {},
   "outputs": [],
   "source": [
    "# remove dollar from Price and store it in Price\n",
    "data['Price']= data['Price'].str.replace(\"$\",\"\")"
   ]
  },
  {
   "cell_type": "code",
   "execution_count": 48,
   "metadata": {},
   "outputs": [],
   "source": [
    "data['Price'] = data['Price'].astype(float)"
   ]
  },
  {
   "cell_type": "code",
   "execution_count": 49,
   "metadata": {},
   "outputs": [
    {
     "data": {
      "text/plain": [
       "dtype('float64')"
      ]
     },
     "execution_count": 49,
     "metadata": {},
     "output_type": "execute_result"
    }
   ],
   "source": [
    "data['Price'].dtypes"
   ]
  },
  {
   "cell_type": "code",
   "execution_count": 50,
   "metadata": {},
   "outputs": [
    {
     "data": {
      "text/plain": [
       "array([  0.  ,   4.99,   3.99,   6.99,   7.99,   5.99,   2.99,   3.49,\n",
       "         1.99,   9.99,   7.49,   0.99,   9.  ,   5.49,  10.  ,  24.99,\n",
       "        11.99,  79.99,  16.99,  14.99,  29.99,  12.99,   2.49,  10.99,\n",
       "         1.5 ,  19.99,  15.99,  33.99,  39.99,   3.95,   4.49,   1.7 ,\n",
       "         8.99,   1.49,   3.88, 399.99,  17.99, 400.  ,   3.02,   1.76,\n",
       "         4.84,   4.77,   1.61,   2.5 ,   1.59,   6.49,   1.29, 299.99,\n",
       "       379.99,  37.99,  18.99, 389.99,   8.49,   1.75,  14.  ,   2.  ,\n",
       "         3.08,   2.59,  19.4 ,   3.9 ,   4.59,  15.46,   3.04,  13.99,\n",
       "         4.29,   3.28,   4.6 ,   1.  ,   2.95,   2.9 ,   1.97,   2.56,\n",
       "         1.2 ])"
      ]
     },
     "execution_count": 50,
     "metadata": {},
     "output_type": "execute_result"
    }
   ],
   "source": [
    "data['Price'].unique()"
   ]
  },
  {
   "cell_type": "code",
   "execution_count": 51,
   "metadata": {},
   "outputs": [
    {
     "data": {
      "text/plain": [
       "(9360, 17)"
      ]
     },
     "execution_count": 51,
     "metadata": {},
     "output_type": "execute_result"
    }
   ],
   "source": [
    "data.shape"
   ]
  },
  {
   "cell_type": "code",
   "execution_count": 52,
   "metadata": {},
   "outputs": [],
   "source": [
    "data['Price'] = data['Price'].astype(float)"
   ]
  },
  {
   "cell_type": "code",
   "execution_count": 53,
   "metadata": {},
   "outputs": [
    {
     "data": {
      "text/plain": [
       "count    9360.000000\n",
       "mean        0.961279\n",
       "std        15.821640\n",
       "min         0.000000\n",
       "25%         0.000000\n",
       "50%         0.000000\n",
       "75%         0.000000\n",
       "max       400.000000\n",
       "Name: Price, dtype: float64"
      ]
     },
     "execution_count": 53,
     "metadata": {},
     "output_type": "execute_result"
    }
   ],
   "source": [
    "data['Price'].describe()\n",
    "#mean average price 0.96 dollar  based on all the app free or paid "
   ]
  },
  {
   "cell_type": "code",
   "execution_count": 54,
   "metadata": {},
   "outputs": [],
   "source": [
    "#data[data['Price']>=50].head()"
   ]
  },
  {
   "cell_type": "code",
   "execution_count": 55,
   "metadata": {},
   "outputs": [
    {
     "data": {
      "text/plain": [
       "App               21\n",
       "Category          21\n",
       "Rating            21\n",
       "Reviews           21\n",
       "Size              21\n",
       "Installs          21\n",
       "Type              21\n",
       "Price             21\n",
       "Content Rating    21\n",
       "Genres            21\n",
       "Last Updated      21\n",
       "Current Ver       21\n",
       "Android Ver       21\n",
       "day               21\n",
       "month             21\n",
       "year              21\n",
       "month_year        21\n",
       "dtype: int64"
      ]
     },
     "execution_count": 55,
     "metadata": {},
     "output_type": "execute_result"
    }
   ],
   "source": [
    "data[data['Price']>=30].count()"
   ]
  },
  {
   "cell_type": "code",
   "execution_count": 56,
   "metadata": {},
   "outputs": [],
   "source": [
    "#sorted_by_price = data.sort_values(by=['Price'], ascending=False)\n",
    "#sorted_by_price.head(21)\n",
    "# mainly medical, finance, and lifestyle"
   ]
  },
  {
   "cell_type": "code",
   "execution_count": 57,
   "metadata": {},
   "outputs": [],
   "source": [
    "# Price of over 50 dollars (647 entries)\n",
    "#data[data['Price']>50].count()\n",
    "#vizualisation distribution of number of price values\n",
    "#_=sns.boxplot(data_price['Price'])\n",
    "#plt.title(\"distribution of price among paid Apps\")"
   ]
  },
  {
   "cell_type": "code",
   "execution_count": 58,
   "metadata": {},
   "outputs": [
    {
     "data": {
      "image/png": "[encoded data removed]",
      "text/plain": [
       "<Figure size 864x576 with 1 Axes>"
      ]
     },
     "metadata": {
      "needs_background": "light"
     },
     "output_type": "display_data"
    }
   ],
   "source": [
    "# Visualize frequencies for each price in dollars\n",
    "_=plt.figure(figsize=(12,8))\n",
    "content_price = data['Price']\n",
    "# Visualize the barplot\n",
    "_=sns.countplot(content_price).plot(kind='bar', color='blue')\n",
    "_=plt.title('Relative Frequency Distribution for App price')"
   ]
  },
  {
   "cell_type": "code",
   "execution_count": 59,
   "metadata": {},
   "outputs": [
    {
     "data": {
      "text/plain": [
       "Text(0.5, 1.0, \"Apps by Price'\")"
      ]
     },
     "execution_count": 59,
     "metadata": {},
     "output_type": "execute_result"
    },
    {
     "data": {
      "image/png": "[encoded data removed]",
      "text/plain": [
       "<Figure size 432x288 with 1 Axes>"
      ]
     },
     "metadata": {
      "needs_background": "light"
     },
     "output_type": "display_data"
    }
   ],
   "source": [
    "#vizualisation distribution of price values\n",
    "_=sns.boxplot(data['Price'])\n",
    "plt.title(\"Apps by Price'\")"
   ]
  },
  {
   "cell_type": "code",
   "execution_count": 60,
   "metadata": {},
   "outputs": [
    {
     "data": {
      "image/png": "[encoded data removed]",
      "text/plain": [
       "<Figure size 432x288 with 1 Axes>"
      ]
     },
     "metadata": {},
     "output_type": "display_data"
    }
   ],
   "source": [
    "# Data to plot\n",
    "labels =data['Type'].value_counts(sort = True).index\n",
    "sizes = data['Type'].value_counts(sort = True)\n",
    "\n",
    "colors = [\"palegreen\",\"orangered\"]\n",
    "explode = (0.1,0)  # explode 1st slice\n",
    " \n",
    "# Plot\n",
    "plt.pie(sizes, explode=explode, labels=labels, colors=colors,\n",
    "        autopct='%1.1f%%', shadow=True, startangle=270,)\n",
    "#plt.title('Percent of Apps free/paid in Google Play store',size = 20)\n",
    "plt.show()"
   ]
  },
  {
   "cell_type": "code",
   "execution_count": null,
   "metadata": {},
   "outputs": [],
   "source": []
  },
  {
   "cell_type": "code",
   "execution_count": 61,
   "metadata": {},
   "outputs": [],
   "source": [
    "######## Size"
   ]
  },
  {
   "cell_type": "code",
   "execution_count": 62,
   "metadata": {},
   "outputs": [
    {
     "data": {
      "text/plain": [
       "dtype('float64')"
      ]
     },
     "execution_count": 62,
     "metadata": {},
     "output_type": "execute_result"
    }
   ],
   "source": [
    "data['Size'] = data['Size'].apply(lambda x: str(x).replace('Varies with device', 'NaN') if 'Varies with device' in str(x) else x)\n",
    "data['Size'] = data['Size'].apply(lambda x: str(x).replace('M', '') if 'M' in str(x) else x)\n",
    "data['Size'] = data['Size'].apply(lambda x: str(x).replace(',', '') if 'M' in str(x) else x)\n",
    "data['Size'] = data['Size'].apply(lambda x: float(str(x).replace('k', '')) / 1000 if 'k' in str(x) else x)\n",
    "data['Size'] = data['Size'].apply(lambda x: float(x))\n",
    "data['Size'].dtypes"
   ]
  },
  {
   "cell_type": "code",
   "execution_count": 63,
   "metadata": {},
   "outputs": [
    {
     "data": {
      "text/plain": [
       "(9360, 17)"
      ]
     },
     "execution_count": 63,
     "metadata": {},
     "output_type": "execute_result"
    }
   ],
   "source": [
    "data.shape"
   ]
  },
  {
   "cell_type": "code",
   "execution_count": 64,
   "metadata": {},
   "outputs": [],
   "source": [
    "# replace nan by mean\n",
    "size_array = data[data['Size']!=np.nan]['Size']\n",
    "#data['Size'].replace(np.nan,size_array.mean())"
   ]
  },
  {
   "cell_type": "code",
   "execution_count": 65,
   "metadata": {},
   "outputs": [],
   "source": [
    "data['Size']=data['Size'].replace(np.nan,size_array.mean())"
   ]
  },
  {
   "cell_type": "code",
   "execution_count": 66,
   "metadata": {},
   "outputs": [],
   "source": [
    "# new size uniques (numeric, and no nans)\n",
    "#data['Size'].unique()"
   ]
  },
  {
   "cell_type": "code",
   "execution_count": 67,
   "metadata": {},
   "outputs": [
    {
     "data": {
      "text/plain": [
       "Text(0.5, 1.0, 'Apps by size')"
      ]
     },
     "execution_count": 67,
     "metadata": {},
     "output_type": "execute_result"
    },
    {
     "data": {
      "image/png": "[encoded data removed]",
      "text/plain": [
       "<Figure size 432x288 with 1 Axes>"
      ]
     },
     "metadata": {
      "needs_background": "light"
     },
     "output_type": "display_data"
    }
   ],
   "source": [
    "#vizualisation distribution of number of Size values, wo nan\n",
    "_=sns.boxplot(data['Size'])\n",
    "plt.title(\"Apps by size\")"
   ]
  },
  {
   "cell_type": "code",
   "execution_count": 68,
   "metadata": {},
   "outputs": [],
   "source": [
    "############"
   ]
  },
  {
   "cell_type": "code",
   "execution_count": 69,
   "metadata": {},
   "outputs": [],
   "source": [
    "# Rating"
   ]
  },
  {
   "cell_type": "code",
   "execution_count": 70,
   "metadata": {},
   "outputs": [
    {
     "data": {
      "text/plain": [
       "count    9360.000000\n",
       "mean        4.191838\n",
       "std         0.515263\n",
       "min         1.000000\n",
       "25%         4.000000\n",
       "50%         4.300000\n",
       "75%         4.500000\n",
       "max         5.000000\n",
       "Name: Rating, dtype: float64"
      ]
     },
     "execution_count": 70,
     "metadata": {},
     "output_type": "execute_result"
    }
   ],
   "source": [
    "data['Rating'].describe()"
   ]
  },
  {
   "cell_type": "code",
   "execution_count": 71,
   "metadata": {},
   "outputs": [
    {
     "data": {
      "image/png": "[encoded data removed]",
      "text/plain": [
       "<Figure size 432x288 with 1 Axes>"
      ]
     },
     "metadata": {
      "needs_background": "light"
     },
     "output_type": "display_data"
    }
   ],
   "source": [
    "_=sns.distplot(data['Rating'])\n",
    "plt.title(\"Apps average rating\")\n",
    "plt.grid(True)\n",
    "plt.tight_layout()"
   ]
  },
  {
   "cell_type": "code",
   "execution_count": 72,
   "metadata": {},
   "outputs": [],
   "source": [
    "# Ratug by category"
   ]
  },
  {
   "cell_type": "code",
   "execution_count": 73,
   "metadata": {},
   "outputs": [],
   "source": [
    "#plt.figure(figsize=(8,6))\n",
    "#fig = sns.barplot(x=sorted_by_rating['App'][:10], y=sorted_by_rating['Rating'][:10], palette=\"hls\")\n",
    "#fig.set_xticklabels(fig.get_xticklabels(),rotation=90)\n",
    "#plt.tight_layout()\n",
    "#plt.show(fig)"
   ]
  },
  {
   "cell_type": "code",
   "execution_count": 74,
   "metadata": {},
   "outputs": [],
   "source": [
    "# Reviews"
   ]
  },
  {
   "cell_type": "code",
   "execution_count": 75,
   "metadata": {},
   "outputs": [
    {
     "data": {
      "text/plain": [
       "dtype('int64')"
      ]
     },
     "execution_count": 75,
     "metadata": {},
     "output_type": "execute_result"
    }
   ],
   "source": [
    "data['Reviews'] = data['Reviews'].apply(lambda x: int(x))\n",
    "data['Reviews'].dtypes"
   ]
  },
  {
   "cell_type": "code",
   "execution_count": 76,
   "metadata": {},
   "outputs": [],
   "source": [
    "#plt.figure(figsize=(8,6))\n",
    "#fig = sns.barplot(x=sorted_by_reviews['App'][:10], y=sorted_by_reviews['Reviews'][:10], palette=\"hls\")\n",
    "#fig.set_xticklabels(fig.get_xticklabels(),rotation=90)\n",
    "#plt.tight_layout()\n",
    "#plt.show(fig)"
   ]
  },
  {
   "cell_type": "code",
   "execution_count": 77,
   "metadata": {},
   "outputs": [],
   "source": [
    "## Feature 'Android Ver'"
   ]
  },
  {
   "cell_type": "code",
   "execution_count": 78,
   "metadata": {},
   "outputs": [
    {
     "data": {
      "text/plain": [
       "array(['4.0.3 and up', '4.2 and up', '4.4 and up', '2.3 and up',\n",
       "       '3.0 and up', '4.1 and up', '4.0 and up', '2.3.3 and up',\n",
       "       'Varies with device', '2.2 and up', '5.0 and up', '6.0 and up',\n",
       "       '1.6 and up', '1.5 and up', '2.1 and up', '7.0 and up',\n",
       "       '4.3 and up', '4.0.3 - 7.1.1', '2.0 and up', '3.2 and up',\n",
       "       '4.4W and up', '5.1 and up', '7.1 and up', '7.0 - 7.1.1',\n",
       "       '8.0 and up', '5.0 - 8.0', '3.1 and up', '2.0.1 and up',\n",
       "       '4.1 - 7.1.1', '5.0 - 6.0', '1.0 and up'], dtype=object)"
      ]
     },
     "execution_count": 78,
     "metadata": {},
     "output_type": "execute_result"
    }
   ],
   "source": [
    "data['Android Ver'].unique()"
   ]
  },
  {
   "cell_type": "code",
   "execution_count": 79,
   "metadata": {},
   "outputs": [],
   "source": [
    "# replace varies with device\n",
    "data['Android Ver']=data['Android Ver'].replace('Varies with device',np.nan)"
   ]
  },
  {
   "cell_type": "code",
   "execution_count": 80,
   "metadata": {},
   "outputs": [
    {
     "data": {
      "text/html": [
       "<div>\n",
       "<style scoped>\n",
       "    .dataframe tbody tr th:only-of-type {\n",
       "        vertical-align: middle;\n",
       "    }\n",
       "\n",
       "    .dataframe tbody tr th {\n",
       "        vertical-align: top;\n",
       "    }\n",
       "\n",
       "    .dataframe thead th {\n",
       "        text-align: right;\n",
       "    }\n",
       "</style>\n",
       "<table border=\"1\" class=\"dataframe\">\n",
       "  <thead>\n",
       "    <tr style=\"text-align: right;\">\n",
       "      <th></th>\n",
       "      <th>0</th>\n",
       "    </tr>\n",
       "  </thead>\n",
       "  <tbody>\n",
       "    <tr>\n",
       "      <th>0</th>\n",
       "      <td>4.0</td>\n",
       "    </tr>\n",
       "    <tr>\n",
       "      <th>1</th>\n",
       "      <td>4.0</td>\n",
       "    </tr>\n",
       "    <tr>\n",
       "      <th>2</th>\n",
       "      <td>4.0</td>\n",
       "    </tr>\n",
       "    <tr>\n",
       "      <th>3</th>\n",
       "      <td>4.2</td>\n",
       "    </tr>\n",
       "    <tr>\n",
       "      <th>4</th>\n",
       "      <td>4.4</td>\n",
       "    </tr>\n",
       "    <tr>\n",
       "      <th>5</th>\n",
       "      <td>2.3</td>\n",
       "    </tr>\n",
       "    <tr>\n",
       "      <th>6</th>\n",
       "      <td>4.0</td>\n",
       "    </tr>\n",
       "    <tr>\n",
       "      <th>7</th>\n",
       "      <td>4.2</td>\n",
       "    </tr>\n",
       "    <tr>\n",
       "      <th>8</th>\n",
       "      <td>3.0</td>\n",
       "    </tr>\n",
       "    <tr>\n",
       "      <th>9</th>\n",
       "      <td>4.0</td>\n",
       "    </tr>\n",
       "    <tr>\n",
       "      <th>10</th>\n",
       "      <td>4.1</td>\n",
       "    </tr>\n",
       "    <tr>\n",
       "      <th>11</th>\n",
       "      <td>4.0</td>\n",
       "    </tr>\n",
       "    <tr>\n",
       "      <th>12</th>\n",
       "      <td>4.1</td>\n",
       "    </tr>\n",
       "    <tr>\n",
       "      <th>13</th>\n",
       "      <td>4.4</td>\n",
       "    </tr>\n",
       "    <tr>\n",
       "      <th>14</th>\n",
       "      <td>2.3</td>\n",
       "    </tr>\n",
       "    <tr>\n",
       "      <th>16</th>\n",
       "      <td>4.1</td>\n",
       "    </tr>\n",
       "    <tr>\n",
       "      <th>17</th>\n",
       "      <td>2.3</td>\n",
       "    </tr>\n",
       "    <tr>\n",
       "      <th>18</th>\n",
       "      <td>4.0</td>\n",
       "    </tr>\n",
       "    <tr>\n",
       "      <th>19</th>\n",
       "      <td>4.1</td>\n",
       "    </tr>\n",
       "    <tr>\n",
       "      <th>20</th>\n",
       "      <td>4.1</td>\n",
       "    </tr>\n",
       "    <tr>\n",
       "      <th>21</th>\n",
       "      <td>4.0</td>\n",
       "    </tr>\n",
       "    <tr>\n",
       "      <th>22</th>\n",
       "      <td>4.0</td>\n",
       "    </tr>\n",
       "    <tr>\n",
       "      <th>24</th>\n",
       "      <td>4.1</td>\n",
       "    </tr>\n",
       "    <tr>\n",
       "      <th>25</th>\n",
       "      <td>3.0</td>\n",
       "    </tr>\n",
       "    <tr>\n",
       "      <th>26</th>\n",
       "      <td>4.0</td>\n",
       "    </tr>\n",
       "    <tr>\n",
       "      <th>27</th>\n",
       "      <td>4.0</td>\n",
       "    </tr>\n",
       "    <tr>\n",
       "      <th>28</th>\n",
       "      <td>2.3</td>\n",
       "    </tr>\n",
       "    <tr>\n",
       "      <th>29</th>\n",
       "      <td>2.3</td>\n",
       "    </tr>\n",
       "    <tr>\n",
       "      <th>30</th>\n",
       "      <td>4.0</td>\n",
       "    </tr>\n",
       "    <tr>\n",
       "      <th>31</th>\n",
       "      <td>2.3</td>\n",
       "    </tr>\n",
       "    <tr>\n",
       "      <th>...</th>\n",
       "      <td>...</td>\n",
       "    </tr>\n",
       "    <tr>\n",
       "      <th>10795</th>\n",
       "      <td>4.1</td>\n",
       "    </tr>\n",
       "    <tr>\n",
       "      <th>10796</th>\n",
       "      <td>4.1</td>\n",
       "    </tr>\n",
       "    <tr>\n",
       "      <th>10797</th>\n",
       "      <td>5.0</td>\n",
       "    </tr>\n",
       "    <tr>\n",
       "      <th>10799</th>\n",
       "      <td>4.0</td>\n",
       "    </tr>\n",
       "    <tr>\n",
       "      <th>10800</th>\n",
       "      <td>4.4</td>\n",
       "    </tr>\n",
       "    <tr>\n",
       "      <th>10801</th>\n",
       "      <td>4.4</td>\n",
       "    </tr>\n",
       "    <tr>\n",
       "      <th>10802</th>\n",
       "      <td>3.0</td>\n",
       "    </tr>\n",
       "    <tr>\n",
       "      <th>10803</th>\n",
       "      <td>4.0</td>\n",
       "    </tr>\n",
       "    <tr>\n",
       "      <th>10804</th>\n",
       "      <td>2.3</td>\n",
       "    </tr>\n",
       "    <tr>\n",
       "      <th>10805</th>\n",
       "      <td>4.2</td>\n",
       "    </tr>\n",
       "    <tr>\n",
       "      <th>10809</th>\n",
       "      <td>4.1</td>\n",
       "    </tr>\n",
       "    <tr>\n",
       "      <th>10810</th>\n",
       "      <td>4.4</td>\n",
       "    </tr>\n",
       "    <tr>\n",
       "      <th>10812</th>\n",
       "      <td>4.0</td>\n",
       "    </tr>\n",
       "    <tr>\n",
       "      <th>10814</th>\n",
       "      <td>3.0</td>\n",
       "    </tr>\n",
       "    <tr>\n",
       "      <th>10815</th>\n",
       "      <td>4.2</td>\n",
       "    </tr>\n",
       "    <tr>\n",
       "      <th>10817</th>\n",
       "      <td>5.0</td>\n",
       "    </tr>\n",
       "    <tr>\n",
       "      <th>10819</th>\n",
       "      <td>4.1</td>\n",
       "    </tr>\n",
       "    <tr>\n",
       "      <th>10820</th>\n",
       "      <td>4.1</td>\n",
       "    </tr>\n",
       "    <tr>\n",
       "      <th>10826</th>\n",
       "      <td>NaN</td>\n",
       "    </tr>\n",
       "    <tr>\n",
       "      <th>10827</th>\n",
       "      <td>4.0</td>\n",
       "    </tr>\n",
       "    <tr>\n",
       "      <th>10828</th>\n",
       "      <td>4.0</td>\n",
       "    </tr>\n",
       "    <tr>\n",
       "      <th>10829</th>\n",
       "      <td>4.1</td>\n",
       "    </tr>\n",
       "    <tr>\n",
       "      <th>10830</th>\n",
       "      <td>1.6</td>\n",
       "    </tr>\n",
       "    <tr>\n",
       "      <th>10832</th>\n",
       "      <td>2.1</td>\n",
       "    </tr>\n",
       "    <tr>\n",
       "      <th>10833</th>\n",
       "      <td>2.2</td>\n",
       "    </tr>\n",
       "    <tr>\n",
       "      <th>10834</th>\n",
       "      <td>4.1</td>\n",
       "    </tr>\n",
       "    <tr>\n",
       "      <th>10836</th>\n",
       "      <td>4.1</td>\n",
       "    </tr>\n",
       "    <tr>\n",
       "      <th>10837</th>\n",
       "      <td>4.1</td>\n",
       "    </tr>\n",
       "    <tr>\n",
       "      <th>10839</th>\n",
       "      <td>NaN</td>\n",
       "    </tr>\n",
       "    <tr>\n",
       "      <th>10840</th>\n",
       "      <td>NaN</td>\n",
       "    </tr>\n",
       "  </tbody>\n",
       "</table>\n",
       "<p>9360 rows × 1 columns</p>\n",
       "</div>"
      ],
      "text/plain": [
       "         0\n",
       "0      4.0\n",
       "1      4.0\n",
       "2      4.0\n",
       "3      4.2\n",
       "4      4.4\n",
       "5      2.3\n",
       "6      4.0\n",
       "7      4.2\n",
       "8      3.0\n",
       "9      4.0\n",
       "10     4.1\n",
       "11     4.0\n",
       "12     4.1\n",
       "13     4.4\n",
       "14     2.3\n",
       "16     4.1\n",
       "17     2.3\n",
       "18     4.0\n",
       "19     4.1\n",
       "20     4.1\n",
       "21     4.0\n",
       "22     4.0\n",
       "24     4.1\n",
       "25     3.0\n",
       "26     4.0\n",
       "27     4.0\n",
       "28     2.3\n",
       "29     2.3\n",
       "30     4.0\n",
       "31     2.3\n",
       "...    ...\n",
       "10795  4.1\n",
       "10796  4.1\n",
       "10797  5.0\n",
       "10799  4.0\n",
       "10800  4.4\n",
       "10801  4.4\n",
       "10802  3.0\n",
       "10803  4.0\n",
       "10804  2.3\n",
       "10805  4.2\n",
       "10809  4.1\n",
       "10810  4.4\n",
       "10812  4.0\n",
       "10814  3.0\n",
       "10815  4.2\n",
       "10817  5.0\n",
       "10819  4.1\n",
       "10820  4.1\n",
       "10826  NaN\n",
       "10827  4.0\n",
       "10828  4.0\n",
       "10829  4.1\n",
       "10830  1.6\n",
       "10832  2.1\n",
       "10833  2.2\n",
       "10834  4.1\n",
       "10836  4.1\n",
       "10837  4.1\n",
       "10839  NaN\n",
       "10840  NaN\n",
       "\n",
       "[9360 rows x 1 columns]"
      ]
     },
     "execution_count": 80,
     "metadata": {},
     "output_type": "execute_result"
    }
   ],
   "source": [
    "data['Android Ver'].str.extract('(\\d\\.\\d)', expand=True)"
   ]
  },
  {
   "cell_type": "code",
   "execution_count": 81,
   "metadata": {},
   "outputs": [],
   "source": [
    "#store it\n",
    "data['Android Ver']=data['Android Ver'].str.extract('(\\d\\.\\d)', expand=True)"
   ]
  },
  {
   "cell_type": "code",
   "execution_count": 82,
   "metadata": {},
   "outputs": [
    {
     "data": {
      "text/plain": [
       "array(['4.0', '4.2', '4.4', '2.3', '3.0', '4.1', nan, '2.2', '5.0', '6.0',\n",
       "       '1.6', '1.5', '2.1', '7.0', '4.3', '2.0', '3.2', '5.1', '7.1',\n",
       "       '8.0', '3.1', '1.0'], dtype=object)"
      ]
     },
     "execution_count": 82,
     "metadata": {},
     "output_type": "execute_result"
    }
   ],
   "source": [
    "data['Android Ver'].unique()"
   ]
  },
  {
   "cell_type": "code",
   "execution_count": 83,
   "metadata": {},
   "outputs": [],
   "source": [
    "# convert to float\n",
    "data['Android Ver']=pd.to_numeric(data['Android Ver'])"
   ]
  },
  {
   "cell_type": "code",
   "execution_count": 84,
   "metadata": {},
   "outputs": [
    {
     "data": {
      "text/plain": [
       "dtype('float64')"
      ]
     },
     "execution_count": 84,
     "metadata": {},
     "output_type": "execute_result"
    }
   ],
   "source": [
    "data['Android Ver'].dtypes"
   ]
  },
  {
   "cell_type": "code",
   "execution_count": 85,
   "metadata": {},
   "outputs": [
    {
     "data": {
      "text/plain": [
       "(9360, 17)"
      ]
     },
     "execution_count": 85,
     "metadata": {},
     "output_type": "execute_result"
    }
   ],
   "source": [
    "data.shape"
   ]
  },
  {
   "cell_type": "code",
   "execution_count": 86,
   "metadata": {},
   "outputs": [
    {
     "data": {
      "text/plain": [
       "count    8041.000000\n",
       "mean        3.869071\n",
       "std         0.844801\n",
       "min         1.000000\n",
       "25%         4.000000\n",
       "50%         4.100000\n",
       "75%         4.200000\n",
       "max         8.000000\n",
       "Name: Android Ver, dtype: float64"
      ]
     },
     "execution_count": 86,
     "metadata": {},
     "output_type": "execute_result"
    }
   ],
   "source": [
    "data['Android Ver'].describe()"
   ]
  },
  {
   "cell_type": "code",
   "execution_count": 87,
   "metadata": {},
   "outputs": [],
   "source": [
    "# replace nan by mean\n",
    "# create an array based on the current ver clean non nulls to look at the distribution\n",
    "android_ver_clean_array = data[data['Android Ver']!=np.nan]['Android Ver']"
   ]
  },
  {
   "cell_type": "code",
   "execution_count": 88,
   "metadata": {},
   "outputs": [
    {
     "data": {
      "text/plain": [
       "Text(0.5, 1.0, 'Apps by android version')"
      ]
     },
     "execution_count": 88,
     "metadata": {},
     "output_type": "execute_result"
    },
    {
     "data": {
      "image/png": "[encoded data removed]",
      "text/plain": [
       "<Figure size 432x288 with 1 Axes>"
      ]
     },
     "metadata": {
      "needs_background": "light"
     },
     "output_type": "display_data"
    }
   ],
   "source": [
    "#vizualisation distribution of new ['Android ver'] values non nulls\n",
    "_=sns.boxplot(android_ver_clean_array )\n",
    "plt.title(\"Apps by android version\")"
   ]
  },
  {
   "cell_type": "code",
   "execution_count": 89,
   "metadata": {},
   "outputs": [],
   "source": [
    "# replace nan by mean\n",
    "data['Android Ver']=data['Android Ver'].replace(np.nan,android_ver_clean_array.mean())"
   ]
  },
  {
   "cell_type": "code",
   "execution_count": 90,
   "metadata": {},
   "outputs": [
    {
     "data": {
      "text/plain": [
       "count    9360.000000\n",
       "mean        3.869071\n",
       "std         0.783011\n",
       "min         1.000000\n",
       "25%         3.869071\n",
       "50%         4.000000\n",
       "75%         4.100000\n",
       "max         8.000000\n",
       "Name: Android Ver, dtype: float64"
      ]
     },
     "execution_count": 90,
     "metadata": {},
     "output_type": "execute_result"
    }
   ],
   "source": [
    "data['Android Ver'].describe()"
   ]
  },
  {
   "cell_type": "code",
   "execution_count": 91,
   "metadata": {},
   "outputs": [
    {
     "data": {
      "text/plain": [
       "array([4.        , 4.2       , 4.4       , 2.3       , 3.        ,\n",
       "       4.1       , 3.86907101, 2.2       , 5.        , 6.        ,\n",
       "       1.6       , 1.5       , 2.1       , 7.        , 4.3       ,\n",
       "       2.        , 3.2       , 5.1       , 7.1       , 8.        ,\n",
       "       3.1       , 1.        ])"
      ]
     },
     "execution_count": 91,
     "metadata": {},
     "output_type": "execute_result"
    }
   ],
   "source": [
    "data['Android Ver'].unique()"
   ]
  },
  {
   "cell_type": "code",
   "execution_count": 92,
   "metadata": {},
   "outputs": [],
   "source": [
    "##### Feature current ver"
   ]
  },
  {
   "cell_type": "code",
   "execution_count": 93,
   "metadata": {},
   "outputs": [
    {
     "data": {
      "text/plain": [
       "(9360, 17)"
      ]
     },
     "execution_count": 93,
     "metadata": {},
     "output_type": "execute_result"
    }
   ],
   "source": [
    "data.shape"
   ]
  },
  {
   "cell_type": "code",
   "execution_count": 94,
   "metadata": {},
   "outputs": [],
   "source": [
    "# get the column and extract the first 2 digit and repetition + and return string, finadll returns a list\n",
    "data['Current Ver_clean'] = data['Current Ver']\\\n",
    "                                    .apply(lambda x: re.findall('[0-9]+\\.[0-9]+', \n",
    "                                                        str(x))[0] if re.findall('[0-9]+\\.[0-9]+', \n",
    "                                                        str(x)) else -10000)"
   ]
  },
  {
   "cell_type": "code",
   "execution_count": 95,
   "metadata": {},
   "outputs": [],
   "source": [
    "data['Current Ver_clean'] = data['Current Ver_clean'].astype(float)"
   ]
  },
  {
   "cell_type": "code",
   "execution_count": 96,
   "metadata": {},
   "outputs": [
    {
     "data": {
      "text/plain": [
       "array([ 1.00000000e+00,  2.00000000e+00,  1.20000000e+00, -1.00000000e+04,\n",
       "        1.10000000e+00,  6.10000000e+00,  2.90000000e+00,  2.80000000e+00,\n",
       "        3.80000000e+00,  3.10000000e+00,  2.20000000e+00,  5.50000000e+00,\n",
       "        4.00000000e+00,  1.50000000e+00,  1.03000000e+00,  6.00000000e+00,\n",
       "        6.70000000e+00,  1.60000000e+00,  2.10000000e+00,  1.30000000e+00,\n",
       "        1.46000000e+00,  1.10000000e+01,  3.00000000e+00,  1.70000000e+00,\n",
       "        2.50000000e+00,  2.49300000e+00,  1.90000000e+00,  1.37000000e+00,\n",
       "        2.00000000e-01,  4.47000000e+00,  1.79000000e+00,  2.30000000e+00,\n",
       "        8.31000000e+00,  1.00000000e+01,  3.20000000e+00,  1.40000000e+00,\n",
       "        4.60000000e+00,  2.17000000e+00,  5.40000000e+00,  3.30000000e+00,\n",
       "        1.85000000e+01,  1.91180527e+00,  9.10000000e+00,  1.50000000e+01,\n",
       "        1.80500000e+01,  5.00000000e+00,  3.12000000e+00,  1.28000000e+00,\n",
       "        9.00000000e+00,  1.40000000e+01,  3.05000000e+00,  7.00000000e+00,\n",
       "        1.15000000e+00,  3.90000000e+00,  3.40000000e+00,  2.19000000e+00,\n",
       "        9.70000000e+00,  4.90000000e+00,  5.20000000e+00,  3.55000000e+00,\n",
       "        7.30000000e+00,  5.10000000e+00,  4.10000000e+00,  9.90000000e+01,\n",
       "        1.22000000e+01,  1.12000000e+00,  9.00000000e-01,  3.24000000e+00,\n",
       "        1.87000000e+01,  3.19000000e+00,  6.40000000e+00,  3.70000000e+00,\n",
       "        2.60000000e+00,  4.30000000e+00,  1.04600000e+01,  1.11000000e+01,\n",
       "        2.22000000e+00,  2.11000000e+00,  1.08000000e+00,  6.30000000e+00,\n",
       "        4.70000000e+00,  3.16000000e+00,  4.20000000e+00,  1.01000000e+00,\n",
       "        2.40000000e+00,  1.80000000e+00,  3.70000000e+01,  5.29000000e+00,\n",
       "        9.80000000e+00,  1.18000000e+01,  2.46000000e+01,  4.71000000e+01,\n",
       "        6.90000000e+01,  1.14000000e+01,  2.18000000e+00,  7.50000000e+00,\n",
       "        3.71000000e+01,  1.28000000e+01,  9.90000000e+00,  4.20000000e+01,\n",
       "        1.00000000e-01,  7.73000000e+00,  4.98000000e+00,  7.21000000e+00,\n",
       "        3.47000000e+00,  6.50000000e+00,  5.65000000e+00,  5.22000000e+00,\n",
       "        4.50000000e+00,  5.85000000e+00,  1.26000000e+00,  3.50000000e+00,\n",
       "        8.10000000e+00,  5.86000000e+00,  2.01810000e+03,  1.28600000e+00,\n",
       "        6.19000000e+00,  5.28000000e+00,  5.40300000e+00,  7.20000000e+00,\n",
       "        4.17000000e+00,  4.19000000e+00,  6.60000000e+00,  1.63900000e+00,\n",
       "        4.40000000e+00,  1.30800000e+00,  2.45000000e+00,  1.31000000e+00,\n",
       "        1.23000000e+00,  1.58000000e+01,  4.80000000e+00,  1.55000000e+00,\n",
       "        1.20000000e+01,  8.70000000e+00,  1.17000000e+00,  0.00000000e+00,\n",
       "        3.60000000e+00,  5.16000000e+00,  5.30000000e+00,  8.20000000e+00,\n",
       "        3.52000000e+00,  4.81300000e+00,  1.94000000e+00,  2.16000000e+00,\n",
       "        2.07000000e+01,  2.24000000e+00,  2.51000000e+00,  2.15000000e+00,\n",
       "        3.14000000e+00,  5.70000000e+00,  2.48000000e+00,  2.90000000e-01,\n",
       "        1.09000000e+01,  2.09000000e+00,  1.39000000e+01,  8.50000000e+00,\n",
       "        1.59000000e+01,  9.12000000e+00,  4.21000000e+00,  1.16000000e+00,\n",
       "        1.02000000e+00,  2.13000000e+00,  3.43000000e+00,  2.05000000e+00,\n",
       "        2.08000000e+00,  1.80700000e+01,  6.18000000e+00,  1.14500000e+01,\n",
       "        8.06260000e+00,  4.18000000e+00,  3.17000000e+00,  1.60000000e+01,\n",
       "        4.00300000e+00,  4.42600000e+00,  8.40000000e+00,  1.57000000e+00,\n",
       "        2.01807000e+03,  1.75000000e+00,  1.61100000e+01,  1.14000000e+00,\n",
       "        3.11000000e+00,  8.00000000e+00,  2.01000000e+01,  8.18000000e+00,\n",
       "        1.07800000e+01,  3.11500000e+00,  2.31000000e+00,  6.80000000e+00,\n",
       "        6.28000000e+00,  5.38000000e+00,  2.70000000e+00,  3.22000000e+00,\n",
       "        6.39000000e+00,  2.29000000e+00,  1.13000000e+00,  2.12000000e+00,\n",
       "        2.53000000e+00,  1.18000000e+00,  1.66000000e+01,  4.63000000e+00,\n",
       "        3.04000000e+00,  2.13100000e+00,  2.34000000e+00,  8.44000000e+00,\n",
       "        5.90000000e+00,  7.80000000e+00,  6.29000000e+00,  5.15000000e+00,\n",
       "        1.86000000e+01,  7.12000000e+00,  2.14000000e+00,  4.11000000e+00,\n",
       "        7.90000000e+00,  5.80000000e+00,  4.26000000e+00,  2.45000000e+01,\n",
       "        2.76000000e+00,  9.15000000e+00,  1.16100000e+00,  1.11100000e+01,\n",
       "        5.23000000e+00,  5.31000000e+00,  6.15000000e+00,  3.40100000e+00,\n",
       "        1.12000000e+02,  5.13000000e+00,  3.48000000e+00,  5.14000000e+00,\n",
       "        6.20000000e+00,  1.29000000e+00,  1.02400000e+01,  8.80000000e+00,\n",
       "        1.11000000e+00,  1.02000000e+01,  1.92000000e+00,  7.40000000e+00,\n",
       "        9.60000000e+00,  2.20000000e+02,  1.22000000e+00,  1.01900000e+01,\n",
       "        1.67000000e+01,  6.97000000e+00,  9.40000000e+00,  4.35000000e+00,\n",
       "        1.21000000e+01,  8.30000000e+00,  5.60000000e+00,  2.34700000e+00,\n",
       "        1.12900000e+00,  2.13700000e+00,  1.49000000e+00,  1.11800000e+00,\n",
       "        1.03220000e+01,  2.21000000e+00,  5.66000000e+00,  1.75100000e+00,\n",
       "        1.21000000e+00,  5.06400000e+00,  1.11000000e-01,  1.24000000e+00,\n",
       "        2.79000000e+00,  7.00000000e-01,  5.00000000e-01,  1.18027100e+00,\n",
       "        1.25000000e+00,  1.05000000e+00,  2.00810000e+00,  5.39000000e+00,\n",
       "        1.91000000e+01,  1.93000000e+00,  1.76000000e+00,  7.90000000e+01,\n",
       "        5.70000000e+01,  3.15000000e+00,  8.25000000e+00,  1.73000000e+00,\n",
       "        2.18072300e+00,  7.32000000e+00,  1.01805300e+01,  1.18070200e+00,\n",
       "        1.22100000e+00,  1.47000000e+00,  3.49000000e+00,  1.19000000e+00,\n",
       "        1.81000000e+01,  1.82000000e+01,  3.46000000e+00,  1.38000000e+00,\n",
       "        1.35000000e+00,  2.80000000e+01,  6.14000000e+00,  2.01850000e+03,\n",
       "        1.90000000e+01,  7.60000000e+00,  7.10000000e+00,  3.27000000e+00,\n",
       "        3.25000000e+00,  6.02000000e+00,  3.18000000e+00,  4.36000000e+00,\n",
       "        2.25000000e+00,  2.53000000e+01,  5.11000000e+00,  4.23000000e+00,\n",
       "        1.83000000e+00,  3.00000100e+05,  1.04000000e+01,  5.51000000e+00,\n",
       "        6.00000000e-01,  4.30000000e+01,  4.95000000e+00,  1.30000000e+01,\n",
       "        4.81000000e+00,  5.02000000e+01,  7.23000000e+00,  2.69000000e+00,\n",
       "        2.70000000e+01,  1.06000000e+01,  1.61400000e+01,  1.42000000e+01,\n",
       "        1.17000000e+01,  4.16000000e+00,  4.33000000e+00,  6.25000000e+00,\n",
       "        2.91400000e+01,  4.89000000e+00,  8.90000000e+00,  5.21000000e+00,\n",
       "        7.36000000e+00,  2.12400000e+00,  6.90000000e+00,  4.31000000e+00,\n",
       "        3.28000000e+00,  3.13000000e+00,  3.69000000e+00,  1.16000000e+01,\n",
       "        1.36000000e+01,  2.20000000e+01,  6.21000000e+00,  2.73000000e+00,\n",
       "        2.74000000e+00,  1.43000000e+00,  9.30000000e+00,  1.32000000e+00,\n",
       "        3.31000000e+00,  6.71000000e+00,  6.17000000e+00,  1.08000000e+01,\n",
       "        1.00400000e+03,  6.11000000e+00,  5.12000000e+00,  2.01860000e+03,\n",
       "        2.46000000e+00,  3.21000000e+00,  2.28000000e+00,  2.01770000e+03,\n",
       "        1.83000000e+01,  5.48000000e+00,  1.74000000e+01,  9.20000000e+00,\n",
       "        1.07000000e+01,  8.13000000e+00,  4.13000000e+00,  8.60000000e+00,\n",
       "        4.38000000e+00,  1.12600000e+01,  1.77000000e+01,  2.32000000e+00,\n",
       "        5.38900000e+01,  4.15000000e+00,  1.82100000e+01,  1.38000000e+01,\n",
       "        5.36000000e+00,  3.21000000e+01,  1.51000000e+00,  2.27000000e+00,\n",
       "        4.78000000e+00,  6.06000000e+00,  4.32000000e+00,  1.33000000e+00,\n",
       "        5.34000000e+00,  1.28400000e+00,  5.41000000e+00,  4.12000000e+00,\n",
       "        4.00000000e+01,  2.85000000e+00,  2.41000000e+00,  6.07000000e+00,\n",
       "        1.80000000e+01,  6.80000000e+01,  1.39000000e+00,  1.34000000e+01,\n",
       "        1.07000000e+00,  2.04000000e+00,  2.03000000e+00,  1.04000000e+00,\n",
       "        1.76000000e+01,  1.78000000e+00,  1.25100000e+00,  1.13700000e+00,\n",
       "        9.51000000e+00,  2.71000000e+00,  5.17000000e+00,  1.82010000e+01,\n",
       "        3.53000000e+00,  2.42000000e+00,  1.63000000e+01,  1.92000000e+01,\n",
       "        4.08000000e+00,  7.16000000e+00,  5.44000000e+00,  4.76000000e+00,\n",
       "        5.07200000e+00,  8.10000000e-01,  1.58000000e+00,  4.94000000e+00,\n",
       "        1.51000000e+01,  8.00000000e-01,  1.90000000e-01,  2.35000000e+00,\n",
       "        1.52000000e+00,  7.70000000e+00,  1.02300000e+01,  1.07800000e+00,\n",
       "        1.09000000e+00,  9.94000000e-01,  1.64000000e+00,  1.91000000e+00,\n",
       "        1.46000000e+01,  2.23000000e+00,  5.05552400e+03,  2.27700000e+00,\n",
       "        5.26000000e+00,  2.44000000e+00,  1.27900000e+00,  4.00000000e-01,\n",
       "        9.14000000e+00,  1.53000000e+00,  5.20600000e+00,  7.46000000e+00,\n",
       "        1.42000000e+00,  2.30000000e+01,  9.55000000e+00,  1.80506180e+03,\n",
       "        1.27030000e+00,  2.07000000e+00,  3.42000000e+00,  1.56000000e+01,\n",
       "        5.40000000e-01,  1.10000000e-01,  1.51400000e+01,  2.24400000e+00,\n",
       "        3.00200000e+00,  1.57400000e+00,  1.26000000e+01,  9.50000000e+00,\n",
       "        1.36000000e+00,  1.01000000e+01,  1.06000000e+00,  1.60000000e-01,\n",
       "        2.63160000e+02,  1.93500000e+00,  6.50000000e+01,  4.01000000e+00,\n",
       "        4.54000000e+00,  2.92000000e+00,  1.62000000e+00,  1.09100000e+00,\n",
       "        2.94000000e+00,  1.77000000e+00,  2.02000000e+00,  3.39000000e+00,\n",
       "        2.01000000e+00,  1.10720000e+00,  4.34000000e+00,  4.29000000e+00,\n",
       "        8.05000000e+00,  3.00000000e+05,  2.26000000e+00,  4.43500000e+00,\n",
       "        3.30000000e-01,  1.10400000e+01,  4.60000000e-01,  3.92310000e+01,\n",
       "        1.54000000e+00,  1.34000000e+00,  2.59000000e+00,  2.00300000e+00,\n",
       "        1.37500000e+00,  1.13100000e+00,  4.05000000e+00,  1.85000000e+00,\n",
       "        2.47000000e+00,  5.06000000e+00,  1.02100000e+00,  1.11700000e+01,\n",
       "        5.80500000e+00,  1.65100000e+01,  1.24600000e+00,  1.48000000e+00,\n",
       "        3.15317000e+00,  1.40100000e+00,  3.44000000e+00,  2.00000000e+01,\n",
       "        5.54000000e+00,  2.61000000e+01,  1.12600000e+00,  1.00500000e+01,\n",
       "        3.51190000e+01,  1.20160000e+00,  2.60000000e+01,  1.33000000e+01,\n",
       "        3.11000000e+01,  3.61000000e+00,  2.54000000e+00,  2.66000000e+00,\n",
       "        5.45000000e+00,  1.11500000e+01,  4.72000000e+00,  1.99800000e+00,\n",
       "        1.80800000e+01,  5.68000000e+00,  1.98000000e+00,  7.17000000e+00,\n",
       "        1.41000000e+00,  1.28300000e+00,  1.04200000e+00,  6.95000000e+00,\n",
       "        7.00000000e+01,  4.19000000e+01,  3.82000000e+00,  6.24000000e+00,\n",
       "        1.41500000e+01,  9.90000000e-01,  4.01000000e+01,  4.84000000e+00,\n",
       "        1.82000000e+00,  6.00000000e+01,  3.00050000e+03,  2.12900000e+00,\n",
       "        1.11300000e+01,  3.29000000e+00,  2.01400200e+03,  2.48000000e+01,\n",
       "        1.12200000e+00,  2.95000000e+00,  4.75000000e+00,  1.80600000e+01,\n",
       "        1.08400000e+00,  1.56000000e+00,  1.91100000e+00,  3.11100000e+01,\n",
       "        1.19300000e+00,  1.67000000e+00,  1.05000000e+01,  5.42000000e+00,\n",
       "        2.10600000e+00,  3.80000000e-01,  5.19000000e+00,  1.20400000e+01,\n",
       "        5.03000000e+00,  3.00000000e-01,  1.44000000e+01,  2.68000000e+00,\n",
       "        2.10000000e-01,  2.55000000e+00,  1.96000000e+00,  3.67000000e+00,\n",
       "        6.93000000e+00,  2.57000000e+01,  1.44000000e+00,  1.03600000e+01,\n",
       "        3.98000000e+00,  1.00120000e+01,  1.27000000e+00,  1.70000000e+01,\n",
       "        1.00200000e+00,  3.92720000e+01,  6.91000000e+01,  1.44100000e+00,\n",
       "        7.40000000e-01,  3.50000000e-01,  1.20000000e-01,  5.27000000e+00,\n",
       "        3.30000000e+01,  8.07000000e+00,  1.27800000e+00,  4.54125000e+03,\n",
       "        4.18060000e+00,  1.95000000e+00,  6.08000000e+00,  1.30480000e+02,\n",
       "        8.16000000e+00,  1.17300000e+00,  3.45000000e+00,  1.93200000e+00,\n",
       "        1.70500000e+01,  2.15400000e+01,  1.84000000e+01,  5.29000000e+01,\n",
       "        8.02000000e+00,  2.72000000e+00,  1.00000060e+06,  1.00600000e+00,\n",
       "        1.59000000e+00,  2.96000000e+00,  2.00100000e+00,  2.16400000e+00,\n",
       "        3.08000000e+00,  5.90000000e-01,  2.01804000e+03,  3.34000000e+00,\n",
       "        2.32000000e+01,  2.52000000e+00,  1.76000000e+02,  2.44000000e+01,\n",
       "        7.95000000e+00,  3.95300000e+00,  2.01800000e+03,  2.01880000e+03,\n",
       "        2.31700000e+01,  5.33000000e+00,  2.40000000e-01,  8.58000000e-01,\n",
       "        9.19000000e+00,  3.36000000e+00,  1.04040000e+00,  4.10000000e+01,\n",
       "        2.30100000e+01,  1.50000000e-01,  2.01707000e+03,  1.02200000e+00,\n",
       "        1.74000000e+00,  1.72000000e+00,  6.04000000e+00])"
      ]
     },
     "execution_count": 96,
     "metadata": {},
     "output_type": "execute_result"
    }
   ],
   "source": [
    "data['Current Ver_clean'].unique() "
   ]
  },
  {
   "cell_type": "code",
   "execution_count": 97,
   "metadata": {},
   "outputs": [
    {
     "data": {
      "image/png": "[encoded data removed]",
      "text/plain": [
       "<Figure size 432x288 with 1 Axes>"
      ]
     },
     "metadata": {
      "needs_background": "light"
     },
     "output_type": "display_data"
    }
   ],
   "source": [
    "#data['Current Ver_clean'].unique()\n",
    "_=sns.boxplot(data['Current Ver_clean'])"
   ]
  },
  {
   "cell_type": "code",
   "execution_count": 98,
   "metadata": {},
   "outputs": [],
   "source": [
    "# drop outliers "
   ]
  },
  {
   "cell_type": "code",
   "execution_count": 99,
   "metadata": {},
   "outputs": [
    {
     "data": {
      "text/plain": [
       "9309"
      ]
     },
     "execution_count": 99,
     "metadata": {},
     "output_type": "execute_result"
    }
   ],
   "source": [
    "condition=(data['Current Ver_clean']<50) \n",
    "#condition=(data['Current Ver_clean']==np.nan)  \n",
    "len(data[condition])"
   ]
  },
  {
   "cell_type": "code",
   "execution_count": 100,
   "metadata": {},
   "outputs": [],
   "source": [
    "# outliers dropped\n",
    "data=data[condition]"
   ]
  },
  {
   "cell_type": "code",
   "execution_count": 101,
   "metadata": {},
   "outputs": [
    {
     "data": {
      "text/plain": [
       "(9309, 18)"
      ]
     },
     "execution_count": 101,
     "metadata": {},
     "output_type": "execute_result"
    }
   ],
   "source": [
    "data.shape"
   ]
  },
  {
   "cell_type": "code",
   "execution_count": 113,
   "metadata": {},
   "outputs": [
    {
     "data": {
      "text/plain": [
       "count    9309.000000\n",
       "mean        3.145702\n",
       "std         3.373778\n",
       "min         0.000000\n",
       "25%         1.210000\n",
       "50%         2.400000\n",
       "75%         3.200000\n",
       "max        47.100000\n",
       "Name: Current Ver_clean, dtype: float64"
      ]
     },
     "execution_count": 113,
     "metadata": {},
     "output_type": "execute_result"
    }
   ],
   "source": [
    "data['Current Ver_clean'].describe()"
   ]
  },
  {
   "cell_type": "code",
   "execution_count": 102,
   "metadata": {},
   "outputs": [
    {
     "data": {
      "text/plain": [
       "array([ 1.00000000e+00,  2.00000000e+00,  1.20000000e+00, -1.00000000e+04,\n",
       "        1.10000000e+00,  6.10000000e+00,  2.90000000e+00,  2.80000000e+00,\n",
       "        3.80000000e+00,  3.10000000e+00,  2.20000000e+00,  5.50000000e+00,\n",
       "        4.00000000e+00,  1.50000000e+00,  1.03000000e+00,  6.00000000e+00,\n",
       "        6.70000000e+00,  1.60000000e+00,  2.10000000e+00,  1.30000000e+00,\n",
       "        1.46000000e+00,  1.10000000e+01,  3.00000000e+00,  1.70000000e+00,\n",
       "        2.50000000e+00,  2.49300000e+00,  1.90000000e+00,  1.37000000e+00,\n",
       "        2.00000000e-01,  4.47000000e+00,  1.79000000e+00,  2.30000000e+00,\n",
       "        8.31000000e+00,  1.00000000e+01,  3.20000000e+00,  1.40000000e+00,\n",
       "        4.60000000e+00,  2.17000000e+00,  5.40000000e+00,  3.30000000e+00,\n",
       "        1.85000000e+01,  1.91180527e+00,  9.10000000e+00,  1.50000000e+01,\n",
       "        1.80500000e+01,  5.00000000e+00,  3.12000000e+00,  1.28000000e+00,\n",
       "        9.00000000e+00,  1.40000000e+01,  3.05000000e+00,  7.00000000e+00,\n",
       "        1.15000000e+00,  3.90000000e+00,  3.40000000e+00,  2.19000000e+00,\n",
       "        9.70000000e+00,  4.90000000e+00,  5.20000000e+00,  3.55000000e+00,\n",
       "        7.30000000e+00,  5.10000000e+00,  4.10000000e+00,  1.22000000e+01,\n",
       "        1.12000000e+00,  9.00000000e-01,  3.24000000e+00,  1.87000000e+01,\n",
       "        3.19000000e+00,  6.40000000e+00,  3.70000000e+00,  2.60000000e+00,\n",
       "        4.30000000e+00,  1.04600000e+01,  1.11000000e+01,  2.22000000e+00,\n",
       "        2.11000000e+00,  1.08000000e+00,  6.30000000e+00,  4.70000000e+00,\n",
       "        3.16000000e+00,  4.20000000e+00,  1.01000000e+00,  2.40000000e+00,\n",
       "        1.80000000e+00,  3.70000000e+01,  5.29000000e+00,  9.80000000e+00,\n",
       "        1.18000000e+01,  2.46000000e+01,  4.71000000e+01,  1.14000000e+01,\n",
       "        2.18000000e+00,  7.50000000e+00,  3.71000000e+01,  1.28000000e+01,\n",
       "        9.90000000e+00,  4.20000000e+01,  1.00000000e-01,  7.73000000e+00,\n",
       "        4.98000000e+00,  7.21000000e+00,  3.47000000e+00,  6.50000000e+00,\n",
       "        5.65000000e+00,  5.22000000e+00,  4.50000000e+00,  5.85000000e+00,\n",
       "        1.26000000e+00,  3.50000000e+00,  8.10000000e+00,  5.86000000e+00,\n",
       "        1.28600000e+00,  6.19000000e+00,  5.28000000e+00,  5.40300000e+00,\n",
       "        7.20000000e+00,  4.17000000e+00,  4.19000000e+00,  6.60000000e+00,\n",
       "        1.63900000e+00,  4.40000000e+00,  1.30800000e+00,  2.45000000e+00,\n",
       "        1.31000000e+00,  1.23000000e+00,  1.58000000e+01,  4.80000000e+00,\n",
       "        1.55000000e+00,  1.20000000e+01,  8.70000000e+00,  1.17000000e+00,\n",
       "        0.00000000e+00,  3.60000000e+00,  5.16000000e+00,  5.30000000e+00,\n",
       "        8.20000000e+00,  3.52000000e+00,  4.81300000e+00,  1.94000000e+00,\n",
       "        2.16000000e+00,  2.07000000e+01,  2.24000000e+00,  2.51000000e+00,\n",
       "        2.15000000e+00,  3.14000000e+00,  5.70000000e+00,  2.48000000e+00,\n",
       "        2.90000000e-01,  1.09000000e+01,  2.09000000e+00,  1.39000000e+01,\n",
       "        8.50000000e+00,  1.59000000e+01,  9.12000000e+00,  4.21000000e+00,\n",
       "        1.16000000e+00,  1.02000000e+00,  2.13000000e+00,  3.43000000e+00,\n",
       "        2.05000000e+00,  2.08000000e+00,  1.80700000e+01,  6.18000000e+00,\n",
       "        1.14500000e+01,  8.06260000e+00,  4.18000000e+00,  3.17000000e+00,\n",
       "        1.60000000e+01,  4.00300000e+00,  4.42600000e+00,  8.40000000e+00,\n",
       "        1.57000000e+00,  1.75000000e+00,  1.61100000e+01,  1.14000000e+00,\n",
       "        3.11000000e+00,  8.00000000e+00,  2.01000000e+01,  8.18000000e+00,\n",
       "        1.07800000e+01,  3.11500000e+00,  2.31000000e+00,  6.80000000e+00,\n",
       "        6.28000000e+00,  5.38000000e+00,  2.70000000e+00,  3.22000000e+00,\n",
       "        6.39000000e+00,  2.29000000e+00,  1.13000000e+00,  2.12000000e+00,\n",
       "        2.53000000e+00,  1.18000000e+00,  1.66000000e+01,  4.63000000e+00,\n",
       "        3.04000000e+00,  2.13100000e+00,  2.34000000e+00,  8.44000000e+00,\n",
       "        5.90000000e+00,  7.80000000e+00,  6.29000000e+00,  5.15000000e+00,\n",
       "        1.86000000e+01,  7.12000000e+00,  2.14000000e+00,  4.11000000e+00,\n",
       "        7.90000000e+00,  5.80000000e+00,  4.26000000e+00,  2.45000000e+01,\n",
       "        2.76000000e+00,  9.15000000e+00,  1.16100000e+00,  1.11100000e+01,\n",
       "        5.23000000e+00,  5.31000000e+00,  6.15000000e+00,  3.40100000e+00,\n",
       "        5.13000000e+00,  3.48000000e+00,  5.14000000e+00,  6.20000000e+00,\n",
       "        1.29000000e+00,  1.02400000e+01,  8.80000000e+00,  1.11000000e+00,\n",
       "        1.02000000e+01,  1.92000000e+00,  7.40000000e+00,  9.60000000e+00,\n",
       "        1.22000000e+00,  1.01900000e+01,  1.67000000e+01,  6.97000000e+00,\n",
       "        9.40000000e+00,  4.35000000e+00,  1.21000000e+01,  8.30000000e+00,\n",
       "        5.60000000e+00,  2.34700000e+00,  1.12900000e+00,  2.13700000e+00,\n",
       "        1.49000000e+00,  1.11800000e+00,  1.03220000e+01,  2.21000000e+00,\n",
       "        5.66000000e+00,  1.75100000e+00,  1.21000000e+00,  5.06400000e+00,\n",
       "        1.11000000e-01,  1.24000000e+00,  2.79000000e+00,  7.00000000e-01,\n",
       "        5.00000000e-01,  1.18027100e+00,  1.25000000e+00,  1.05000000e+00,\n",
       "        2.00810000e+00,  5.39000000e+00,  1.91000000e+01,  1.93000000e+00,\n",
       "        1.76000000e+00,  3.15000000e+00,  8.25000000e+00,  1.73000000e+00,\n",
       "        2.18072300e+00,  7.32000000e+00,  1.01805300e+01,  1.18070200e+00,\n",
       "        1.22100000e+00,  1.47000000e+00,  3.49000000e+00,  1.19000000e+00,\n",
       "        1.81000000e+01,  1.82000000e+01,  3.46000000e+00,  1.38000000e+00,\n",
       "        1.35000000e+00,  2.80000000e+01,  6.14000000e+00,  1.90000000e+01,\n",
       "        7.60000000e+00,  7.10000000e+00,  3.27000000e+00,  3.25000000e+00,\n",
       "        6.02000000e+00,  3.18000000e+00,  4.36000000e+00,  2.25000000e+00,\n",
       "        2.53000000e+01,  5.11000000e+00,  4.23000000e+00,  1.83000000e+00,\n",
       "        1.04000000e+01,  5.51000000e+00,  6.00000000e-01,  4.30000000e+01,\n",
       "        4.95000000e+00,  1.30000000e+01,  4.81000000e+00,  7.23000000e+00,\n",
       "        2.69000000e+00,  2.70000000e+01,  1.06000000e+01,  1.61400000e+01,\n",
       "        1.42000000e+01,  1.17000000e+01,  4.16000000e+00,  4.33000000e+00,\n",
       "        6.25000000e+00,  2.91400000e+01,  4.89000000e+00,  8.90000000e+00,\n",
       "        5.21000000e+00,  7.36000000e+00,  2.12400000e+00,  6.90000000e+00,\n",
       "        4.31000000e+00,  3.28000000e+00,  3.13000000e+00,  3.69000000e+00,\n",
       "        1.16000000e+01,  1.36000000e+01,  2.20000000e+01,  6.21000000e+00,\n",
       "        2.73000000e+00,  2.74000000e+00,  1.43000000e+00,  9.30000000e+00,\n",
       "        1.32000000e+00,  3.31000000e+00,  6.71000000e+00,  6.17000000e+00,\n",
       "        1.08000000e+01,  6.11000000e+00,  5.12000000e+00,  2.46000000e+00,\n",
       "        3.21000000e+00,  2.28000000e+00,  1.83000000e+01,  5.48000000e+00,\n",
       "        1.74000000e+01,  9.20000000e+00,  1.07000000e+01,  8.13000000e+00,\n",
       "        4.13000000e+00,  8.60000000e+00,  4.38000000e+00,  1.12600000e+01,\n",
       "        1.77000000e+01,  2.32000000e+00,  4.15000000e+00,  1.82100000e+01,\n",
       "        1.38000000e+01,  5.36000000e+00,  3.21000000e+01,  1.51000000e+00,\n",
       "        2.27000000e+00,  4.78000000e+00,  6.06000000e+00,  4.32000000e+00,\n",
       "        1.33000000e+00,  5.34000000e+00,  1.28400000e+00,  5.41000000e+00,\n",
       "        4.12000000e+00,  4.00000000e+01,  2.85000000e+00,  2.41000000e+00,\n",
       "        6.07000000e+00,  1.80000000e+01,  1.39000000e+00,  1.34000000e+01,\n",
       "        1.07000000e+00,  2.04000000e+00,  2.03000000e+00,  1.04000000e+00,\n",
       "        1.76000000e+01,  1.78000000e+00,  1.25100000e+00,  1.13700000e+00,\n",
       "        9.51000000e+00,  2.71000000e+00,  5.17000000e+00,  1.82010000e+01,\n",
       "        3.53000000e+00,  2.42000000e+00,  1.63000000e+01,  1.92000000e+01,\n",
       "        4.08000000e+00,  7.16000000e+00,  5.44000000e+00,  4.76000000e+00,\n",
       "        5.07200000e+00,  8.10000000e-01,  1.58000000e+00,  4.94000000e+00,\n",
       "        1.51000000e+01,  8.00000000e-01,  1.90000000e-01,  2.35000000e+00,\n",
       "        1.52000000e+00,  7.70000000e+00,  1.02300000e+01,  1.07800000e+00,\n",
       "        1.09000000e+00,  9.94000000e-01,  1.64000000e+00,  1.91000000e+00,\n",
       "        1.46000000e+01,  2.23000000e+00,  2.27700000e+00,  5.26000000e+00,\n",
       "        2.44000000e+00,  1.27900000e+00,  4.00000000e-01,  9.14000000e+00,\n",
       "        1.53000000e+00,  5.20600000e+00,  7.46000000e+00,  1.42000000e+00,\n",
       "        2.30000000e+01,  9.55000000e+00,  1.27030000e+00,  2.07000000e+00,\n",
       "        3.42000000e+00,  1.56000000e+01,  5.40000000e-01,  1.10000000e-01,\n",
       "        1.51400000e+01,  2.24400000e+00,  3.00200000e+00,  1.57400000e+00,\n",
       "        1.26000000e+01,  9.50000000e+00,  1.36000000e+00,  1.01000000e+01,\n",
       "        1.06000000e+00,  1.60000000e-01,  1.93500000e+00,  4.01000000e+00,\n",
       "        4.54000000e+00,  2.92000000e+00,  1.62000000e+00,  1.09100000e+00,\n",
       "        2.94000000e+00,  1.77000000e+00,  2.02000000e+00,  3.39000000e+00,\n",
       "        2.01000000e+00,  1.10720000e+00,  4.34000000e+00,  4.29000000e+00,\n",
       "        8.05000000e+00,  2.26000000e+00,  4.43500000e+00,  3.30000000e-01,\n",
       "        1.10400000e+01,  4.60000000e-01,  3.92310000e+01,  1.54000000e+00,\n",
       "        1.34000000e+00,  2.59000000e+00,  2.00300000e+00,  1.37500000e+00,\n",
       "        1.13100000e+00,  4.05000000e+00,  1.85000000e+00,  2.47000000e+00,\n",
       "        5.06000000e+00,  1.02100000e+00,  1.11700000e+01,  5.80500000e+00,\n",
       "        1.65100000e+01,  1.24600000e+00,  1.48000000e+00,  3.15317000e+00,\n",
       "        1.40100000e+00,  3.44000000e+00,  2.00000000e+01,  5.54000000e+00,\n",
       "        2.61000000e+01,  1.12600000e+00,  1.00500000e+01,  3.51190000e+01,\n",
       "        1.20160000e+00,  2.60000000e+01,  1.33000000e+01,  3.11000000e+01,\n",
       "        3.61000000e+00,  2.54000000e+00,  2.66000000e+00,  5.45000000e+00,\n",
       "        1.11500000e+01,  4.72000000e+00,  1.99800000e+00,  1.80800000e+01,\n",
       "        5.68000000e+00,  1.98000000e+00,  7.17000000e+00,  1.41000000e+00,\n",
       "        1.28300000e+00,  1.04200000e+00,  6.95000000e+00,  4.19000000e+01,\n",
       "        3.82000000e+00,  6.24000000e+00,  1.41500000e+01,  9.90000000e-01,\n",
       "        4.01000000e+01,  4.84000000e+00,  1.82000000e+00,  2.12900000e+00,\n",
       "        1.11300000e+01,  3.29000000e+00,  2.48000000e+01,  1.12200000e+00,\n",
       "        2.95000000e+00,  4.75000000e+00,  1.80600000e+01,  1.08400000e+00,\n",
       "        1.56000000e+00,  1.91100000e+00,  3.11100000e+01,  1.19300000e+00,\n",
       "        1.67000000e+00,  1.05000000e+01,  5.42000000e+00,  2.10600000e+00,\n",
       "        3.80000000e-01,  5.19000000e+00,  1.20400000e+01,  5.03000000e+00,\n",
       "        3.00000000e-01,  1.44000000e+01,  2.68000000e+00,  2.10000000e-01,\n",
       "        2.55000000e+00,  1.96000000e+00,  3.67000000e+00,  6.93000000e+00,\n",
       "        2.57000000e+01,  1.44000000e+00,  1.03600000e+01,  3.98000000e+00,\n",
       "        1.00120000e+01,  1.27000000e+00,  1.70000000e+01,  1.00200000e+00,\n",
       "        3.92720000e+01,  1.44100000e+00,  7.40000000e-01,  3.50000000e-01,\n",
       "        1.20000000e-01,  5.27000000e+00,  3.30000000e+01,  8.07000000e+00,\n",
       "        1.27800000e+00,  4.18060000e+00,  1.95000000e+00,  6.08000000e+00,\n",
       "        8.16000000e+00,  1.17300000e+00,  3.45000000e+00,  1.93200000e+00,\n",
       "        1.70500000e+01,  2.15400000e+01,  1.84000000e+01,  8.02000000e+00,\n",
       "        2.72000000e+00,  1.00600000e+00,  1.59000000e+00,  2.96000000e+00,\n",
       "        2.00100000e+00,  2.16400000e+00,  3.08000000e+00,  5.90000000e-01,\n",
       "        3.34000000e+00,  2.32000000e+01,  2.52000000e+00,  2.44000000e+01,\n",
       "        7.95000000e+00,  3.95300000e+00,  2.31700000e+01,  5.33000000e+00,\n",
       "        2.40000000e-01,  8.58000000e-01,  9.19000000e+00,  3.36000000e+00,\n",
       "        1.04040000e+00,  4.10000000e+01,  2.30100000e+01,  1.50000000e-01,\n",
       "        1.02200000e+00,  1.74000000e+00,  1.72000000e+00,  6.04000000e+00])"
      ]
     },
     "execution_count": 102,
     "metadata": {},
     "output_type": "execute_result"
    }
   ],
   "source": [
    "data['Current Ver_clean'].unique()\n",
    "#there are nan"
   ]
  },
  {
   "cell_type": "code",
   "execution_count": 103,
   "metadata": {},
   "outputs": [],
   "source": [
    "# create an array based on the current ver clean non nulls to look at the distribution\n",
    "current_ver_clean_array = data[data['Current Ver_clean']>-10]['Current Ver_clean']"
   ]
  },
  {
   "cell_type": "code",
   "execution_count": 104,
   "metadata": {},
   "outputs": [],
   "source": [
    "# replace nan by\n",
    "data['Current Ver_clean']=data['Current Ver_clean'].replace(-10000,current_ver_clean_array.mean())"
   ]
  },
  {
   "cell_type": "code",
   "execution_count": 105,
   "metadata": {},
   "outputs": [
    {
     "data": {
      "text/plain": [
       "array([ 1.        ,  2.        ,  1.2       ,  3.1457024 ,  1.1       ,\n",
       "        6.1       ,  2.9       ,  2.8       ,  3.8       ,  3.1       ,\n",
       "        2.2       ,  5.5       ,  4.        ,  1.5       ,  1.03      ,\n",
       "        6.        ,  6.7       ,  1.6       ,  2.1       ,  1.3       ,\n",
       "        1.46      , 11.        ,  3.        ,  1.7       ,  2.5       ,\n",
       "        2.493     ,  1.9       ,  1.37      ,  0.2       ,  4.47      ,\n",
       "        1.79      ,  2.3       ,  8.31      , 10.        ,  3.2       ,\n",
       "        1.4       ,  4.6       ,  2.17      ,  5.4       ,  3.3       ,\n",
       "       18.5       ,  1.91180527,  9.1       , 15.        , 18.05      ,\n",
       "        5.        ,  3.12      ,  1.28      ,  9.        , 14.        ,\n",
       "        3.05      ,  7.        ,  1.15      ,  3.9       ,  3.4       ,\n",
       "        2.19      ,  9.7       ,  4.9       ,  5.2       ,  3.55      ,\n",
       "        7.3       ,  5.1       ,  4.1       , 12.2       ,  1.12      ,\n",
       "        0.9       ,  3.24      , 18.7       ,  3.19      ,  6.4       ,\n",
       "        3.7       ,  2.6       ,  4.3       , 10.46      , 11.1       ,\n",
       "        2.22      ,  2.11      ,  1.08      ,  6.3       ,  4.7       ,\n",
       "        3.16      ,  4.2       ,  1.01      ,  2.4       ,  1.8       ,\n",
       "       37.        ,  5.29      ,  9.8       , 11.8       , 24.6       ,\n",
       "       47.1       , 11.4       ,  2.18      ,  7.5       , 37.1       ,\n",
       "       12.8       ,  9.9       , 42.        ,  0.1       ,  7.73      ,\n",
       "        4.98      ,  7.21      ,  3.47      ,  6.5       ,  5.65      ,\n",
       "        5.22      ,  4.5       ,  5.85      ,  1.26      ,  3.5       ,\n",
       "        8.1       ,  5.86      ,  1.286     ,  6.19      ,  5.28      ,\n",
       "        5.403     ,  7.2       ,  4.17      ,  4.19      ,  6.6       ,\n",
       "        1.639     ,  4.4       ,  1.308     ,  2.45      ,  1.31      ,\n",
       "        1.23      , 15.8       ,  4.8       ,  1.55      , 12.        ,\n",
       "        8.7       ,  1.17      ,  0.        ,  3.6       ,  5.16      ,\n",
       "        5.3       ,  8.2       ,  3.52      ,  4.813     ,  1.94      ,\n",
       "        2.16      , 20.7       ,  2.24      ,  2.51      ,  2.15      ,\n",
       "        3.14      ,  5.7       ,  2.48      ,  0.29      , 10.9       ,\n",
       "        2.09      , 13.9       ,  8.5       , 15.9       ,  9.12      ,\n",
       "        4.21      ,  1.16      ,  1.02      ,  2.13      ,  3.43      ,\n",
       "        2.05      ,  2.08      , 18.07      ,  6.18      , 11.45      ,\n",
       "        8.0626    ,  4.18      ,  3.17      , 16.        ,  4.003     ,\n",
       "        4.426     ,  8.4       ,  1.57      ,  1.75      , 16.11      ,\n",
       "        1.14      ,  3.11      ,  8.        , 20.1       ,  8.18      ,\n",
       "       10.78      ,  3.115     ,  2.31      ,  6.8       ,  6.28      ,\n",
       "        5.38      ,  2.7       ,  3.22      ,  6.39      ,  2.29      ,\n",
       "        1.13      ,  2.12      ,  2.53      ,  1.18      , 16.6       ,\n",
       "        4.63      ,  3.04      ,  2.131     ,  2.34      ,  8.44      ,\n",
       "        5.9       ,  7.8       ,  6.29      ,  5.15      , 18.6       ,\n",
       "        7.12      ,  2.14      ,  4.11      ,  7.9       ,  5.8       ,\n",
       "        4.26      , 24.5       ,  2.76      ,  9.15      ,  1.161     ,\n",
       "       11.11      ,  5.23      ,  5.31      ,  6.15      ,  3.401     ,\n",
       "        5.13      ,  3.48      ,  5.14      ,  6.2       ,  1.29      ,\n",
       "       10.24      ,  8.8       ,  1.11      , 10.2       ,  1.92      ,\n",
       "        7.4       ,  9.6       ,  1.22      , 10.19      , 16.7       ,\n",
       "        6.97      ,  9.4       ,  4.35      , 12.1       ,  8.3       ,\n",
       "        5.6       ,  2.347     ,  1.129     ,  2.137     ,  1.49      ,\n",
       "        1.118     , 10.322     ,  2.21      ,  5.66      ,  1.751     ,\n",
       "        1.21      ,  5.064     ,  0.111     ,  1.24      ,  2.79      ,\n",
       "        0.7       ,  0.5       ,  1.180271  ,  1.25      ,  1.05      ,\n",
       "        2.0081    ,  5.39      , 19.1       ,  1.93      ,  1.76      ,\n",
       "        3.15      ,  8.25      ,  1.73      ,  2.180723  ,  7.32      ,\n",
       "       10.18053   ,  1.180702  ,  1.221     ,  1.47      ,  3.49      ,\n",
       "        1.19      , 18.1       , 18.2       ,  3.46      ,  1.38      ,\n",
       "        1.35      , 28.        ,  6.14      , 19.        ,  7.6       ,\n",
       "        7.1       ,  3.27      ,  3.25      ,  6.02      ,  3.18      ,\n",
       "        4.36      ,  2.25      , 25.3       ,  5.11      ,  4.23      ,\n",
       "        1.83      , 10.4       ,  5.51      ,  0.6       , 43.        ,\n",
       "        4.95      , 13.        ,  4.81      ,  7.23      ,  2.69      ,\n",
       "       27.        , 10.6       , 16.14      , 14.2       , 11.7       ,\n",
       "        4.16      ,  4.33      ,  6.25      , 29.14      ,  4.89      ,\n",
       "        8.9       ,  5.21      ,  7.36      ,  2.124     ,  6.9       ,\n",
       "        4.31      ,  3.28      ,  3.13      ,  3.69      , 11.6       ,\n",
       "       13.6       , 22.        ,  6.21      ,  2.73      ,  2.74      ,\n",
       "        1.43      ,  9.3       ,  1.32      ,  3.31      ,  6.71      ,\n",
       "        6.17      , 10.8       ,  6.11      ,  5.12      ,  2.46      ,\n",
       "        3.21      ,  2.28      , 18.3       ,  5.48      , 17.4       ,\n",
       "        9.2       , 10.7       ,  8.13      ,  4.13      ,  8.6       ,\n",
       "        4.38      , 11.26      , 17.7       ,  2.32      ,  4.15      ,\n",
       "       18.21      , 13.8       ,  5.36      , 32.1       ,  1.51      ,\n",
       "        2.27      ,  4.78      ,  6.06      ,  4.32      ,  1.33      ,\n",
       "        5.34      ,  1.284     ,  5.41      ,  4.12      , 40.        ,\n",
       "        2.85      ,  2.41      ,  6.07      , 18.        ,  1.39      ,\n",
       "       13.4       ,  1.07      ,  2.04      ,  2.03      ,  1.04      ,\n",
       "       17.6       ,  1.78      ,  1.251     ,  1.137     ,  9.51      ,\n",
       "        2.71      ,  5.17      , 18.201     ,  3.53      ,  2.42      ,\n",
       "       16.3       , 19.2       ,  4.08      ,  7.16      ,  5.44      ,\n",
       "        4.76      ,  5.072     ,  0.81      ,  1.58      ,  4.94      ,\n",
       "       15.1       ,  0.8       ,  0.19      ,  2.35      ,  1.52      ,\n",
       "        7.7       , 10.23      ,  1.078     ,  1.09      ,  0.994     ,\n",
       "        1.64      ,  1.91      , 14.6       ,  2.23      ,  2.277     ,\n",
       "        5.26      ,  2.44      ,  1.279     ,  0.4       ,  9.14      ,\n",
       "        1.53      ,  5.206     ,  7.46      ,  1.42      , 23.        ,\n",
       "        9.55      ,  1.2703    ,  2.07      ,  3.42      , 15.6       ,\n",
       "        0.54      ,  0.11      , 15.14      ,  2.244     ,  3.002     ,\n",
       "        1.574     , 12.6       ,  9.5       ,  1.36      , 10.1       ,\n",
       "        1.06      ,  0.16      ,  1.935     ,  4.01      ,  4.54      ,\n",
       "        2.92      ,  1.62      ,  1.091     ,  2.94      ,  1.77      ,\n",
       "        2.02      ,  3.39      ,  2.01      ,  1.1072    ,  4.34      ,\n",
       "        4.29      ,  8.05      ,  2.26      ,  4.435     ,  0.33      ,\n",
       "       11.04      ,  0.46      , 39.231     ,  1.54      ,  1.34      ,\n",
       "        2.59      ,  2.003     ,  1.375     ,  1.131     ,  4.05      ,\n",
       "        1.85      ,  2.47      ,  5.06      ,  1.021     , 11.17      ,\n",
       "        5.805     , 16.51      ,  1.246     ,  1.48      ,  3.15317   ,\n",
       "        1.401     ,  3.44      , 20.        ,  5.54      , 26.1       ,\n",
       "        1.126     , 10.05      , 35.119     ,  1.2016    , 26.        ,\n",
       "       13.3       , 31.1       ,  3.61      ,  2.54      ,  2.66      ,\n",
       "        5.45      , 11.15      ,  4.72      ,  1.998     , 18.08      ,\n",
       "        5.68      ,  1.98      ,  7.17      ,  1.41      ,  1.283     ,\n",
       "        1.042     ,  6.95      , 41.9       ,  3.82      ,  6.24      ,\n",
       "       14.15      ,  0.99      , 40.1       ,  4.84      ,  1.82      ,\n",
       "        2.129     , 11.13      ,  3.29      , 24.8       ,  1.122     ,\n",
       "        2.95      ,  4.75      , 18.06      ,  1.084     ,  1.56      ,\n",
       "        1.911     , 31.11      ,  1.193     ,  1.67      , 10.5       ,\n",
       "        5.42      ,  2.106     ,  0.38      ,  5.19      , 12.04      ,\n",
       "        5.03      ,  0.3       , 14.4       ,  2.68      ,  0.21      ,\n",
       "        2.55      ,  1.96      ,  3.67      ,  6.93      , 25.7       ,\n",
       "        1.44      , 10.36      ,  3.98      , 10.012     ,  1.27      ,\n",
       "       17.        ,  1.002     , 39.272     ,  1.441     ,  0.74      ,\n",
       "        0.35      ,  0.12      ,  5.27      , 33.        ,  8.07      ,\n",
       "        1.278     ,  4.1806    ,  1.95      ,  6.08      ,  8.16      ,\n",
       "        1.173     ,  3.45      ,  1.932     , 17.05      , 21.54      ,\n",
       "       18.4       ,  8.02      ,  2.72      ,  1.006     ,  1.59      ,\n",
       "        2.96      ,  2.001     ,  2.164     ,  3.08      ,  0.59      ,\n",
       "        3.34      , 23.2       ,  2.52      , 24.4       ,  7.95      ,\n",
       "        3.953     , 23.17      ,  5.33      ,  0.24      ,  0.858     ,\n",
       "        9.19      ,  3.36      ,  1.0404    , 41.        , 23.01      ,\n",
       "        0.15      ,  1.022     ,  1.74      ,  1.72      ,  6.04      ])"
      ]
     },
     "execution_count": 105,
     "metadata": {},
     "output_type": "execute_result"
    }
   ],
   "source": [
    "data['Current Ver_clean'].unique()"
   ]
  },
  {
   "cell_type": "code",
   "execution_count": 107,
   "metadata": {},
   "outputs": [
    {
     "data": {
      "text/plain": [
       "(9309, 18)"
      ]
     },
     "execution_count": 107,
     "metadata": {},
     "output_type": "execute_result"
    }
   ],
   "source": [
    "data.shape"
   ]
  },
  {
   "cell_type": "code",
   "execution_count": 108,
   "metadata": {},
   "outputs": [
    {
     "data": {
      "text/plain": [
       "Text(0.5, 1.0, 'Apps by current version number')"
      ]
     },
     "execution_count": 108,
     "metadata": {},
     "output_type": "execute_result"
    },
    {
     "data": {
      "image/png": "[encoded data removed]",
      "text/plain": [
       "<Figure size 432x288 with 1 Axes>"
      ]
     },
     "metadata": {
      "needs_background": "light"
     },
     "output_type": "display_data"
    }
   ],
   "source": [
    "#vizualisation distribution of current ver clean non nulls values\n",
    "_=sns.boxplot(current_ver_clean_array)\n",
    "plt.title(\"Apps by current version number\")"
   ]
  },
  {
   "cell_type": "code",
   "execution_count": null,
   "metadata": {},
   "outputs": [],
   "source": []
  },
  {
   "cell_type": "code",
   "execution_count": 109,
   "metadata": {},
   "outputs": [],
   "source": [
    "#data.describe()"
   ]
  },
  {
   "cell_type": "code",
   "execution_count": 110,
   "metadata": {},
   "outputs": [
    {
     "name": "stdout",
     "output_type": "stream",
     "text": [
      "<class 'pandas.core.frame.DataFrame'>\n",
      "Int64Index: 9309 entries, 0 to 10840\n",
      "Data columns (total 18 columns):\n",
      "App                  9309 non-null object\n",
      "Category             9309 non-null object\n",
      "Rating               9309 non-null float64\n",
      "Reviews              9309 non-null int64\n",
      "Size                 9309 non-null float64\n",
      "Installs             9309 non-null int64\n",
      "Type                 9309 non-null object\n",
      "Price                9309 non-null float64\n",
      "Content Rating       9309 non-null object\n",
      "Genres               9309 non-null object\n",
      "Last Updated         9309 non-null object\n",
      "Current Ver          9309 non-null object\n",
      "Android Ver          9309 non-null float64\n",
      "day                  9309 non-null int64\n",
      "month                9309 non-null int64\n",
      "year                 9309 non-null int64\n",
      "month_year           9309 non-null period[M]\n",
      "Current Ver_clean    9309 non-null float64\n",
      "dtypes: float64(5), int64(5), object(7), period[M](1)\n",
      "memory usage: 1.3+ MB\n"
     ]
    }
   ],
   "source": [
    "data.info()"
   ]
  },
  {
   "cell_type": "code",
   "execution_count": 111,
   "metadata": {},
   "outputs": [],
   "source": [
    "# Export data to my chosen folder (still outliers)\n",
    "data.to_csv(\"/Users/AirMorena/Desktop/final_proj/csv/google_playstore_apps_clean_with_outliers.csv\", index=False, encoding='utf-8')"
   ]
  },
  {
   "cell_type": "code",
   "execution_count": 112,
   "metadata": {},
   "outputs": [],
   "source": [
    "# remove outliers?"
   ]
  },
  {
   "cell_type": "code",
   "execution_count": null,
   "metadata": {},
   "outputs": [],
   "source": []
  },
  {
   "cell_type": "code",
   "execution_count": null,
   "metadata": {},
   "outputs": [],
   "source": []
  },
  {
   "cell_type": "code",
   "execution_count": null,
   "metadata": {},
   "outputs": [],
   "source": []
  },
  {
   "cell_type": "code",
   "execution_count": null,
   "metadata": {},
   "outputs": [],
   "source": []
  }
 ],
 "metadata": {
  "kernelspec": {
   "display_name": "Python 3",
   "language": "python",
   "name": "python3"
  },
  "language_info": {
   "codemirror_mode": {
    "name": "ipython",
    "version": 3
   },
   "file_extension": ".py",
   "mimetype": "text/x-python",
   "name": "python",
   "nbconvert_exporter": "python",
   "pygments_lexer": "ipython3",
   "version": "3.7.2"
  }
 },
 "nbformat": 4,
 "nbformat_minor": 2
}
