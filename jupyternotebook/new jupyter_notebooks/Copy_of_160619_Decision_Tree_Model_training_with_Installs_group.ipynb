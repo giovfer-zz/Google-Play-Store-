{
  "nbformat": 4,
  "nbformat_minor": 0,
  "metadata": {
    "colab": {
      "name": "Copy of 160619_Decision_Tree_Model_training_with Installs group.ipynb",
      "version": "0.3.2",
      "provenance": []
    },
    "language_info": {
      "codemirror_mode": {
        "name": "ipython",
        "version": 3
      },
      "file_extension": ".py",
      "mimetype": "text/x-python",
      "name": "python",
      "nbconvert_exporter": "python",
      "pygments_lexer": "ipython3",
      "version": "3.7.2"
    },
    "kernelspec": {
      "display_name": "Python 3",
      "language": "python",
      "name": "python3"
    }
  },
  "cells": [
    {
      "cell_type": "markdown",
      "metadata": {
        "colab_type": "text",
        "id": "_jG4qIBTDqiZ"
      },
      "source": [
        "# Train/test classifier"
      ]
    },
    {
      "cell_type": "code",
      "metadata": {
        "colab_type": "code",
        "id": "iXZ3x3CPDqib",
        "outputId": "01017456-bba0-4881-bf4f-58967ba340e5",
        "colab": {
          "base_uri": "https://localhost:8080/",
          "height": 88
        }
      },
      "source": [
        "import datetime\n",
        "import pandas as pd\n",
        "import numpy as np\n",
        "import seaborn as sns\n",
        "import matplotlib.pyplot as plt\n",
        "\n",
        "from sklearn.externals.six import StringIO  \n",
        "from IPython.display import Image  \n",
        "from sklearn.tree import export_graphviz\n",
        "import pydotplus\n",
        "from sklearn.tree import DecisionTreeClassifier\n",
        "from sklearn.ensemble import RandomForestClassifier\n",
        "from sklearn.model_selection import GridSearchCV\n",
        "from sklearn.model_selection import train_test_split\n",
        "from sklearn.metrics import classification_report\n",
        "from sklearn.metrics import confusion_matrix\n",
        "from sklearn.metrics import roc_curve, auc, roc_auc_score\n",
        "from sklearn.metrics import log_loss\n",
        "from sklearn.metrics import precision_recall_curve\n",
        "from sklearn import metrics\n",
        "\n",
        "# Hide deprecated warnings\n",
        "import warnings\n",
        "warnings.filterwarnings('ignore')\n",
        "\n",
        "# Mount local files\n",
        "from google.colab import drive\n",
        "drive.mount('/gdrive')"
      ],
      "execution_count": 0,
      "outputs": [
        {
          "output_type": "stream",
          "text": [
            "/usr/local/lib/python3.6/dist-packages/sklearn/externals/six.py:31: DeprecationWarning: The module is deprecated in version 0.21 and will be removed in version 0.23 since we've dropped support for Python 2.7. Please rely on the official version of six (https://pypi.org/project/six/).\n",
            "  \"(https://pypi.org/project/six/).\", DeprecationWarning)\n"
          ],
          "name": "stderr"
        },
        {
          "output_type": "stream",
          "text": [
            "Drive already mounted at /gdrive; to attempt to forcibly remount, call drive.mount(\"/gdrive\", force_remount=True).\n"
          ],
          "name": "stdout"
        }
      ]
    },
    {
      "cell_type": "code",
      "metadata": {
        "id": "z6MVOyuCAUaG",
        "colab_type": "code",
        "colab": {}
      },
      "source": [
        "#https://towardsdatascience.com/feature-selection-using-random-forest-26d7b747597f"
      ],
      "execution_count": 0,
      "outputs": []
    },
    {
      "cell_type": "markdown",
      "metadata": {
        "colab_type": "text",
        "id": "9yjIGYujDqif"
      },
      "source": [
        "## Load the data"
      ]
    },
    {
      "cell_type": "code",
      "metadata": {
        "colab_type": "code",
        "id": "ZhLrNSAADqig",
        "colab": {}
      },
      "source": [
        "#fv = pd.read_csv(\"/Users/AirMorena/Desktop/final_proj/csv/google_play_store/160619final_feature_vector.csv\")\n",
        "# Load data from the folder where I uploaded the csv file\n",
        "fv = pd.read_csv(\"/gdrive/My Drive/AI/CURRICULUM/Giovanna/160619final_feature_vector.csv\")"
      ],
      "execution_count": 0,
      "outputs": []
    },
    {
      "cell_type": "code",
      "metadata": {
        "colab_type": "code",
        "id": "lTfyGdUPDqil",
        "outputId": "7db53875-5c2d-4ec1-d29b-2cd19361635b",
        "colab": {
          "base_uri": "https://localhost:8080/",
          "height": 34
        }
      },
      "source": [
        "fv.shape"
      ],
      "execution_count": 0,
      "outputs": [
        {
          "output_type": "execute_result",
          "data": {
            "text/plain": [
              "(9351, 74)"
            ]
          },
          "metadata": {
            "tags": []
          },
          "execution_count": 4
        }
      ]
    },
    {
      "cell_type": "code",
      "metadata": {
        "id": "4ZZtQX6IAUaV",
        "colab_type": "code",
        "outputId": "1ee40d41-7485-4204-9631-d197c922df70",
        "colab": {
          "base_uri": "https://localhost:8080/",
          "height": 258
        }
      },
      "source": [
        "fv.head()"
      ],
      "execution_count": 0,
      "outputs": [
        {
          "output_type": "execute_result",
          "data": {
            "text/html": [
              "<div>\n",
              "<style scoped>\n",
              "    .dataframe tbody tr th:only-of-type {\n",
              "        vertical-align: middle;\n",
              "    }\n",
              "\n",
              "    .dataframe tbody tr th {\n",
              "        vertical-align: top;\n",
              "    }\n",
              "\n",
              "    .dataframe thead th {\n",
              "        text-align: right;\n",
              "    }\n",
              "</style>\n",
              "<table border=\"1\" class=\"dataframe\">\n",
              "  <thead>\n",
              "    <tr style=\"text-align: right;\">\n",
              "      <th></th>\n",
              "      <th>Installs_group</th>\n",
              "      <th>st_Rating</th>\n",
              "      <th>Category_ART_AND_DESIGN</th>\n",
              "      <th>Category_AUTO_AND_VEHICLES</th>\n",
              "      <th>Category_BEAUTY</th>\n",
              "      <th>Category_BOOKS_AND_REFERENCE</th>\n",
              "      <th>Category_BUSINESS</th>\n",
              "      <th>Category_COMICS</th>\n",
              "      <th>Category_COMMUNICATION</th>\n",
              "      <th>Category_DATING</th>\n",
              "      <th>Category_EDUCATION</th>\n",
              "      <th>Category_ENTERTAINMENT</th>\n",
              "      <th>Category_EVENTS</th>\n",
              "      <th>Category_FAMILY</th>\n",
              "      <th>Category_FINANCE</th>\n",
              "      <th>Category_FOOD_AND_DRINK</th>\n",
              "      <th>Category_GAME</th>\n",
              "      <th>Category_HEALTH_AND_FITNESS</th>\n",
              "      <th>Category_HOUSE_AND_HOME</th>\n",
              "      <th>Category_LIBRARIES_AND_DEMO</th>\n",
              "      <th>Category_LIFESTYLE</th>\n",
              "      <th>Category_MAPS_AND_NAVIGATION</th>\n",
              "      <th>Category_MEDICAL</th>\n",
              "      <th>Category_NEWS_AND_MAGAZINES</th>\n",
              "      <th>Category_PARENTING</th>\n",
              "      <th>Category_PERSONALIZATION</th>\n",
              "      <th>Category_PHOTOGRAPHY</th>\n",
              "      <th>Category_PRODUCTIVITY</th>\n",
              "      <th>Category_SHOPPING</th>\n",
              "      <th>Category_SOCIAL</th>\n",
              "      <th>Category_SPORTS</th>\n",
              "      <th>Category_TOOLS</th>\n",
              "      <th>Category_TRAVEL_AND_LOCAL</th>\n",
              "      <th>Category_VIDEO_PLAYERS</th>\n",
              "      <th>Category_WEATHER</th>\n",
              "      <th>reviews_levels_high</th>\n",
              "      <th>reviews_levels_low</th>\n",
              "      <th>reviews_levels_medium</th>\n",
              "      <th>Current Ver_clean_levels_high</th>\n",
              "      <th>Current Ver_clean_levels_low</th>\n",
              "      <th>Current Ver_clean_levels_medium</th>\n",
              "      <th>year_2010</th>\n",
              "      <th>year_2011</th>\n",
              "      <th>year_2012</th>\n",
              "      <th>year_2013</th>\n",
              "      <th>year_2014</th>\n",
              "      <th>year_2015</th>\n",
              "      <th>year_2016</th>\n",
              "      <th>year_2017</th>\n",
              "      <th>year_2018</th>\n",
              "      <th>Size_group_big</th>\n",
              "      <th>Size_group_small</th>\n",
              "      <th>Type_Free</th>\n",
              "      <th>Type_Paid</th>\n",
              "      <th>month_1</th>\n",
              "      <th>month_2</th>\n",
              "      <th>month_3</th>\n",
              "      <th>month_4</th>\n",
              "      <th>month_5</th>\n",
              "      <th>month_6</th>\n",
              "      <th>month_7</th>\n",
              "      <th>month_8</th>\n",
              "      <th>month_9</th>\n",
              "      <th>month_10</th>\n",
              "      <th>month_11</th>\n",
              "      <th>month_12</th>\n",
              "      <th>Content Rating_Adults only 18+</th>\n",
              "      <th>Content Rating_Everyone</th>\n",
              "      <th>Content Rating_Everyone 10+</th>\n",
              "      <th>Content Rating_Mature 17+</th>\n",
              "      <th>Content Rating_Teen</th>\n",
              "      <th>Content Rating_Unrated</th>\n",
              "      <th>Android Ver_levels_high</th>\n",
              "      <th>Android Ver_levels_low</th>\n",
              "    </tr>\n",
              "  </thead>\n",
              "  <tbody>\n",
              "    <tr>\n",
              "      <th>0</th>\n",
              "      <td>0</td>\n",
              "      <td>-0.179640</td>\n",
              "      <td>1</td>\n",
              "      <td>0</td>\n",
              "      <td>0</td>\n",
              "      <td>0</td>\n",
              "      <td>0</td>\n",
              "      <td>0</td>\n",
              "      <td>0</td>\n",
              "      <td>0</td>\n",
              "      <td>0</td>\n",
              "      <td>0</td>\n",
              "      <td>0</td>\n",
              "      <td>0</td>\n",
              "      <td>0</td>\n",
              "      <td>0</td>\n",
              "      <td>0</td>\n",
              "      <td>0</td>\n",
              "      <td>0</td>\n",
              "      <td>0</td>\n",
              "      <td>0</td>\n",
              "      <td>0</td>\n",
              "      <td>0</td>\n",
              "      <td>0</td>\n",
              "      <td>0</td>\n",
              "      <td>0</td>\n",
              "      <td>0</td>\n",
              "      <td>0</td>\n",
              "      <td>0</td>\n",
              "      <td>0</td>\n",
              "      <td>0</td>\n",
              "      <td>0</td>\n",
              "      <td>0</td>\n",
              "      <td>0</td>\n",
              "      <td>0</td>\n",
              "      <td>0</td>\n",
              "      <td>1</td>\n",
              "      <td>0</td>\n",
              "      <td>0</td>\n",
              "      <td>1</td>\n",
              "      <td>0</td>\n",
              "      <td>0</td>\n",
              "      <td>0</td>\n",
              "      <td>0</td>\n",
              "      <td>0</td>\n",
              "      <td>0</td>\n",
              "      <td>0</td>\n",
              "      <td>0</td>\n",
              "      <td>0</td>\n",
              "      <td>1</td>\n",
              "      <td>0</td>\n",
              "      <td>1</td>\n",
              "      <td>1</td>\n",
              "      <td>0</td>\n",
              "      <td>1</td>\n",
              "      <td>0</td>\n",
              "      <td>0</td>\n",
              "      <td>0</td>\n",
              "      <td>0</td>\n",
              "      <td>0</td>\n",
              "      <td>0</td>\n",
              "      <td>0</td>\n",
              "      <td>0</td>\n",
              "      <td>0</td>\n",
              "      <td>0</td>\n",
              "      <td>0</td>\n",
              "      <td>0</td>\n",
              "      <td>1</td>\n",
              "      <td>0</td>\n",
              "      <td>0</td>\n",
              "      <td>0</td>\n",
              "      <td>0</td>\n",
              "      <td>1</td>\n",
              "      <td>0</td>\n",
              "    </tr>\n",
              "    <tr>\n",
              "      <th>1</th>\n",
              "      <td>1</td>\n",
              "      <td>-0.569116</td>\n",
              "      <td>1</td>\n",
              "      <td>0</td>\n",
              "      <td>0</td>\n",
              "      <td>0</td>\n",
              "      <td>0</td>\n",
              "      <td>0</td>\n",
              "      <td>0</td>\n",
              "      <td>0</td>\n",
              "      <td>0</td>\n",
              "      <td>0</td>\n",
              "      <td>0</td>\n",
              "      <td>0</td>\n",
              "      <td>0</td>\n",
              "      <td>0</td>\n",
              "      <td>0</td>\n",
              "      <td>0</td>\n",
              "      <td>0</td>\n",
              "      <td>0</td>\n",
              "      <td>0</td>\n",
              "      <td>0</td>\n",
              "      <td>0</td>\n",
              "      <td>0</td>\n",
              "      <td>0</td>\n",
              "      <td>0</td>\n",
              "      <td>0</td>\n",
              "      <td>0</td>\n",
              "      <td>0</td>\n",
              "      <td>0</td>\n",
              "      <td>0</td>\n",
              "      <td>0</td>\n",
              "      <td>0</td>\n",
              "      <td>0</td>\n",
              "      <td>0</td>\n",
              "      <td>0</td>\n",
              "      <td>1</td>\n",
              "      <td>0</td>\n",
              "      <td>0</td>\n",
              "      <td>0</td>\n",
              "      <td>1</td>\n",
              "      <td>0</td>\n",
              "      <td>0</td>\n",
              "      <td>0</td>\n",
              "      <td>0</td>\n",
              "      <td>0</td>\n",
              "      <td>0</td>\n",
              "      <td>0</td>\n",
              "      <td>0</td>\n",
              "      <td>1</td>\n",
              "      <td>0</td>\n",
              "      <td>1</td>\n",
              "      <td>1</td>\n",
              "      <td>0</td>\n",
              "      <td>1</td>\n",
              "      <td>0</td>\n",
              "      <td>0</td>\n",
              "      <td>0</td>\n",
              "      <td>0</td>\n",
              "      <td>0</td>\n",
              "      <td>0</td>\n",
              "      <td>0</td>\n",
              "      <td>0</td>\n",
              "      <td>0</td>\n",
              "      <td>0</td>\n",
              "      <td>0</td>\n",
              "      <td>0</td>\n",
              "      <td>1</td>\n",
              "      <td>0</td>\n",
              "      <td>0</td>\n",
              "      <td>0</td>\n",
              "      <td>0</td>\n",
              "      <td>1</td>\n",
              "      <td>0</td>\n",
              "    </tr>\n",
              "    <tr>\n",
              "      <th>2</th>\n",
              "      <td>1</td>\n",
              "      <td>0.988789</td>\n",
              "      <td>1</td>\n",
              "      <td>0</td>\n",
              "      <td>0</td>\n",
              "      <td>0</td>\n",
              "      <td>0</td>\n",
              "      <td>0</td>\n",
              "      <td>0</td>\n",
              "      <td>0</td>\n",
              "      <td>0</td>\n",
              "      <td>0</td>\n",
              "      <td>0</td>\n",
              "      <td>0</td>\n",
              "      <td>0</td>\n",
              "      <td>0</td>\n",
              "      <td>0</td>\n",
              "      <td>0</td>\n",
              "      <td>0</td>\n",
              "      <td>0</td>\n",
              "      <td>0</td>\n",
              "      <td>0</td>\n",
              "      <td>0</td>\n",
              "      <td>0</td>\n",
              "      <td>0</td>\n",
              "      <td>0</td>\n",
              "      <td>0</td>\n",
              "      <td>0</td>\n",
              "      <td>0</td>\n",
              "      <td>0</td>\n",
              "      <td>0</td>\n",
              "      <td>0</td>\n",
              "      <td>0</td>\n",
              "      <td>0</td>\n",
              "      <td>0</td>\n",
              "      <td>1</td>\n",
              "      <td>0</td>\n",
              "      <td>0</td>\n",
              "      <td>0</td>\n",
              "      <td>1</td>\n",
              "      <td>0</td>\n",
              "      <td>0</td>\n",
              "      <td>0</td>\n",
              "      <td>0</td>\n",
              "      <td>0</td>\n",
              "      <td>0</td>\n",
              "      <td>0</td>\n",
              "      <td>0</td>\n",
              "      <td>0</td>\n",
              "      <td>1</td>\n",
              "      <td>0</td>\n",
              "      <td>1</td>\n",
              "      <td>1</td>\n",
              "      <td>0</td>\n",
              "      <td>0</td>\n",
              "      <td>0</td>\n",
              "      <td>0</td>\n",
              "      <td>0</td>\n",
              "      <td>0</td>\n",
              "      <td>0</td>\n",
              "      <td>0</td>\n",
              "      <td>1</td>\n",
              "      <td>0</td>\n",
              "      <td>0</td>\n",
              "      <td>0</td>\n",
              "      <td>0</td>\n",
              "      <td>0</td>\n",
              "      <td>1</td>\n",
              "      <td>0</td>\n",
              "      <td>0</td>\n",
              "      <td>0</td>\n",
              "      <td>0</td>\n",
              "      <td>1</td>\n",
              "      <td>0</td>\n",
              "    </tr>\n",
              "    <tr>\n",
              "      <th>3</th>\n",
              "      <td>1</td>\n",
              "      <td>0.599313</td>\n",
              "      <td>1</td>\n",
              "      <td>0</td>\n",
              "      <td>0</td>\n",
              "      <td>0</td>\n",
              "      <td>0</td>\n",
              "      <td>0</td>\n",
              "      <td>0</td>\n",
              "      <td>0</td>\n",
              "      <td>0</td>\n",
              "      <td>0</td>\n",
              "      <td>0</td>\n",
              "      <td>0</td>\n",
              "      <td>0</td>\n",
              "      <td>0</td>\n",
              "      <td>0</td>\n",
              "      <td>0</td>\n",
              "      <td>0</td>\n",
              "      <td>0</td>\n",
              "      <td>0</td>\n",
              "      <td>0</td>\n",
              "      <td>0</td>\n",
              "      <td>0</td>\n",
              "      <td>0</td>\n",
              "      <td>0</td>\n",
              "      <td>0</td>\n",
              "      <td>0</td>\n",
              "      <td>0</td>\n",
              "      <td>0</td>\n",
              "      <td>0</td>\n",
              "      <td>0</td>\n",
              "      <td>0</td>\n",
              "      <td>0</td>\n",
              "      <td>0</td>\n",
              "      <td>1</td>\n",
              "      <td>0</td>\n",
              "      <td>0</td>\n",
              "      <td>1</td>\n",
              "      <td>0</td>\n",
              "      <td>0</td>\n",
              "      <td>0</td>\n",
              "      <td>0</td>\n",
              "      <td>0</td>\n",
              "      <td>0</td>\n",
              "      <td>0</td>\n",
              "      <td>0</td>\n",
              "      <td>0</td>\n",
              "      <td>0</td>\n",
              "      <td>1</td>\n",
              "      <td>1</td>\n",
              "      <td>0</td>\n",
              "      <td>1</td>\n",
              "      <td>0</td>\n",
              "      <td>0</td>\n",
              "      <td>0</td>\n",
              "      <td>0</td>\n",
              "      <td>0</td>\n",
              "      <td>0</td>\n",
              "      <td>1</td>\n",
              "      <td>0</td>\n",
              "      <td>0</td>\n",
              "      <td>0</td>\n",
              "      <td>0</td>\n",
              "      <td>0</td>\n",
              "      <td>0</td>\n",
              "      <td>0</td>\n",
              "      <td>0</td>\n",
              "      <td>0</td>\n",
              "      <td>0</td>\n",
              "      <td>1</td>\n",
              "      <td>0</td>\n",
              "      <td>1</td>\n",
              "      <td>0</td>\n",
              "    </tr>\n",
              "    <tr>\n",
              "      <th>4</th>\n",
              "      <td>0</td>\n",
              "      <td>0.209837</td>\n",
              "      <td>1</td>\n",
              "      <td>0</td>\n",
              "      <td>0</td>\n",
              "      <td>0</td>\n",
              "      <td>0</td>\n",
              "      <td>0</td>\n",
              "      <td>0</td>\n",
              "      <td>0</td>\n",
              "      <td>0</td>\n",
              "      <td>0</td>\n",
              "      <td>0</td>\n",
              "      <td>0</td>\n",
              "      <td>0</td>\n",
              "      <td>0</td>\n",
              "      <td>0</td>\n",
              "      <td>0</td>\n",
              "      <td>0</td>\n",
              "      <td>0</td>\n",
              "      <td>0</td>\n",
              "      <td>0</td>\n",
              "      <td>0</td>\n",
              "      <td>0</td>\n",
              "      <td>0</td>\n",
              "      <td>0</td>\n",
              "      <td>0</td>\n",
              "      <td>0</td>\n",
              "      <td>0</td>\n",
              "      <td>0</td>\n",
              "      <td>0</td>\n",
              "      <td>0</td>\n",
              "      <td>0</td>\n",
              "      <td>0</td>\n",
              "      <td>0</td>\n",
              "      <td>0</td>\n",
              "      <td>1</td>\n",
              "      <td>0</td>\n",
              "      <td>0</td>\n",
              "      <td>1</td>\n",
              "      <td>0</td>\n",
              "      <td>0</td>\n",
              "      <td>0</td>\n",
              "      <td>0</td>\n",
              "      <td>0</td>\n",
              "      <td>0</td>\n",
              "      <td>0</td>\n",
              "      <td>0</td>\n",
              "      <td>0</td>\n",
              "      <td>1</td>\n",
              "      <td>0</td>\n",
              "      <td>1</td>\n",
              "      <td>1</td>\n",
              "      <td>0</td>\n",
              "      <td>0</td>\n",
              "      <td>0</td>\n",
              "      <td>0</td>\n",
              "      <td>0</td>\n",
              "      <td>0</td>\n",
              "      <td>1</td>\n",
              "      <td>0</td>\n",
              "      <td>0</td>\n",
              "      <td>0</td>\n",
              "      <td>0</td>\n",
              "      <td>0</td>\n",
              "      <td>0</td>\n",
              "      <td>0</td>\n",
              "      <td>1</td>\n",
              "      <td>0</td>\n",
              "      <td>0</td>\n",
              "      <td>0</td>\n",
              "      <td>0</td>\n",
              "      <td>1</td>\n",
              "      <td>0</td>\n",
              "    </tr>\n",
              "  </tbody>\n",
              "</table>\n",
              "</div>"
            ],
            "text/plain": [
              "   Installs_group  st_Rating  ...  Android Ver_levels_high  Android Ver_levels_low\n",
              "0               0  -0.179640  ...                        1                       0\n",
              "1               1  -0.569116  ...                        1                       0\n",
              "2               1   0.988789  ...                        1                       0\n",
              "3               1   0.599313  ...                        1                       0\n",
              "4               0   0.209837  ...                        1                       0\n",
              "\n",
              "[5 rows x 74 columns]"
            ]
          },
          "metadata": {
            "tags": []
          },
          "execution_count": 5
        }
      ]
    },
    {
      "cell_type": "code",
      "metadata": {
        "id": "QW0HPro9B2LC",
        "colab_type": "code",
        "outputId": "998f6d34-d1b7-4f15-bce7-49498620ac55",
        "colab": {
          "base_uri": "https://localhost:8080/",
          "height": 1275
        }
      },
      "source": [
        "fv.columns.tolist()"
      ],
      "execution_count": 0,
      "outputs": [
        {
          "output_type": "execute_result",
          "data": {
            "text/plain": [
              "['Installs_group',\n",
              " 'st_Rating',\n",
              " 'Category_ART_AND_DESIGN',\n",
              " 'Category_AUTO_AND_VEHICLES',\n",
              " 'Category_BEAUTY',\n",
              " 'Category_BOOKS_AND_REFERENCE',\n",
              " 'Category_BUSINESS',\n",
              " 'Category_COMICS',\n",
              " 'Category_COMMUNICATION',\n",
              " 'Category_DATING',\n",
              " 'Category_EDUCATION',\n",
              " 'Category_ENTERTAINMENT',\n",
              " 'Category_EVENTS',\n",
              " 'Category_FAMILY',\n",
              " 'Category_FINANCE',\n",
              " 'Category_FOOD_AND_DRINK',\n",
              " 'Category_GAME',\n",
              " 'Category_HEALTH_AND_FITNESS',\n",
              " 'Category_HOUSE_AND_HOME',\n",
              " 'Category_LIBRARIES_AND_DEMO',\n",
              " 'Category_LIFESTYLE',\n",
              " 'Category_MAPS_AND_NAVIGATION',\n",
              " 'Category_MEDICAL',\n",
              " 'Category_NEWS_AND_MAGAZINES',\n",
              " 'Category_PARENTING',\n",
              " 'Category_PERSONALIZATION',\n",
              " 'Category_PHOTOGRAPHY',\n",
              " 'Category_PRODUCTIVITY',\n",
              " 'Category_SHOPPING',\n",
              " 'Category_SOCIAL',\n",
              " 'Category_SPORTS',\n",
              " 'Category_TOOLS',\n",
              " 'Category_TRAVEL_AND_LOCAL',\n",
              " 'Category_VIDEO_PLAYERS',\n",
              " 'Category_WEATHER',\n",
              " 'reviews_levels_high',\n",
              " 'reviews_levels_low',\n",
              " 'reviews_levels_medium',\n",
              " 'Current Ver_clean_levels_high',\n",
              " 'Current Ver_clean_levels_low',\n",
              " 'Current Ver_clean_levels_medium',\n",
              " 'year_2010',\n",
              " 'year_2011',\n",
              " 'year_2012',\n",
              " 'year_2013',\n",
              " 'year_2014',\n",
              " 'year_2015',\n",
              " 'year_2016',\n",
              " 'year_2017',\n",
              " 'year_2018',\n",
              " 'Size_group_big',\n",
              " 'Size_group_small',\n",
              " 'Type_Free',\n",
              " 'Type_Paid',\n",
              " 'month_1',\n",
              " 'month_2',\n",
              " 'month_3',\n",
              " 'month_4',\n",
              " 'month_5',\n",
              " 'month_6',\n",
              " 'month_7',\n",
              " 'month_8',\n",
              " 'month_9',\n",
              " 'month_10',\n",
              " 'month_11',\n",
              " 'month_12',\n",
              " 'Content Rating_Adults only 18+',\n",
              " 'Content Rating_Everyone',\n",
              " 'Content Rating_Everyone 10+',\n",
              " 'Content Rating_Mature 17+',\n",
              " 'Content Rating_Teen',\n",
              " 'Content Rating_Unrated',\n",
              " 'Android Ver_levels_high',\n",
              " 'Android Ver_levels_low']"
            ]
          },
          "metadata": {
            "tags": []
          },
          "execution_count": 6
        }
      ]
    },
    {
      "cell_type": "code",
      "metadata": {
        "id": "IMO0qjzfAUaZ",
        "colab_type": "code",
        "colab": {}
      },
      "source": [
        "#Hyperparameters:\n",
        "#1)max_depth. This indicates how deep the tree can be. The deeper the tree, the more splits \n",
        "#it has and it captures more information about the data. We fit a decision tree\n",
        "#with depths ranging from 1 to 32 and plot the training and test auc scores.\n",
        "\n",
        "#2)min_samples_split\n",
        "#min_samples_split represents the minimum number of samples required to split an internal node. \n",
        "#This can vary between considering at least one sample at each node to considering all of the samples at each node. \n",
        "#When we increase this parameter, the tree becomes more constrained as it has to consider more samples at each node. \n",
        "#Here we will vary the parameter from 10% to 100% of the samples\n",
        "\n",
        "#3)min_samples_leaf: is The minimum number of samples required to be at a leaf node\n",
        "#This parameter is similar to min_samples_splits, however, \n",
        "#this describe the minimum number of samples of samples at the leafs, the base of the tree.\n",
        "\n",
        "#4)max_features:\n",
        "#max_features represents the number of features to consider when looking for the best split.\n",
        "#5) random state to 42 which means the results will be the same each time I run the split for reproducible results."
      ],
      "execution_count": 0,
      "outputs": []
    },
    {
      "cell_type": "code",
      "metadata": {
        "id": "x9O_whC7AUac",
        "colab_type": "code",
        "outputId": "7b6b1ccc-fe0f-44d2-d00d-a14233aa25c6",
        "colab": {
          "base_uri": "https://localhost:8080/",
          "height": 258
        }
      },
      "source": [
        "fv.head()"
      ],
      "execution_count": 0,
      "outputs": [
        {
          "output_type": "execute_result",
          "data": {
            "text/html": [
              "<div>\n",
              "<style scoped>\n",
              "    .dataframe tbody tr th:only-of-type {\n",
              "        vertical-align: middle;\n",
              "    }\n",
              "\n",
              "    .dataframe tbody tr th {\n",
              "        vertical-align: top;\n",
              "    }\n",
              "\n",
              "    .dataframe thead th {\n",
              "        text-align: right;\n",
              "    }\n",
              "</style>\n",
              "<table border=\"1\" class=\"dataframe\">\n",
              "  <thead>\n",
              "    <tr style=\"text-align: right;\">\n",
              "      <th></th>\n",
              "      <th>Installs_group</th>\n",
              "      <th>st_Rating</th>\n",
              "      <th>Category_ART_AND_DESIGN</th>\n",
              "      <th>Category_AUTO_AND_VEHICLES</th>\n",
              "      <th>Category_BEAUTY</th>\n",
              "      <th>Category_BOOKS_AND_REFERENCE</th>\n",
              "      <th>Category_BUSINESS</th>\n",
              "      <th>Category_COMICS</th>\n",
              "      <th>Category_COMMUNICATION</th>\n",
              "      <th>Category_DATING</th>\n",
              "      <th>Category_EDUCATION</th>\n",
              "      <th>Category_ENTERTAINMENT</th>\n",
              "      <th>Category_EVENTS</th>\n",
              "      <th>Category_FAMILY</th>\n",
              "      <th>Category_FINANCE</th>\n",
              "      <th>Category_FOOD_AND_DRINK</th>\n",
              "      <th>Category_GAME</th>\n",
              "      <th>Category_HEALTH_AND_FITNESS</th>\n",
              "      <th>Category_HOUSE_AND_HOME</th>\n",
              "      <th>Category_LIBRARIES_AND_DEMO</th>\n",
              "      <th>Category_LIFESTYLE</th>\n",
              "      <th>Category_MAPS_AND_NAVIGATION</th>\n",
              "      <th>Category_MEDICAL</th>\n",
              "      <th>Category_NEWS_AND_MAGAZINES</th>\n",
              "      <th>Category_PARENTING</th>\n",
              "      <th>Category_PERSONALIZATION</th>\n",
              "      <th>Category_PHOTOGRAPHY</th>\n",
              "      <th>Category_PRODUCTIVITY</th>\n",
              "      <th>Category_SHOPPING</th>\n",
              "      <th>Category_SOCIAL</th>\n",
              "      <th>Category_SPORTS</th>\n",
              "      <th>Category_TOOLS</th>\n",
              "      <th>Category_TRAVEL_AND_LOCAL</th>\n",
              "      <th>Category_VIDEO_PLAYERS</th>\n",
              "      <th>Category_WEATHER</th>\n",
              "      <th>reviews_levels_high</th>\n",
              "      <th>reviews_levels_low</th>\n",
              "      <th>reviews_levels_medium</th>\n",
              "      <th>Current Ver_clean_levels_high</th>\n",
              "      <th>Current Ver_clean_levels_low</th>\n",
              "      <th>Current Ver_clean_levels_medium</th>\n",
              "      <th>year_2010</th>\n",
              "      <th>year_2011</th>\n",
              "      <th>year_2012</th>\n",
              "      <th>year_2013</th>\n",
              "      <th>year_2014</th>\n",
              "      <th>year_2015</th>\n",
              "      <th>year_2016</th>\n",
              "      <th>year_2017</th>\n",
              "      <th>year_2018</th>\n",
              "      <th>Size_group_big</th>\n",
              "      <th>Size_group_small</th>\n",
              "      <th>Type_Free</th>\n",
              "      <th>Type_Paid</th>\n",
              "      <th>month_1</th>\n",
              "      <th>month_2</th>\n",
              "      <th>month_3</th>\n",
              "      <th>month_4</th>\n",
              "      <th>month_5</th>\n",
              "      <th>month_6</th>\n",
              "      <th>month_7</th>\n",
              "      <th>month_8</th>\n",
              "      <th>month_9</th>\n",
              "      <th>month_10</th>\n",
              "      <th>month_11</th>\n",
              "      <th>month_12</th>\n",
              "      <th>Content Rating_Adults only 18+</th>\n",
              "      <th>Content Rating_Everyone</th>\n",
              "      <th>Content Rating_Everyone 10+</th>\n",
              "      <th>Content Rating_Mature 17+</th>\n",
              "      <th>Content Rating_Teen</th>\n",
              "      <th>Content Rating_Unrated</th>\n",
              "      <th>Android Ver_levels_high</th>\n",
              "      <th>Android Ver_levels_low</th>\n",
              "    </tr>\n",
              "  </thead>\n",
              "  <tbody>\n",
              "    <tr>\n",
              "      <th>0</th>\n",
              "      <td>0</td>\n",
              "      <td>-0.179640</td>\n",
              "      <td>1</td>\n",
              "      <td>0</td>\n",
              "      <td>0</td>\n",
              "      <td>0</td>\n",
              "      <td>0</td>\n",
              "      <td>0</td>\n",
              "      <td>0</td>\n",
              "      <td>0</td>\n",
              "      <td>0</td>\n",
              "      <td>0</td>\n",
              "      <td>0</td>\n",
              "      <td>0</td>\n",
              "      <td>0</td>\n",
              "      <td>0</td>\n",
              "      <td>0</td>\n",
              "      <td>0</td>\n",
              "      <td>0</td>\n",
              "      <td>0</td>\n",
              "      <td>0</td>\n",
              "      <td>0</td>\n",
              "      <td>0</td>\n",
              "      <td>0</td>\n",
              "      <td>0</td>\n",
              "      <td>0</td>\n",
              "      <td>0</td>\n",
              "      <td>0</td>\n",
              "      <td>0</td>\n",
              "      <td>0</td>\n",
              "      <td>0</td>\n",
              "      <td>0</td>\n",
              "      <td>0</td>\n",
              "      <td>0</td>\n",
              "      <td>0</td>\n",
              "      <td>0</td>\n",
              "      <td>1</td>\n",
              "      <td>0</td>\n",
              "      <td>0</td>\n",
              "      <td>1</td>\n",
              "      <td>0</td>\n",
              "      <td>0</td>\n",
              "      <td>0</td>\n",
              "      <td>0</td>\n",
              "      <td>0</td>\n",
              "      <td>0</td>\n",
              "      <td>0</td>\n",
              "      <td>0</td>\n",
              "      <td>0</td>\n",
              "      <td>1</td>\n",
              "      <td>0</td>\n",
              "      <td>1</td>\n",
              "      <td>1</td>\n",
              "      <td>0</td>\n",
              "      <td>1</td>\n",
              "      <td>0</td>\n",
              "      <td>0</td>\n",
              "      <td>0</td>\n",
              "      <td>0</td>\n",
              "      <td>0</td>\n",
              "      <td>0</td>\n",
              "      <td>0</td>\n",
              "      <td>0</td>\n",
              "      <td>0</td>\n",
              "      <td>0</td>\n",
              "      <td>0</td>\n",
              "      <td>0</td>\n",
              "      <td>1</td>\n",
              "      <td>0</td>\n",
              "      <td>0</td>\n",
              "      <td>0</td>\n",
              "      <td>0</td>\n",
              "      <td>1</td>\n",
              "      <td>0</td>\n",
              "    </tr>\n",
              "    <tr>\n",
              "      <th>1</th>\n",
              "      <td>1</td>\n",
              "      <td>-0.569116</td>\n",
              "      <td>1</td>\n",
              "      <td>0</td>\n",
              "      <td>0</td>\n",
              "      <td>0</td>\n",
              "      <td>0</td>\n",
              "      <td>0</td>\n",
              "      <td>0</td>\n",
              "      <td>0</td>\n",
              "      <td>0</td>\n",
              "      <td>0</td>\n",
              "      <td>0</td>\n",
              "      <td>0</td>\n",
              "      <td>0</td>\n",
              "      <td>0</td>\n",
              "      <td>0</td>\n",
              "      <td>0</td>\n",
              "      <td>0</td>\n",
              "      <td>0</td>\n",
              "      <td>0</td>\n",
              "      <td>0</td>\n",
              "      <td>0</td>\n",
              "      <td>0</td>\n",
              "      <td>0</td>\n",
              "      <td>0</td>\n",
              "      <td>0</td>\n",
              "      <td>0</td>\n",
              "      <td>0</td>\n",
              "      <td>0</td>\n",
              "      <td>0</td>\n",
              "      <td>0</td>\n",
              "      <td>0</td>\n",
              "      <td>0</td>\n",
              "      <td>0</td>\n",
              "      <td>0</td>\n",
              "      <td>1</td>\n",
              "      <td>0</td>\n",
              "      <td>0</td>\n",
              "      <td>0</td>\n",
              "      <td>1</td>\n",
              "      <td>0</td>\n",
              "      <td>0</td>\n",
              "      <td>0</td>\n",
              "      <td>0</td>\n",
              "      <td>0</td>\n",
              "      <td>0</td>\n",
              "      <td>0</td>\n",
              "      <td>0</td>\n",
              "      <td>1</td>\n",
              "      <td>0</td>\n",
              "      <td>1</td>\n",
              "      <td>1</td>\n",
              "      <td>0</td>\n",
              "      <td>1</td>\n",
              "      <td>0</td>\n",
              "      <td>0</td>\n",
              "      <td>0</td>\n",
              "      <td>0</td>\n",
              "      <td>0</td>\n",
              "      <td>0</td>\n",
              "      <td>0</td>\n",
              "      <td>0</td>\n",
              "      <td>0</td>\n",
              "      <td>0</td>\n",
              "      <td>0</td>\n",
              "      <td>0</td>\n",
              "      <td>1</td>\n",
              "      <td>0</td>\n",
              "      <td>0</td>\n",
              "      <td>0</td>\n",
              "      <td>0</td>\n",
              "      <td>1</td>\n",
              "      <td>0</td>\n",
              "    </tr>\n",
              "    <tr>\n",
              "      <th>2</th>\n",
              "      <td>1</td>\n",
              "      <td>0.988789</td>\n",
              "      <td>1</td>\n",
              "      <td>0</td>\n",
              "      <td>0</td>\n",
              "      <td>0</td>\n",
              "      <td>0</td>\n",
              "      <td>0</td>\n",
              "      <td>0</td>\n",
              "      <td>0</td>\n",
              "      <td>0</td>\n",
              "      <td>0</td>\n",
              "      <td>0</td>\n",
              "      <td>0</td>\n",
              "      <td>0</td>\n",
              "      <td>0</td>\n",
              "      <td>0</td>\n",
              "      <td>0</td>\n",
              "      <td>0</td>\n",
              "      <td>0</td>\n",
              "      <td>0</td>\n",
              "      <td>0</td>\n",
              "      <td>0</td>\n",
              "      <td>0</td>\n",
              "      <td>0</td>\n",
              "      <td>0</td>\n",
              "      <td>0</td>\n",
              "      <td>0</td>\n",
              "      <td>0</td>\n",
              "      <td>0</td>\n",
              "      <td>0</td>\n",
              "      <td>0</td>\n",
              "      <td>0</td>\n",
              "      <td>0</td>\n",
              "      <td>0</td>\n",
              "      <td>1</td>\n",
              "      <td>0</td>\n",
              "      <td>0</td>\n",
              "      <td>0</td>\n",
              "      <td>1</td>\n",
              "      <td>0</td>\n",
              "      <td>0</td>\n",
              "      <td>0</td>\n",
              "      <td>0</td>\n",
              "      <td>0</td>\n",
              "      <td>0</td>\n",
              "      <td>0</td>\n",
              "      <td>0</td>\n",
              "      <td>0</td>\n",
              "      <td>1</td>\n",
              "      <td>0</td>\n",
              "      <td>1</td>\n",
              "      <td>1</td>\n",
              "      <td>0</td>\n",
              "      <td>0</td>\n",
              "      <td>0</td>\n",
              "      <td>0</td>\n",
              "      <td>0</td>\n",
              "      <td>0</td>\n",
              "      <td>0</td>\n",
              "      <td>0</td>\n",
              "      <td>1</td>\n",
              "      <td>0</td>\n",
              "      <td>0</td>\n",
              "      <td>0</td>\n",
              "      <td>0</td>\n",
              "      <td>0</td>\n",
              "      <td>1</td>\n",
              "      <td>0</td>\n",
              "      <td>0</td>\n",
              "      <td>0</td>\n",
              "      <td>0</td>\n",
              "      <td>1</td>\n",
              "      <td>0</td>\n",
              "    </tr>\n",
              "    <tr>\n",
              "      <th>3</th>\n",
              "      <td>1</td>\n",
              "      <td>0.599313</td>\n",
              "      <td>1</td>\n",
              "      <td>0</td>\n",
              "      <td>0</td>\n",
              "      <td>0</td>\n",
              "      <td>0</td>\n",
              "      <td>0</td>\n",
              "      <td>0</td>\n",
              "      <td>0</td>\n",
              "      <td>0</td>\n",
              "      <td>0</td>\n",
              "      <td>0</td>\n",
              "      <td>0</td>\n",
              "      <td>0</td>\n",
              "      <td>0</td>\n",
              "      <td>0</td>\n",
              "      <td>0</td>\n",
              "      <td>0</td>\n",
              "      <td>0</td>\n",
              "      <td>0</td>\n",
              "      <td>0</td>\n",
              "      <td>0</td>\n",
              "      <td>0</td>\n",
              "      <td>0</td>\n",
              "      <td>0</td>\n",
              "      <td>0</td>\n",
              "      <td>0</td>\n",
              "      <td>0</td>\n",
              "      <td>0</td>\n",
              "      <td>0</td>\n",
              "      <td>0</td>\n",
              "      <td>0</td>\n",
              "      <td>0</td>\n",
              "      <td>0</td>\n",
              "      <td>1</td>\n",
              "      <td>0</td>\n",
              "      <td>0</td>\n",
              "      <td>1</td>\n",
              "      <td>0</td>\n",
              "      <td>0</td>\n",
              "      <td>0</td>\n",
              "      <td>0</td>\n",
              "      <td>0</td>\n",
              "      <td>0</td>\n",
              "      <td>0</td>\n",
              "      <td>0</td>\n",
              "      <td>0</td>\n",
              "      <td>0</td>\n",
              "      <td>1</td>\n",
              "      <td>1</td>\n",
              "      <td>0</td>\n",
              "      <td>1</td>\n",
              "      <td>0</td>\n",
              "      <td>0</td>\n",
              "      <td>0</td>\n",
              "      <td>0</td>\n",
              "      <td>0</td>\n",
              "      <td>0</td>\n",
              "      <td>1</td>\n",
              "      <td>0</td>\n",
              "      <td>0</td>\n",
              "      <td>0</td>\n",
              "      <td>0</td>\n",
              "      <td>0</td>\n",
              "      <td>0</td>\n",
              "      <td>0</td>\n",
              "      <td>0</td>\n",
              "      <td>0</td>\n",
              "      <td>0</td>\n",
              "      <td>1</td>\n",
              "      <td>0</td>\n",
              "      <td>1</td>\n",
              "      <td>0</td>\n",
              "    </tr>\n",
              "    <tr>\n",
              "      <th>4</th>\n",
              "      <td>0</td>\n",
              "      <td>0.209837</td>\n",
              "      <td>1</td>\n",
              "      <td>0</td>\n",
              "      <td>0</td>\n",
              "      <td>0</td>\n",
              "      <td>0</td>\n",
              "      <td>0</td>\n",
              "      <td>0</td>\n",
              "      <td>0</td>\n",
              "      <td>0</td>\n",
              "      <td>0</td>\n",
              "      <td>0</td>\n",
              "      <td>0</td>\n",
              "      <td>0</td>\n",
              "      <td>0</td>\n",
              "      <td>0</td>\n",
              "      <td>0</td>\n",
              "      <td>0</td>\n",
              "      <td>0</td>\n",
              "      <td>0</td>\n",
              "      <td>0</td>\n",
              "      <td>0</td>\n",
              "      <td>0</td>\n",
              "      <td>0</td>\n",
              "      <td>0</td>\n",
              "      <td>0</td>\n",
              "      <td>0</td>\n",
              "      <td>0</td>\n",
              "      <td>0</td>\n",
              "      <td>0</td>\n",
              "      <td>0</td>\n",
              "      <td>0</td>\n",
              "      <td>0</td>\n",
              "      <td>0</td>\n",
              "      <td>0</td>\n",
              "      <td>1</td>\n",
              "      <td>0</td>\n",
              "      <td>0</td>\n",
              "      <td>1</td>\n",
              "      <td>0</td>\n",
              "      <td>0</td>\n",
              "      <td>0</td>\n",
              "      <td>0</td>\n",
              "      <td>0</td>\n",
              "      <td>0</td>\n",
              "      <td>0</td>\n",
              "      <td>0</td>\n",
              "      <td>0</td>\n",
              "      <td>1</td>\n",
              "      <td>0</td>\n",
              "      <td>1</td>\n",
              "      <td>1</td>\n",
              "      <td>0</td>\n",
              "      <td>0</td>\n",
              "      <td>0</td>\n",
              "      <td>0</td>\n",
              "      <td>0</td>\n",
              "      <td>0</td>\n",
              "      <td>1</td>\n",
              "      <td>0</td>\n",
              "      <td>0</td>\n",
              "      <td>0</td>\n",
              "      <td>0</td>\n",
              "      <td>0</td>\n",
              "      <td>0</td>\n",
              "      <td>0</td>\n",
              "      <td>1</td>\n",
              "      <td>0</td>\n",
              "      <td>0</td>\n",
              "      <td>0</td>\n",
              "      <td>0</td>\n",
              "      <td>1</td>\n",
              "      <td>0</td>\n",
              "    </tr>\n",
              "  </tbody>\n",
              "</table>\n",
              "</div>"
            ],
            "text/plain": [
              "   Installs_group  st_Rating  ...  Android Ver_levels_high  Android Ver_levels_low\n",
              "0               0  -0.179640  ...                        1                       0\n",
              "1               1  -0.569116  ...                        1                       0\n",
              "2               1   0.988789  ...                        1                       0\n",
              "3               1   0.599313  ...                        1                       0\n",
              "4               0   0.209837  ...                        1                       0\n",
              "\n",
              "[5 rows x 74 columns]"
            ]
          },
          "metadata": {
            "tags": []
          },
          "execution_count": 8
        }
      ]
    },
    {
      "cell_type": "markdown",
      "metadata": {
        "colab_type": "text",
        "id": "YQ-b0-yrDqis"
      },
      "source": [
        "## Train/Test Split"
      ]
    },
    {
      "cell_type": "code",
      "metadata": {
        "colab_type": "code",
        "id": "vFi7OrIIDqit",
        "colab": {}
      },
      "source": [
        "X = fv.drop(['Installs_group'], axis=1)\n",
        "y = fv['Installs_group']\n",
        "# we keep 33% of data for test dataset: cross-validation\n",
        "X_train, X_test, y_train, y_test = train_test_split(X, y, test_size=0.3, random_state=42)"
      ],
      "execution_count": 0,
      "outputs": []
    },
    {
      "cell_type": "code",
      "metadata": {
        "id": "5fboQWFXAUaj",
        "colab_type": "code",
        "colab": {}
      },
      "source": [
        "# https://scikit-learn.org/stable/modules/generated/sklearn.tree.DecisionTreeClassifier.html"
      ],
      "execution_count": 0,
      "outputs": []
    },
    {
      "cell_type": "markdown",
      "metadata": {
        "colab_type": "text",
        "id": "aXud-dB9Dqi8"
      },
      "source": [
        "![gini](giniindex.png)"
      ]
    },
    {
      "cell_type": "markdown",
      "metadata": {
        "colab_type": "text",
        "id": "D0YQOnMRDqi9"
      },
      "source": [
        "## Decision Tree - Grid Search & Cross Validation\n",
        "\n",
        "See the list of scoring functions [here](https://scikit-learn.org/stable/modules/model_evaluation.html#scoring-parameter)"
      ]
    },
    {
      "cell_type": "markdown",
      "metadata": {
        "colab_type": "text",
        "id": "3a9PElPtDqi-"
      },
      "source": [
        "![decision_tree](decision_tree_hyper.png)"
      ]
    },
    {
      "cell_type": "code",
      "metadata": {
        "colab_type": "code",
        "id": "iRGn3dl-Dqi_",
        "colab": {}
      },
      "source": [
        "# Initialize the model\n",
        "tree = DecisionTreeClassifier()\n",
        "\n",
        "# Define the values of the hyperparameters to optimize\n",
        "max_depth = [5, 10]#[10, 50, 100, None]\n",
        "min_samples_split = [2, 5, 10]\n",
        "min_samples_leaf = [1, 2, 4]\n",
        "max_leaf_nodes = [2, 5, 10]\n",
        "max_features = [10, 15, 20]#['sqrt', 'log2']\n",
        "hyperparameters = dict(max_depth=max_depth, min_samples_split=min_samples_split,\n",
        "                      min_samples_leaf=min_samples_leaf, max_leaf_nodes=max_leaf_nodes)\n",
        "\n",
        "# Initialize GridSearch/Cross-validation\n",
        "clf = GridSearchCV(tree, hyperparameters, cv=5, scoring='accuracy')\n",
        "\n",
        "# Run the optimization\n",
        "best_model = clf.fit(X_train, y_train)"
      ],
      "execution_count": 0,
      "outputs": []
    },
    {
      "cell_type": "code",
      "metadata": {
        "colab_type": "code",
        "id": "XecsUjsJDqjC",
        "outputId": "5d84df91-b258-41a7-91e6-2542ad620708",
        "colab": {
          "base_uri": "https://localhost:8080/",
          "height": 6783
        }
      },
      "source": [
        "# Results\n",
        "best_model.cv_results_"
      ],
      "execution_count": 0,
      "outputs": [
        {
          "output_type": "execute_result",
          "data": {
            "text/plain": [
              "{'mean_fit_time': array([0.01495953, 0.01356773, 0.01238575, 0.01226034, 0.01298242,\n",
              "        0.01196275, 0.01220684, 0.01225801, 0.01228991, 0.01524558,\n",
              "        0.01520424, 0.01590595, 0.01516128, 0.01496553, 0.01396775,\n",
              "        0.01490917, 0.01412258, 0.01428285, 0.01535311, 0.01482644,\n",
              "        0.01523705, 0.01566176, 0.01482401, 0.01600718, 0.01610575,\n",
              "        0.01484709, 0.01502652, 0.0116075 , 0.01171708, 0.01131248,\n",
              "        0.01104298, 0.01172705, 0.01118183, 0.01147614, 0.0113287 ,\n",
              "        0.0117979 , 0.01401429, 0.01393113, 0.01417713, 0.01424937,\n",
              "        0.01490226, 0.0141871 , 0.01393905, 0.01408625, 0.01404614,\n",
              "        0.01676941, 0.0161449 , 0.01565642, 0.01610246, 0.0156127 ,\n",
              "        0.01629128, 0.01620779, 0.01612334, 0.01604419]),\n",
              " 'mean_score_time': array([0.00298033, 0.00285659, 0.00278077, 0.00264902, 0.00265584,\n",
              "        0.00255718, 0.00261974, 0.00255733, 0.00264459, 0.00294333,\n",
              "        0.00278287, 0.00289893, 0.00338492, 0.0027164 , 0.00224447,\n",
              "        0.00230021, 0.002211  , 0.00238538, 0.00277367, 0.00240712,\n",
              "        0.00239763, 0.00234227, 0.00236273, 0.00238729, 0.00257821,\n",
              "        0.00235205, 0.00230031, 0.00220799, 0.00224953, 0.00217628,\n",
              "        0.00211515, 0.00217466, 0.00213122, 0.00223107, 0.0021668 ,\n",
              "        0.00260339, 0.00225091, 0.00225558, 0.0022902 , 0.00218782,\n",
              "        0.00271864, 0.00230742, 0.00229363, 0.00243759, 0.00227304,\n",
              "        0.00236492, 0.00240254, 0.00231142, 0.00236053, 0.0023087 ,\n",
              "        0.00250092, 0.00258732, 0.00242925, 0.00234084]),\n",
              " 'mean_test_score': array([0.89258976, 0.89258976, 0.89258976, 0.89258976, 0.89258976,\n",
              "        0.89258976, 0.89258976, 0.89258976, 0.89258976, 0.91077158,\n",
              "        0.91077158, 0.91077158, 0.91077158, 0.91077158, 0.91077158,\n",
              "        0.91077158, 0.91077158, 0.91077158, 0.9092437 , 0.90893812,\n",
              "        0.90893812, 0.90893812, 0.90893812, 0.90893812, 0.90970206,\n",
              "        0.90970206, 0.90970206, 0.89258976, 0.89258976, 0.89258976,\n",
              "        0.89258976, 0.89258976, 0.89258976, 0.89258976, 0.89258976,\n",
              "        0.89258976, 0.91077158, 0.91077158, 0.91077158, 0.91077158,\n",
              "        0.91077158, 0.91077158, 0.91077158, 0.91077158, 0.91077158,\n",
              "        0.90970206, 0.90970206, 0.90970206, 0.90970206, 0.90970206,\n",
              "        0.90970206, 0.90985485, 0.90985485, 0.90985485]),\n",
              " 'param_max_depth': masked_array(data=[5, 5, 5, 5, 5, 5, 5, 5, 5, 5, 5, 5, 5, 5, 5, 5, 5, 5,\n",
              "                    5, 5, 5, 5, 5, 5, 5, 5, 5, 10, 10, 10, 10, 10, 10, 10,\n",
              "                    10, 10, 10, 10, 10, 10, 10, 10, 10, 10, 10, 10, 10, 10,\n",
              "                    10, 10, 10, 10, 10, 10],\n",
              "              mask=[False, False, False, False, False, False, False, False,\n",
              "                    False, False, False, False, False, False, False, False,\n",
              "                    False, False, False, False, False, False, False, False,\n",
              "                    False, False, False, False, False, False, False, False,\n",
              "                    False, False, False, False, False, False, False, False,\n",
              "                    False, False, False, False, False, False, False, False,\n",
              "                    False, False, False, False, False, False],\n",
              "        fill_value='?',\n",
              "             dtype=object),\n",
              " 'param_max_leaf_nodes': masked_array(data=[2, 2, 2, 2, 2, 2, 2, 2, 2, 5, 5, 5, 5, 5, 5, 5, 5, 5,\n",
              "                    10, 10, 10, 10, 10, 10, 10, 10, 10, 2, 2, 2, 2, 2, 2,\n",
              "                    2, 2, 2, 5, 5, 5, 5, 5, 5, 5, 5, 5, 10, 10, 10, 10, 10,\n",
              "                    10, 10, 10, 10],\n",
              "              mask=[False, False, False, False, False, False, False, False,\n",
              "                    False, False, False, False, False, False, False, False,\n",
              "                    False, False, False, False, False, False, False, False,\n",
              "                    False, False, False, False, False, False, False, False,\n",
              "                    False, False, False, False, False, False, False, False,\n",
              "                    False, False, False, False, False, False, False, False,\n",
              "                    False, False, False, False, False, False],\n",
              "        fill_value='?',\n",
              "             dtype=object),\n",
              " 'param_min_samples_leaf': masked_array(data=[1, 1, 1, 2, 2, 2, 4, 4, 4, 1, 1, 1, 2, 2, 2, 4, 4, 4,\n",
              "                    1, 1, 1, 2, 2, 2, 4, 4, 4, 1, 1, 1, 2, 2, 2, 4, 4, 4,\n",
              "                    1, 1, 1, 2, 2, 2, 4, 4, 4, 1, 1, 1, 2, 2, 2, 4, 4, 4],\n",
              "              mask=[False, False, False, False, False, False, False, False,\n",
              "                    False, False, False, False, False, False, False, False,\n",
              "                    False, False, False, False, False, False, False, False,\n",
              "                    False, False, False, False, False, False, False, False,\n",
              "                    False, False, False, False, False, False, False, False,\n",
              "                    False, False, False, False, False, False, False, False,\n",
              "                    False, False, False, False, False, False],\n",
              "        fill_value='?',\n",
              "             dtype=object),\n",
              " 'param_min_samples_split': masked_array(data=[2, 5, 10, 2, 5, 10, 2, 5, 10, 2, 5, 10, 2, 5, 10, 2, 5,\n",
              "                    10, 2, 5, 10, 2, 5, 10, 2, 5, 10, 2, 5, 10, 2, 5, 10,\n",
              "                    2, 5, 10, 2, 5, 10, 2, 5, 10, 2, 5, 10, 2, 5, 10, 2, 5,\n",
              "                    10, 2, 5, 10],\n",
              "              mask=[False, False, False, False, False, False, False, False,\n",
              "                    False, False, False, False, False, False, False, False,\n",
              "                    False, False, False, False, False, False, False, False,\n",
              "                    False, False, False, False, False, False, False, False,\n",
              "                    False, False, False, False, False, False, False, False,\n",
              "                    False, False, False, False, False, False, False, False,\n",
              "                    False, False, False, False, False, False],\n",
              "        fill_value='?',\n",
              "             dtype=object),\n",
              " 'params': [{'max_depth': 5,\n",
              "   'max_leaf_nodes': 2,\n",
              "   'min_samples_leaf': 1,\n",
              "   'min_samples_split': 2},\n",
              "  {'max_depth': 5,\n",
              "   'max_leaf_nodes': 2,\n",
              "   'min_samples_leaf': 1,\n",
              "   'min_samples_split': 5},\n",
              "  {'max_depth': 5,\n",
              "   'max_leaf_nodes': 2,\n",
              "   'min_samples_leaf': 1,\n",
              "   'min_samples_split': 10},\n",
              "  {'max_depth': 5,\n",
              "   'max_leaf_nodes': 2,\n",
              "   'min_samples_leaf': 2,\n",
              "   'min_samples_split': 2},\n",
              "  {'max_depth': 5,\n",
              "   'max_leaf_nodes': 2,\n",
              "   'min_samples_leaf': 2,\n",
              "   'min_samples_split': 5},\n",
              "  {'max_depth': 5,\n",
              "   'max_leaf_nodes': 2,\n",
              "   'min_samples_leaf': 2,\n",
              "   'min_samples_split': 10},\n",
              "  {'max_depth': 5,\n",
              "   'max_leaf_nodes': 2,\n",
              "   'min_samples_leaf': 4,\n",
              "   'min_samples_split': 2},\n",
              "  {'max_depth': 5,\n",
              "   'max_leaf_nodes': 2,\n",
              "   'min_samples_leaf': 4,\n",
              "   'min_samples_split': 5},\n",
              "  {'max_depth': 5,\n",
              "   'max_leaf_nodes': 2,\n",
              "   'min_samples_leaf': 4,\n",
              "   'min_samples_split': 10},\n",
              "  {'max_depth': 5,\n",
              "   'max_leaf_nodes': 5,\n",
              "   'min_samples_leaf': 1,\n",
              "   'min_samples_split': 2},\n",
              "  {'max_depth': 5,\n",
              "   'max_leaf_nodes': 5,\n",
              "   'min_samples_leaf': 1,\n",
              "   'min_samples_split': 5},\n",
              "  {'max_depth': 5,\n",
              "   'max_leaf_nodes': 5,\n",
              "   'min_samples_leaf': 1,\n",
              "   'min_samples_split': 10},\n",
              "  {'max_depth': 5,\n",
              "   'max_leaf_nodes': 5,\n",
              "   'min_samples_leaf': 2,\n",
              "   'min_samples_split': 2},\n",
              "  {'max_depth': 5,\n",
              "   'max_leaf_nodes': 5,\n",
              "   'min_samples_leaf': 2,\n",
              "   'min_samples_split': 5},\n",
              "  {'max_depth': 5,\n",
              "   'max_leaf_nodes': 5,\n",
              "   'min_samples_leaf': 2,\n",
              "   'min_samples_split': 10},\n",
              "  {'max_depth': 5,\n",
              "   'max_leaf_nodes': 5,\n",
              "   'min_samples_leaf': 4,\n",
              "   'min_samples_split': 2},\n",
              "  {'max_depth': 5,\n",
              "   'max_leaf_nodes': 5,\n",
              "   'min_samples_leaf': 4,\n",
              "   'min_samples_split': 5},\n",
              "  {'max_depth': 5,\n",
              "   'max_leaf_nodes': 5,\n",
              "   'min_samples_leaf': 4,\n",
              "   'min_samples_split': 10},\n",
              "  {'max_depth': 5,\n",
              "   'max_leaf_nodes': 10,\n",
              "   'min_samples_leaf': 1,\n",
              "   'min_samples_split': 2},\n",
              "  {'max_depth': 5,\n",
              "   'max_leaf_nodes': 10,\n",
              "   'min_samples_leaf': 1,\n",
              "   'min_samples_split': 5},\n",
              "  {'max_depth': 5,\n",
              "   'max_leaf_nodes': 10,\n",
              "   'min_samples_leaf': 1,\n",
              "   'min_samples_split': 10},\n",
              "  {'max_depth': 5,\n",
              "   'max_leaf_nodes': 10,\n",
              "   'min_samples_leaf': 2,\n",
              "   'min_samples_split': 2},\n",
              "  {'max_depth': 5,\n",
              "   'max_leaf_nodes': 10,\n",
              "   'min_samples_leaf': 2,\n",
              "   'min_samples_split': 5},\n",
              "  {'max_depth': 5,\n",
              "   'max_leaf_nodes': 10,\n",
              "   'min_samples_leaf': 2,\n",
              "   'min_samples_split': 10},\n",
              "  {'max_depth': 5,\n",
              "   'max_leaf_nodes': 10,\n",
              "   'min_samples_leaf': 4,\n",
              "   'min_samples_split': 2},\n",
              "  {'max_depth': 5,\n",
              "   'max_leaf_nodes': 10,\n",
              "   'min_samples_leaf': 4,\n",
              "   'min_samples_split': 5},\n",
              "  {'max_depth': 5,\n",
              "   'max_leaf_nodes': 10,\n",
              "   'min_samples_leaf': 4,\n",
              "   'min_samples_split': 10},\n",
              "  {'max_depth': 10,\n",
              "   'max_leaf_nodes': 2,\n",
              "   'min_samples_leaf': 1,\n",
              "   'min_samples_split': 2},\n",
              "  {'max_depth': 10,\n",
              "   'max_leaf_nodes': 2,\n",
              "   'min_samples_leaf': 1,\n",
              "   'min_samples_split': 5},\n",
              "  {'max_depth': 10,\n",
              "   'max_leaf_nodes': 2,\n",
              "   'min_samples_leaf': 1,\n",
              "   'min_samples_split': 10},\n",
              "  {'max_depth': 10,\n",
              "   'max_leaf_nodes': 2,\n",
              "   'min_samples_leaf': 2,\n",
              "   'min_samples_split': 2},\n",
              "  {'max_depth': 10,\n",
              "   'max_leaf_nodes': 2,\n",
              "   'min_samples_leaf': 2,\n",
              "   'min_samples_split': 5},\n",
              "  {'max_depth': 10,\n",
              "   'max_leaf_nodes': 2,\n",
              "   'min_samples_leaf': 2,\n",
              "   'min_samples_split': 10},\n",
              "  {'max_depth': 10,\n",
              "   'max_leaf_nodes': 2,\n",
              "   'min_samples_leaf': 4,\n",
              "   'min_samples_split': 2},\n",
              "  {'max_depth': 10,\n",
              "   'max_leaf_nodes': 2,\n",
              "   'min_samples_leaf': 4,\n",
              "   'min_samples_split': 5},\n",
              "  {'max_depth': 10,\n",
              "   'max_leaf_nodes': 2,\n",
              "   'min_samples_leaf': 4,\n",
              "   'min_samples_split': 10},\n",
              "  {'max_depth': 10,\n",
              "   'max_leaf_nodes': 5,\n",
              "   'min_samples_leaf': 1,\n",
              "   'min_samples_split': 2},\n",
              "  {'max_depth': 10,\n",
              "   'max_leaf_nodes': 5,\n",
              "   'min_samples_leaf': 1,\n",
              "   'min_samples_split': 5},\n",
              "  {'max_depth': 10,\n",
              "   'max_leaf_nodes': 5,\n",
              "   'min_samples_leaf': 1,\n",
              "   'min_samples_split': 10},\n",
              "  {'max_depth': 10,\n",
              "   'max_leaf_nodes': 5,\n",
              "   'min_samples_leaf': 2,\n",
              "   'min_samples_split': 2},\n",
              "  {'max_depth': 10,\n",
              "   'max_leaf_nodes': 5,\n",
              "   'min_samples_leaf': 2,\n",
              "   'min_samples_split': 5},\n",
              "  {'max_depth': 10,\n",
              "   'max_leaf_nodes': 5,\n",
              "   'min_samples_leaf': 2,\n",
              "   'min_samples_split': 10},\n",
              "  {'max_depth': 10,\n",
              "   'max_leaf_nodes': 5,\n",
              "   'min_samples_leaf': 4,\n",
              "   'min_samples_split': 2},\n",
              "  {'max_depth': 10,\n",
              "   'max_leaf_nodes': 5,\n",
              "   'min_samples_leaf': 4,\n",
              "   'min_samples_split': 5},\n",
              "  {'max_depth': 10,\n",
              "   'max_leaf_nodes': 5,\n",
              "   'min_samples_leaf': 4,\n",
              "   'min_samples_split': 10},\n",
              "  {'max_depth': 10,\n",
              "   'max_leaf_nodes': 10,\n",
              "   'min_samples_leaf': 1,\n",
              "   'min_samples_split': 2},\n",
              "  {'max_depth': 10,\n",
              "   'max_leaf_nodes': 10,\n",
              "   'min_samples_leaf': 1,\n",
              "   'min_samples_split': 5},\n",
              "  {'max_depth': 10,\n",
              "   'max_leaf_nodes': 10,\n",
              "   'min_samples_leaf': 1,\n",
              "   'min_samples_split': 10},\n",
              "  {'max_depth': 10,\n",
              "   'max_leaf_nodes': 10,\n",
              "   'min_samples_leaf': 2,\n",
              "   'min_samples_split': 2},\n",
              "  {'max_depth': 10,\n",
              "   'max_leaf_nodes': 10,\n",
              "   'min_samples_leaf': 2,\n",
              "   'min_samples_split': 5},\n",
              "  {'max_depth': 10,\n",
              "   'max_leaf_nodes': 10,\n",
              "   'min_samples_leaf': 2,\n",
              "   'min_samples_split': 10},\n",
              "  {'max_depth': 10,\n",
              "   'max_leaf_nodes': 10,\n",
              "   'min_samples_leaf': 4,\n",
              "   'min_samples_split': 2},\n",
              "  {'max_depth': 10,\n",
              "   'max_leaf_nodes': 10,\n",
              "   'min_samples_leaf': 4,\n",
              "   'min_samples_split': 5},\n",
              "  {'max_depth': 10,\n",
              "   'max_leaf_nodes': 10,\n",
              "   'min_samples_leaf': 4,\n",
              "   'min_samples_split': 10}],\n",
              " 'rank_test_score': array([37, 37, 37, 37, 37, 37, 37, 37, 37,  1,  1,  1,  1,  1,  1,  1,  1,\n",
              "         1, 31, 32, 32, 32, 32, 32, 22, 22, 22, 37, 37, 37, 37, 37, 37, 37,\n",
              "        37, 37,  1,  1,  1,  1,  1,  1,  1,  1,  1, 22, 22, 22, 22, 22, 22,\n",
              "        19, 19, 19], dtype=int32),\n",
              " 'split0_test_score': array([0.88540871, 0.88540871, 0.88540871, 0.88540871, 0.88540871,\n",
              "        0.88540871, 0.88540871, 0.88540871, 0.88540871, 0.90832697,\n",
              "        0.90832697, 0.90832697, 0.90832697, 0.90832697, 0.90832697,\n",
              "        0.90832697, 0.90832697, 0.90832697, 0.90679908, 0.90679908,\n",
              "        0.90679908, 0.90679908, 0.90679908, 0.90679908, 0.90679908,\n",
              "        0.90679908, 0.90679908, 0.88540871, 0.88540871, 0.88540871,\n",
              "        0.88540871, 0.88540871, 0.88540871, 0.88540871, 0.88540871,\n",
              "        0.88540871, 0.90832697, 0.90832697, 0.90832697, 0.90832697,\n",
              "        0.90832697, 0.90832697, 0.90832697, 0.90832697, 0.90832697,\n",
              "        0.90832697, 0.90832697, 0.90832697, 0.90832697, 0.90832697,\n",
              "        0.90832697, 0.90832697, 0.90832697, 0.90832697]),\n",
              " 'split1_test_score': array([0.90221543, 0.90221543, 0.90221543, 0.90221543, 0.90221543,\n",
              "        0.90221543, 0.90221543, 0.90221543, 0.90221543, 0.92284186,\n",
              "        0.92284186, 0.92284186, 0.92284186, 0.92284186, 0.92284186,\n",
              "        0.92284186, 0.92284186, 0.92284186, 0.92207792, 0.92055004,\n",
              "        0.92055004, 0.92055004, 0.92055004, 0.92055004, 0.92284186,\n",
              "        0.92284186, 0.92284186, 0.90221543, 0.90221543, 0.90221543,\n",
              "        0.90221543, 0.90221543, 0.90221543, 0.90221543, 0.90221543,\n",
              "        0.90221543, 0.92284186, 0.92284186, 0.92284186, 0.92284186,\n",
              "        0.92284186, 0.92284186, 0.92284186, 0.92284186, 0.92284186,\n",
              "        0.9197861 , 0.9197861 , 0.9197861 , 0.9197861 , 0.9197861 ,\n",
              "        0.9197861 , 0.9197861 , 0.9197861 , 0.9197861 ]),\n",
              " 'split2_test_score': array([0.89152024, 0.89152024, 0.89152024, 0.89152024, 0.89152024,\n",
              "        0.89152024, 0.89152024, 0.89152024, 0.89152024, 0.91214668,\n",
              "        0.91214668, 0.91214668, 0.91214668, 0.91214668, 0.91214668,\n",
              "        0.91214668, 0.91214668, 0.91214668, 0.91138273, 0.91138273,\n",
              "        0.91138273, 0.91138273, 0.91138273, 0.91138273, 0.91214668,\n",
              "        0.91214668, 0.91214668, 0.89152024, 0.89152024, 0.89152024,\n",
              "        0.89152024, 0.89152024, 0.89152024, 0.89152024, 0.89152024,\n",
              "        0.89152024, 0.91214668, 0.91214668, 0.91214668, 0.91214668,\n",
              "        0.91214668, 0.91214668, 0.91214668, 0.91214668, 0.91214668,\n",
              "        0.91214668, 0.91214668, 0.91214668, 0.91214668, 0.91214668,\n",
              "        0.91214668, 0.91291062, 0.91291062, 0.91291062]),\n",
              " 'split3_test_score': array([0.89686784, 0.89686784, 0.89686784, 0.89686784, 0.89686784,\n",
              "        0.89686784, 0.89686784, 0.89686784, 0.89686784, 0.90374332,\n",
              "        0.90374332, 0.90374332, 0.90374332, 0.90374332, 0.90374332,\n",
              "        0.90374332, 0.90374332, 0.90374332, 0.90297937, 0.90297937,\n",
              "        0.90297937, 0.90297937, 0.90297937, 0.90297937, 0.90374332,\n",
              "        0.90374332, 0.90374332, 0.89686784, 0.89686784, 0.89686784,\n",
              "        0.89686784, 0.89686784, 0.89686784, 0.89686784, 0.89686784,\n",
              "        0.89686784, 0.90374332, 0.90374332, 0.90374332, 0.90374332,\n",
              "        0.90374332, 0.90374332, 0.90374332, 0.90374332, 0.90374332,\n",
              "        0.90603514, 0.90603514, 0.90603514, 0.90603514, 0.90603514,\n",
              "        0.90603514, 0.90603514, 0.90603514, 0.90603514]),\n",
              " 'split4_test_score': array([0.88693659, 0.88693659, 0.88693659, 0.88693659, 0.88693659,\n",
              "        0.88693659, 0.88693659, 0.88693659, 0.88693659, 0.90679908,\n",
              "        0.90679908, 0.90679908, 0.90679908, 0.90679908, 0.90679908,\n",
              "        0.90679908, 0.90679908, 0.90679908, 0.90297937, 0.90297937,\n",
              "        0.90297937, 0.90297937, 0.90297937, 0.90297937, 0.90297937,\n",
              "        0.90297937, 0.90297937, 0.88693659, 0.88693659, 0.88693659,\n",
              "        0.88693659, 0.88693659, 0.88693659, 0.88693659, 0.88693659,\n",
              "        0.88693659, 0.90679908, 0.90679908, 0.90679908, 0.90679908,\n",
              "        0.90679908, 0.90679908, 0.90679908, 0.90679908, 0.90679908,\n",
              "        0.90221543, 0.90221543, 0.90221543, 0.90221543, 0.90221543,\n",
              "        0.90221543, 0.90221543, 0.90221543, 0.90221543]),\n",
              " 'std_fit_time': array([2.11800081e-03, 2.01821863e-03, 5.10845544e-04, 7.42456433e-05,\n",
              "        8.04040370e-04, 1.68415658e-04, 3.05134517e-04, 3.47478321e-04,\n",
              "        7.37945129e-04, 2.68675021e-04, 1.97521895e-04, 1.37579776e-03,\n",
              "        3.44662371e-04, 3.20814254e-04, 3.79687797e-04, 2.02867680e-03,\n",
              "        6.94532916e-04, 1.34861873e-04, 1.01934799e-03, 3.41581279e-04,\n",
              "        5.90474895e-04, 2.03469956e-03, 5.68796871e-04, 1.85025940e-03,\n",
              "        1.69094515e-03, 4.44172300e-04, 2.95787643e-04, 2.74877477e-04,\n",
              "        2.38757322e-04, 1.26460685e-04, 1.22644111e-04, 2.67692890e-04,\n",
              "        1.83088145e-04, 1.83353442e-04, 2.42233183e-04, 7.14305103e-04,\n",
              "        3.69923383e-04, 2.26690040e-04, 4.56407978e-04, 7.08741042e-04,\n",
              "        1.19876602e-03, 3.97602566e-04, 1.89327928e-04, 3.05314070e-04,\n",
              "        3.91876149e-04, 1.26251215e-03, 8.35151031e-04, 4.10951957e-04,\n",
              "        7.18947224e-04, 1.30464041e-04, 4.38269813e-04, 6.35738384e-04,\n",
              "        2.88694929e-04, 4.43124066e-04]),\n",
              " 'std_score_time': array([3.40846109e-04, 2.06548035e-04, 2.98483783e-04, 4.11680337e-05,\n",
              "        9.65362215e-05, 1.40396003e-04, 4.24066167e-05, 1.11277223e-04,\n",
              "        1.55439508e-04, 2.08836788e-04, 2.19056728e-05, 3.72560015e-04,\n",
              "        1.12442852e-03, 1.86162662e-04, 1.94660382e-04, 1.57231325e-04,\n",
              "        5.39733747e-05, 8.93281589e-05, 6.26341165e-04, 9.39437457e-05,\n",
              "        8.33738010e-05, 7.03381521e-05, 2.65341777e-05, 1.06669336e-04,\n",
              "        3.51212770e-04, 5.76258051e-05, 4.36237987e-05, 5.86839134e-05,\n",
              "        4.03572728e-05, 6.73315342e-05, 6.42768000e-05, 4.71448008e-05,\n",
              "        3.23621057e-05, 7.08860416e-05, 5.06553699e-05, 8.17162748e-04,\n",
              "        6.27308234e-05, 7.44797051e-05, 7.99585537e-05, 6.24264528e-05,\n",
              "        3.58167381e-04, 4.04657509e-05, 3.47500784e-05, 2.24869195e-04,\n",
              "        9.01159658e-05, 6.22696020e-05, 2.20790949e-04, 5.01095281e-05,\n",
              "        6.82377798e-05, 7.64253498e-05, 2.48633914e-04, 2.16138507e-04,\n",
              "        8.71048501e-05, 6.22029275e-05]),\n",
              " 'std_test_score': array([0.006255  , 0.006255  , 0.006255  , 0.006255  , 0.006255  ,\n",
              "        0.006255  , 0.006255  , 0.006255  , 0.006255  , 0.00661417,\n",
              "        0.00661417, 0.00661417, 0.00661417, 0.00661417, 0.00661417,\n",
              "        0.00661417, 0.00661417, 0.00661417, 0.00712394, 0.00657878,\n",
              "        0.00657878, 0.00657878, 0.00657878, 0.00657878, 0.00731791,\n",
              "        0.00731791, 0.00731791, 0.006255  , 0.006255  , 0.006255  ,\n",
              "        0.006255  , 0.006255  , 0.006255  , 0.006255  , 0.006255  ,\n",
              "        0.006255  , 0.00661417, 0.00661417, 0.00661417, 0.00661417,\n",
              "        0.00661417, 0.00661417, 0.00661417, 0.00661417, 0.00661417,\n",
              "        0.00598416, 0.00598416, 0.00598416, 0.00598416, 0.00598416,\n",
              "        0.00598416, 0.00605397, 0.00605397, 0.00605397])}"
            ]
          },
          "metadata": {
            "tags": []
          },
          "execution_count": 46
        }
      ]
    },
    {
      "cell_type": "code",
      "metadata": {
        "colab_type": "code",
        "id": "3JR5XVaHDqjI",
        "outputId": "865c0352-f325-4f2e-f5fb-ff20b5f58e7f",
        "colab": {
          "base_uri": "https://localhost:8080/",
          "height": 85
        }
      },
      "source": [
        "# Set of hyperparameters from the model that perform the best on average from all cross validations\n",
        "best_model.best_params_"
      ],
      "execution_count": 0,
      "outputs": [
        {
          "output_type": "execute_result",
          "data": {
            "text/plain": [
              "{'max_depth': 5,\n",
              " 'max_leaf_nodes': 5,\n",
              " 'min_samples_leaf': 1,\n",
              " 'min_samples_split': 2}"
            ]
          },
          "metadata": {
            "tags": []
          },
          "execution_count": 47
        }
      ]
    },
    {
      "cell_type": "code",
      "metadata": {
        "colab_type": "code",
        "id": "ubKbcxx9DqjM",
        "outputId": "968f8cf9-b4a8-4822-c203-1fe51af1ec94",
        "colab": {
          "base_uri": "https://localhost:8080/",
          "height": 34
        }
      },
      "source": [
        "# Average value for the metric for the model evaluation in the best set of hyperparameters\n",
        "best_model.best_score_"
      ],
      "execution_count": 0,
      "outputs": [
        {
          "output_type": "execute_result",
          "data": {
            "text/plain": [
              "0.9107715813598166"
            ]
          },
          "metadata": {
            "tags": []
          },
          "execution_count": 48
        }
      ]
    },
    {
      "cell_type": "markdown",
      "metadata": {
        "colab_type": "text",
        "id": "nbat84C_DqjR"
      },
      "source": [
        "#### Visualize the results of hyperparameter optimization grid search"
      ]
    },
    {
      "cell_type": "code",
      "metadata": {
        "colab_type": "code",
        "id": "1eOh2DqqDqjS",
        "colab": {}
      },
      "source": [
        "params = best_model.cv_results_['params']\n",
        "#train_scores = best_model.cv_results_['mean_train_score']\n",
        "test_scores = best_model.cv_results_['mean_test_score']\n",
        "times = best_model.cv_results_['mean_fit_time']\n",
        "\n",
        "GS_performance = pd.DataFrame({'max_depth': [i['max_depth'] for i in params],\n",
        "                                 'max_leaf_nodes': [i['max_leaf_nodes'] for i in params],\n",
        "                               'min_samples_leaf': [i['min_samples_leaf'] for i in params],\n",
        "                               'min_samples_split': [i['min_samples_split'] for i in params],\n",
        "#                                 'train_score': train_scores,\n",
        "                                 'test_score': test_scores,\n",
        "                                 'fit_time': times})"
      ],
      "execution_count": 0,
      "outputs": []
    },
    {
      "cell_type": "code",
      "metadata": {
        "colab_type": "code",
        "id": "B5h9uQccDqjZ",
        "colab": {}
      },
      "source": [
        "# _=sns.heatmap(GS_performance[['max_depth','max_leaf_nodes','train_score']].pivot_table(values='train_score', \n",
        "#                                   index='max_depth', columns='max_leaf_nodes'), annot=True, fmt='.10f', cmap='Blues')\n",
        "# _=plt.title(\"Performance on the model based on hyperparmeters with the train set\")"
      ],
      "execution_count": 0,
      "outputs": []
    },
    {
      "cell_type": "code",
      "metadata": {
        "colab_type": "code",
        "id": "TYjwagWIDqjd",
        "outputId": "8449fb0c-066a-493b-b7cb-2c7514274680",
        "colab": {
          "base_uri": "https://localhost:8080/",
          "height": 296
        }
      },
      "source": [
        "_=sns.heatmap(GS_performance[['max_depth','max_leaf_nodes','test_score']].pivot_table(values='test_score', \n",
        "                               index='max_depth', columns='max_leaf_nodes'), annot=True, fmt='.10f', cmap='Blues')\n",
        "_=plt.title(\"Performance on the model based on hyperparmeters with the test set\")"
      ],
      "execution_count": 0,
      "outputs": [
        {
          "output_type": "display_data",
          "data": {
            "image/png": "[encoded data removed]",
            "text/plain": [
              "<Figure size 432x288 with 2 Axes>"
            ]
          },
          "metadata": {
            "tags": []
          }
        }
      ]
    },
    {
      "cell_type": "code",
      "metadata": {
        "colab_type": "code",
        "id": "TJmIiuVIDqjj",
        "outputId": "aee2ed97-7c31-4d60-cd81-8b6ac41e2561",
        "colab": {
          "base_uri": "https://localhost:8080/",
          "height": 296
        }
      },
      "source": [
        "_=sns.heatmap(GS_performance[['max_depth','max_leaf_nodes','fit_time']].pivot_table(values='fit_time', \n",
        "                           index='max_depth', columns='max_leaf_nodes'), annot=True, fmt='.6f', cmap='Blues')\n",
        "_=plt.title(\"Performance on the model based on fit_time\")"
      ],
      "execution_count": 0,
      "outputs": [
        {
          "output_type": "display_data",
          "data": {
            "image/png": "[encoded data removed]",
            "text/plain": [
              "<Figure size 432x288 with 2 Axes>"
            ]
          },
          "metadata": {
            "tags": []
          }
        }
      ]
    },
    {
      "cell_type": "code",
      "metadata": {
        "colab_type": "code",
        "id": "eyxYaZtuDqjp",
        "colab": {}
      },
      "source": [
        "y_pred = best_model.predict(X_test)"
      ],
      "execution_count": 0,
      "outputs": []
    },
    {
      "cell_type": "markdown",
      "metadata": {
        "colab_type": "text",
        "id": "gRpU19R2Dqiw"
      },
      "source": [
        "## Decision Tree - Visualization"
      ]
    },
    {
      "cell_type": "code",
      "metadata": {
        "colab_type": "code",
        "id": "VPE8IC_cDqix",
        "outputId": "70ee7401-1a5e-4135-d1b6-79d21c21416b",
        "colab": {
          "base_uri": "https://localhost:8080/",
          "height": 119
        }
      },
      "source": [
        "# Initialize the model\n",
        "tree_viz = DecisionTreeClassifier(max_depth=5,\n",
        " max_leaf_nodes=5,\n",
        " min_samples_leaf=1,\n",
        " min_samples_split=2)\n",
        "#(class_weight=None, criterion=’gini’, max_depth=3,\n",
        " #max_features=None, max_leaf_nodes=None,\n",
        " #min_impurity_split=1e-07, min_samples_leaf=1,\n",
        " #min_samples_split=2, min_weight_fraction_leaf=0.0,\n",
        "# presort=False, random_state=None, splitter=’best’)\n",
        "\n",
        "# Train with a reduced number of columns to see how does it work\n",
        "#tree_viz.fit(X_train.iloc[:,:10], y_train)\n",
        "tree_viz.fit(X_train, y_train) #           \n",
        "             "
      ],
      "execution_count": 0,
      "outputs": [
        {
          "output_type": "execute_result",
          "data": {
            "text/plain": [
              "DecisionTreeClassifier(class_weight=None, criterion='gini', max_depth=5,\n",
              "                       max_features=None, max_leaf_nodes=5,\n",
              "                       min_impurity_decrease=0.0, min_impurity_split=None,\n",
              "                       min_samples_leaf=1, min_samples_split=2,\n",
              "                       min_weight_fraction_leaf=0.0, presort=False,\n",
              "                       random_state=None, splitter='best')"
            ]
          },
          "metadata": {
            "tags": []
          },
          "execution_count": 11
        }
      ]
    },
    {
      "cell_type": "code",
      "metadata": {
        "id": "YpgsUB4hCxpv",
        "colab_type": "code",
        "outputId": "28642e8a-325c-4fde-b840-c456166b44a6",
        "colab": {
          "base_uri": "https://localhost:8080/",
          "height": 34
        }
      },
      "source": [
        "X_train.columns.tolist()[37]"
      ],
      "execution_count": 0,
      "outputs": [
        {
          "output_type": "execute_result",
          "data": {
            "text/plain": [
              "'Current Ver_clean_levels_high'"
            ]
          },
          "metadata": {
            "tags": []
          },
          "execution_count": 16
        }
      ]
    },
    {
      "cell_type": "code",
      "metadata": {
        "colab_type": "code",
        "id": "5xD4Hrj-Dqi4",
        "outputId": "2b0ef019-5ae6-44e6-9a42-d0ce56301508",
        "colab": {
          "base_uri": "https://localhost:8080/",
          "height": 700
        }
      },
      "source": [
        "# Show Xs names\n",
        "X_names = X_train.iloc[:,:5].columns.tolist()\n",
        "print(\"X35: reviews_levels_low\\nX36: reviews_levels_medium\\nX51: Type_Free\\nX37: Current Ver_clean_levels_high\")\n",
        "\n",
        "dot_data = StringIO()\n",
        "export_graphviz(tree_viz, out_file=dot_data,  \n",
        "                filled=True, rounded=True,\n",
        "                special_characters=True)\n",
        "graph = pydotplus.graph_from_dot_data(dot_data.getvalue()) \n",
        "Image(graph.create_png())"
      ],
      "execution_count": 0,
      "outputs": [
        {
          "output_type": "stream",
          "text": [
            "X35: reviews_levels_low\n",
            "X36: reviews_levels_medium\n",
            "X51: Type_Free\n",
            "X37: Current Ver_clean_levels_high\n"
          ],
          "name": "stdout"
        },
        {
          "output_type": "execute_result",
          "data": {
            "image/png": "[encoded data removed]",
            "text/plain": [
              "<IPython.core.display.Image object>"
            ]
          },
          "metadata": {
            "tags": []
          },
          "execution_count": 18
        }
      ]
    },
    {
      "cell_type": "code",
      "metadata": {
        "id": "mcJqVPqUDk19",
        "colab_type": "code",
        "colab": {}
      },
      "source": [
        "y_pred = tree_viz.predict(X_test)"
      ],
      "execution_count": 0,
      "outputs": []
    },
    {
      "cell_type": "markdown",
      "metadata": {
        "colab_type": "text",
        "id": "EbGh7dvLDqju"
      },
      "source": [
        "## Decision Tree - Best Model Evaluation"
      ]
    },
    {
      "cell_type": "markdown",
      "metadata": {
        "colab_type": "text",
        "id": "xCdz7_ecDqjv"
      },
      "source": [
        "![precision_recall](prec_recall.png \"Title\")"
      ]
    },
    {
      "cell_type": "code",
      "metadata": {
        "colab_type": "code",
        "id": "tohG85GjDqjw",
        "outputId": "fec5ff01-eeb5-42a0-c448-dce2485ace0b",
        "colab": {
          "base_uri": "https://localhost:8080/",
          "height": 170
        }
      },
      "source": [
        "print(classification_report(y_test, y_pred))"
      ],
      "execution_count": 0,
      "outputs": [
        {
          "output_type": "stream",
          "text": [
            "              precision    recall  f1-score   support\n",
            "\n",
            "           0       0.98      0.80      0.88      1316\n",
            "           1       0.85      0.99      0.91      1490\n",
            "\n",
            "    accuracy                           0.90      2806\n",
            "   macro avg       0.92      0.90      0.90      2806\n",
            "weighted avg       0.91      0.90      0.90      2806\n",
            "\n"
          ],
          "name": "stdout"
        }
      ]
    },
    {
      "cell_type": "code",
      "metadata": {
        "id": "wA30-L1qAUbk",
        "colab_type": "code",
        "colab": {}
      },
      "source": [
        "# Compute confusion matrix to evaluate the accuracy of a classification"
      ],
      "execution_count": 0,
      "outputs": []
    },
    {
      "cell_type": "code",
      "metadata": {
        "colab_type": "code",
        "id": "X6IbopEqDqj6",
        "outputId": "8ddbaa78-0fbe-44b1-9fb6-0c132580fc9e",
        "colab": {
          "base_uri": "https://localhost:8080/",
          "height": 295
        }
      },
      "source": [
        "# Normalized (by the number of interviewed people in each class) confusion matrix\n",
        "cm = confusion_matrix(y_test, y_pred)\n",
        "cm = cm.astype('float') / cm.sum(axis=1)\n",
        "\n",
        "_=sns.heatmap(cm, annot=True, cmap='Blues', fmt='.2f')\n",
        "_=plt.xlabel('Predicted')\n",
        "_=plt.ylabel('True')\n",
        "_=plt.title(\"Confusion Matrix True treatment vs predicted\")"
      ],
      "execution_count": 0,
      "outputs": [
        {
          "output_type": "display_data",
          "data": {
            "image/png": "[encoded data removed]",
            "text/plain": [
              "<Figure size 432x288 with 2 Axes>"
            ]
          },
          "metadata": {
            "tags": []
          }
        }
      ]
    },
    {
      "cell_type": "markdown",
      "metadata": {
        "colab_type": "text",
        "id": "vD4pj20aDqj9"
      },
      "source": [
        "### What is the best probability threshold to decide if, based on the given situation, the person is taking mental treatment?"
      ]
    },
    {
      "cell_type": "code",
      "metadata": {
        "colab_type": "code",
        "id": "GZrCXakjDqj-",
        "colab": {}
      },
      "source": [
        "# Predict the probabilities of being taking treatment\n",
        "y_pred_test = tree_viz.predict_proba(X_test)"
      ],
      "execution_count": 0,
      "outputs": []
    },
    {
      "cell_type": "code",
      "metadata": {
        "colab_type": "code",
        "id": "yAYFDzxvDqkF",
        "outputId": "80e0455e-7124-47d5-8f63-b2076b6900a4",
        "colab": {
          "base_uri": "https://localhost:8080/",
          "height": 295
        }
      },
      "source": [
        "# Visualize how the precision and the recall changes when moving the threshold\n",
        "precision, recall, thresholds = precision_recall_curve(y_test, y_pred_test[:, 1]) \n",
        "pr_auc = metrics.auc(recall, precision)\n",
        "\n",
        "plt.title(\"Precision-Recall vs Threshold Chart\")\n",
        "plt.plot(thresholds, precision[: -1], \"b--\", label=\"Precision\")\n",
        "plt.plot(thresholds, recall[: -1], \"r--\", label=\"Recall\")\n",
        "plt.ylabel(\"Precision, Recall\")\n",
        "plt.xlabel(\"Threshold\")\n",
        "plt.legend(loc=\"lower left\")\n",
        "_=plt.ylim([0,1])"
      ],
      "execution_count": 0,
      "outputs": [
        {
          "output_type": "display_data",
          "data": {
            "image/png": "[encoded data removed]",
            "text/plain": [
              "<Figure size 432x288 with 1 Axes>"
            ]
          },
          "metadata": {
            "tags": []
          }
        }
      ]
    },
    {
      "cell_type": "code",
      "metadata": {
        "id": "jKgRDD5iigRw",
        "colab_type": "code",
        "outputId": "adaa5064-b458-47b5-8ffd-28ba5d26712e",
        "colab": {
          "base_uri": "https://localhost:8080/",
          "height": 34
        }
      },
      "source": [
        "thresholds"
      ],
      "execution_count": 0,
      "outputs": [
        {
          "output_type": "execute_result",
          "data": {
            "text/plain": [
              "array([0.01146132, 0.05925926, 0.68731563, 0.81736527, 0.99897066])"
            ]
          },
          "metadata": {
            "tags": []
          },
          "execution_count": 30
        }
      ]
    },
    {
      "cell_type": "markdown",
      "metadata": {
        "colab_type": "text",
        "id": "gXYvQuAhDqkJ"
      },
      "source": [
        "### What is the area under the curve according to the optimal threshold?\n",
        "\n",
        "![ROC_curve](ROC_curves.png \"Title\")"
      ]
    },
    {
      "cell_type": "code",
      "metadata": {
        "colab_type": "code",
        "id": "3gG_W2DODqkK",
        "colab": {}
      },
      "source": [
        "fpr, tpr, thresholds = metrics.roc_curve(y_test, y_pred_test[:, 1])"
      ],
      "execution_count": 0,
      "outputs": []
    },
    {
      "cell_type": "code",
      "metadata": {
        "colab_type": "code",
        "id": "-FF2jFzIDqkM",
        "outputId": "0715a3d8-bca4-47fb-eb61-a96211944b40",
        "colab": {
          "base_uri": "https://localhost:8080/",
          "height": 516
        }
      },
      "source": [
        "auc = roc_auc_score(y_test, y_pred_test[:, 1])\n",
        "print('AUC: %.3f' % auc)\n",
        "\n",
        "# calculate roc curve\n",
        "fpr, tpr, thresholds = roc_curve(y_test, y_pred_test[:, 1])\n",
        "\n",
        "# plot random case\n",
        "_=plt.figure(figsize=(10, 8))\n",
        "_=plt.plot([0, 1], [0, 1], linestyle='--')\n",
        "\n",
        "# plot the roc curve for the model\n",
        "_=plt.plot(fpr, tpr, marker='.')\n",
        "_=plt.title(\"ROC curve for correct prediction of interviewers having treatment\")"
      ],
      "execution_count": 0,
      "outputs": [
        {
          "output_type": "stream",
          "text": [
            "AUC: 0.958\n"
          ],
          "name": "stdout"
        },
        {
          "output_type": "display_data",
          "data": {
            "image/png": "[encoded data removed]",
            "text/plain": [
              "<Figure size 720x576 with 1 Axes>"
            ]
          },
          "metadata": {
            "tags": []
          }
        }
      ]
    },
    {
      "cell_type": "code",
      "metadata": {
        "id": "iZe3mc_HAUb1",
        "colab_type": "code",
        "colab": {}
      },
      "source": [
        ""
      ],
      "execution_count": 0,
      "outputs": []
    },
    {
      "cell_type": "code",
      "metadata": {
        "id": "YvkX9ZpoAUb3",
        "colab_type": "code",
        "colab": {}
      },
      "source": [
        ""
      ],
      "execution_count": 0,
      "outputs": []
    },
    {
      "cell_type": "code",
      "metadata": {
        "id": "m13HLNx5AUb5",
        "colab_type": "code",
        "colab": {}
      },
      "source": [
        ""
      ],
      "execution_count": 0,
      "outputs": []
    },
    {
      "cell_type": "code",
      "metadata": {
        "id": "otVCdZotAUb8",
        "colab_type": "code",
        "colab": {}
      },
      "source": [
        ""
      ],
      "execution_count": 0,
      "outputs": []
    },
    {
      "cell_type": "code",
      "metadata": {
        "id": "Pve33JJIAUb_",
        "colab_type": "code",
        "colab": {}
      },
      "source": [
        ""
      ],
      "execution_count": 0,
      "outputs": []
    }
  ]
}