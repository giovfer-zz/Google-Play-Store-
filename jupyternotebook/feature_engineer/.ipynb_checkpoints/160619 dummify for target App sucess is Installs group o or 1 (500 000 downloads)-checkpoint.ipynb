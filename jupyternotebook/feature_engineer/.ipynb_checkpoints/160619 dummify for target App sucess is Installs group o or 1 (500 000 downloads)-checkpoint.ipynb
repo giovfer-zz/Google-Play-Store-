{
 "cells": [
  {
   "cell_type": "markdown",
   "metadata": {
    "colab_type": "text",
    "id": "LNzzDiLyePuj"
   },
   "source": [
    "# Data pre-processing to make it ready for the model to learn\n",
    "\n"
   ]
  },
  {
   "cell_type": "markdown",
   "metadata": {
    "colab_type": "text",
    "id": "VAclTR3LLdmX"
   },
   "source": [
    "#### Have you identified other variables transformations that you need to do based on the distributions you have analyzed so far?"
   ]
  },
  {
   "cell_type": "code",
   "execution_count": 1,
   "metadata": {},
   "outputs": [],
   "source": [
    "#Feature engineering is the process of creating features (also called \"attributes\") \n",
    "#that don't already exist in the dataset. This means that if your dataset already contains enough \n",
    "#\"useful\" features, you don't necessarily need to engineer additional features."
   ]
  },
  {
   "cell_type": "markdown",
   "metadata": {
    "colab_type": "text",
    "id": "XFscA4F-Lq04"
   },
   "source": [
    "Answer here"
   ]
  },
  {
   "cell_type": "code",
   "execution_count": 63,
   "metadata": {
    "colab": {
     "base_uri": "https://localhost:8080/",
     "height": 156
    },
    "colab_type": "code",
    "id": "ZOhJ7Be1WVU8",
    "outputId": "aeb2c662-83ac-4b2e-9882-a13a3b9e5044"
   },
   "outputs": [],
   "source": [
    "import math\n",
    "import numpy as np\n",
    "import pandas as pd\n",
    "import statsmodels.api as sm\n",
    "from sklearn.metrics import mean_squared_error\n",
    "from sklearn.model_selection import ShuffleSplit\n",
    "from sklearn.model_selection import ParameterGrid\n",
    "from sklearn.model_selection import train_test_split\n",
    "from sklearn.preprocessing import StandardScaler\n",
    "from sklearn.preprocessing import MinMaxScaler\n",
    "\n",
    "from sklearn import linear_model\n",
    "import seaborn as sns\n",
    "import matplotlib.pyplot as plt\n",
    "\n",
    "import warnings\n",
    "warnings.simplefilter(action='ignore', category=Warning)\n",
    "np.seterr(divide='ignore', invalid='ignore')\n",
    "\n",
    "# Mount local files\n",
    "#from google.colab import drive\n",
    "#drive.mount('/gdrive')\n",
    "\n",
    "# Hide deprecated warnings\n",
    "import warnings\n",
    "warnings.filterwarnings('ignore')"
   ]
  },
  {
   "cell_type": "code",
   "execution_count": 64,
   "metadata": {},
   "outputs": [],
   "source": [
    "#  Load the clean dataset form previous notebook"
   ]
  },
  {
   "cell_type": "code",
   "execution_count": 65,
   "metadata": {},
   "outputs": [],
   "source": [
    "# Load data from the folder where I uploaded the csv file data with grouped Features\n",
    "data = pd.read_csv('/Users/AirMorena/Desktop/final_proj/csv/google_play_store/data_engineer1.csv')"
   ]
  },
  {
   "cell_type": "markdown",
   "metadata": {},
   "source": [
    "# define functions"
   ]
  },
  {
   "cell_type": "code",
   "execution_count": 66,
   "metadata": {
    "colab": {},
    "colab_type": "code",
    "id": "nDJERIFHxTYc"
   },
   "outputs": [],
   "source": [
    "def one_hot_encode_categorical_variables(series, name):\n",
    "      return pd.get_dummies(series, prefix=name)"
   ]
  },
  {
   "cell_type": "code",
   "execution_count": 67,
   "metadata": {
    "colab_type": "text",
    "id": "1ccfqEz95ofx"
   },
   "outputs": [
    {
     "data": {
      "text/plain": [
       "(9351, 27)"
      ]
     },
     "execution_count": 67,
     "metadata": {},
     "output_type": "execute_result"
    }
   ],
   "source": [
    "# Check the dimensions\n",
    "data.shape"
   ]
  },
  {
   "cell_type": "code",
   "execution_count": 68,
   "metadata": {},
   "outputs": [
    {
     "name": "stdout",
     "output_type": "stream",
     "text": [
      "<class 'pandas.core.frame.DataFrame'>\n",
      "RangeIndex: 9351 entries, 0 to 9350\n",
      "Data columns (total 27 columns):\n",
      "App                         9351 non-null object\n",
      "Category                    9351 non-null object\n",
      "Rating                      9351 non-null float64\n",
      "Reviews                     9351 non-null int64\n",
      "Size                        9351 non-null float64\n",
      "Installs                    9351 non-null int64\n",
      "Type                        9351 non-null object\n",
      "Price                       9351 non-null float64\n",
      "Content Rating              9351 non-null object\n",
      "Genres                      9351 non-null object\n",
      "Last Updated                9351 non-null object\n",
      "Current Ver                 9351 non-null object\n",
      "Android Ver                 9351 non-null float64\n",
      "day                         9351 non-null int64\n",
      "month                       9351 non-null int64\n",
      "year                        9351 non-null int64\n",
      "month_year                  9351 non-null object\n",
      "Current Ver_clean           9351 non-null float64\n",
      "App_dup                     9351 non-null int64\n",
      "Successful_App              9351 non-null int64\n",
      "Installs_group              9351 non-null object\n",
      "reviews_levels              9351 non-null object\n",
      "Size_group                  9351 non-null object\n",
      "Current Ver_clean_levels    9351 non-null object\n",
      "Android Ver_levels          9351 non-null object\n",
      "st_Rating                   9351 non-null float64\n",
      "st_Price                    9351 non-null float64\n",
      "dtypes: float64(7), int64(7), object(13)\n",
      "memory usage: 1.9+ MB\n"
     ]
    }
   ],
   "source": [
    "data.info()"
   ]
  },
  {
   "cell_type": "code",
   "execution_count": 69,
   "metadata": {},
   "outputs": [
    {
     "data": {
      "text/plain": [
       "App                         0\n",
       "Category                    0\n",
       "Rating                      0\n",
       "Reviews                     0\n",
       "Size                        0\n",
       "Installs                    0\n",
       "Type                        0\n",
       "Price                       0\n",
       "Content Rating              0\n",
       "Genres                      0\n",
       "Last Updated                0\n",
       "Current Ver                 0\n",
       "Android Ver                 0\n",
       "day                         0\n",
       "month                       0\n",
       "year                        0\n",
       "month_year                  0\n",
       "Current Ver_clean           0\n",
       "App_dup                     0\n",
       "Successful_App              0\n",
       "Installs_group              0\n",
       "reviews_levels              0\n",
       "Size_group                  0\n",
       "Current Ver_clean_levels    0\n",
       "Android Ver_levels          0\n",
       "st_Rating                   0\n",
       "st_Price                    0\n",
       "dtype: int64"
      ]
     },
     "execution_count": 69,
     "metadata": {},
     "output_type": "execute_result"
    }
   ],
   "source": [
    "# if there are missing values: is there at least one missing  value? True or false\n",
    "data.isnull().sum()"
   ]
  },
  {
   "cell_type": "markdown",
   "metadata": {
    "colab_type": "text",
    "id": "UAMohwMairzD"
   },
   "source": [
    "\n",
    "\n",
    " "
   ]
  },
  {
   "cell_type": "markdown",
   "metadata": {
    "colab_type": "text",
    "id": "ke99LcTfIZre"
   },
   "source": [
    "## Dummify categorical variables\n",
    "\n",
    "* We want our categorical variables to be part of our logistic regression model. We need to transform into boolean features?"
   ]
  },
  {
   "cell_type": "code",
   "execution_count": 70,
   "metadata": {},
   "outputs": [
    {
     "data": {
      "text/plain": [
       "['App',\n",
       " 'Category',\n",
       " 'Rating',\n",
       " 'Reviews',\n",
       " 'Size',\n",
       " 'Installs',\n",
       " 'Type',\n",
       " 'Price',\n",
       " 'Content Rating',\n",
       " 'Genres',\n",
       " 'Last Updated',\n",
       " 'Current Ver',\n",
       " 'Android Ver',\n",
       " 'day',\n",
       " 'month',\n",
       " 'year',\n",
       " 'month_year',\n",
       " 'Current Ver_clean',\n",
       " 'App_dup',\n",
       " 'Successful_App',\n",
       " 'Installs_group',\n",
       " 'reviews_levels',\n",
       " 'Size_group',\n",
       " 'Current Ver_clean_levels',\n",
       " 'Android Ver_levels',\n",
       " 'st_Rating',\n",
       " 'st_Price']"
      ]
     },
     "execution_count": 70,
     "metadata": {},
     "output_type": "execute_result"
    }
   ],
   "source": [
    "data.columns.tolist()"
   ]
  },
  {
   "cell_type": "code",
   "execution_count": 71,
   "metadata": {},
   "outputs": [],
   "source": [
    "#data.head()"
   ]
  },
  {
   "cell_type": "code",
   "execution_count": null,
   "metadata": {},
   "outputs": [],
   "source": []
  },
  {
   "cell_type": "code",
   "execution_count": 72,
   "metadata": {},
   "outputs": [],
   "source": [
    "# drop columns we will not use for the model: (the continous , since we create categorical from them)\n",
    "data1=data.drop(['App','Successful_App','Size','Installs','Reviews','Android Ver','Price','Current Ver','Current Ver_clean','Rating',\n",
    "                 'Price','Last Updated','Genres','day','month_year','st_Price','App_dup'], axis=1)"
   ]
  },
  {
   "cell_type": "code",
   "execution_count": 73,
   "metadata": {},
   "outputs": [
    {
     "data": {
      "text/plain": [
       "['Category',\n",
       " 'Type',\n",
       " 'Content Rating',\n",
       " 'month',\n",
       " 'year',\n",
       " 'Installs_group',\n",
       " 'reviews_levels',\n",
       " 'Size_group',\n",
       " 'Current Ver_clean_levels',\n",
       " 'Android Ver_levels',\n",
       " 'st_Rating']"
      ]
     },
     "execution_count": 73,
     "metadata": {},
     "output_type": "execute_result"
    }
   ],
   "source": [
    "data1.columns.tolist()"
   ]
  },
  {
   "cell_type": "code",
   "execution_count": 74,
   "metadata": {},
   "outputs": [
    {
     "data": {
      "text/html": [
       "<div>\n",
       "<style scoped>\n",
       "    .dataframe tbody tr th:only-of-type {\n",
       "        vertical-align: middle;\n",
       "    }\n",
       "\n",
       "    .dataframe tbody tr th {\n",
       "        vertical-align: top;\n",
       "    }\n",
       "\n",
       "    .dataframe thead th {\n",
       "        text-align: right;\n",
       "    }\n",
       "</style>\n",
       "<table border=\"1\" class=\"dataframe\">\n",
       "  <thead>\n",
       "    <tr style=\"text-align: right;\">\n",
       "      <th></th>\n",
       "      <th>Category</th>\n",
       "      <th>Type</th>\n",
       "      <th>Content Rating</th>\n",
       "      <th>month</th>\n",
       "      <th>year</th>\n",
       "      <th>Installs_group</th>\n",
       "      <th>reviews_levels</th>\n",
       "      <th>Size_group</th>\n",
       "      <th>Current Ver_clean_levels</th>\n",
       "      <th>Android Ver_levels</th>\n",
       "      <th>st_Rating</th>\n",
       "    </tr>\n",
       "  </thead>\n",
       "  <tbody>\n",
       "    <tr>\n",
       "      <th>0</th>\n",
       "      <td>ART_AND_DESIGN</td>\n",
       "      <td>Free</td>\n",
       "      <td>Everyone</td>\n",
       "      <td>1</td>\n",
       "      <td>2018</td>\n",
       "      <td>low</td>\n",
       "      <td>low</td>\n",
       "      <td>small</td>\n",
       "      <td>low</td>\n",
       "      <td>high</td>\n",
       "      <td>-0.179640</td>\n",
       "    </tr>\n",
       "    <tr>\n",
       "      <th>1</th>\n",
       "      <td>ART_AND_DESIGN</td>\n",
       "      <td>Free</td>\n",
       "      <td>Everyone</td>\n",
       "      <td>1</td>\n",
       "      <td>2018</td>\n",
       "      <td>high</td>\n",
       "      <td>low</td>\n",
       "      <td>small</td>\n",
       "      <td>medium</td>\n",
       "      <td>high</td>\n",
       "      <td>-0.569116</td>\n",
       "    </tr>\n",
       "    <tr>\n",
       "      <th>2</th>\n",
       "      <td>ART_AND_DESIGN</td>\n",
       "      <td>Free</td>\n",
       "      <td>Everyone</td>\n",
       "      <td>8</td>\n",
       "      <td>2018</td>\n",
       "      <td>high</td>\n",
       "      <td>high</td>\n",
       "      <td>small</td>\n",
       "      <td>low</td>\n",
       "      <td>high</td>\n",
       "      <td>0.988789</td>\n",
       "    </tr>\n",
       "    <tr>\n",
       "      <th>3</th>\n",
       "      <td>ART_AND_DESIGN</td>\n",
       "      <td>Free</td>\n",
       "      <td>Teen</td>\n",
       "      <td>6</td>\n",
       "      <td>2018</td>\n",
       "      <td>high</td>\n",
       "      <td>high</td>\n",
       "      <td>big</td>\n",
       "      <td>high</td>\n",
       "      <td>high</td>\n",
       "      <td>0.599313</td>\n",
       "    </tr>\n",
       "    <tr>\n",
       "      <th>4</th>\n",
       "      <td>ART_AND_DESIGN</td>\n",
       "      <td>Free</td>\n",
       "      <td>Everyone</td>\n",
       "      <td>6</td>\n",
       "      <td>2018</td>\n",
       "      <td>low</td>\n",
       "      <td>low</td>\n",
       "      <td>small</td>\n",
       "      <td>low</td>\n",
       "      <td>high</td>\n",
       "      <td>0.209837</td>\n",
       "    </tr>\n",
       "  </tbody>\n",
       "</table>\n",
       "</div>"
      ],
      "text/plain": [
       "         Category  Type Content Rating  month  year Installs_group  \\\n",
       "0  ART_AND_DESIGN  Free       Everyone      1  2018            low   \n",
       "1  ART_AND_DESIGN  Free       Everyone      1  2018           high   \n",
       "2  ART_AND_DESIGN  Free       Everyone      8  2018           high   \n",
       "3  ART_AND_DESIGN  Free           Teen      6  2018           high   \n",
       "4  ART_AND_DESIGN  Free       Everyone      6  2018            low   \n",
       "\n",
       "  reviews_levels Size_group Current Ver_clean_levels Android Ver_levels  \\\n",
       "0            low      small                      low               high   \n",
       "1            low      small                   medium               high   \n",
       "2           high      small                      low               high   \n",
       "3           high        big                     high               high   \n",
       "4            low      small                      low               high   \n",
       "\n",
       "   st_Rating  \n",
       "0  -0.179640  \n",
       "1  -0.569116  \n",
       "2   0.988789  \n",
       "3   0.599313  \n",
       "4   0.209837  "
      ]
     },
     "execution_count": 74,
     "metadata": {},
     "output_type": "execute_result"
    }
   ],
   "source": [
    "data1.head()"
   ]
  },
  {
   "cell_type": "code",
   "execution_count": 75,
   "metadata": {},
   "outputs": [],
   "source": [
    "# feature engineering"
   ]
  },
  {
   "cell_type": "code",
   "execution_count": 76,
   "metadata": {},
   "outputs": [],
   "source": [
    "# Transform categorical variables into boolean new columns with pandas get_dummies function\n",
    "#total columns minus target variable 'Successful_App', and minus 'App' \n",
    "total_columns={\n",
    " 'Category',\n",
    " 'Type',\n",
    " 'Content Rating',\n",
    " 'month',\n",
    " 'year',\n",
    " 'reviews_levels',\n",
    " 'Size_group',\n",
    "#'Installs_group',# remove this one so that it can not interfer with the target\n",
    "    'Current Ver_clean_levels','Android Ver_levels'\n",
    "}\n",
    "\n",
    "new_boolean_columns = []\n",
    "for feature in total_columns:\n",
    "    new_boolean_columns.append(one_hot_encode_categorical_variables(data1[feature], feature))"
   ]
  },
  {
   "cell_type": "code",
   "execution_count": 77,
   "metadata": {},
   "outputs": [],
   "source": [
    "#keep numericals as st_Price,st_Rating"
   ]
  },
  {
   "cell_type": "code",
   "execution_count": 78,
   "metadata": {
    "colab": {},
    "colab_type": "code",
    "id": "C0_fv_apIpFi"
   },
   "outputs": [],
   "source": [
    "#new_boolean_columns\n",
    "#pd.concat(new_boolean_columns, axis=1) "
   ]
  },
  {
   "cell_type": "code",
   "execution_count": null,
   "metadata": {},
   "outputs": [],
   "source": []
  },
  {
   "cell_type": "code",
   "execution_count": 79,
   "metadata": {},
   "outputs": [],
   "source": [
    "# assign 0 and 1 to low and high in installs grouping\n",
    "mapping={'high': 1, 'low':0}\n",
    "# store this modified data (we just changed Gender column) into data_clean\n",
    "data1['Installs_group']=data1['Installs_group'].map(mapping)"
   ]
  },
  {
   "cell_type": "code",
   "execution_count": 80,
   "metadata": {},
   "outputs": [],
   "source": [
    "df_new_boolean_columns = pd.concat(new_boolean_columns, axis=1)  \n",
    "#Drop old categorical features\n",
    "data2 = data1.drop(total_columns, axis=1)\n",
    "\n",
    "#Append dummy categorical features (now boolean)\n",
    "final_feature_vector = pd.concat([data2[['Installs_group','st_Rating']], \n",
    "                                  df_new_boolean_columns], axis=1)"
   ]
  },
  {
   "cell_type": "code",
   "execution_count": 81,
   "metadata": {},
   "outputs": [
    {
     "data": {
      "text/html": [
       "<div>\n",
       "<style scoped>\n",
       "    .dataframe tbody tr th:only-of-type {\n",
       "        vertical-align: middle;\n",
       "    }\n",
       "\n",
       "    .dataframe tbody tr th {\n",
       "        vertical-align: top;\n",
       "    }\n",
       "\n",
       "    .dataframe thead th {\n",
       "        text-align: right;\n",
       "    }\n",
       "</style>\n",
       "<table border=\"1\" class=\"dataframe\">\n",
       "  <thead>\n",
       "    <tr style=\"text-align: right;\">\n",
       "      <th></th>\n",
       "      <th>Installs_group</th>\n",
       "      <th>st_Rating</th>\n",
       "      <th>Category_ART_AND_DESIGN</th>\n",
       "      <th>Category_AUTO_AND_VEHICLES</th>\n",
       "      <th>Category_BEAUTY</th>\n",
       "      <th>Category_BOOKS_AND_REFERENCE</th>\n",
       "      <th>Category_BUSINESS</th>\n",
       "      <th>Category_COMICS</th>\n",
       "      <th>Category_COMMUNICATION</th>\n",
       "      <th>Category_DATING</th>\n",
       "      <th>...</th>\n",
       "      <th>month_11</th>\n",
       "      <th>month_12</th>\n",
       "      <th>Content Rating_Adults only 18+</th>\n",
       "      <th>Content Rating_Everyone</th>\n",
       "      <th>Content Rating_Everyone 10+</th>\n",
       "      <th>Content Rating_Mature 17+</th>\n",
       "      <th>Content Rating_Teen</th>\n",
       "      <th>Content Rating_Unrated</th>\n",
       "      <th>Android Ver_levels_high</th>\n",
       "      <th>Android Ver_levels_low</th>\n",
       "    </tr>\n",
       "  </thead>\n",
       "  <tbody>\n",
       "    <tr>\n",
       "      <th>0</th>\n",
       "      <td>0</td>\n",
       "      <td>-0.179640</td>\n",
       "      <td>1</td>\n",
       "      <td>0</td>\n",
       "      <td>0</td>\n",
       "      <td>0</td>\n",
       "      <td>0</td>\n",
       "      <td>0</td>\n",
       "      <td>0</td>\n",
       "      <td>0</td>\n",
       "      <td>...</td>\n",
       "      <td>0</td>\n",
       "      <td>0</td>\n",
       "      <td>0</td>\n",
       "      <td>1</td>\n",
       "      <td>0</td>\n",
       "      <td>0</td>\n",
       "      <td>0</td>\n",
       "      <td>0</td>\n",
       "      <td>1</td>\n",
       "      <td>0</td>\n",
       "    </tr>\n",
       "    <tr>\n",
       "      <th>1</th>\n",
       "      <td>1</td>\n",
       "      <td>-0.569116</td>\n",
       "      <td>1</td>\n",
       "      <td>0</td>\n",
       "      <td>0</td>\n",
       "      <td>0</td>\n",
       "      <td>0</td>\n",
       "      <td>0</td>\n",
       "      <td>0</td>\n",
       "      <td>0</td>\n",
       "      <td>...</td>\n",
       "      <td>0</td>\n",
       "      <td>0</td>\n",
       "      <td>0</td>\n",
       "      <td>1</td>\n",
       "      <td>0</td>\n",
       "      <td>0</td>\n",
       "      <td>0</td>\n",
       "      <td>0</td>\n",
       "      <td>1</td>\n",
       "      <td>0</td>\n",
       "    </tr>\n",
       "    <tr>\n",
       "      <th>2</th>\n",
       "      <td>1</td>\n",
       "      <td>0.988789</td>\n",
       "      <td>1</td>\n",
       "      <td>0</td>\n",
       "      <td>0</td>\n",
       "      <td>0</td>\n",
       "      <td>0</td>\n",
       "      <td>0</td>\n",
       "      <td>0</td>\n",
       "      <td>0</td>\n",
       "      <td>...</td>\n",
       "      <td>0</td>\n",
       "      <td>0</td>\n",
       "      <td>0</td>\n",
       "      <td>1</td>\n",
       "      <td>0</td>\n",
       "      <td>0</td>\n",
       "      <td>0</td>\n",
       "      <td>0</td>\n",
       "      <td>1</td>\n",
       "      <td>0</td>\n",
       "    </tr>\n",
       "    <tr>\n",
       "      <th>3</th>\n",
       "      <td>1</td>\n",
       "      <td>0.599313</td>\n",
       "      <td>1</td>\n",
       "      <td>0</td>\n",
       "      <td>0</td>\n",
       "      <td>0</td>\n",
       "      <td>0</td>\n",
       "      <td>0</td>\n",
       "      <td>0</td>\n",
       "      <td>0</td>\n",
       "      <td>...</td>\n",
       "      <td>0</td>\n",
       "      <td>0</td>\n",
       "      <td>0</td>\n",
       "      <td>0</td>\n",
       "      <td>0</td>\n",
       "      <td>0</td>\n",
       "      <td>1</td>\n",
       "      <td>0</td>\n",
       "      <td>1</td>\n",
       "      <td>0</td>\n",
       "    </tr>\n",
       "    <tr>\n",
       "      <th>4</th>\n",
       "      <td>0</td>\n",
       "      <td>0.209837</td>\n",
       "      <td>1</td>\n",
       "      <td>0</td>\n",
       "      <td>0</td>\n",
       "      <td>0</td>\n",
       "      <td>0</td>\n",
       "      <td>0</td>\n",
       "      <td>0</td>\n",
       "      <td>0</td>\n",
       "      <td>...</td>\n",
       "      <td>0</td>\n",
       "      <td>0</td>\n",
       "      <td>0</td>\n",
       "      <td>1</td>\n",
       "      <td>0</td>\n",
       "      <td>0</td>\n",
       "      <td>0</td>\n",
       "      <td>0</td>\n",
       "      <td>1</td>\n",
       "      <td>0</td>\n",
       "    </tr>\n",
       "  </tbody>\n",
       "</table>\n",
       "<p>5 rows × 74 columns</p>\n",
       "</div>"
      ],
      "text/plain": [
       "   Installs_group  st_Rating  Category_ART_AND_DESIGN  \\\n",
       "0               0  -0.179640                        1   \n",
       "1               1  -0.569116                        1   \n",
       "2               1   0.988789                        1   \n",
       "3               1   0.599313                        1   \n",
       "4               0   0.209837                        1   \n",
       "\n",
       "   Category_AUTO_AND_VEHICLES  Category_BEAUTY  Category_BOOKS_AND_REFERENCE  \\\n",
       "0                           0                0                             0   \n",
       "1                           0                0                             0   \n",
       "2                           0                0                             0   \n",
       "3                           0                0                             0   \n",
       "4                           0                0                             0   \n",
       "\n",
       "   Category_BUSINESS  Category_COMICS  Category_COMMUNICATION  \\\n",
       "0                  0                0                       0   \n",
       "1                  0                0                       0   \n",
       "2                  0                0                       0   \n",
       "3                  0                0                       0   \n",
       "4                  0                0                       0   \n",
       "\n",
       "   Category_DATING  ...  month_11  month_12  Content Rating_Adults only 18+  \\\n",
       "0                0  ...         0         0                               0   \n",
       "1                0  ...         0         0                               0   \n",
       "2                0  ...         0         0                               0   \n",
       "3                0  ...         0         0                               0   \n",
       "4                0  ...         0         0                               0   \n",
       "\n",
       "   Content Rating_Everyone  Content Rating_Everyone 10+  \\\n",
       "0                        1                            0   \n",
       "1                        1                            0   \n",
       "2                        1                            0   \n",
       "3                        0                            0   \n",
       "4                        1                            0   \n",
       "\n",
       "   Content Rating_Mature 17+  Content Rating_Teen  Content Rating_Unrated  \\\n",
       "0                          0                    0                       0   \n",
       "1                          0                    0                       0   \n",
       "2                          0                    0                       0   \n",
       "3                          0                    1                       0   \n",
       "4                          0                    0                       0   \n",
       "\n",
       "   Android Ver_levels_high  Android Ver_levels_low  \n",
       "0                        1                       0  \n",
       "1                        1                       0  \n",
       "2                        1                       0  \n",
       "3                        1                       0  \n",
       "4                        1                       0  \n",
       "\n",
       "[5 rows x 74 columns]"
      ]
     },
     "execution_count": 81,
     "metadata": {},
     "output_type": "execute_result"
    }
   ],
   "source": [
    "final_feature_vector.head() "
   ]
  },
  {
   "cell_type": "code",
   "execution_count": 82,
   "metadata": {
    "colab": {},
    "colab_type": "code",
    "id": "Dkk13YqbEuVy"
   },
   "outputs": [
    {
     "data": {
      "text/plain": [
       "Index(['Installs_group', 'st_Rating', 'Category_ART_AND_DESIGN',\n",
       "       'Category_AUTO_AND_VEHICLES', 'Category_BEAUTY',\n",
       "       'Category_BOOKS_AND_REFERENCE', 'Category_BUSINESS', 'Category_COMICS',\n",
       "       'Category_COMMUNICATION', 'Category_DATING', 'Category_EDUCATION',\n",
       "       'Category_ENTERTAINMENT', 'Category_EVENTS', 'Category_FAMILY',\n",
       "       'Category_FINANCE', 'Category_FOOD_AND_DRINK', 'Category_GAME',\n",
       "       'Category_HEALTH_AND_FITNESS', 'Category_HOUSE_AND_HOME',\n",
       "       'Category_LIBRARIES_AND_DEMO', 'Category_LIFESTYLE',\n",
       "       'Category_MAPS_AND_NAVIGATION', 'Category_MEDICAL',\n",
       "       'Category_NEWS_AND_MAGAZINES', 'Category_PARENTING',\n",
       "       'Category_PERSONALIZATION', 'Category_PHOTOGRAPHY',\n",
       "       'Category_PRODUCTIVITY', 'Category_SHOPPING', 'Category_SOCIAL',\n",
       "       'Category_SPORTS', 'Category_TOOLS', 'Category_TRAVEL_AND_LOCAL',\n",
       "       'Category_VIDEO_PLAYERS', 'Category_WEATHER', 'reviews_levels_high',\n",
       "       'reviews_levels_low', 'reviews_levels_medium',\n",
       "       'Current Ver_clean_levels_high', 'Current Ver_clean_levels_low',\n",
       "       'Current Ver_clean_levels_medium', 'year_2010', 'year_2011',\n",
       "       'year_2012', 'year_2013', 'year_2014', 'year_2015', 'year_2016',\n",
       "       'year_2017', 'year_2018', 'Size_group_big', 'Size_group_small',\n",
       "       'Type_Free', 'Type_Paid', 'month_1', 'month_2', 'month_3', 'month_4',\n",
       "       'month_5', 'month_6', 'month_7', 'month_8', 'month_9', 'month_10',\n",
       "       'month_11', 'month_12', 'Content Rating_Adults only 18+',\n",
       "       'Content Rating_Everyone', 'Content Rating_Everyone 10+',\n",
       "       'Content Rating_Mature 17+', 'Content Rating_Teen',\n",
       "       'Content Rating_Unrated', 'Android Ver_levels_high',\n",
       "       'Android Ver_levels_low'],\n",
       "      dtype='object')"
      ]
     },
     "execution_count": 82,
     "metadata": {},
     "output_type": "execute_result"
    }
   ],
   "source": [
    "final_feature_vector.columns"
   ]
  },
  {
   "cell_type": "markdown",
   "metadata": {
    "colab_type": "text",
    "id": "ybp0sDS_Md1C"
   },
   "source": [
    "### Get the final shape of your feature vector dataframe"
   ]
  },
  {
   "cell_type": "code",
   "execution_count": 83,
   "metadata": {
    "colab": {
     "base_uri": "https://localhost:8080/",
     "height": 34
    },
    "colab_type": "code",
    "id": "8MDIBVQoIWIl",
    "outputId": "58f03b87-a382-4d16-ebd6-27860a6a3cf5"
   },
   "outputs": [
    {
     "data": {
      "text/plain": [
       "(9351, 74)"
      ]
     },
     "execution_count": 83,
     "metadata": {},
     "output_type": "execute_result"
    }
   ],
   "source": [
    "final_feature_vector.shape"
   ]
  },
  {
   "cell_type": "markdown",
   "metadata": {
    "colab_type": "text",
    "id": "fNGAozvhM0MK"
   },
   "source": [
    "## Store the data into a new csv file"
   ]
  },
  {
   "cell_type": "code",
   "execution_count": 84,
   "metadata": {
    "colab": {},
    "colab_type": "code",
    "id": "lhKpWihdMkJB"
   },
   "outputs": [],
   "source": [
    "final_feature_vector.to_csv(\"/Users/AirMorena/Desktop/final_proj/csv/google_play_store/160619final_feature_vector.csv\", index=False, encoding='utf-8')"
   ]
  },
  {
   "cell_type": "code",
   "execution_count": 85,
   "metadata": {},
   "outputs": [
    {
     "data": {
      "text/html": [
       "<div>\n",
       "<style scoped>\n",
       "    .dataframe tbody tr th:only-of-type {\n",
       "        vertical-align: middle;\n",
       "    }\n",
       "\n",
       "    .dataframe tbody tr th {\n",
       "        vertical-align: top;\n",
       "    }\n",
       "\n",
       "    .dataframe thead th {\n",
       "        text-align: right;\n",
       "    }\n",
       "</style>\n",
       "<table border=\"1\" class=\"dataframe\">\n",
       "  <thead>\n",
       "    <tr style=\"text-align: right;\">\n",
       "      <th></th>\n",
       "      <th>Installs_group</th>\n",
       "      <th>st_Rating</th>\n",
       "      <th>Category_ART_AND_DESIGN</th>\n",
       "      <th>Category_AUTO_AND_VEHICLES</th>\n",
       "      <th>Category_BEAUTY</th>\n",
       "      <th>Category_BOOKS_AND_REFERENCE</th>\n",
       "      <th>Category_BUSINESS</th>\n",
       "      <th>Category_COMICS</th>\n",
       "      <th>Category_COMMUNICATION</th>\n",
       "      <th>Category_DATING</th>\n",
       "      <th>...</th>\n",
       "      <th>month_11</th>\n",
       "      <th>month_12</th>\n",
       "      <th>Content Rating_Adults only 18+</th>\n",
       "      <th>Content Rating_Everyone</th>\n",
       "      <th>Content Rating_Everyone 10+</th>\n",
       "      <th>Content Rating_Mature 17+</th>\n",
       "      <th>Content Rating_Teen</th>\n",
       "      <th>Content Rating_Unrated</th>\n",
       "      <th>Android Ver_levels_high</th>\n",
       "      <th>Android Ver_levels_low</th>\n",
       "    </tr>\n",
       "  </thead>\n",
       "  <tbody>\n",
       "    <tr>\n",
       "      <th>0</th>\n",
       "      <td>0</td>\n",
       "      <td>-0.179640</td>\n",
       "      <td>1</td>\n",
       "      <td>0</td>\n",
       "      <td>0</td>\n",
       "      <td>0</td>\n",
       "      <td>0</td>\n",
       "      <td>0</td>\n",
       "      <td>0</td>\n",
       "      <td>0</td>\n",
       "      <td>...</td>\n",
       "      <td>0</td>\n",
       "      <td>0</td>\n",
       "      <td>0</td>\n",
       "      <td>1</td>\n",
       "      <td>0</td>\n",
       "      <td>0</td>\n",
       "      <td>0</td>\n",
       "      <td>0</td>\n",
       "      <td>1</td>\n",
       "      <td>0</td>\n",
       "    </tr>\n",
       "    <tr>\n",
       "      <th>1</th>\n",
       "      <td>1</td>\n",
       "      <td>-0.569116</td>\n",
       "      <td>1</td>\n",
       "      <td>0</td>\n",
       "      <td>0</td>\n",
       "      <td>0</td>\n",
       "      <td>0</td>\n",
       "      <td>0</td>\n",
       "      <td>0</td>\n",
       "      <td>0</td>\n",
       "      <td>...</td>\n",
       "      <td>0</td>\n",
       "      <td>0</td>\n",
       "      <td>0</td>\n",
       "      <td>1</td>\n",
       "      <td>0</td>\n",
       "      <td>0</td>\n",
       "      <td>0</td>\n",
       "      <td>0</td>\n",
       "      <td>1</td>\n",
       "      <td>0</td>\n",
       "    </tr>\n",
       "    <tr>\n",
       "      <th>2</th>\n",
       "      <td>1</td>\n",
       "      <td>0.988789</td>\n",
       "      <td>1</td>\n",
       "      <td>0</td>\n",
       "      <td>0</td>\n",
       "      <td>0</td>\n",
       "      <td>0</td>\n",
       "      <td>0</td>\n",
       "      <td>0</td>\n",
       "      <td>0</td>\n",
       "      <td>...</td>\n",
       "      <td>0</td>\n",
       "      <td>0</td>\n",
       "      <td>0</td>\n",
       "      <td>1</td>\n",
       "      <td>0</td>\n",
       "      <td>0</td>\n",
       "      <td>0</td>\n",
       "      <td>0</td>\n",
       "      <td>1</td>\n",
       "      <td>0</td>\n",
       "    </tr>\n",
       "    <tr>\n",
       "      <th>3</th>\n",
       "      <td>1</td>\n",
       "      <td>0.599313</td>\n",
       "      <td>1</td>\n",
       "      <td>0</td>\n",
       "      <td>0</td>\n",
       "      <td>0</td>\n",
       "      <td>0</td>\n",
       "      <td>0</td>\n",
       "      <td>0</td>\n",
       "      <td>0</td>\n",
       "      <td>...</td>\n",
       "      <td>0</td>\n",
       "      <td>0</td>\n",
       "      <td>0</td>\n",
       "      <td>0</td>\n",
       "      <td>0</td>\n",
       "      <td>0</td>\n",
       "      <td>1</td>\n",
       "      <td>0</td>\n",
       "      <td>1</td>\n",
       "      <td>0</td>\n",
       "    </tr>\n",
       "    <tr>\n",
       "      <th>4</th>\n",
       "      <td>0</td>\n",
       "      <td>0.209837</td>\n",
       "      <td>1</td>\n",
       "      <td>0</td>\n",
       "      <td>0</td>\n",
       "      <td>0</td>\n",
       "      <td>0</td>\n",
       "      <td>0</td>\n",
       "      <td>0</td>\n",
       "      <td>0</td>\n",
       "      <td>...</td>\n",
       "      <td>0</td>\n",
       "      <td>0</td>\n",
       "      <td>0</td>\n",
       "      <td>1</td>\n",
       "      <td>0</td>\n",
       "      <td>0</td>\n",
       "      <td>0</td>\n",
       "      <td>0</td>\n",
       "      <td>1</td>\n",
       "      <td>0</td>\n",
       "    </tr>\n",
       "  </tbody>\n",
       "</table>\n",
       "<p>5 rows × 74 columns</p>\n",
       "</div>"
      ],
      "text/plain": [
       "   Installs_group  st_Rating  Category_ART_AND_DESIGN  \\\n",
       "0               0  -0.179640                        1   \n",
       "1               1  -0.569116                        1   \n",
       "2               1   0.988789                        1   \n",
       "3               1   0.599313                        1   \n",
       "4               0   0.209837                        1   \n",
       "\n",
       "   Category_AUTO_AND_VEHICLES  Category_BEAUTY  Category_BOOKS_AND_REFERENCE  \\\n",
       "0                           0                0                             0   \n",
       "1                           0                0                             0   \n",
       "2                           0                0                             0   \n",
       "3                           0                0                             0   \n",
       "4                           0                0                             0   \n",
       "\n",
       "   Category_BUSINESS  Category_COMICS  Category_COMMUNICATION  \\\n",
       "0                  0                0                       0   \n",
       "1                  0                0                       0   \n",
       "2                  0                0                       0   \n",
       "3                  0                0                       0   \n",
       "4                  0                0                       0   \n",
       "\n",
       "   Category_DATING  ...  month_11  month_12  Content Rating_Adults only 18+  \\\n",
       "0                0  ...         0         0                               0   \n",
       "1                0  ...         0         0                               0   \n",
       "2                0  ...         0         0                               0   \n",
       "3                0  ...         0         0                               0   \n",
       "4                0  ...         0         0                               0   \n",
       "\n",
       "   Content Rating_Everyone  Content Rating_Everyone 10+  \\\n",
       "0                        1                            0   \n",
       "1                        1                            0   \n",
       "2                        1                            0   \n",
       "3                        0                            0   \n",
       "4                        1                            0   \n",
       "\n",
       "   Content Rating_Mature 17+  Content Rating_Teen  Content Rating_Unrated  \\\n",
       "0                          0                    0                       0   \n",
       "1                          0                    0                       0   \n",
       "2                          0                    0                       0   \n",
       "3                          0                    1                       0   \n",
       "4                          0                    0                       0   \n",
       "\n",
       "   Android Ver_levels_high  Android Ver_levels_low  \n",
       "0                        1                       0  \n",
       "1                        1                       0  \n",
       "2                        1                       0  \n",
       "3                        1                       0  \n",
       "4                        1                       0  \n",
       "\n",
       "[5 rows x 74 columns]"
      ]
     },
     "execution_count": 85,
     "metadata": {},
     "output_type": "execute_result"
    }
   ],
   "source": [
    "final_feature_vector.head()"
   ]
  },
  {
   "cell_type": "code",
   "execution_count": null,
   "metadata": {},
   "outputs": [],
   "source": []
  },
  {
   "cell_type": "code",
   "execution_count": null,
   "metadata": {},
   "outputs": [],
   "source": []
  },
  {
   "cell_type": "code",
   "execution_count": null,
   "metadata": {},
   "outputs": [],
   "source": []
  }
 ],
 "metadata": {
  "colab": {
   "collapsed_sections": [],
   "name": "chapter_2_feature_engineer.ipynb",
   "provenance": [],
   "version": "0.3.2"
  },
  "kernelspec": {
   "display_name": "Python 3",
   "language": "python",
   "name": "python3"
  },
  "language_info": {
   "codemirror_mode": {
    "name": "ipython",
    "version": 3
   },
   "file_extension": ".py",
   "mimetype": "text/x-python",
   "name": "python",
   "nbconvert_exporter": "python",
   "pygments_lexer": "ipython3",
   "version": "3.7.2"
  }
 },
 "nbformat": 4,
 "nbformat_minor": 1
}
