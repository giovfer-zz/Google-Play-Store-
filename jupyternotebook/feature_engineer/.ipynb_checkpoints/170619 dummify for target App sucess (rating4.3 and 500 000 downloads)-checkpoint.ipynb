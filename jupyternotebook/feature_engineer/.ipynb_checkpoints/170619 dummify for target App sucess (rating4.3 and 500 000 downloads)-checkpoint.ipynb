{
 "cells": [
  {
   "cell_type": "markdown",
   "metadata": {
    "colab_type": "text",
    "id": "LNzzDiLyePuj"
   },
   "source": [
    "# Data pre-processing to make it ready for the model to learn\n",
    "\n"
   ]
  },
  {
   "cell_type": "markdown",
   "metadata": {
    "colab_type": "text",
    "id": "VAclTR3LLdmX"
   },
   "source": [
    "#### Have you identified other variables transformations that you need to do based on the distributions you have analyzed so far?"
   ]
  },
  {
   "cell_type": "code",
   "execution_count": null,
   "metadata": {},
   "outputs": [],
   "source": [
    "#Feature engineering is the process of creating features (also called \"attributes\") \n",
    "#that don't already exist in the dataset. This means that if your dataset already contains enough \n",
    "#\"useful\" features, you don't necessarily need to engineer additional features."
   ]
  },
  {
   "cell_type": "markdown",
   "metadata": {
    "colab_type": "text",
    "id": "XFscA4F-Lq04"
   },
   "source": [
    "Answer here"
   ]
  },
  {
   "cell_type": "code",
   "execution_count": 10,
   "metadata": {
    "colab": {
     "base_uri": "https://localhost:8080/",
     "height": 156
    },
    "colab_type": "code",
    "id": "ZOhJ7Be1WVU8",
    "outputId": "aeb2c662-83ac-4b2e-9882-a13a3b9e5044"
   },
   "outputs": [],
   "source": [
    "import math\n",
    "import numpy as np\n",
    "import pandas as pd\n",
    "import statsmodels.api as sm\n",
    "from sklearn.metrics import mean_squared_error\n",
    "from sklearn.model_selection import ShuffleSplit\n",
    "from sklearn.model_selection import ParameterGrid\n",
    "from sklearn.model_selection import train_test_split\n",
    "from sklearn.preprocessing import StandardScaler\n",
    "from sklearn.preprocessing import MinMaxScaler\n",
    "\n",
    "from sklearn import linear_model\n",
    "import seaborn as sns\n",
    "import matplotlib.pyplot as plt\n",
    "\n",
    "import warnings\n",
    "warnings.simplefilter(action='ignore', category=Warning)\n",
    "np.seterr(divide='ignore', invalid='ignore')\n",
    "\n",
    "# Mount local files\n",
    "#from google.colab import drive\n",
    "#drive.mount('/gdrive')\n",
    "\n",
    "# Hide deprecated warnings\n",
    "import warnings\n",
    "warnings.filterwarnings('ignore')"
   ]
  },
  {
   "cell_type": "code",
   "execution_count": 11,
   "metadata": {},
   "outputs": [],
   "source": [
    "#  Load the clean dataset form previous notebook"
   ]
  },
  {
   "cell_type": "code",
   "execution_count": 12,
   "metadata": {},
   "outputs": [],
   "source": [
    "# Load data from the folder where I uploaded the csv file data with grouped Features\n",
    "data = pd.read_csv('/Users/AirMorena/Desktop/final_proj/csv/google_play_store/data_engineer1.csv')"
   ]
  },
  {
   "cell_type": "markdown",
   "metadata": {},
   "source": [
    "# define functions"
   ]
  },
  {
   "cell_type": "code",
   "execution_count": 13,
   "metadata": {
    "colab": {},
    "colab_type": "code",
    "id": "nDJERIFHxTYc"
   },
   "outputs": [],
   "source": [
    "def one_hot_encode_categorical_variables(series, name):\n",
    "      return pd.get_dummies(series, prefix=name)"
   ]
  },
  {
   "cell_type": "code",
   "execution_count": 14,
   "metadata": {
    "colab_type": "text",
    "id": "1ccfqEz95ofx"
   },
   "outputs": [
    {
     "data": {
      "text/plain": [
       "(9351, 27)"
      ]
     },
     "execution_count": 14,
     "metadata": {},
     "output_type": "execute_result"
    }
   ],
   "source": [
    "# Check the dimensions\n",
    "data.shape"
   ]
  },
  {
   "cell_type": "code",
   "execution_count": 6,
   "metadata": {},
   "outputs": [
    {
     "name": "stdout",
     "output_type": "stream",
     "text": [
      "<class 'pandas.core.frame.DataFrame'>\n",
      "RangeIndex: 9351 entries, 0 to 9350\n",
      "Data columns (total 27 columns):\n",
      "App                         9351 non-null object\n",
      "Category                    9351 non-null object\n",
      "Rating                      9351 non-null float64\n",
      "Reviews                     9351 non-null int64\n",
      "Size                        9351 non-null float64\n",
      "Installs                    9351 non-null int64\n",
      "Type                        9351 non-null object\n",
      "Price                       9351 non-null float64\n",
      "Content Rating              9351 non-null object\n",
      "Genres                      9351 non-null object\n",
      "Last Updated                9351 non-null object\n",
      "Current Ver                 9351 non-null object\n",
      "Android Ver                 9351 non-null float64\n",
      "day                         9351 non-null int64\n",
      "month                       9351 non-null int64\n",
      "year                        9351 non-null int64\n",
      "month_year                  9351 non-null object\n",
      "Current Ver_clean           9351 non-null float64\n",
      "App_dup                     9351 non-null int64\n",
      "Successful_App              9351 non-null int64\n",
      "Installs_group              9351 non-null object\n",
      "reviews_levels              9351 non-null object\n",
      "Size_group                  9351 non-null object\n",
      "Current Ver_clean_levels    9351 non-null object\n",
      "Android Ver_levels          9351 non-null object\n",
      "st_Rating                   9351 non-null float64\n",
      "st_Price                    9351 non-null float64\n",
      "dtypes: float64(7), int64(7), object(13)\n",
      "memory usage: 1.9+ MB\n"
     ]
    }
   ],
   "source": [
    "data.info()"
   ]
  },
  {
   "cell_type": "code",
   "execution_count": 16,
   "metadata": {},
   "outputs": [],
   "source": [
    "# if there are missing values: is there at least one missing  value? True or false\n",
    "#data.isnull().sum()"
   ]
  },
  {
   "cell_type": "markdown",
   "metadata": {
    "colab_type": "text",
    "id": "UAMohwMairzD"
   },
   "source": [
    "\n",
    "\n",
    " "
   ]
  },
  {
   "cell_type": "markdown",
   "metadata": {
    "colab_type": "text",
    "id": "ke99LcTfIZre"
   },
   "source": [
    "## Dummify categorical variables\n",
    "\n",
    "* We want our categorical variables to be part of our logistic regression model. We need to transform into boolean features?"
   ]
  },
  {
   "cell_type": "code",
   "execution_count": 17,
   "metadata": {},
   "outputs": [
    {
     "data": {
      "text/plain": [
       "['App',\n",
       " 'Category',\n",
       " 'Rating',\n",
       " 'Reviews',\n",
       " 'Size',\n",
       " 'Installs',\n",
       " 'Type',\n",
       " 'Price',\n",
       " 'Content Rating',\n",
       " 'Genres',\n",
       " 'Last Updated',\n",
       " 'Current Ver',\n",
       " 'Android Ver',\n",
       " 'day',\n",
       " 'month',\n",
       " 'year',\n",
       " 'month_year',\n",
       " 'Current Ver_clean',\n",
       " 'App_dup',\n",
       " 'Successful_App',\n",
       " 'Installs_group',\n",
       " 'reviews_levels',\n",
       " 'Size_group',\n",
       " 'Current Ver_clean_levels',\n",
       " 'Android Ver_levels',\n",
       " 'st_Rating',\n",
       " 'st_Price']"
      ]
     },
     "execution_count": 17,
     "metadata": {},
     "output_type": "execute_result"
    }
   ],
   "source": [
    "data.columns.tolist()"
   ]
  },
  {
   "cell_type": "code",
   "execution_count": 9,
   "metadata": {},
   "outputs": [],
   "source": [
    "#data.head()"
   ]
  },
  {
   "cell_type": "code",
   "execution_count": null,
   "metadata": {},
   "outputs": [],
   "source": []
  },
  {
   "cell_type": "code",
   "execution_count": 18,
   "metadata": {},
   "outputs": [],
   "source": [
    "# drop columns we will not use for the model: (the continous , since we create categorical from them)\n",
    "data1=data.drop(['App','Size','Rating','Installs', 'st_Rating','Reviews','st_Price','Android Ver','Price','Current Ver','Current Ver_clean','Rating',\n",
    "                 'Price','Last Updated','Genres','day','month_year','st_Price','App_dup','Installs_group'], axis=1)"
   ]
  },
  {
   "cell_type": "code",
   "execution_count": 19,
   "metadata": {},
   "outputs": [
    {
     "data": {
      "text/plain": [
       "['Category',\n",
       " 'Type',\n",
       " 'Content Rating',\n",
       " 'month',\n",
       " 'year',\n",
       " 'Successful_App',\n",
       " 'reviews_levels',\n",
       " 'Size_group',\n",
       " 'Current Ver_clean_levels',\n",
       " 'Android Ver_levels']"
      ]
     },
     "execution_count": 19,
     "metadata": {},
     "output_type": "execute_result"
    }
   ],
   "source": [
    "data1.columns.tolist()"
   ]
  },
  {
   "cell_type": "code",
   "execution_count": 20,
   "metadata": {},
   "outputs": [
    {
     "data": {
      "text/plain": [
       "(9351, 10)"
      ]
     },
     "execution_count": 20,
     "metadata": {},
     "output_type": "execute_result"
    }
   ],
   "source": [
    "data1.shape\n",
    "# 9351 entries and 10 features"
   ]
  },
  {
   "cell_type": "code",
   "execution_count": 21,
   "metadata": {},
   "outputs": [
    {
     "data": {
      "text/html": [
       "<div>\n",
       "<style scoped>\n",
       "    .dataframe tbody tr th:only-of-type {\n",
       "        vertical-align: middle;\n",
       "    }\n",
       "\n",
       "    .dataframe tbody tr th {\n",
       "        vertical-align: top;\n",
       "    }\n",
       "\n",
       "    .dataframe thead th {\n",
       "        text-align: right;\n",
       "    }\n",
       "</style>\n",
       "<table border=\"1\" class=\"dataframe\">\n",
       "  <thead>\n",
       "    <tr style=\"text-align: right;\">\n",
       "      <th></th>\n",
       "      <th>Category</th>\n",
       "      <th>Type</th>\n",
       "      <th>Content Rating</th>\n",
       "      <th>month</th>\n",
       "      <th>year</th>\n",
       "      <th>Successful_App</th>\n",
       "      <th>reviews_levels</th>\n",
       "      <th>Size_group</th>\n",
       "      <th>Current Ver_clean_levels</th>\n",
       "      <th>Android Ver_levels</th>\n",
       "    </tr>\n",
       "  </thead>\n",
       "  <tbody>\n",
       "    <tr>\n",
       "      <th>0</th>\n",
       "      <td>ART_AND_DESIGN</td>\n",
       "      <td>Free</td>\n",
       "      <td>Everyone</td>\n",
       "      <td>1</td>\n",
       "      <td>2018</td>\n",
       "      <td>0</td>\n",
       "      <td>low</td>\n",
       "      <td>small</td>\n",
       "      <td>low</td>\n",
       "      <td>high</td>\n",
       "    </tr>\n",
       "    <tr>\n",
       "      <th>1</th>\n",
       "      <td>ART_AND_DESIGN</td>\n",
       "      <td>Free</td>\n",
       "      <td>Everyone</td>\n",
       "      <td>1</td>\n",
       "      <td>2018</td>\n",
       "      <td>0</td>\n",
       "      <td>low</td>\n",
       "      <td>small</td>\n",
       "      <td>medium</td>\n",
       "      <td>high</td>\n",
       "    </tr>\n",
       "    <tr>\n",
       "      <th>2</th>\n",
       "      <td>ART_AND_DESIGN</td>\n",
       "      <td>Free</td>\n",
       "      <td>Everyone</td>\n",
       "      <td>8</td>\n",
       "      <td>2018</td>\n",
       "      <td>1</td>\n",
       "      <td>high</td>\n",
       "      <td>small</td>\n",
       "      <td>low</td>\n",
       "      <td>high</td>\n",
       "    </tr>\n",
       "    <tr>\n",
       "      <th>3</th>\n",
       "      <td>ART_AND_DESIGN</td>\n",
       "      <td>Free</td>\n",
       "      <td>Teen</td>\n",
       "      <td>6</td>\n",
       "      <td>2018</td>\n",
       "      <td>1</td>\n",
       "      <td>high</td>\n",
       "      <td>big</td>\n",
       "      <td>high</td>\n",
       "      <td>high</td>\n",
       "    </tr>\n",
       "    <tr>\n",
       "      <th>4</th>\n",
       "      <td>ART_AND_DESIGN</td>\n",
       "      <td>Free</td>\n",
       "      <td>Everyone</td>\n",
       "      <td>6</td>\n",
       "      <td>2018</td>\n",
       "      <td>0</td>\n",
       "      <td>low</td>\n",
       "      <td>small</td>\n",
       "      <td>low</td>\n",
       "      <td>high</td>\n",
       "    </tr>\n",
       "  </tbody>\n",
       "</table>\n",
       "</div>"
      ],
      "text/plain": [
       "         Category  Type Content Rating  month  year  Successful_App  \\\n",
       "0  ART_AND_DESIGN  Free       Everyone      1  2018               0   \n",
       "1  ART_AND_DESIGN  Free       Everyone      1  2018               0   \n",
       "2  ART_AND_DESIGN  Free       Everyone      8  2018               1   \n",
       "3  ART_AND_DESIGN  Free           Teen      6  2018               1   \n",
       "4  ART_AND_DESIGN  Free       Everyone      6  2018               0   \n",
       "\n",
       "  reviews_levels Size_group Current Ver_clean_levels Android Ver_levels  \n",
       "0            low      small                      low               high  \n",
       "1            low      small                   medium               high  \n",
       "2           high      small                      low               high  \n",
       "3           high        big                     high               high  \n",
       "4            low      small                      low               high  "
      ]
     },
     "execution_count": 21,
     "metadata": {},
     "output_type": "execute_result"
    }
   ],
   "source": [
    "data1.head()"
   ]
  },
  {
   "cell_type": "code",
   "execution_count": 128,
   "metadata": {},
   "outputs": [],
   "source": [
    "# feature engineering"
   ]
  },
  {
   "cell_type": "code",
   "execution_count": 22,
   "metadata": {},
   "outputs": [],
   "source": [
    "# Transform categorical variables into boolean new columns with pandas get_dummies function\n",
    "#total columns minus target variable 'Successful_App', and minus 'App' minus installs groups and rating, and price\n",
    "total_columns={\n",
    "'Category',\n",
    " 'Type',\n",
    " 'Content Rating',\n",
    " 'month',\n",
    " 'year',\n",
    " 'reviews_levels',\n",
    " 'Size_group',\n",
    " 'Current Ver_clean_levels',\n",
    " 'Android Ver_levels'\n",
    "}\n",
    "\n",
    "new_boolean_columns = []\n",
    "for feature in total_columns:\n",
    "    new_boolean_columns.append(one_hot_encode_categorical_variables(data1[feature], feature))"
   ]
  },
  {
   "cell_type": "code",
   "execution_count": 24,
   "metadata": {},
   "outputs": [],
   "source": [
    "#new_boolean_columns"
   ]
  },
  {
   "cell_type": "code",
   "execution_count": 26,
   "metadata": {
    "colab": {},
    "colab_type": "code",
    "id": "C0_fv_apIpFi"
   },
   "outputs": [],
   "source": [
    "#new_boolean_columns"
   ]
  },
  {
   "cell_type": "code",
   "execution_count": 27,
   "metadata": {},
   "outputs": [],
   "source": [
    "#pd.concat(new_boolean_columns, axis=1) "
   ]
  },
  {
   "cell_type": "code",
   "execution_count": 28,
   "metadata": {},
   "outputs": [],
   "source": [
    "df_new_boolean_columns = pd.concat(new_boolean_columns, axis=1)  \n",
    "#Drop old categorical features\n",
    "data2 = data1.drop(total_columns, axis=1)\n",
    "\n",
    "#Append dummy categorical features (now boolean)\n",
    "final_feature_vector = pd.concat([data2['Successful_App'], \n",
    "                                  df_new_boolean_columns], axis=1)"
   ]
  },
  {
   "cell_type": "code",
   "execution_count": 29,
   "metadata": {},
   "outputs": [
    {
     "data": {
      "text/html": [
       "<div>\n",
       "<style scoped>\n",
       "    .dataframe tbody tr th:only-of-type {\n",
       "        vertical-align: middle;\n",
       "    }\n",
       "\n",
       "    .dataframe tbody tr th {\n",
       "        vertical-align: top;\n",
       "    }\n",
       "\n",
       "    .dataframe thead th {\n",
       "        text-align: right;\n",
       "    }\n",
       "</style>\n",
       "<table border=\"1\" class=\"dataframe\">\n",
       "  <thead>\n",
       "    <tr style=\"text-align: right;\">\n",
       "      <th></th>\n",
       "      <th>Successful_App</th>\n",
       "      <th>Type_Free</th>\n",
       "      <th>Type_Paid</th>\n",
       "      <th>Size_group_big</th>\n",
       "      <th>Size_group_small</th>\n",
       "      <th>month_1</th>\n",
       "      <th>month_2</th>\n",
       "      <th>month_3</th>\n",
       "      <th>month_4</th>\n",
       "      <th>month_5</th>\n",
       "      <th>...</th>\n",
       "      <th>Category_WEATHER</th>\n",
       "      <th>year_2010</th>\n",
       "      <th>year_2011</th>\n",
       "      <th>year_2012</th>\n",
       "      <th>year_2013</th>\n",
       "      <th>year_2014</th>\n",
       "      <th>year_2015</th>\n",
       "      <th>year_2016</th>\n",
       "      <th>year_2017</th>\n",
       "      <th>year_2018</th>\n",
       "    </tr>\n",
       "  </thead>\n",
       "  <tbody>\n",
       "    <tr>\n",
       "      <th>0</th>\n",
       "      <td>0</td>\n",
       "      <td>1</td>\n",
       "      <td>0</td>\n",
       "      <td>0</td>\n",
       "      <td>1</td>\n",
       "      <td>1</td>\n",
       "      <td>0</td>\n",
       "      <td>0</td>\n",
       "      <td>0</td>\n",
       "      <td>0</td>\n",
       "      <td>...</td>\n",
       "      <td>0</td>\n",
       "      <td>0</td>\n",
       "      <td>0</td>\n",
       "      <td>0</td>\n",
       "      <td>0</td>\n",
       "      <td>0</td>\n",
       "      <td>0</td>\n",
       "      <td>0</td>\n",
       "      <td>0</td>\n",
       "      <td>1</td>\n",
       "    </tr>\n",
       "    <tr>\n",
       "      <th>1</th>\n",
       "      <td>0</td>\n",
       "      <td>1</td>\n",
       "      <td>0</td>\n",
       "      <td>0</td>\n",
       "      <td>1</td>\n",
       "      <td>1</td>\n",
       "      <td>0</td>\n",
       "      <td>0</td>\n",
       "      <td>0</td>\n",
       "      <td>0</td>\n",
       "      <td>...</td>\n",
       "      <td>0</td>\n",
       "      <td>0</td>\n",
       "      <td>0</td>\n",
       "      <td>0</td>\n",
       "      <td>0</td>\n",
       "      <td>0</td>\n",
       "      <td>0</td>\n",
       "      <td>0</td>\n",
       "      <td>0</td>\n",
       "      <td>1</td>\n",
       "    </tr>\n",
       "    <tr>\n",
       "      <th>2</th>\n",
       "      <td>1</td>\n",
       "      <td>1</td>\n",
       "      <td>0</td>\n",
       "      <td>0</td>\n",
       "      <td>1</td>\n",
       "      <td>0</td>\n",
       "      <td>0</td>\n",
       "      <td>0</td>\n",
       "      <td>0</td>\n",
       "      <td>0</td>\n",
       "      <td>...</td>\n",
       "      <td>0</td>\n",
       "      <td>0</td>\n",
       "      <td>0</td>\n",
       "      <td>0</td>\n",
       "      <td>0</td>\n",
       "      <td>0</td>\n",
       "      <td>0</td>\n",
       "      <td>0</td>\n",
       "      <td>0</td>\n",
       "      <td>1</td>\n",
       "    </tr>\n",
       "    <tr>\n",
       "      <th>3</th>\n",
       "      <td>1</td>\n",
       "      <td>1</td>\n",
       "      <td>0</td>\n",
       "      <td>1</td>\n",
       "      <td>0</td>\n",
       "      <td>0</td>\n",
       "      <td>0</td>\n",
       "      <td>0</td>\n",
       "      <td>0</td>\n",
       "      <td>0</td>\n",
       "      <td>...</td>\n",
       "      <td>0</td>\n",
       "      <td>0</td>\n",
       "      <td>0</td>\n",
       "      <td>0</td>\n",
       "      <td>0</td>\n",
       "      <td>0</td>\n",
       "      <td>0</td>\n",
       "      <td>0</td>\n",
       "      <td>0</td>\n",
       "      <td>1</td>\n",
       "    </tr>\n",
       "    <tr>\n",
       "      <th>4</th>\n",
       "      <td>0</td>\n",
       "      <td>1</td>\n",
       "      <td>0</td>\n",
       "      <td>0</td>\n",
       "      <td>1</td>\n",
       "      <td>0</td>\n",
       "      <td>0</td>\n",
       "      <td>0</td>\n",
       "      <td>0</td>\n",
       "      <td>0</td>\n",
       "      <td>...</td>\n",
       "      <td>0</td>\n",
       "      <td>0</td>\n",
       "      <td>0</td>\n",
       "      <td>0</td>\n",
       "      <td>0</td>\n",
       "      <td>0</td>\n",
       "      <td>0</td>\n",
       "      <td>0</td>\n",
       "      <td>0</td>\n",
       "      <td>1</td>\n",
       "    </tr>\n",
       "  </tbody>\n",
       "</table>\n",
       "<p>5 rows × 73 columns</p>\n",
       "</div>"
      ],
      "text/plain": [
       "   Successful_App  Type_Free  Type_Paid  Size_group_big  Size_group_small  \\\n",
       "0               0          1          0               0                 1   \n",
       "1               0          1          0               0                 1   \n",
       "2               1          1          0               0                 1   \n",
       "3               1          1          0               1                 0   \n",
       "4               0          1          0               0                 1   \n",
       "\n",
       "   month_1  month_2  month_3  month_4  month_5  ...  Category_WEATHER  \\\n",
       "0        1        0        0        0        0  ...                 0   \n",
       "1        1        0        0        0        0  ...                 0   \n",
       "2        0        0        0        0        0  ...                 0   \n",
       "3        0        0        0        0        0  ...                 0   \n",
       "4        0        0        0        0        0  ...                 0   \n",
       "\n",
       "   year_2010  year_2011  year_2012  year_2013  year_2014  year_2015  \\\n",
       "0          0          0          0          0          0          0   \n",
       "1          0          0          0          0          0          0   \n",
       "2          0          0          0          0          0          0   \n",
       "3          0          0          0          0          0          0   \n",
       "4          0          0          0          0          0          0   \n",
       "\n",
       "   year_2016  year_2017  year_2018  \n",
       "0          0          0          1  \n",
       "1          0          0          1  \n",
       "2          0          0          1  \n",
       "3          0          0          1  \n",
       "4          0          0          1  \n",
       "\n",
       "[5 rows x 73 columns]"
      ]
     },
     "execution_count": 29,
     "metadata": {},
     "output_type": "execute_result"
    }
   ],
   "source": [
    "final_feature_vector.head() "
   ]
  },
  {
   "cell_type": "code",
   "execution_count": 30,
   "metadata": {
    "colab": {},
    "colab_type": "code",
    "id": "Dkk13YqbEuVy"
   },
   "outputs": [
    {
     "data": {
      "text/plain": [
       "Index(['Successful_App', 'Type_Free', 'Type_Paid', 'Size_group_big',\n",
       "       'Size_group_small', 'month_1', 'month_2', 'month_3', 'month_4',\n",
       "       'month_5', 'month_6', 'month_7', 'month_8', 'month_9', 'month_10',\n",
       "       'month_11', 'month_12', 'Current Ver_clean_levels_high',\n",
       "       'Current Ver_clean_levels_low', 'Current Ver_clean_levels_medium',\n",
       "       'reviews_levels_high', 'reviews_levels_low', 'reviews_levels_medium',\n",
       "       'Android Ver_levels_high', 'Android Ver_levels_low',\n",
       "       'Content Rating_Adults only 18+', 'Content Rating_Everyone',\n",
       "       'Content Rating_Everyone 10+', 'Content Rating_Mature 17+',\n",
       "       'Content Rating_Teen', 'Content Rating_Unrated',\n",
       "       'Category_ART_AND_DESIGN', 'Category_AUTO_AND_VEHICLES',\n",
       "       'Category_BEAUTY', 'Category_BOOKS_AND_REFERENCE', 'Category_BUSINESS',\n",
       "       'Category_COMICS', 'Category_COMMUNICATION', 'Category_DATING',\n",
       "       'Category_EDUCATION', 'Category_ENTERTAINMENT', 'Category_EVENTS',\n",
       "       'Category_FAMILY', 'Category_FINANCE', 'Category_FOOD_AND_DRINK',\n",
       "       'Category_GAME', 'Category_HEALTH_AND_FITNESS',\n",
       "       'Category_HOUSE_AND_HOME', 'Category_LIBRARIES_AND_DEMO',\n",
       "       'Category_LIFESTYLE', 'Category_MAPS_AND_NAVIGATION',\n",
       "       'Category_MEDICAL', 'Category_NEWS_AND_MAGAZINES', 'Category_PARENTING',\n",
       "       'Category_PERSONALIZATION', 'Category_PHOTOGRAPHY',\n",
       "       'Category_PRODUCTIVITY', 'Category_SHOPPING', 'Category_SOCIAL',\n",
       "       'Category_SPORTS', 'Category_TOOLS', 'Category_TRAVEL_AND_LOCAL',\n",
       "       'Category_VIDEO_PLAYERS', 'Category_WEATHER', 'year_2010', 'year_2011',\n",
       "       'year_2012', 'year_2013', 'year_2014', 'year_2015', 'year_2016',\n",
       "       'year_2017', 'year_2018'],\n",
       "      dtype='object')"
      ]
     },
     "execution_count": 30,
     "metadata": {},
     "output_type": "execute_result"
    }
   ],
   "source": [
    "final_feature_vector.columns"
   ]
  },
  {
   "cell_type": "markdown",
   "metadata": {
    "colab_type": "text",
    "id": "ybp0sDS_Md1C"
   },
   "source": [
    "### Get the final shape of your feature vector dataframe"
   ]
  },
  {
   "cell_type": "code",
   "execution_count": 31,
   "metadata": {
    "colab": {
     "base_uri": "https://localhost:8080/",
     "height": 34
    },
    "colab_type": "code",
    "id": "8MDIBVQoIWIl",
    "outputId": "58f03b87-a382-4d16-ebd6-27860a6a3cf5"
   },
   "outputs": [
    {
     "data": {
      "text/plain": [
       "(9351, 73)"
      ]
     },
     "execution_count": 31,
     "metadata": {},
     "output_type": "execute_result"
    }
   ],
   "source": [
    "final_feature_vector.shape"
   ]
  },
  {
   "cell_type": "markdown",
   "metadata": {
    "colab_type": "text",
    "id": "fNGAozvhM0MK"
   },
   "source": [
    "## Store the data into a new csv file"
   ]
  },
  {
   "cell_type": "code",
   "execution_count": 32,
   "metadata": {
    "colab": {},
    "colab_type": "code",
    "id": "lhKpWihdMkJB"
   },
   "outputs": [],
   "source": [
    "final_feature_vector.to_csv(\"/Users/AirMorena/Desktop/final_proj/csv/google_play_store/170619final_feature_vector.csv\", index=False, encoding='utf-8')"
   ]
  },
  {
   "cell_type": "code",
   "execution_count": 33,
   "metadata": {},
   "outputs": [
    {
     "data": {
      "text/html": [
       "<div>\n",
       "<style scoped>\n",
       "    .dataframe tbody tr th:only-of-type {\n",
       "        vertical-align: middle;\n",
       "    }\n",
       "\n",
       "    .dataframe tbody tr th {\n",
       "        vertical-align: top;\n",
       "    }\n",
       "\n",
       "    .dataframe thead th {\n",
       "        text-align: right;\n",
       "    }\n",
       "</style>\n",
       "<table border=\"1\" class=\"dataframe\">\n",
       "  <thead>\n",
       "    <tr style=\"text-align: right;\">\n",
       "      <th></th>\n",
       "      <th>Successful_App</th>\n",
       "      <th>Type_Free</th>\n",
       "      <th>Type_Paid</th>\n",
       "      <th>Size_group_big</th>\n",
       "      <th>Size_group_small</th>\n",
       "      <th>month_1</th>\n",
       "      <th>month_2</th>\n",
       "      <th>month_3</th>\n",
       "      <th>month_4</th>\n",
       "      <th>month_5</th>\n",
       "      <th>...</th>\n",
       "      <th>Category_WEATHER</th>\n",
       "      <th>year_2010</th>\n",
       "      <th>year_2011</th>\n",
       "      <th>year_2012</th>\n",
       "      <th>year_2013</th>\n",
       "      <th>year_2014</th>\n",
       "      <th>year_2015</th>\n",
       "      <th>year_2016</th>\n",
       "      <th>year_2017</th>\n",
       "      <th>year_2018</th>\n",
       "    </tr>\n",
       "  </thead>\n",
       "  <tbody>\n",
       "    <tr>\n",
       "      <th>0</th>\n",
       "      <td>0</td>\n",
       "      <td>1</td>\n",
       "      <td>0</td>\n",
       "      <td>0</td>\n",
       "      <td>1</td>\n",
       "      <td>1</td>\n",
       "      <td>0</td>\n",
       "      <td>0</td>\n",
       "      <td>0</td>\n",
       "      <td>0</td>\n",
       "      <td>...</td>\n",
       "      <td>0</td>\n",
       "      <td>0</td>\n",
       "      <td>0</td>\n",
       "      <td>0</td>\n",
       "      <td>0</td>\n",
       "      <td>0</td>\n",
       "      <td>0</td>\n",
       "      <td>0</td>\n",
       "      <td>0</td>\n",
       "      <td>1</td>\n",
       "    </tr>\n",
       "    <tr>\n",
       "      <th>1</th>\n",
       "      <td>0</td>\n",
       "      <td>1</td>\n",
       "      <td>0</td>\n",
       "      <td>0</td>\n",
       "      <td>1</td>\n",
       "      <td>1</td>\n",
       "      <td>0</td>\n",
       "      <td>0</td>\n",
       "      <td>0</td>\n",
       "      <td>0</td>\n",
       "      <td>...</td>\n",
       "      <td>0</td>\n",
       "      <td>0</td>\n",
       "      <td>0</td>\n",
       "      <td>0</td>\n",
       "      <td>0</td>\n",
       "      <td>0</td>\n",
       "      <td>0</td>\n",
       "      <td>0</td>\n",
       "      <td>0</td>\n",
       "      <td>1</td>\n",
       "    </tr>\n",
       "    <tr>\n",
       "      <th>2</th>\n",
       "      <td>1</td>\n",
       "      <td>1</td>\n",
       "      <td>0</td>\n",
       "      <td>0</td>\n",
       "      <td>1</td>\n",
       "      <td>0</td>\n",
       "      <td>0</td>\n",
       "      <td>0</td>\n",
       "      <td>0</td>\n",
       "      <td>0</td>\n",
       "      <td>...</td>\n",
       "      <td>0</td>\n",
       "      <td>0</td>\n",
       "      <td>0</td>\n",
       "      <td>0</td>\n",
       "      <td>0</td>\n",
       "      <td>0</td>\n",
       "      <td>0</td>\n",
       "      <td>0</td>\n",
       "      <td>0</td>\n",
       "      <td>1</td>\n",
       "    </tr>\n",
       "    <tr>\n",
       "      <th>3</th>\n",
       "      <td>1</td>\n",
       "      <td>1</td>\n",
       "      <td>0</td>\n",
       "      <td>1</td>\n",
       "      <td>0</td>\n",
       "      <td>0</td>\n",
       "      <td>0</td>\n",
       "      <td>0</td>\n",
       "      <td>0</td>\n",
       "      <td>0</td>\n",
       "      <td>...</td>\n",
       "      <td>0</td>\n",
       "      <td>0</td>\n",
       "      <td>0</td>\n",
       "      <td>0</td>\n",
       "      <td>0</td>\n",
       "      <td>0</td>\n",
       "      <td>0</td>\n",
       "      <td>0</td>\n",
       "      <td>0</td>\n",
       "      <td>1</td>\n",
       "    </tr>\n",
       "    <tr>\n",
       "      <th>4</th>\n",
       "      <td>0</td>\n",
       "      <td>1</td>\n",
       "      <td>0</td>\n",
       "      <td>0</td>\n",
       "      <td>1</td>\n",
       "      <td>0</td>\n",
       "      <td>0</td>\n",
       "      <td>0</td>\n",
       "      <td>0</td>\n",
       "      <td>0</td>\n",
       "      <td>...</td>\n",
       "      <td>0</td>\n",
       "      <td>0</td>\n",
       "      <td>0</td>\n",
       "      <td>0</td>\n",
       "      <td>0</td>\n",
       "      <td>0</td>\n",
       "      <td>0</td>\n",
       "      <td>0</td>\n",
       "      <td>0</td>\n",
       "      <td>1</td>\n",
       "    </tr>\n",
       "  </tbody>\n",
       "</table>\n",
       "<p>5 rows × 73 columns</p>\n",
       "</div>"
      ],
      "text/plain": [
       "   Successful_App  Type_Free  Type_Paid  Size_group_big  Size_group_small  \\\n",
       "0               0          1          0               0                 1   \n",
       "1               0          1          0               0                 1   \n",
       "2               1          1          0               0                 1   \n",
       "3               1          1          0               1                 0   \n",
       "4               0          1          0               0                 1   \n",
       "\n",
       "   month_1  month_2  month_3  month_4  month_5  ...  Category_WEATHER  \\\n",
       "0        1        0        0        0        0  ...                 0   \n",
       "1        1        0        0        0        0  ...                 0   \n",
       "2        0        0        0        0        0  ...                 0   \n",
       "3        0        0        0        0        0  ...                 0   \n",
       "4        0        0        0        0        0  ...                 0   \n",
       "\n",
       "   year_2010  year_2011  year_2012  year_2013  year_2014  year_2015  \\\n",
       "0          0          0          0          0          0          0   \n",
       "1          0          0          0          0          0          0   \n",
       "2          0          0          0          0          0          0   \n",
       "3          0          0          0          0          0          0   \n",
       "4          0          0          0          0          0          0   \n",
       "\n",
       "   year_2016  year_2017  year_2018  \n",
       "0          0          0          1  \n",
       "1          0          0          1  \n",
       "2          0          0          1  \n",
       "3          0          0          1  \n",
       "4          0          0          1  \n",
       "\n",
       "[5 rows x 73 columns]"
      ]
     },
     "execution_count": 33,
     "metadata": {},
     "output_type": "execute_result"
    }
   ],
   "source": [
    "final_feature_vector.head()"
   ]
  },
  {
   "cell_type": "code",
   "execution_count": null,
   "metadata": {},
   "outputs": [],
   "source": []
  },
  {
   "cell_type": "code",
   "execution_count": null,
   "metadata": {},
   "outputs": [],
   "source": []
  }
 ],
 "metadata": {
  "colab": {
   "collapsed_sections": [],
   "name": "chapter_2_feature_engineer.ipynb",
   "provenance": [],
   "version": "0.3.2"
  },
  "kernelspec": {
   "display_name": "Python 3",
   "language": "python",
   "name": "python3"
  },
  "language_info": {
   "codemirror_mode": {
    "name": "ipython",
    "version": 3
   },
   "file_extension": ".py",
   "mimetype": "text/x-python",
   "name": "python",
   "nbconvert_exporter": "python",
   "pygments_lexer": "ipython3",
   "version": "3.7.2"
  }
 },
 "nbformat": 4,
 "nbformat_minor": 1
}
