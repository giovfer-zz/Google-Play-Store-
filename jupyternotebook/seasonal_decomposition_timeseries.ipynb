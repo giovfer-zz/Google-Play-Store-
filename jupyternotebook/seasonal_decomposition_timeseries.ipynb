{
 "cells": [
  {
   "cell_type": "markdown",
   "metadata": {
    "colab_type": "text",
    "id": "mOgo6YjvPHMY"
   },
   "source": [
    "# Seasonal Decomposition of Time Series\n",
    "\n",
    "See more in detail how to perform time series analysis and forecasting with Python in [this blog](https://towardsdatascience.com/an-end-to-end-project-on-time-series-analysis-and-forecasting-with-python-4835e6bf050b)\n",
    "\n",
    "**Applications**\n",
    "* Anomaly detection: Analyse rare events not due to bussiness trend or seasonality\n",
    "* Time series forecast: Fit a model with historical data and predict future events"
   ]
  },
  {
   "cell_type": "code",
   "execution_count": 1,
   "metadata": {
    "colab": {
     "base_uri": "https://localhost:8080/",
     "height": 272
    },
    "colab_type": "code",
    "executionInfo": {
     "elapsed": 4326,
     "status": "ok",
     "timestamp": 1555323462716,
     "user": {
      "displayName": "Celsa Díaz",
      "photoUrl": "",
      "userId": "17023047068655717844"
     },
     "user_tz": -120
    },
    "id": "lCc_g-rmNiha",
    "outputId": "6f882147-e24d-424e-c23c-7a85a0275821"
   },
   "outputs": [
    {
     "name": "stdout",
     "output_type": "stream",
     "text": [
      "Requirement already satisfied: seaborn==0.9.0 in /anaconda3/lib/python3.7/site-packages (0.9.0)\n",
      "Requirement already satisfied: numpy>=1.9.3 in /anaconda3/lib/python3.7/site-packages (from seaborn==0.9.0) (1.15.4)\n",
      "Requirement already satisfied: matplotlib>=1.4.3 in /anaconda3/lib/python3.7/site-packages (from seaborn==0.9.0) (3.0.2)\n",
      "Requirement already satisfied: scipy>=0.14.0 in /anaconda3/lib/python3.7/site-packages (from seaborn==0.9.0) (1.1.0)\n",
      "Requirement already satisfied: pandas>=0.15.2 in /anaconda3/lib/python3.7/site-packages (from seaborn==0.9.0) (0.24.1)\n",
      "Requirement already satisfied: cycler>=0.10 in /anaconda3/lib/python3.7/site-packages (from matplotlib>=1.4.3->seaborn==0.9.0) (0.10.0)\n",
      "Requirement already satisfied: kiwisolver>=1.0.1 in /anaconda3/lib/python3.7/site-packages (from matplotlib>=1.4.3->seaborn==0.9.0) (1.0.1)\n",
      "Requirement already satisfied: pyparsing!=2.0.4,!=2.1.2,!=2.1.6,>=2.0.1 in /anaconda3/lib/python3.7/site-packages (from matplotlib>=1.4.3->seaborn==0.9.0) (2.3.0)\n",
      "Requirement already satisfied: python-dateutil>=2.1 in /anaconda3/lib/python3.7/site-packages (from matplotlib>=1.4.3->seaborn==0.9.0) (2.7.5)\n",
      "Requirement already satisfied: pytz>=2011k in /anaconda3/lib/python3.7/site-packages (from pandas>=0.15.2->seaborn==0.9.0) (2018.7)\n",
      "Requirement already satisfied: six in /anaconda3/lib/python3.7/site-packages (from cycler>=0.10->matplotlib>=1.4.3->seaborn==0.9.0) (1.12.0)\n",
      "Requirement already satisfied: setuptools in /anaconda3/lib/python3.7/site-packages (from kiwisolver>=1.0.1->matplotlib>=1.4.3->seaborn==0.9.0) (40.6.3)\n"
     ]
    }
   ],
   "source": [
    "import pandas as pd\n",
    "import numpy as np\n",
    "from pandas_datareader import data as pdr\n",
    "import scipy.stats as st\n",
    "import statsmodels.api as sm\n",
    "import seaborn as sns\n",
    "import matplotlib.pyplot as plt\n",
    "\n",
    "!pip install seaborn==0.9.0\n",
    "\n",
    "import warnings\n",
    "warnings.simplefilter(action='ignore', category=[FutureWarning])"
   ]
  },
  {
   "cell_type": "code",
   "execution_count": 2,
   "metadata": {
    "colab": {},
    "colab_type": "code",
    "id": "l88r7h2dPW3C"
   },
   "outputs": [],
   "source": [
    "def plot_long_time_series(data, x, y, label=None, palette=None, period=10):\n",
    "    # Visualize annotation\n",
    "    fig=plt.figure(figsize=(15,5))\n",
    "    if label:\n",
    "        ax = sns.pointplot(x=x, y=y, data=data.loc[::period], hue=label, palette=palette)\n",
    "    else:\n",
    "        ax = sns.pointplot(x=x, y=y, data=data.loc[::period])\n",
    "    for ind, label in enumerate(ax.get_xticklabels()):\n",
    "        if ind % period == 0:  # every 10th label is kept\n",
    "            label.set_visible(True)\n",
    "        else:\n",
    "            label.set_visible(False)\n",
    "    _=plt.legend()\n",
    "    _=plt.xticks(rotation=90)"
   ]
  },
  {
   "cell_type": "markdown",
   "metadata": {
    "colab_type": "text",
    "id": "H4hR7yAeuafF"
   },
   "source": [
    "## Extract stock market time series of index \"S&P 500\" from Yahoo Finance \n",
    "\n",
    "See how to download Yahoo Finance data with Pandas [here](https://pypi.org/project/fix-yahoo-finance/)"
   ]
  },
  {
   "cell_type": "code",
   "execution_count": 3,
   "metadata": {
    "colab": {
     "base_uri": "https://localhost:8080/",
     "height": 34
    },
    "colab_type": "code",
    "executionInfo": {
     "elapsed": 1622,
     "status": "ok",
     "timestamp": 1555323468052,
     "user": {
      "displayName": "Celsa Díaz",
      "photoUrl": "",
      "userId": "17023047068655717844"
     },
     "user_tz": -120
    },
    "id": "75IVYFHfN1GP",
    "outputId": "3878f78b-176b-4e35-b78d-12826f39189c"
   },
   "outputs": [],
   "source": [
    "#Import dataframe with the new column short_date\n",
    "\n",
    "data= pd.read_csv('/Users/blancacrosguardia/Desktop/all_women_in_tech/project_II/notebooks_csv/sellers_items_df.csv')"
   ]
  },
  {
   "cell_type": "code",
   "execution_count": 4,
   "metadata": {
    "colab": {
     "base_uri": "https://localhost:8080/",
     "height": 106
    },
    "colab_type": "code",
    "executionInfo": {
     "elapsed": 420,
     "status": "ok",
     "timestamp": 1555323468059,
     "user": {
      "displayName": "Celsa Díaz",
      "photoUrl": "",
      "userId": "17023047068655717844"
     },
     "user_tz": -120
    },
    "id": "QNzcW-WIN_6y",
    "outputId": "4f21dc49-c8e4-424a-83f0-bc196095f617"
   },
   "outputs": [
    {
     "data": {
      "text/html": [
       "<div>\n",
       "<style scoped>\n",
       "    .dataframe tbody tr th:only-of-type {\n",
       "        vertical-align: middle;\n",
       "    }\n",
       "\n",
       "    .dataframe tbody tr th {\n",
       "        vertical-align: top;\n",
       "    }\n",
       "\n",
       "    .dataframe thead th {\n",
       "        text-align: right;\n",
       "    }\n",
       "</style>\n",
       "<table border=\"1\" class=\"dataframe\">\n",
       "  <thead>\n",
       "    <tr style=\"text-align: right;\">\n",
       "      <th></th>\n",
       "      <th>seller_id</th>\n",
       "      <th>seller_zip_code_prefix</th>\n",
       "      <th>seller_city</th>\n",
       "      <th>seller_state</th>\n",
       "      <th>order_id</th>\n",
       "      <th>order_item_id</th>\n",
       "      <th>product_id</th>\n",
       "      <th>shipping_limit_date</th>\n",
       "      <th>price</th>\n",
       "      <th>freight_value</th>\n",
       "      <th>year</th>\n",
       "      <th>month</th>\n",
       "      <th>short_date</th>\n",
       "    </tr>\n",
       "  </thead>\n",
       "  <tbody>\n",
       "    <tr>\n",
       "      <th>0</th>\n",
       "      <td>3442f8959a84dea7ee197c632cb2df15</td>\n",
       "      <td>13023</td>\n",
       "      <td>campinas</td>\n",
       "      <td>SP</td>\n",
       "      <td>4a90af3e85dd563884e2afeab1091394</td>\n",
       "      <td>1</td>\n",
       "      <td>ffb64e34a37740dafb6c88f1abd1fa61</td>\n",
       "      <td>2017-08-25 20:50:19</td>\n",
       "      <td>106.2</td>\n",
       "      <td>9.56</td>\n",
       "      <td>2017</td>\n",
       "      <td>8</td>\n",
       "      <td>8/2017</td>\n",
       "    </tr>\n",
       "    <tr>\n",
       "      <th>1</th>\n",
       "      <td>3442f8959a84dea7ee197c632cb2df15</td>\n",
       "      <td>13023</td>\n",
       "      <td>campinas</td>\n",
       "      <td>SP</td>\n",
       "      <td>6d953888a914b67350d5bc4d48f2acab</td>\n",
       "      <td>1</td>\n",
       "      <td>f4621f8ad6f54a2e3c408884068be46d</td>\n",
       "      <td>2017-05-11 16:25:11</td>\n",
       "      <td>101.7</td>\n",
       "      <td>15.92</td>\n",
       "      <td>2017</td>\n",
       "      <td>5</td>\n",
       "      <td>5/2017</td>\n",
       "    </tr>\n",
       "  </tbody>\n",
       "</table>\n",
       "</div>"
      ],
      "text/plain": [
       "                          seller_id  seller_zip_code_prefix seller_city  \\\n",
       "0  3442f8959a84dea7ee197c632cb2df15                   13023    campinas   \n",
       "1  3442f8959a84dea7ee197c632cb2df15                   13023    campinas   \n",
       "\n",
       "  seller_state                          order_id  order_item_id  \\\n",
       "0           SP  4a90af3e85dd563884e2afeab1091394              1   \n",
       "1           SP  6d953888a914b67350d5bc4d48f2acab              1   \n",
       "\n",
       "                         product_id  shipping_limit_date  price  \\\n",
       "0  ffb64e34a37740dafb6c88f1abd1fa61  2017-08-25 20:50:19  106.2   \n",
       "1  f4621f8ad6f54a2e3c408884068be46d  2017-05-11 16:25:11  101.7   \n",
       "\n",
       "   freight_value  year  month short_date  \n",
       "0           9.56  2017      8     8/2017  \n",
       "1          15.92  2017      5     5/2017  "
      ]
     },
     "execution_count": 4,
     "metadata": {},
     "output_type": "execute_result"
    }
   ],
   "source": [
    "data.head(2)"
   ]
  },
  {
   "cell_type": "code",
   "execution_count": 5,
   "metadata": {},
   "outputs": [],
   "source": [
    "#Selection groupby of order_items and short_date. Variables that will be plotted as plot_long_time_series\n",
    "data_date = data[['order_item_id','short_date']].groupby('short_date', as_index=False).count()"
   ]
  },
  {
   "cell_type": "code",
   "execution_count": 6,
   "metadata": {},
   "outputs": [
    {
     "data": {
      "text/html": [
       "<div>\n",
       "<style scoped>\n",
       "    .dataframe tbody tr th:only-of-type {\n",
       "        vertical-align: middle;\n",
       "    }\n",
       "\n",
       "    .dataframe tbody tr th {\n",
       "        vertical-align: top;\n",
       "    }\n",
       "\n",
       "    .dataframe thead th {\n",
       "        text-align: right;\n",
       "    }\n",
       "</style>\n",
       "<table border=\"1\" class=\"dataframe\">\n",
       "  <thead>\n",
       "    <tr style=\"text-align: right;\">\n",
       "      <th></th>\n",
       "      <th>short_date</th>\n",
       "      <th>order_item_id</th>\n",
       "    </tr>\n",
       "  </thead>\n",
       "  <tbody>\n",
       "    <tr>\n",
       "      <th>0</th>\n",
       "      <td>1/2017</td>\n",
       "      <td>681</td>\n",
       "    </tr>\n",
       "    <tr>\n",
       "      <th>1</th>\n",
       "      <td>1/2018</td>\n",
       "      <td>7492</td>\n",
       "    </tr>\n",
       "    <tr>\n",
       "      <th>2</th>\n",
       "      <td>10/2016</td>\n",
       "      <td>365</td>\n",
       "    </tr>\n",
       "    <tr>\n",
       "      <th>3</th>\n",
       "      <td>10/2017</td>\n",
       "      <td>5189</td>\n",
       "    </tr>\n",
       "    <tr>\n",
       "      <th>4</th>\n",
       "      <td>11/2017</td>\n",
       "      <td>7355</td>\n",
       "    </tr>\n",
       "  </tbody>\n",
       "</table>\n",
       "</div>"
      ],
      "text/plain": [
       "  short_date  order_item_id\n",
       "0     1/2017            681\n",
       "1     1/2018           7492\n",
       "2    10/2016            365\n",
       "3    10/2017           5189\n",
       "4    11/2017           7355"
      ]
     },
     "execution_count": 6,
     "metadata": {},
     "output_type": "execute_result"
    }
   ],
   "source": [
    "data_date.head()"
   ]
  },
  {
   "cell_type": "code",
   "execution_count": 7,
   "metadata": {},
   "outputs": [],
   "source": [
    "#Transformation to datetime\n",
    "data_date['short_date'] = pd.to_datetime(data_date['short_date'],format='%m/%Y',utc=False)\n"
   ]
  },
  {
   "cell_type": "code",
   "execution_count": 8,
   "metadata": {},
   "outputs": [
    {
     "data": {
      "text/plain": [
       "array(['2017-01-01T00:00:00.000000000', '2018-01-01T00:00:00.000000000',\n",
       "       '2016-10-01T00:00:00.000000000', '2017-10-01T00:00:00.000000000',\n",
       "       '2017-11-01T00:00:00.000000000', '2016-12-01T00:00:00.000000000',\n",
       "       '2017-12-01T00:00:00.000000000', '2017-02-01T00:00:00.000000000',\n",
       "       '2018-02-01T00:00:00.000000000', '2020-02-01T00:00:00.000000000',\n",
       "       '2017-03-01T00:00:00.000000000', '2018-03-01T00:00:00.000000000',\n",
       "       '2017-04-01T00:00:00.000000000', '2018-04-01T00:00:00.000000000',\n",
       "       '2020-04-01T00:00:00.000000000', '2017-05-01T00:00:00.000000000',\n",
       "       '2018-05-01T00:00:00.000000000', '2017-06-01T00:00:00.000000000',\n",
       "       '2018-06-01T00:00:00.000000000', '2017-07-01T00:00:00.000000000',\n",
       "       '2018-07-01T00:00:00.000000000', '2017-08-01T00:00:00.000000000',\n",
       "       '2018-08-01T00:00:00.000000000', '2016-09-01T00:00:00.000000000',\n",
       "       '2017-09-01T00:00:00.000000000', '2018-09-01T00:00:00.000000000'],\n",
       "      dtype='datetime64[ns]')"
      ]
     },
     "execution_count": 8,
     "metadata": {},
     "output_type": "execute_result"
    }
   ],
   "source": [
    "#Check the unique values from short_date column\n",
    "data_date['short_date'].unique()"
   ]
  },
  {
   "cell_type": "code",
   "execution_count": 9,
   "metadata": {},
   "outputs": [],
   "source": [
    "#create a list with the outliers to remove\n",
    "outliers=['2020-02-01T00:00:00.000000000','2018-03-01T00:00:00.000000000',\n",
    "          '2018-04-01T00:00:00.000000000','2018-09-01T00:00:00.000000000','2020-04-01T00:00:00.000000000']"
   ]
  },
  {
   "cell_type": "code",
   "execution_count": 10,
   "metadata": {},
   "outputs": [],
   "source": [
    "#Create a dataframe with the condition to select the outliers list column to not include on the lon_time_series_plot\n",
    "non_outliers = data_date[~data_date['short_date'].isin(outliers)]\n"
   ]
  },
  {
   "cell_type": "code",
   "execution_count": 11,
   "metadata": {},
   "outputs": [],
   "source": [
    "#Create a list of the whole months to include on the lon_time_series_plot.\n",
    "list_dates =  pd.date_range(start='2016-08-31', periods=25, freq='M')\n",
    "\n",
    "#convert that list to a dataframe\n",
    "a = pd.DataFrame({'short_date':list_dates})"
   ]
  },
  {
   "cell_type": "code",
   "execution_count": 12,
   "metadata": {},
   "outputs": [
    {
     "data": {
      "text/plain": [
       "0    2016-08-31\n",
       "1    2016-09-30\n",
       "2    2016-10-31\n",
       "3    2016-11-30\n",
       "4    2016-12-31\n",
       "5    2017-01-31\n",
       "6    2017-02-28\n",
       "7    2017-03-31\n",
       "8    2017-04-30\n",
       "9    2017-05-31\n",
       "10   2017-06-30\n",
       "11   2017-07-31\n",
       "12   2017-08-31\n",
       "13   2017-09-30\n",
       "14   2017-10-31\n",
       "15   2017-11-30\n",
       "16   2017-12-31\n",
       "17   2018-01-31\n",
       "18   2018-02-28\n",
       "19   2018-03-31\n",
       "20   2018-04-30\n",
       "21   2018-05-31\n",
       "22   2018-06-30\n",
       "23   2018-07-31\n",
       "24   2018-08-31\n",
       "Name: short_date, dtype: datetime64[ns]"
      ]
     },
     "execution_count": 12,
     "metadata": {},
     "output_type": "execute_result"
    }
   ],
   "source": [
    "#check the type of the dataframe\n",
    "(a['short_date'])"
   ]
  },
  {
   "cell_type": "code",
   "execution_count": 13,
   "metadata": {},
   "outputs": [],
   "source": [
    "#transfrom the date format to have the same one that non_outliers and to be able to merge them\n",
    "new_times = a['short_date'].dt.to_period('M').astype(str)+'-'+'01'"
   ]
  },
  {
   "cell_type": "code",
   "execution_count": 14,
   "metadata": {},
   "outputs": [],
   "source": [
    "#transform the new_times to dataframe\n",
    "new_times_new = pd.DataFrame({'short_date':new_times.values})"
   ]
  },
  {
   "cell_type": "code",
   "execution_count": 15,
   "metadata": {},
   "outputs": [
    {
     "name": "stdout",
     "output_type": "stream",
     "text": [
      "<class 'pandas.core.frame.DataFrame'>\n",
      "RangeIndex: 25 entries, 0 to 24\n",
      "Data columns (total 1 columns):\n",
      "short_date    25 non-null object\n",
      "dtypes: object(1)\n",
      "memory usage: 280.0+ bytes\n"
     ]
    }
   ],
   "source": [
    "#check the dtype of new_times_new\n",
    "new_times_new.info()"
   ]
  },
  {
   "cell_type": "code",
   "execution_count": 16,
   "metadata": {},
   "outputs": [],
   "source": [
    "#Tranform the new_time_new from str to datetime\n",
    "new_times_new['short_date'] = pd.to_datetime(new_times_new['short_date'],format='%Y/%m',utc=False)\n"
   ]
  },
  {
   "cell_type": "code",
   "execution_count": 17,
   "metadata": {},
   "outputs": [
    {
     "name": "stdout",
     "output_type": "stream",
     "text": [
      "<class 'pandas.core.frame.DataFrame'>\n",
      "RangeIndex: 25 entries, 0 to 24\n",
      "Data columns (total 1 columns):\n",
      "short_date    25 non-null datetime64[ns]\n",
      "dtypes: datetime64[ns](1)\n",
      "memory usage: 280.0 bytes\n"
     ]
    }
   ],
   "source": [
    "#recheck that new_times_new is now a datetime type\n",
    "new_times_new.info()"
   ]
  },
  {
   "cell_type": "code",
   "execution_count": 18,
   "metadata": {},
   "outputs": [],
   "source": [
    "#merge the two dataframes that will have the whole months to then visualize it\n",
    "new_new_df = pd.merge(new_times_new, non_outliers, on='short_date', how='outer').fillna(0).sort_values(by='short_date')\n"
   ]
  },
  {
   "cell_type": "code",
   "execution_count": 22,
   "metadata": {},
   "outputs": [],
   "source": [
    "new_new_df.to_csv('/Users/blancacrosguardia/Desktop/all_women_in_tech/project_II/notebooks_csv/new_new_df.csv', index=False, encoding='utf-8')\n",
    "\n"
   ]
  },
  {
   "cell_type": "code",
   "execution_count": 19,
   "metadata": {
    "colab": {
     "base_uri": "https://localhost:8080/",
     "height": 512
    },
    "colab_type": "code",
    "executionInfo": {
     "elapsed": 3554,
     "status": "ok",
     "timestamp": 1555323472798,
     "user": {
      "displayName": "Celsa Díaz",
      "photoUrl": "",
      "userId": "17023047068655717844"
     },
     "user_tz": -120
    },
    "id": "T6MR6mtYODSz",
    "outputId": "89356265-43b7-4003-a9ff-9331920abfe2"
   },
   "outputs": [
    {
     "name": "stderr",
     "output_type": "stream",
     "text": [
      "No handles with labels found to put in legend.\n"
     ]
    },
    {
     "data": {
      "image/png": "[encoded data removed]",
      "text/plain": [
       "<Figure size 1080x360 with 1 Axes>"
      ]
     },
     "metadata": {
      "needs_background": "light"
     },
     "output_type": "display_data"
    }
   ],
   "source": [
    "# Visualize the evolution over time of the close stock market prices over the years \n",
    "plot_long_time_series(new_new_df, 'short_date', 'order_item_id', label=None, palette=None, period=1)"
   ]
  },
  {
   "cell_type": "markdown",
   "metadata": {
    "colab_type": "text",
    "id": "Pt2KULMdu2mj"
   },
   "source": [
    "## Decompose the time series in Trend, Seasonal and Residuals\n",
    "\n",
    "**Parameters**\n",
    "* model\n",
    "  * additive Y[t] = T[t] + S[t] + e[t]\n",
    "  * multiplicative Y[t] = T[t] * S[t] * e[t]\n",
    "* freq\n",
    "  * number of days to consider to average for the trend extrapolation calculation\n",
    "  \n",
    "  Seasonality is calculated by a convolution filter with a linear kernel. You can learn more about it [here](https://www.sciencedirect.com/topics/computer-science/convolution-filter)."
   ]
  },
  {
   "cell_type": "code",
   "execution_count": 25,
   "metadata": {
    "colab": {
     "base_uri": "https://localhost:8080/",
     "height": 297
    },
    "colab_type": "code",
    "executionInfo": {
     "elapsed": 1887,
     "status": "ok",
     "timestamp": 1555323480273,
     "user": {
      "displayName": "Celsa Díaz",
      "photoUrl": "",
      "userId": "17023047068655717844"
     },
     "user_tz": -120
    },
    "id": "lNSVYR0yOjn1",
    "outputId": "af4b4a67-d319-4da9-bd45-10bd9d404cf6"
   },
   "outputs": [
    {
     "data": {
      "image/png": "[encoded data removed]",
      "text/plain": [
       "<Figure size 432x288 with 4 Axes>"
      ]
     },
     "metadata": {
      "needs_background": "light"
     },
     "output_type": "display_data"
    }
   ],
   "source": [
    "# Visualize the results for different frequency times (see seasonal_decompose from statsmodels)\n",
    "#old example#close_prices = data['Close'].tolist() \n",
    "sales_n = new_new_df['order_item_id'].tolist() #select the dataframe and column of orders as tolist\n",
    "decomposition = sm.tsa.seasonal_decompose(sales_n, freq=4, model='additive', two_sided=False)\n",
    "fig = decomposition.plot()\n",
    "plt.show()"
   ]
  },
  {
   "cell_type": "code",
   "execution_count": 26,
   "metadata": {
    "colab": {},
    "colab_type": "code",
    "id": "uaFE1JRQjkFw"
   },
   "outputs": [],
   "source": [
    "# Store list of values of the 1) trend 2) seasonal and 3) residuals\n",
    "# Notice that in the list of trend and residuals, at the beginning and at the end values are Nulls\n",
    "# because there was no previous data to learn from\n",
    "trend = decomposition.resid\n",
    "seasonal = decomposition.seasonal\n",
    "residuals = decomposition.resid"
   ]
  },
  {
   "cell_type": "code",
   "execution_count": 27,
   "metadata": {},
   "outputs": [
    {
     "data": {
      "text/plain": [
       "array([         nan,          nan,          nan,          nan,\n",
       "         498.278125,  -431.059375,  1000.815625,  2531.215625,\n",
       "        1333.528125,   865.940625,   360.565625,  1439.965625,\n",
       "        1689.153125,  -559.934375,   178.940625,  2943.465625,\n",
       "        2402.653125,   -37.434375,  -254.559375, -5806.534375,\n",
       "       -4092.846875,  3954.190625,  2505.940625,  2683.590625,\n",
       "        2719.278125])"
      ]
     },
     "execution_count": 27,
     "metadata": {},
     "output_type": "execute_result"
    }
   ],
   "source": [
    "trend"
   ]
  },
  {
   "cell_type": "code",
   "execution_count": 28,
   "metadata": {},
   "outputs": [
    {
     "data": {
      "text/plain": [
       "array([-589.653125,  934.934375,  415.809375, -761.090625, -589.653125,\n",
       "        934.934375,  415.809375, -761.090625, -589.653125,  934.934375,\n",
       "        415.809375, -761.090625, -589.653125,  934.934375,  415.809375,\n",
       "       -761.090625, -589.653125,  934.934375,  415.809375, -761.090625,\n",
       "       -589.653125,  934.934375,  415.809375, -761.090625, -589.653125])"
      ]
     },
     "execution_count": 28,
     "metadata": {},
     "output_type": "execute_result"
    }
   ],
   "source": [
    "seasonal"
   ]
  },
  {
   "cell_type": "markdown",
   "metadata": {
    "colab_type": "text",
    "id": "o5N2wj1FwN-V"
   },
   "source": [
    "If you want to learn more about Time Series predictive models check this [video](https://www.youtube.com/watch?v=d4Sn6ny_5LI) out, you will get there!"
   ]
  },
  {
   "cell_type": "markdown",
   "metadata": {
    "colab_type": "text",
    "id": "suNoD4HdwjYf"
   },
   "source": [
    "# T-test \n",
    "\n",
    "For a better understanding of T-test and Z-test watch this [video](https://www.youtube.com/watch?v=QZ7kgmhdIwA)."
   ]
  },
  {
   "cell_type": "code",
   "execution_count": 28,
   "metadata": {
    "colab": {
     "base_uri": "https://localhost:8080/",
     "height": 281
    },
    "colab_type": "code",
    "executionInfo": {
     "elapsed": 697,
     "status": "ok",
     "timestamp": 1555323481079,
     "user": {
      "displayName": "Celsa Díaz",
      "photoUrl": "",
      "userId": "17023047068655717844"
     },
     "user_tz": -120
    },
    "id": "5dIP1ynpMX3C",
    "outputId": "8a58304c-1098-406d-dbc0-773df35e23d9"
   },
   "outputs": [
    {
     "data": {
      "image/png": "[encoded data removed]",
      "text/plain": [
       "<Figure size 432x288 with 1 Axes>"
      ]
     },
     "metadata": {
      "needs_background": "light"
     },
     "output_type": "display_data"
    }
   ],
   "source": [
    "# Build datasets\n",
    "mu = 0\n",
    "sigma = 25\n",
    "n_bins = 50\n",
    "x = np.random.normal(mu, sigma, size=100)\n",
    "\n",
    "mu = 10\n",
    "sigma = 15\n",
    "n_bins = 50\n",
    "x2 = np.random.normal(mu, sigma, size=100)\n",
    "\n",
    "_=plt.hist(x, alpha=0.5)\n",
    "_=plt.hist(x2, alpha=0.5)\n",
    "_=plt.legend([\"A\", \"B\"])\n",
    "_=plt.title(\"Distribution plot for sets A and B\")"
   ]
  },
  {
   "cell_type": "markdown",
   "metadata": {
    "colab_type": "text",
    "id": "XRfHAgzFW-aP"
   },
   "source": [
    "## Independent T-test"
   ]
  },
  {
   "cell_type": "code",
   "execution_count": 29,
   "metadata": {
    "colab": {
     "base_uri": "https://localhost:8080/",
     "height": 101
    },
    "colab_type": "code",
    "executionInfo": {
     "elapsed": 741,
     "status": "ok",
     "timestamp": 1555323482770,
     "user": {
      "displayName": "Celsa Díaz",
      "photoUrl": "",
      "userId": "17023047068655717844"
     },
     "user_tz": -120
    },
    "id": "2SwyJG_MLjrs",
    "outputId": "4cd90b44-a903-4cb7-d37a-6b029cf82656"
   },
   "outputs": [
    {
     "name": "stdout",
     "output_type": "stream",
     "text": [
      "t-value: -3.2309\n",
      "degrees of freedom: 198\n",
      "lower critical value: -1.9720\n",
      "upper critical value: 1.9720\n",
      "p-value: 0.0014453\n"
     ]
    }
   ],
   "source": [
    "# calculate means\n",
    "mean1, mean2 = np.mean(x), np.mean(x2)\n",
    "\n",
    "# calculate standard errors\n",
    "se1, se2 = st.sem(x), st.sem(x2)\n",
    "\n",
    "# standard error on the difference between the samples\n",
    "sed = np.sqrt(se1**2.0 + se2**2.0)\n",
    "\n",
    "# calculate the t statistic\n",
    "t_stat = (mean1 - mean2) / sed\n",
    "\n",
    "# degrees of freedom\n",
    "df = len(x) + len(x2) - 2\n",
    "\n",
    "# calculate the critical values for a confidence interval of 95%\n",
    "significance_level = 0.05\n",
    "\n",
    "# At what point is the 2.5% percentile?\n",
    "t_025 = st.t.ppf(significance_level/2, df)\n",
    "\n",
    "# At what point is the 97.5% percentile?\n",
    "t_975 = st.t.ppf(1 - significance_level/2, df)\n",
    "\n",
    "# calculate the p-value\n",
    "p = (1.0 - st.t.cdf(abs(t_stat), df)) * 2.0\n",
    "\n",
    "print(\"t-value: {:.4f}\\ndegrees of freedom: {}\\nlower critical value: {:.4f}\\nupper critical value: {:.4f}\\np-value: {:.7f}\".format(t_stat, df, t_025, t_975, p))"
   ]
  },
  {
   "cell_type": "markdown",
   "metadata": {
    "colab_type": "text",
    "id": "jWghpPgOW6lB"
   },
   "source": [
    "## Visualize results"
   ]
  },
  {
   "cell_type": "code",
   "execution_count": 30,
   "metadata": {
    "colab": {
     "base_uri": "https://localhost:8080/",
     "height": 269
    },
    "colab_type": "code",
    "executionInfo": {
     "elapsed": 732,
     "status": "ok",
     "timestamp": 1555323491257,
     "user": {
      "displayName": "Celsa Díaz",
      "photoUrl": "",
      "userId": "17023047068655717844"
     },
     "user_tz": -120
    },
    "id": "VWGyn8-uQIor",
    "outputId": "4dda952e-8fc1-4c9a-9f40-b7c79f2a4afb"
   },
   "outputs": [
    {
     "data": {
      "image/png": "[encoded data removed]",
      "text/plain": [
       "<Figure size 432x288 with 1 Axes>"
      ]
     },
     "metadata": {
      "needs_background": "light"
     },
     "output_type": "display_data"
    }
   ],
   "source": [
    "# Visualize t-statistics\n",
    "x = np.linspace(-5, 5, 5000)\n",
    "mu = 0\n",
    "sigma = 1\n",
    "\n",
    "y_pdf = st.norm.pdf(x, mu, sigma) # the normal pdf\n",
    "y_cdf = st.norm.cdf(x, mu, sigma) # the normal cdf\n",
    "\n",
    "# Visualize limits of the confidence interval (95%) in the t-student probability distribution\n",
    "_=plt.axvline(x=t_025, color='b', linestyle='--')\n",
    "_=plt.axvline(x=t_975, color='b', linestyle='--')\n",
    "_=plt.plot(x, y_pdf, label='pdf', color='b')\n",
    "\n",
    "# Plot actual t-value for the differences on the mean of the samples and the standard deviation\n",
    "_=plt.axvline(x=t_stat, color='g', linestyle='--')\n",
    "\n",
    "# Visualize the cummulative density function of probabilities from one tail of the t-student probability distribution\n",
    "_=plt.plot(x, y_cdf, label='cdf', color='g')\n",
    "_=plt.legend()"
   ]
  },
  {
   "cell_type": "markdown",
   "metadata": {
    "colab_type": "text",
    "id": "Ld2r3QJJXcpQ"
   },
   "source": [
    "# Further statistical analysis tutorials\n",
    "\n",
    "[Crash Course Statistics](https://www.youtube.com/results?search_query=crash+Course+Statistics)\n",
    "\n",
    "Python 10 most common statistical tests [tutorial](https://www.analyticsindiamag.com/10-most-popular-statistical-hypothesis-testing-methods-using-python/)\n",
    "\n"
   ]
  }
 ],
 "metadata": {
  "colab": {
   "collapsed_sections": [],
   "name": "chapter_1_additional_material.ipynb",
   "provenance": [],
   "version": "0.3.2"
  },
  "kernelspec": {
   "display_name": "Python 3",
   "language": "python",
   "name": "python3"
  },
  "language_info": {
   "codemirror_mode": {
    "name": "ipython",
    "version": 3
   },
   "file_extension": ".py",
   "mimetype": "text/x-python",
   "name": "python",
   "nbconvert_exporter": "python",
   "pygments_lexer": "ipython3",
   "version": "3.7.1"
  }
 },
 "nbformat": 4,
 "nbformat_minor": 1
}
